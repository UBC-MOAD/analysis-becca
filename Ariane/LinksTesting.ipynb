{
 "cells": [
  {
   "cell_type": "markdown",
   "metadata": {},
   "source": [
    "# Testing Links Function"
   ]
  },
  {
   "cell_type": "code",
   "execution_count": 1,
   "metadata": {},
   "outputs": [],
   "source": [
    "import argparse\n",
    "import arrow\n",
    "import os\n",
    "import subprocess\n",
    "from datetime import datetime"
   ]
  },
  {
   "cell_type": "code",
   "execution_count": 2,
   "metadata": {},
   "outputs": [],
   "source": [
    "TARGET_TMPL = 'SalishSea_1h_{:03d}_grid_{:s}.nc'\n",
    "FILENAME_TMPL = 'SalishSea_1h_{:%Y%m%d}_{:%Y%m%d}_grid_{:s}.nc'\n",
    "SUBDIR_TMPL = '{:%d%b%y}'\n",
    "# NEW_SUBDIR_TMPL = 'backward_{:%d%b%y}'"
   ]
  },
  {
   "cell_type": "code",
   "execution_count": 3,
   "metadata": {},
   "outputs": [],
   "source": [
    "# rundate = datetime.datetime(2019,1,1)\n",
    "rundate = arrow.get(datetime(2019, 1, 1))\n",
    "runlength = 365+30\n",
    "symlinks = []\n",
    "links = []"
   ]
  },
  {
   "cell_type": "code",
   "execution_count": 4,
   "metadata": {},
   "outputs": [],
   "source": [
    "\n",
    "split = arrow.get(datetime(2019, 7, 1))\n",
    "def make_links(rundate, runlength):\n",
    "#     dir = '/results2/SalishSea/nowcast-green.201905/'\n",
    "    tardir = 'Links'\n",
    "    for grid in ['T', 'U', 'V', 'W']:\n",
    "        for fileno in range(runlength):\n",
    "            target = TARGET_TMPL.format(fileno+1, grid)\n",
    "            date = rundate.shift(days=+fileno).datetime #shifting the date by one at each runlength??\n",
    "            if date < split:\n",
    "                dir = '/results/SalishSea/nowcast-green.201802/'\n",
    "            else:\n",
    "                dir = '/results2/SalishSea/nowcast-green.201802/'\n",
    "            link = FILENAME_TMPL.format(date, date, grid)\n",
    "            subdir = SUBDIR_TMPL.format(date).lower()\n",
    "            symlinks.append(target)\n",
    "            links.append(link)\n",
    "            \n",
    "    return symlinks, links"
   ]
  },
  {
   "cell_type": "code",
   "execution_count": 5,
   "metadata": {},
   "outputs": [],
   "source": [
    "symlinks, links = make_links(rundate, runlength)"
   ]
  },
  {
   "cell_type": "code",
   "execution_count": 6,
   "metadata": {},
   "outputs": [],
   "source": [
    "search = ['201901', '201902', '201903', '201904', '201905', '201906', '201907', '201908', '201909', '201910', '201911', '201912', '202001']"
   ]
  },
  {
   "cell_type": "code",
   "execution_count": 7,
   "metadata": {},
   "outputs": [
    {
     "name": "stdout",
     "output_type": "stream",
     "text": [
      "31.0\n",
      "28.0\n",
      "31.0\n",
      "30.0\n",
      "31.0\n",
      "30.0\n",
      "31.0\n",
      "31.0\n",
      "30.0\n",
      "31.0\n",
      "30.0\n",
      "31.0\n",
      "30.0\n"
     ]
    }
   ],
   "source": [
    "for s in search:\n",
    "    k = 0\n",
    "    for i in range(len(links)):\n",
    "        k += links[i].count(s)\n",
    "    k = k/2/4\n",
    "    print(k)"
   ]
  },
  {
   "cell_type": "markdown",
   "metadata": {},
   "source": [
    "Seems to me like the actual creating of the links isnt the problem!"
   ]
  },
  {
   "cell_type": "markdown",
   "metadata": {},
   "source": [
    "### New round of testing links - for CIOPS 5d this time"
   ]
  },
  {
   "cell_type": "code",
   "execution_count": 8,
   "metadata": {},
   "outputs": [],
   "source": [
    "TARGET_TMPL = 'NEP36_5d_{:06d}_grid_{:s}.nc' # :03d - d part converts a number into decimal format, 03 part states that is has to be 3 digits (if not lead with 0s); :s - assuming for strings\n",
    "FILENAME_TMPL = 'NEP36-GPSC4-VAH006_5d_grid_{:s}_{:%Y%m%d}-{:%Y%m%d}.nc'\n",
    "NEW_SUBDIR_TMPL = 'forward_{:%d%b%y}'"
   ]
  },
  {
   "cell_type": "code",
   "execution_count": 9,
   "metadata": {},
   "outputs": [],
   "source": [
    "links = []\n",
    "symlinks = []\n",
    "def make_links_CIOPS(rundate, runlength):\n",
    "    dir = '/ocean/mdunphy/NEP36-GPSC4-VAH006/'\n",
    "    tardir = 'Links'\n",
    "    for grid in ['T', 'U', 'V', 'W']:\n",
    "        for fileno in range(runlength): #give runlength in number of timesteps NOT number of days\n",
    "            shift = fileno*5\n",
    "            target = TARGET_TMPL.format(fileno+1, grid)\n",
    "            date_start = rundate.shift(days=+shift).datetime #rundate is an 'arrow' object (date thingy), .shift moves it forward by the amount of days in brakets, .datetime makes datetime object\n",
    "            date_end = rundate.shift(days=+(shift+4)).datetime\n",
    "#             print (date_start, date_end, dir)\n",
    "            link = FILENAME_TMPL.format(grid, date_start, date_end)\n",
    "            subdir = SUBDIR_TMPL.format(date_start).lower()\n",
    "            symlinks.append(target)\n",
    "            links.append(link)\n",
    "            \n",
    "    return symlinks, links"
   ]
  },
  {
   "cell_type": "code",
   "execution_count": 10,
   "metadata": {},
   "outputs": [],
   "source": [
    "rundate = arrow.get(datetime(2007, 3, 2))\n",
    "runlength = 4\n",
    "symlinks, links = make_links_CIOPS(rundate, runlength)"
   ]
  },
  {
   "cell_type": "code",
   "execution_count": 11,
   "metadata": {},
   "outputs": [
    {
     "data": {
      "text/plain": [
       "['NEP36-GPSC4-VAH006_5d_grid_T_20070302-20070306.nc',\n",
       " 'NEP36-GPSC4-VAH006_5d_grid_T_20070307-20070311.nc',\n",
       " 'NEP36-GPSC4-VAH006_5d_grid_T_20070312-20070316.nc',\n",
       " 'NEP36-GPSC4-VAH006_5d_grid_T_20070317-20070321.nc',\n",
       " 'NEP36-GPSC4-VAH006_5d_grid_U_20070302-20070306.nc',\n",
       " 'NEP36-GPSC4-VAH006_5d_grid_U_20070307-20070311.nc',\n",
       " 'NEP36-GPSC4-VAH006_5d_grid_U_20070312-20070316.nc',\n",
       " 'NEP36-GPSC4-VAH006_5d_grid_U_20070317-20070321.nc',\n",
       " 'NEP36-GPSC4-VAH006_5d_grid_V_20070302-20070306.nc',\n",
       " 'NEP36-GPSC4-VAH006_5d_grid_V_20070307-20070311.nc',\n",
       " 'NEP36-GPSC4-VAH006_5d_grid_V_20070312-20070316.nc',\n",
       " 'NEP36-GPSC4-VAH006_5d_grid_V_20070317-20070321.nc',\n",
       " 'NEP36-GPSC4-VAH006_5d_grid_W_20070302-20070306.nc',\n",
       " 'NEP36-GPSC4-VAH006_5d_grid_W_20070307-20070311.nc',\n",
       " 'NEP36-GPSC4-VAH006_5d_grid_W_20070312-20070316.nc',\n",
       " 'NEP36-GPSC4-VAH006_5d_grid_W_20070317-20070321.nc']"
      ]
     },
     "execution_count": 11,
     "metadata": {},
     "output_type": "execute_result"
    }
   ],
   "source": [
    "links"
   ]
  },
  {
   "cell_type": "markdown",
   "metadata": {},
   "source": [
    "## Links for tracer files"
   ]
  },
  {
   "cell_type": "code",
   "execution_count": 33,
   "metadata": {},
   "outputs": [],
   "source": [
    "TARGET_TMPL = 'SalishSea_1h_{:03d}_{}.nc'\n",
    "FILENAME_TMPL = 'SalishSea_1h_{:%Y%m%d}_{:%Y%m%d}_{}.nc'\n",
    "SUBDIR_TMPL = '{:%d%b%y}'"
   ]
  },
  {
   "cell_type": "code",
   "execution_count": 65,
   "metadata": {},
   "outputs": [],
   "source": [
    "links = []\n",
    "symlinks = []\n",
    "def make_links_tracers(rundate, runlength):\n",
    "    dir = '/results2/SalishSea/nowcast-green.201905/'\n",
    "    tardir = 'Links'\n",
    "    for grid in ['ptrc_T', 'grid_U', 'grid_V', 'grid_W']:\n",
    "        for fileno in range(runlength):\n",
    "            target = TARGET_TMPL.format(fileno+1, grid)\n",
    "            date = rundate.shift(days=+fileno).datetime #rundate is an 'arrow' object (date thingy), .shift moves $\n",
    "            link = FILENAME_TMPL.format(date, date, grid)\n",
    "            subdir = SUBDIR_TMPL.format(date).lower()\n",
    "            symlinks.append(target)\n",
    "            links.append(link)\n",
    "            \n",
    "    return symlinks, links"
   ]
  },
  {
   "cell_type": "code",
   "execution_count": 66,
   "metadata": {},
   "outputs": [],
   "source": [
    "symlinks, links = make_links_tracers(rundate, 1)"
   ]
  },
  {
   "cell_type": "code",
   "execution_count": 67,
   "metadata": {},
   "outputs": [
    {
     "data": {
      "text/plain": [
       "['SalishSea_1h_001_ptrc_T.nc',\n",
       " 'SalishSea_1h_001_grid_U.nc',\n",
       " 'SalishSea_1h_001_grid_V.nc',\n",
       " 'SalishSea_1h_001_grid_W.nc']"
      ]
     },
     "execution_count": 67,
     "metadata": {},
     "output_type": "execute_result"
    }
   ],
   "source": [
    "symlinks"
   ]
  },
  {
   "cell_type": "code",
   "execution_count": 68,
   "metadata": {},
   "outputs": [
    {
     "data": {
      "text/plain": [
       "['SalishSea_1h_20070302_20070302_ptrc_T.nc',\n",
       " 'SalishSea_1h_20070302_20070302_grid_U.nc',\n",
       " 'SalishSea_1h_20070302_20070302_grid_V.nc',\n",
       " 'SalishSea_1h_20070302_20070302_grid_W.nc']"
      ]
     },
     "execution_count": 68,
     "metadata": {},
     "output_type": "execute_result"
    }
   ],
   "source": [
    "links"
   ]
  },
  {
   "cell_type": "code",
   "execution_count": null,
   "metadata": {},
   "outputs": [],
   "source": []
  }
 ],
 "metadata": {
  "kernelspec": {
   "display_name": "OceanParcels",
   "language": "python",
   "name": "oceanparcels"
  },
  "language_info": {
   "codemirror_mode": {
    "name": "ipython",
    "version": 3
   },
   "file_extension": ".py",
   "mimetype": "text/x-python",
   "name": "python",
   "nbconvert_exporter": "python",
   "pygments_lexer": "ipython3",
   "version": "3.8.8"
  }
 },
 "nbformat": 4,
 "nbformat_minor": 4
}
