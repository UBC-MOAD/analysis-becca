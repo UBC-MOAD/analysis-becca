{
 "cells": [
  {
   "cell_type": "markdown",
   "metadata": {},
   "source": [
    "# Testing Links Function"
   ]
  },
  {
   "cell_type": "code",
   "execution_count": 1,
   "metadata": {},
   "outputs": [],
   "source": [
    "import argparse\n",
    "import arrow\n",
    "import os\n",
    "import subprocess\n",
    "import datetime as dt\n",
    "import pytz"
   ]
  },
  {
   "cell_type": "code",
   "execution_count": 2,
   "metadata": {},
   "outputs": [],
   "source": [
    "TARGET_TMPL = 'SalishSea_1h_{:03d}_grid_{:s}.nc'\n",
    "FILENAME_TMPL = 'SalishSea_1h_{:%Y%m%d}_{:%Y%m%d}_grid_{:s}.nc'\n",
    "SUBDIR_TMPL = '{:%d%b%y}'\n",
    "# NEW_SUBDIR_TMPL = 'backward_{:%d%b%y}'"
   ]
  },
  {
   "cell_type": "code",
   "execution_count": 4,
   "metadata": {},
   "outputs": [],
   "source": [
    "# rundate = datetime.datetime(2019,1,1)\n",
    "rundate = arrow.get(dt.datetime(2019, 1, 1))\n",
    "runlength = 365+30\n",
    "symlinks = []\n",
    "links = []"
   ]
  },
  {
   "cell_type": "code",
   "execution_count": 4,
   "metadata": {},
   "outputs": [],
   "source": [
    "\n",
    "split = arrow.get(datetime(2019, 7, 1))\n",
    "def make_links(rundate, runlength):\n",
    "#     dir = '/results2/SalishSea/nowcast-green.201905/'\n",
    "    tardir = 'Links'\n",
    "    for grid in ['T', 'U', 'V', 'W']:\n",
    "        for fileno in range(runlength):\n",
    "            target = TARGET_TMPL.format(fileno+1, grid)\n",
    "            date = rundate.shift(days=+fileno).datetime #shifting the date by one at each runlength??\n",
    "            if date < split:\n",
    "                dir = '/results/SalishSea/nowcast-green.201802/'\n",
    "            else:\n",
    "                dir = '/results2/SalishSea/nowcast-green.201802/'\n",
    "            link = FILENAME_TMPL.format(date, date, grid)\n",
    "            subdir = SUBDIR_TMPL.format(date).lower()\n",
    "            symlinks.append(target)\n",
    "            links.append(link)\n",
    "            \n",
    "    return symlinks, links"
   ]
  },
  {
   "cell_type": "code",
   "execution_count": 5,
   "metadata": {},
   "outputs": [],
   "source": [
    "symlinks, links = make_links(rundate, runlength)"
   ]
  },
  {
   "cell_type": "code",
   "execution_count": 6,
   "metadata": {},
   "outputs": [],
   "source": [
    "search = ['201901', '201902', '201903', '201904', '201905', '201906', '201907', '201908', '201909', '201910', '201911', '201912', '202001']"
   ]
  },
  {
   "cell_type": "code",
   "execution_count": 7,
   "metadata": {},
   "outputs": [
    {
     "name": "stdout",
     "output_type": "stream",
     "text": [
      "31.0\n",
      "28.0\n",
      "31.0\n",
      "30.0\n",
      "31.0\n",
      "30.0\n",
      "31.0\n",
      "31.0\n",
      "30.0\n",
      "31.0\n",
      "30.0\n",
      "31.0\n",
      "30.0\n"
     ]
    }
   ],
   "source": [
    "for s in search:\n",
    "    k = 0\n",
    "    for i in range(len(links)):\n",
    "        k += links[i].count(s)\n",
    "    k = k/2/4\n",
    "    print(k)"
   ]
  },
  {
   "cell_type": "markdown",
   "metadata": {},
   "source": [
    "Seems to me like the actual creating of the links isnt the problem!"
   ]
  },
  {
   "cell_type": "markdown",
   "metadata": {},
   "source": [
    "### New round of testing links - for CIOPS 5d this time"
   ]
  },
  {
   "cell_type": "code",
   "execution_count": 8,
   "metadata": {},
   "outputs": [],
   "source": [
    "TARGET_TMPL = 'NEP36_5d_{:06d}_grid_{:s}.nc' # :03d - d part converts a number into decimal format, 03 part states that is has to be 3 digits (if not lead with 0s); :s - assuming for strings\n",
    "FILENAME_TMPL = 'NEP36-GPSC4-VAH006_5d_grid_{:s}_{:%Y%m%d}-{:%Y%m%d}.nc'\n",
    "NEW_SUBDIR_TMPL = 'forward_{:%d%b%y}'"
   ]
  },
  {
   "cell_type": "code",
   "execution_count": 9,
   "metadata": {},
   "outputs": [],
   "source": [
    "links = []\n",
    "symlinks = []\n",
    "def make_links_CIOPS(rundate, runlength):\n",
    "    dir = '/ocean/mdunphy/NEP36-GPSC4-VAH006/'\n",
    "    tardir = 'Links'\n",
    "    for grid in ['T', 'U', 'V', 'W']:\n",
    "        for fileno in range(runlength): #give runlength in number of timesteps NOT number of days\n",
    "            shift = fileno*5\n",
    "            target = TARGET_TMPL.format(fileno+1, grid)\n",
    "            date_start = rundate.shift(days=+shift).datetime #rundate is an 'arrow' object (date thingy), .shift moves it forward by the amount of days in brakets, .datetime makes datetime object\n",
    "            date_end = rundate.shift(days=+(shift+4)).datetime\n",
    "#             print (date_start, date_end, dir)\n",
    "            link = FILENAME_TMPL.format(grid, date_start, date_end)\n",
    "            subdir = SUBDIR_TMPL.format(date_start).lower()\n",
    "            symlinks.append(target)\n",
    "            links.append(link)\n",
    "            \n",
    "    return symlinks, links"
   ]
  },
  {
   "cell_type": "code",
   "execution_count": 10,
   "metadata": {},
   "outputs": [],
   "source": [
    "rundate = arrow.get(datetime(2007, 3, 2))\n",
    "runlength = 4\n",
    "symlinks, links = make_links_CIOPS(rundate, runlength)"
   ]
  },
  {
   "cell_type": "code",
   "execution_count": 11,
   "metadata": {},
   "outputs": [
    {
     "data": {
      "text/plain": [
       "['NEP36-GPSC4-VAH006_5d_grid_T_20070302-20070306.nc',\n",
       " 'NEP36-GPSC4-VAH006_5d_grid_T_20070307-20070311.nc',\n",
       " 'NEP36-GPSC4-VAH006_5d_grid_T_20070312-20070316.nc',\n",
       " 'NEP36-GPSC4-VAH006_5d_grid_T_20070317-20070321.nc',\n",
       " 'NEP36-GPSC4-VAH006_5d_grid_U_20070302-20070306.nc',\n",
       " 'NEP36-GPSC4-VAH006_5d_grid_U_20070307-20070311.nc',\n",
       " 'NEP36-GPSC4-VAH006_5d_grid_U_20070312-20070316.nc',\n",
       " 'NEP36-GPSC4-VAH006_5d_grid_U_20070317-20070321.nc',\n",
       " 'NEP36-GPSC4-VAH006_5d_grid_V_20070302-20070306.nc',\n",
       " 'NEP36-GPSC4-VAH006_5d_grid_V_20070307-20070311.nc',\n",
       " 'NEP36-GPSC4-VAH006_5d_grid_V_20070312-20070316.nc',\n",
       " 'NEP36-GPSC4-VAH006_5d_grid_V_20070317-20070321.nc',\n",
       " 'NEP36-GPSC4-VAH006_5d_grid_W_20070302-20070306.nc',\n",
       " 'NEP36-GPSC4-VAH006_5d_grid_W_20070307-20070311.nc',\n",
       " 'NEP36-GPSC4-VAH006_5d_grid_W_20070312-20070316.nc',\n",
       " 'NEP36-GPSC4-VAH006_5d_grid_W_20070317-20070321.nc']"
      ]
     },
     "execution_count": 11,
     "metadata": {},
     "output_type": "execute_result"
    }
   ],
   "source": [
    "links"
   ]
  },
  {
   "cell_type": "code",
   "execution_count": 12,
   "metadata": {},
   "outputs": [
    {
     "data": {
      "text/plain": [
       "['NEP36_5d_000001_grid_T.nc',\n",
       " 'NEP36_5d_000002_grid_T.nc',\n",
       " 'NEP36_5d_000003_grid_T.nc',\n",
       " 'NEP36_5d_000004_grid_T.nc',\n",
       " 'NEP36_5d_000001_grid_U.nc',\n",
       " 'NEP36_5d_000002_grid_U.nc',\n",
       " 'NEP36_5d_000003_grid_U.nc',\n",
       " 'NEP36_5d_000004_grid_U.nc',\n",
       " 'NEP36_5d_000001_grid_V.nc',\n",
       " 'NEP36_5d_000002_grid_V.nc',\n",
       " 'NEP36_5d_000003_grid_V.nc',\n",
       " 'NEP36_5d_000004_grid_V.nc',\n",
       " 'NEP36_5d_000001_grid_W.nc',\n",
       " 'NEP36_5d_000002_grid_W.nc',\n",
       " 'NEP36_5d_000003_grid_W.nc',\n",
       " 'NEP36_5d_000004_grid_W.nc']"
      ]
     },
     "execution_count": 12,
     "metadata": {},
     "output_type": "execute_result"
    }
   ],
   "source": [
    "symlinks"
   ]
  },
  {
   "cell_type": "markdown",
   "metadata": {},
   "source": [
    "## Links for tracer files"
   ]
  },
  {
   "cell_type": "code",
   "execution_count": 12,
   "metadata": {},
   "outputs": [],
   "source": [
    "TARGET_TMPL = 'SalishSea_1h_{:03d}_{}.nc'\n",
    "FILENAME_TMPL = 'SalishSea_1h_{:%Y%m%d}_{:%Y%m%d}_{}.nc'\n",
    "SUBDIR_TMPL = '{:%d%b%y}'"
   ]
  },
  {
   "cell_type": "code",
   "execution_count": 17,
   "metadata": {},
   "outputs": [],
   "source": [
    "links = []\n",
    "symlinks = []\n",
    "def make_links_tracers(rundate, runlength):\n",
    "    dir = '/results2/SalishSea/nowcast-green.201905/'\n",
    "    tardir = 'Links'\n",
    "    for grid in ['ptrc_T', 'grid_T', 'grid_U', 'grid_V', 'grid_W']: #need grit_T and ptrc_T bc the grid_T still used for ssh\n",
    "        for fileno in range(runlength):\n",
    "            target = TARGET_TMPL.format(fileno+1, grid)\n",
    "            date = rundate.shift(days=+fileno).datetime #rundate is an 'arrow' object (date thingy), .shift moves $\n",
    "            link = FILENAME_TMPL.format(date, date, grid)\n",
    "            subdir = SUBDIR_TMPL.format(date).lower()\n",
    "            symlinks.append(target)\n",
    "            links.append(link)\n",
    "            \n",
    "    return symlinks, links"
   ]
  },
  {
   "cell_type": "code",
   "execution_count": 18,
   "metadata": {},
   "outputs": [],
   "source": [
    "symlinks, links = make_links_tracers(rundate, 1)"
   ]
  },
  {
   "cell_type": "code",
   "execution_count": 19,
   "metadata": {},
   "outputs": [
    {
     "data": {
      "text/plain": [
       "['SalishSea_1h_001_ptrc_T.nc',\n",
       " 'SalishSea_1h_001_grid_T.nc',\n",
       " 'SalishSea_1h_001_grid_U.nc',\n",
       " 'SalishSea_1h_001_grid_V.nc',\n",
       " 'SalishSea_1h_001_grid_W.nc']"
      ]
     },
     "execution_count": 19,
     "metadata": {},
     "output_type": "execute_result"
    }
   ],
   "source": [
    "symlinks"
   ]
  },
  {
   "cell_type": "code",
   "execution_count": 20,
   "metadata": {},
   "outputs": [
    {
     "data": {
      "text/plain": [
       "['SalishSea_1h_20070302_20070302_ptrc_T.nc',\n",
       " 'SalishSea_1h_20070302_20070302_grid_T.nc',\n",
       " 'SalishSea_1h_20070302_20070302_grid_U.nc',\n",
       " 'SalishSea_1h_20070302_20070302_grid_V.nc',\n",
       " 'SalishSea_1h_20070302_20070302_grid_W.nc']"
      ]
     },
     "execution_count": 20,
     "metadata": {},
     "output_type": "execute_result"
    }
   ],
   "source": [
    "links"
   ]
  },
  {
   "cell_type": "markdown",
   "metadata": {},
   "source": [
    "## Links for SSC artificial tides files"
   ]
  },
  {
   "cell_type": "code",
   "execution_count": 1,
   "metadata": {},
   "outputs": [],
   "source": [
    "TARGET_TMPL = 'SalishSea_1h_{:06d}_grid_{:s}.nc'\n",
    "FILENAME_TMPL = 'SalishSea_1h_{:%Y%m%d}_{:%Y%m%d}_grid_{:s}.nc'\n",
    "FILENAME_TMPL2 = '{:s}_new_{:%Y%m%d}.nc'\n",
    "SUBDIR_TMPL = '{:%d%b%y}'\n",
    "NEW_SUBDIR_TMPL = 'forward_{:%d%b%y}'"
   ]
  },
  {
   "cell_type": "code",
   "execution_count": 3,
   "metadata": {},
   "outputs": [],
   "source": [
    "# rundate = datetime.datetime(2019,1,1)\n",
    "rundate = arrow.get(datetime(2019, 3, 1))\n",
    "runlength = 4\n",
    "symlinks = []\n",
    "links = []"
   ]
  },
  {
   "cell_type": "code",
   "execution_count": 22,
   "metadata": {},
   "outputs": [],
   "source": [
    "def make_links(rundate, runlength):\n",
    "    tardir = 'Links'\n",
    "    for grid in ['T', 'U', 'V']:\n",
    "        for fileno in range(runlength):\n",
    "            target = TARGET_TMPL.format(fileno+1, grid)\n",
    "            date = rundate.shift(days=+fileno).datetime #rundate is an 'arrow' object (date thingy), .shift moves it forward by the amount of days in brakets, .datetime makes datetime object\n",
    "            if grid == 'T':\n",
    "                dir = '/results2/SalishSea/nowcast-green.201905/'\n",
    "                link = FILENAME_TMPL.format(date, date, grid)\n",
    "                subdir = SUBDIR_TMPL.format(date).lower()\n",
    "            else:\n",
    "                dir = '/data/rbeutel/analysis/ssc_tidesback/'\n",
    "                link = FILENAME_TMPL2.format(grid, date)\n",
    "            symlinks.append(target)\n",
    "            links.append(link)\n",
    "    return symlinks, links"
   ]
  },
  {
   "cell_type": "code",
   "execution_count": 23,
   "metadata": {
    "collapsed": true,
    "jupyter": {
     "outputs_hidden": true
    }
   },
   "outputs": [
    {
     "ename": "AttributeError",
     "evalue": "'datetime.datetime' object has no attribute 'shift'",
     "output_type": "error",
     "traceback": [
      "\u001b[0;31m---------------------------------------------------------------------------\u001b[0m",
      "\u001b[0;31mAttributeError\u001b[0m                            Traceback (most recent call last)",
      "\u001b[0;32m<ipython-input-23-77d6b9472817>\u001b[0m in \u001b[0;36m<module>\u001b[0;34m\u001b[0m\n\u001b[0;32m----> 1\u001b[0;31m \u001b[0msymlinks\u001b[0m\u001b[0;34m,\u001b[0m \u001b[0mlinks\u001b[0m \u001b[0;34m=\u001b[0m \u001b[0mmake_links\u001b[0m\u001b[0;34m(\u001b[0m\u001b[0mrundate\u001b[0m\u001b[0;34m,\u001b[0m \u001b[0mrunlength\u001b[0m\u001b[0;34m)\u001b[0m\u001b[0;34m\u001b[0m\u001b[0;34m\u001b[0m\u001b[0m\n\u001b[0m",
      "\u001b[0;32m<ipython-input-22-27099dfb24a9>\u001b[0m in \u001b[0;36mmake_links\u001b[0;34m(rundate, runlength)\u001b[0m\n\u001b[1;32m      4\u001b[0m         \u001b[0;32mfor\u001b[0m \u001b[0mfileno\u001b[0m \u001b[0;32min\u001b[0m \u001b[0mrange\u001b[0m\u001b[0;34m(\u001b[0m\u001b[0mrunlength\u001b[0m\u001b[0;34m)\u001b[0m\u001b[0;34m:\u001b[0m\u001b[0;34m\u001b[0m\u001b[0;34m\u001b[0m\u001b[0m\n\u001b[1;32m      5\u001b[0m             \u001b[0mtarget\u001b[0m \u001b[0;34m=\u001b[0m \u001b[0mTARGET_TMPL\u001b[0m\u001b[0;34m.\u001b[0m\u001b[0mformat\u001b[0m\u001b[0;34m(\u001b[0m\u001b[0mfileno\u001b[0m\u001b[0;34m+\u001b[0m\u001b[0;36m1\u001b[0m\u001b[0;34m,\u001b[0m \u001b[0mgrid\u001b[0m\u001b[0;34m)\u001b[0m\u001b[0;34m\u001b[0m\u001b[0;34m\u001b[0m\u001b[0m\n\u001b[0;32m----> 6\u001b[0;31m             \u001b[0mdate\u001b[0m \u001b[0;34m=\u001b[0m \u001b[0mrundate\u001b[0m\u001b[0;34m.\u001b[0m\u001b[0mshift\u001b[0m\u001b[0;34m(\u001b[0m\u001b[0mdays\u001b[0m\u001b[0;34m=\u001b[0m\u001b[0;34m+\u001b[0m\u001b[0mfileno\u001b[0m\u001b[0;34m)\u001b[0m\u001b[0;34m.\u001b[0m\u001b[0mdatetime\u001b[0m \u001b[0;31m#rundate is an 'arrow' object (date thingy), .shift moves it forward by the amount of days in brakets, .datetime makes datetime object\u001b[0m\u001b[0;34m\u001b[0m\u001b[0;34m\u001b[0m\u001b[0m\n\u001b[0m\u001b[1;32m      7\u001b[0m             \u001b[0;32mif\u001b[0m \u001b[0mgrid\u001b[0m \u001b[0;34m==\u001b[0m \u001b[0;34m'T'\u001b[0m\u001b[0;34m:\u001b[0m\u001b[0;34m\u001b[0m\u001b[0;34m\u001b[0m\u001b[0m\n\u001b[1;32m      8\u001b[0m                 \u001b[0mdir\u001b[0m \u001b[0;34m=\u001b[0m \u001b[0;34m'/results2/SalishSea/nowcast-green.201905/'\u001b[0m\u001b[0;34m\u001b[0m\u001b[0;34m\u001b[0m\u001b[0m\n",
      "\u001b[0;31mAttributeError\u001b[0m: 'datetime.datetime' object has no attribute 'shift'"
     ]
    }
   ],
   "source": [
    "symlinks, links = make_links(rundate, runlength)"
   ]
  },
  {
   "cell_type": "code",
   "execution_count": 27,
   "metadata": {},
   "outputs": [
    {
     "data": {
      "text/plain": [
       "['SalishSea_1h_20190301_20190301_grid_T.nc',\n",
       " 'SalishSea_1h_20190302_20190302_grid_T.nc',\n",
       " 'SalishSea_1h_20190303_20190303_grid_T.nc',\n",
       " 'SalishSea_1h_20190304_20190304_grid_T.nc',\n",
       " 'U_new_20190301.nc',\n",
       " 'U_new_20190302.nc',\n",
       " 'U_new_20190303.nc',\n",
       " 'U_new_20190304.nc',\n",
       " 'V_new_20190301.nc',\n",
       " 'V_new_20190302.nc',\n",
       " 'V_new_20190303.nc',\n",
       " 'V_new_20190304.nc']"
      ]
     },
     "execution_count": 27,
     "metadata": {},
     "output_type": "execute_result"
    }
   ],
   "source": [
    "links"
   ]
  },
  {
   "cell_type": "code",
   "execution_count": 29,
   "metadata": {},
   "outputs": [
    {
     "data": {
      "text/plain": [
       "['SalishSea_1h_000001_grid_T.nc',\n",
       " 'SalishSea_1h_000002_grid_T.nc',\n",
       " 'SalishSea_1h_000003_grid_T.nc',\n",
       " 'SalishSea_1h_000004_grid_T.nc',\n",
       " 'SalishSea_1h_000001_grid_U.nc',\n",
       " 'SalishSea_1h_000002_grid_U.nc',\n",
       " 'SalishSea_1h_000003_grid_U.nc',\n",
       " 'SalishSea_1h_000004_grid_U.nc',\n",
       " 'SalishSea_1h_000001_grid_V.nc',\n",
       " 'SalishSea_1h_000002_grid_V.nc',\n",
       " 'SalishSea_1h_000003_grid_V.nc',\n",
       " 'SalishSea_1h_000004_grid_V.nc']"
      ]
     },
     "execution_count": 29,
     "metadata": {},
     "output_type": "execute_result"
    }
   ],
   "source": [
    "symlinks"
   ]
  },
  {
   "cell_type": "markdown",
   "metadata": {},
   "source": [
    "# CIOPS artificial tides"
   ]
  },
  {
   "cell_type": "code",
   "execution_count": 4,
   "metadata": {},
   "outputs": [],
   "source": [
    "TARGET_TMPL = 'CIOPS_1h_{:06d}_grid_{:s}.nc'\n",
    "FILENAME_TMPL = 'BC12_1h_grid_{:s}_2D_{:%Y%m%d}_{:%Y%m%d}.nc'\n",
    "FILENAME_TMPL2 = '{:s}_new_{:%Y%m%d}.nc'\n",
    "SUBDIR_TMPL = '{:%Y%m%d}00'\n",
    "SUBDIR_TMPL2 = '{:%Y%m}'\n",
    "NEW_SUBDIR_TMPL = 'backward_{:%d%b%y}'"
   ]
  },
  {
   "cell_type": "code",
   "execution_count": 5,
   "metadata": {},
   "outputs": [],
   "source": [
    "# rundate = datetime.datetime(2019,1,1)\n",
    "rundate = arrow.get(dt.datetime(2018, 1, 1))\n",
    "runlength = 4\n",
    "symlinks = []\n",
    "links = []"
   ]
  },
  {
   "cell_type": "code",
   "execution_count": 9,
   "metadata": {},
   "outputs": [],
   "source": [
    "utc=pytz.UTC"
   ]
  },
  {
   "cell_type": "code",
   "execution_count": 10,
   "metadata": {},
   "outputs": [],
   "source": [
    "folders = [(dt.datetime(2015,11,22)+dt.timedelta(days=7*(i+1))).replace(tzinfo=utc) for i in range(int(214))]"
   ]
  },
  {
   "cell_type": "code",
   "execution_count": 11,
   "metadata": {},
   "outputs": [],
   "source": [
    "symlinks = []\n",
    "links = []\n",
    "utc=pytz.UTC\n",
    "def make_links(rundate, runlength):\n",
    "    tardir = 'Links'\n",
    "    for grid in ['T', 'U', 'V']:\n",
    "        for fileno in range(runlength):\n",
    "            target = TARGET_TMPL.format(fileno+1, grid)\n",
    "            date = rundate.shift(days=+fileno).datetime #rundate is an 'arrow' object (date thingy), .shift moves it forward by the amount of days in brakets, .datetime makes datetime object\n",
    "            if grid == 'T':\n",
    "                dir = '/ocean/mdunphy/CIOPSW-BC12/'\n",
    "                for i in range(len(folders)-1):\n",
    "                    d = date.replace(tzinfo=utc)\n",
    "                    if d >= folders[i] and d < folders[i+1]:\n",
    "                        folderdate = folders[i+1]\n",
    "                    elif d < folders[0]:\n",
    "                        folderdate = folders[0]\n",
    "                link = FILENAME_TMPL.format(grid, date, date)\n",
    "                subdir = SUBDIR_TMPL.format(folderdate)\n",
    "            else:\n",
    "                dir = '/ocean/rbeutel/data/'\n",
    "                link = FILENAME_TMPL2.format(grid, date)\n",
    "                subdir = SUBDIR_TMPL2.format(date)\n",
    "            symlinks.append(target)\n",
    "            links.append(subdir+'/'+link)\n",
    "    return symlinks, links"
   ]
  },
  {
   "cell_type": "code",
   "execution_count": 12,
   "metadata": {},
   "outputs": [],
   "source": [
    "symlinks, links = make_links(rundate, runlength)"
   ]
  },
  {
   "cell_type": "code",
   "execution_count": 13,
   "metadata": {},
   "outputs": [
    {
     "data": {
      "text/plain": [
       "['2018010700/BC12_1h_grid_T_2D_20180101_20180101.nc',\n",
       " '2018010700/BC12_1h_grid_T_2D_20180102_20180102.nc',\n",
       " '2018010700/BC12_1h_grid_T_2D_20180103_20180103.nc',\n",
       " '2018010700/BC12_1h_grid_T_2D_20180104_20180104.nc',\n",
       " '201801/U_new_20180101.nc',\n",
       " '201801/U_new_20180102.nc',\n",
       " '201801/U_new_20180103.nc',\n",
       " '201801/U_new_20180104.nc',\n",
       " '201801/V_new_20180101.nc',\n",
       " '201801/V_new_20180102.nc',\n",
       " '201801/V_new_20180103.nc',\n",
       " '201801/V_new_20180104.nc']"
      ]
     },
     "execution_count": 13,
     "metadata": {},
     "output_type": "execute_result"
    }
   ],
   "source": [
    "links"
   ]
  },
  {
   "cell_type": "markdown",
   "metadata": {},
   "source": [
    "# CIOPS BC12 original daily files"
   ]
  },
  {
   "cell_type": "code",
   "execution_count": 8,
   "metadata": {},
   "outputs": [],
   "source": [
    "TARGET_TMPL = 'CIOPS_1h_{:06d}_grid_{:s}.nc'\n",
    "FILENAME_TMPL = 'BC12_1d_grid_{:s}_{:%Y%m%d}_{:%Y%m%d}.nc'\n",
    "SUBDIR_TMPL = '{:%Y%m%d}00'\n",
    "NEW_SUBDIR_TMPL = 'forward_{:%d%b%y}'"
   ]
  },
  {
   "cell_type": "code",
   "execution_count": 12,
   "metadata": {},
   "outputs": [],
   "source": [
    "symlinks = []\n",
    "links = []\n",
    "utc=pytz.UTC\n",
    "folders = [(dt.datetime(2015,11,22)+dt.timedelta(days=7*(i+1))).replace(tzinfo=utc) for i in range(int(214))]\n",
    "\n",
    "def make_links(rundate, runlength):\n",
    "    tardir = 'Links'\n",
    "    for grid in ['T', 'U', 'V']:\n",
    "        for fileno in range(runlength):\n",
    "            target = TARGET_TMPL.format(fileno+1, grid)\n",
    "            date = rundate.shift(days=+fileno).datetime\n",
    "            dir = '/ocean/mdunphy/CIOPSW-BC12/'\n",
    "            for i in range(len(folders)-1):\n",
    "                d = date.replace(tzinfo=utc)\n",
    "                if d >= folders[i] and d < folders[i+1]:\n",
    "                    folderdate = folders[i+1]\n",
    "                elif d < folders[0]:\n",
    "                    folderdate = folders[0]\n",
    "            link = FILENAME_TMPL.format(grid, date, date)\n",
    "            subdir = SUBDIR_TMPL.format(folderdate)\n",
    "            symlinks.append(target)\n",
    "            links.append(subdir+'/'+link)\n",
    "    return symlinks, links"
   ]
  },
  {
   "cell_type": "code",
   "execution_count": 13,
   "metadata": {},
   "outputs": [],
   "source": [
    "rundate = arrow.get(dt.datetime(2018, 1, 1))\n",
    "runlength = 4"
   ]
  },
  {
   "cell_type": "code",
   "execution_count": 14,
   "metadata": {},
   "outputs": [],
   "source": [
    "symlinks, links = make_links(rundate, runlength)"
   ]
  },
  {
   "cell_type": "code",
   "execution_count": 16,
   "metadata": {},
   "outputs": [
    {
     "data": {
      "text/plain": [
       "['CIOPS_1h_000001_grid_T.nc',\n",
       " 'CIOPS_1h_000002_grid_T.nc',\n",
       " 'CIOPS_1h_000003_grid_T.nc',\n",
       " 'CIOPS_1h_000004_grid_T.nc',\n",
       " 'CIOPS_1h_000001_grid_U.nc',\n",
       " 'CIOPS_1h_000002_grid_U.nc',\n",
       " 'CIOPS_1h_000003_grid_U.nc',\n",
       " 'CIOPS_1h_000004_grid_U.nc',\n",
       " 'CIOPS_1h_000001_grid_V.nc',\n",
       " 'CIOPS_1h_000002_grid_V.nc',\n",
       " 'CIOPS_1h_000003_grid_V.nc',\n",
       " 'CIOPS_1h_000004_grid_V.nc']"
      ]
     },
     "execution_count": 16,
     "metadata": {},
     "output_type": "execute_result"
    }
   ],
   "source": [
    "symlinks"
   ]
  },
  {
   "cell_type": "code",
   "execution_count": 17,
   "metadata": {},
   "outputs": [
    {
     "data": {
      "text/plain": [
       "['2018010700/BC12_1d_grid_T_20180101_20180101.nc',\n",
       " '2018010700/BC12_1d_grid_T_20180102_20180102.nc',\n",
       " '2018010700/BC12_1d_grid_T_20180103_20180103.nc',\n",
       " '2018010700/BC12_1d_grid_T_20180104_20180104.nc',\n",
       " '2018010700/BC12_1d_grid_U_20180101_20180101.nc',\n",
       " '2018010700/BC12_1d_grid_U_20180102_20180102.nc',\n",
       " '2018010700/BC12_1d_grid_U_20180103_20180103.nc',\n",
       " '2018010700/BC12_1d_grid_U_20180104_20180104.nc',\n",
       " '2018010700/BC12_1d_grid_V_20180101_20180101.nc',\n",
       " '2018010700/BC12_1d_grid_V_20180102_20180102.nc',\n",
       " '2018010700/BC12_1d_grid_V_20180103_20180103.nc',\n",
       " '2018010700/BC12_1d_grid_V_20180104_20180104.nc']"
      ]
     },
     "execution_count": 17,
     "metadata": {},
     "output_type": "execute_result"
    }
   ],
   "source": [
    "links"
   ]
  },
  {
   "cell_type": "code",
   "execution_count": null,
   "metadata": {},
   "outputs": [],
   "source": []
  }
 ],
 "metadata": {
  "kernelspec": {
   "display_name": "OceanParcels",
   "language": "python",
   "name": "oceanparcels"
  },
  "language_info": {
   "codemirror_mode": {
    "name": "ipython",
    "version": 3
   },
   "file_extension": ".py",
   "mimetype": "text/x-python",
   "name": "python",
   "nbconvert_exporter": "python",
   "pygments_lexer": "ipython3",
   "version": "3.8.8"
  }
 },
 "nbformat": 4,
 "nbformat_minor": 4
}
