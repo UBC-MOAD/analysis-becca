{
 "cells": [
  {
   "cell_type": "code",
   "execution_count": null,
   "metadata": {},
   "outputs": [],
   "source": [
    "# you try"
   ]
  },
  {
   "cell_type": "code",
   "execution_count": 1,
   "metadata": {},
   "outputs": [],
   "source": [
    "import cmocean.cm as cm\n",
    "import matplotlib.pyplot as plt\n",
    "from matplotlib.patches import Rectangle\n",
    "from matplotlib.collections import PatchCollection\n",
    "import numpy as np\n",
    "import scipy.interpolate as interp\n",
    "import xarray as xr"
   ]
  },
  {
   "cell_type": "code",
   "execution_count": 2,
   "metadata": {},
   "outputs": [],
   "source": [
    "def draw_patches(fmask, ll, ul, u_lons, w_depths):\n",
    "    topo = []\n",
    "    for i in range(ll, ul):\n",
    "        for j in range(39):\n",
    "            if fmask[j, i] == 0:\n",
    "                rect = Rectangle((u_lons[i], w_depths[j]), u_lons[i+1]-u_lons[i], w_depths[j+1]-w_depths[j])\n",
    "                topo.append(rect)\n",
    "    pc = PatchCollection(topo, facecolors='lightgray', edgecolors='lightgray')\n",
    "    return(pc)"
   ]
  },
  {
   "cell_type": "code",
   "execution_count": null,
   "metadata": {},
   "outputs": [],
   "source": [
    "section_name = 'Haro'\n",
    "CSharo = [6, 218-1, 242, 304, 300]\n",
    "figrid = CSharo[3]\n",
    "igrid = figrid-1\n",
    "js, je = CSharo[1], CSharo[2]\n",
    "section = CSharo[0]"
   ]
  },
  {
   "cell_type": "code",
   "execution_count": 41,
   "metadata": {},
   "outputs": [],
   "source": [
    "section_name = 'Rosario'\n",
    "CSrosario = [4, 286, 307, 266, 300]\n",
    "figrid = CSrosario[3]\n",
    "igrid = figrid-1\n",
    "js, je = CSrosario[1]-3, CSrosario[2]\n",
    "section = CSrosario[0]"
   ]
  },
  {
   "cell_type": "code",
   "execution_count": 13,
   "metadata": {},
   "outputs": [],
   "source": [
    "section_name = 'Admiralty'\n",
    "CSadmiralty = [2, 255, 267, 204, 300]\n",
    "figrid = CSadmiralty[3]\n",
    "igrid = figrid-1\n",
    "js, je = CSadmiralty[1]-5, CSadmiralty[2]\n",
    "section = CSadmiralty[0]"
   ]
  },
  {
   "cell_type": "code",
   "execution_count": 42,
   "metadata": {},
   "outputs": [],
   "source": [
    "mymesh = xr.open_dataset('/home/sallen/MEOPAR/grid/mesh_mask201702.nc')\n",
    "depthf = interp.interp1d(mymesh.z, mymesh.gdepw_1d)\n",
    "f_lons = mymesh.glamf[0, igrid]\n",
    "u_lons = mymesh.glamv[0, igrid] \n",
    "fmask = mymesh.fmask[0, :, igrid]\n",
    "w_depths = mymesh.gdepw_1d"
   ]
  },
  {
   "cell_type": "code",
   "execution_count": 43,
   "metadata": {},
   "outputs": [
    {
     "name": "stdout",
     "output_type": "stream",
     "text": [
      "1.0352542701412316e-05\n"
     ]
    }
   ],
   "source": [
    "m2lon = ((u_lons[je]-u_lons[js])/(mymesh.e2f[0, igrid, js:je].sum())).values\n",
    "print (m2lon)"
   ]
  },
  {
   "cell_type": "code",
   "execution_count": 44,
   "metadata": {},
   "outputs": [],
   "source": [
    "file = '/ocean/rbeutel/MOAD/analysis-becca/Ariane/1yr_runs/201905_1hr/forward_01jan17/ariane_positions_quantitative.nc'\n",
    "mydata = xr.open_dataset(file)"
   ]
  },
  {
   "cell_type": "code",
   "execution_count": 45,
   "metadata": {},
   "outputs": [],
   "source": [
    "yearjumps = [0,1,-2,1,0,1,0,1,1,0,1,0]\n",
    "str_mo = ['jan', 'feb', 'mar', 'apr','may', 'jun', 'jul', 'aug', 'sep','oct', 'nov', 'dec']\n",
    "starttime = 1+(5*720+(sum(yearjumps[:5+1]*24)))\n",
    "endtime = 720+(8*720+(sum(yearjumps[:8+1]*24)))\n",
    "time = endtime - starttime +1"
   ]
  },
  {
   "cell_type": "code",
   "execution_count": 46,
   "metadata": {},
   "outputs": [],
   "source": [
    "def get_data(mydata, starttime, endtime, time, section):\n",
    "    salt = mydata.init_salt[(mydata.init_t >= starttime) & (mydata.init_t <= endtime) & (mydata.final_section==section)]\n",
    "    init_z = mydata.init_z[(mydata.init_t >= starttime) & (mydata.init_t <= endtime) & (mydata.final_section==section)]\n",
    "    final_z = mydata.final_z[(mydata.init_t >= starttime) & (mydata.init_t <= endtime) & (mydata.final_section==section)]\n",
    "    trans = mydata.final_transp[(mydata.init_t >= starttime) & (mydata.init_t <= endtime) & (mydata.final_section==section)]/(time)\n",
    "    init_trans = mydata.init_transp[(mydata.init_t >= starttime) & (mydata.init_t <= endtime) & (mydata.final_section==section)]/(time)\n",
    "    lons = mydata.final_lon[(mydata.init_t >= starttime) & (mydata.init_t <= endtime) & (mydata.final_section==section)]\n",
    "    return salt, init_z, final_z, trans, init_trans, lons"
   ]
  },
  {
   "cell_type": "code",
   "execution_count": 47,
   "metadata": {},
   "outputs": [],
   "source": [
    "salt, init_z, final_z, trans, init_trans, lons = get_data(mydata, starttime, endtime, time, section)"
   ]
  },
  {
   "cell_type": "code",
   "execution_count": 48,
   "metadata": {},
   "outputs": [
    {
     "name": "stdout",
     "output_type": "stream",
     "text": [
      "(1, 19031) 266 283 307\n"
     ]
    }
   ],
   "source": [
    "print (depthf(final_z).shape, figrid, js, je)"
   ]
  },
  {
   "cell_type": "code",
   "execution_count": 49,
   "metadata": {},
   "outputs": [
    {
     "data": {
      "image/png": "[encoded data removed]",
      "text/plain": [
       "<Figure size 720x720 with 2 Axes>"
      ]
     },
     "metadata": {
      "needs_background": "light"
     },
     "output_type": "display_data"
    }
   ],
   "source": [
    "gridding = 1\n",
    "high = 0.2\n",
    "vmax = high/trans.sum().values\n",
    "fig, ax = plt.subplots(1, 1, figsize=(10, 10))\n",
    "c, xedge, yedge, im = ax.hist2d(lons/m2lon, \n",
    "                                depthf(final_z)[0],\n",
    "                                weights=trans,\n",
    "                                bins=[np.array(f_lons[js:je:gridding])/m2lon, w_depths[0]],\n",
    "                                cmap=cm.matter, \n",
    "                                density=True, vmax=vmax)\n",
    "\n",
    "ax.invert_yaxis()\n",
    "\n",
    "\n",
    "cb1 = fig.colorbar(im, ax=ax)\n",
    "cb1.set_ticks([0, vmax])\n",
    "cb1.set_ticklabels([0, high, 2]) \n",
    "cb1.set_label('m s$^{-1}$', labelpad=-20, fontsize=14)\n",
    "\n",
    "\n",
    "pc = draw_patches(fmask, js, je, np.array(u_lons)/m2lon, np.array(w_depths[0]))\n",
    "ax.add_collection(pc);\n",
    "ax.set_title(section_name);\n",
    "fig.savefig(f'{section_name}.pdf')"
   ]
  },
  {
   "cell_type": "code",
   "execution_count": 50,
   "metadata": {},
   "outputs": [
    {
     "data": {
      "image/png": "[encoded data removed]",
      "text/plain": [
       "<Figure size 720x720 with 2 Axes>"
      ]
     },
     "metadata": {
      "needs_background": "light"
     },
     "output_type": "display_data"
    }
   ],
   "source": [
    "gridding = 1\n",
    "high = 0.2\n",
    "vmax = high/trans.sum().values/m2lon\n",
    "fig, ax = plt.subplots(1, 1, figsize=(10, 10))\n",
    "c, xedge, yedge, im = ax.hist2d(lons, \n",
    "                                depthf(final_z)[0],\n",
    "                                weights=trans,\n",
    "                                bins=[np.array(f_lons[js:je:gridding]), w_depths[0]],\n",
    "                                cmap=cm.matter, \n",
    "                                density=True, vmax=vmax)\n",
    "\n",
    "ax.invert_yaxis()\n",
    "\n",
    "\n",
    "cb1 = fig.colorbar(im, ax=ax)\n",
    "cb1.set_ticks([0, vmax])\n",
    "cb1.set_ticklabels([0, high, 2]) \n",
    "cb1.set_label('m s$^{-1}$', labelpad=-20, fontsize=14)\n",
    "\n",
    "\n",
    "pc = draw_patches(fmask, js, je, np.array(u_lons), np.array(w_depths[0]))\n",
    "ax.add_collection(pc);\n",
    "ax.set_title(section_name);\n",
    "fig.savefig(f'{section_name}_lons.pdf')"
   ]
  },
  {
   "cell_type": "code",
   "execution_count": null,
   "metadata": {},
   "outputs": [],
   "source": []
  }
 ],
 "metadata": {
  "kernelspec": {
   "display_name": "Python (py39)",
   "language": "python",
   "name": "py39"
  },
  "language_info": {
   "codemirror_mode": {
    "name": "ipython",
    "version": 3
   },
   "file_extension": ".py",
   "mimetype": "text/x-python",
   "name": "python",
   "nbconvert_exporter": "python",
   "pygments_lexer": "ipython3",
   "version": "3.9.7"
  }
 },
 "nbformat": 4,
 "nbformat_minor": 5
}
