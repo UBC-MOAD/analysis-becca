{
 "cells": [
  {
   "cell_type": "code",
   "execution_count": 1,
   "metadata": {},
   "outputs": [],
   "source": [
    "import xarray as xr\n",
    "import numpy as np\n",
    "import datetime as dt\n",
    "import matplotlib.pyplot as plt\n",
    "from pathlib import Path\n",
    "import gsw"
   ]
  },
  {
   "cell_type": "code",
   "execution_count": 2,
   "metadata": {},
   "outputs": [],
   "source": [
    "mesh = xr.open_dataset('/home/sallen/MEOPAR/grid/mesh_mask201702.nc')"
   ]
  },
  {
   "cell_type": "code",
   "execution_count": 3,
   "metadata": {},
   "outputs": [
    {
     "data": {
      "text/plain": [
       "<matplotlib.collections.PathCollection at 0x7fcb768ba910>"
      ]
     },
     "execution_count": 3,
     "metadata": {},
     "output_type": "execute_result"
    },
    {
     "data": {
      "image/png": "[encoded data removed]",
      "text/plain": [
       "<Figure size 144x144 with 1 Axes>"
      ]
     },
     "metadata": {
      "needs_background": "light"
     },
     "output_type": "display_data"
    }
   ],
   "source": [
    "fig, ax = plt.subplots(figsize=(2, 2))\n",
    "\n",
    "# Overlay domain landmask and coastline\n",
    "ax.contourf(mesh.tmask[0, 0, ...], levels=[-0.01, 0.01], colors='whitesmoke')\n",
    "ax.contour(mesh.tmask[0, 0, ...], levels=[-0.01, 0.01], colors='dimgray')\n",
    "ax.set_ylim([490,520])\n",
    "ax.set_xlim([375,398])\n",
    "\n",
    "ax.scatter([394],[500])"
   ]
  },
  {
   "cell_type": "code",
   "execution_count": 4,
   "metadata": {},
   "outputs": [],
   "source": [
    "u_lons = mesh.glamv[0, 500]\n",
    "m2lon = ((u_lons[394]-u_lons[396])/(mesh.e2f[0, 500, 394:396].sum())).values\n",
    "f_dist = u_lons/m2lon\n",
    "\n",
    "h = (f_dist[394:395]-f_dist[395:396])\n",
    "\n",
    "t_lats = mesh.gphit[0, :, 394]\n",
    "m2lat = ((t_lats[500]-t_lats[502])/(mesh.e2t[0, 500:502, 394].sum()))\n",
    "t_dist = t_lats/m2lat\n",
    "\n",
    "w = (t_dist[500:501]-t_dist[501:502])"
   ]
  },
  {
   "cell_type": "code",
   "execution_count": 5,
   "metadata": {},
   "outputs": [],
   "source": [
    "path = Path(\"/results2/SalishSea/nowcast-green.201905/\")\n",
    "files = [sorted(path.glob(\"{:%d%b%y}\".format(dt.datetime(2022,6,1)+dt.timedelta(days=i)).lower()+\"/SalishSea_1d_*_grid_T.nc\")) for i in range(10)]\n",
    "drop_vars = (\n",
    "    \"bounds_lon\", \"bounds_lat\", \"area\", \"deptht_bounds\",\n",
    "    \"time_centered\", \"time_centered_bounds\", \"time_counter_bounds\"\n",
    "    )\n",
    "temp = xr.open_mfdataset(files, drop_variables=drop_vars).votemper[:,0,500,394]\n",
    "salt = xr.open_mfdataset(files, drop_variables=drop_vars).vosaline[:,0,500,394]\n",
    "\n",
    "CT = gsw.CT_from_t(salt,temp,np.repeat(1,10))\n",
    "density = gsw.density.rho(salt,CT,np.repeat(1,10))"
   ]
  },
  {
   "cell_type": "code",
   "execution_count": 6,
   "metadata": {},
   "outputs": [],
   "source": [
    "files = ['/results/forcing/rivers/R201702DFraCElse_y2022m06d{:%d}.nc'.format(dt.datetime(2022,6,1)+dt.timedelta(days=i)) for i in range(10)]\n",
    "flow = xr.open_mfdataset(files,combine='nested',concat_dim='time_counter').rorunoff[:,500,394].mean(dim='time_counter')"
   ]
  },
  {
   "cell_type": "code",
   "execution_count": 7,
   "metadata": {},
   "outputs": [
    {
     "data": {
      "text/plain": [
       "array([[10206.05028394]])"
      ]
     },
     "execution_count": 7,
     "metadata": {},
     "output_type": "execute_result"
    }
   ],
   "source": [
    "((flow/np.mean(density))*w*h).values\n",
    "# something must be wrong with my units"
   ]
  },
  {
   "cell_type": "code",
   "execution_count": null,
   "metadata": {},
   "outputs": [],
   "source": []
  }
 ],
 "metadata": {
  "kernelspec": {
   "display_name": "Ariane",
   "language": "python",
   "name": "python3"
  },
  "language_info": {
   "codemirror_mode": {
    "name": "ipython",
    "version": 3
   },
   "file_extension": ".py",
   "mimetype": "text/x-python",
   "name": "python",
   "nbconvert_exporter": "python",
   "pygments_lexer": "ipython3",
   "version": "3.9.9"
  }
 },
 "nbformat": 4,
 "nbformat_minor": 2
}
