{
 "cells": [
  {
   "cell_type": "markdown",
   "metadata": {},
   "source": [
    "## According to the salishseacast results what do we expect to see form the 2017 CIOPS results? How does 2017 compare to other years according to the SSC results?"
   ]
  },
  {
   "cell_type": "code",
   "execution_count": 2,
   "metadata": {},
   "outputs": [],
   "source": [
    "import numpy as np\n",
    "import xarray as xr\n"
   ]
  },
  {
   "cell_type": "code",
   "execution_count": 1,
   "metadata": {},
   "outputs": [],
   "source": [
    "def get_transport(mydata, section, starttime, endtime):\n",
    "    time = endtime-starttime+1\n",
    "    transports = (mydata.final_transp[(mydata.final_section==section) & (mydata.init_t >= starttime) & (mydata.init_t <= endtime)])/time\n",
    "    sumTr = sum(transports)\n",
    "    \n",
    "    transports = (mydata.final_transp[(mydata.final_section != 0) & (mydata.init_t >= starttime) & (mydata.init_t <= endtime)])/time\n",
    "    totalTr = sum(transports)\n",
    "    return sumTr, totalTr"
   ]
  },
  {
   "cell_type": "code",
   "execution_count": 3,
   "metadata": {},
   "outputs": [],
   "source": [
    "yearjumps = [0,1,-2,1,0,1,0,1,1,0,1,0]\n",
    "str_mo = ['jan', 'feb', 'mar', 'apr','may', 'jun', 'jul', 'aug', 'sep','oct', 'nov', 'dec']\n",
    "starttime = 1\n",
    "endtime = 720\n",
    "time = endtime-starttime+1\n",
    "\n",
    "sec_nums = [2,3,4,5,6]\n",
    "admiralty = np.array([])\n",
    "deception = np.array([])\n",
    "rosario = np.array([])\n",
    "sanjuan = np.array([])\n",
    "haro = np.array([])\n",
    "sections = [admiralty, deception, rosario, sanjuan, haro]\n",
    "all_total = np.array([])\n",
    "\n",
    "#2016 and 2017\n",
    "year = [16,17]\n",
    "\n",
    "for num in year:\n",
    "    file = '/ocean/rbeutel/MOAD/analysis-becca/Ariane/1yr_runs/201905_1hr/forward_01jan'+str(num)+'/ariane_positions_quantitative.nc'\n",
    "    mydata = xr.open_dataset(file)\n",
    "    for i in range(12):\n",
    "        for j in range(len(sec_nums)):\n",
    "            temp, totalT = get_transport(mydata, sec_nums[j], starttime+(i*720+(sum(yearjumps[:i+1]*24))), endtime+(i*720+(sum(yearjumps[:i+1]*24))))\n",
    "            sections[j] = np.append(sections[j],temp)\n",
    "        all_total = np.append(all_total, totalT)\n",
    "\n",
    "#2019 and 2018 (both done month by month)\n",
    "year = [18,19]\n",
    "for num in year:\n",
    "    for i in range(len(str_mo)):\n",
    "        file = '/ocean/rbeutel/MOAD/analysis-becca/Ariane/201905_1hr/forward_01'+str_mo[i]+str(num)+'/ariane_positions_quantitative.nc'\n",
    "        mydata = xr.open_dataset(file)\n",
    "        time = mydata.init_t[-1]\n",
    "\n",
    "        totalT = sum((mydata.final_transp[(mydata.final_section != 0) & (mydata.init_t >= starttime) & (mydata.init_t <= endtime)])/time)\n",
    "\n",
    "        for j in range(len(sec_nums)):\n",
    "            temp = sum((mydata.final_transp[(mydata.final_section==sec_nums[j]) & (mydata.init_t >= starttime) & (mydata.init_t <= endtime)])/time)\n",
    "            sections[j] = np.append(sections[j],temp)       \n",
    "        all_total = np.append(all_total, totalT)\n",
    "            \n",
    "#2020\n",
    "file = '/ocean/rbeutel/MOAD/analysis-becca/Ariane/1yr_runs/201905_1hr/forward_01jan20/ariane_positions_quantitative.nc'\n",
    "mydata = xr.open_dataset(file)\n",
    "for i in range(12):\n",
    "    for j in range(len(sec_nums)):\n",
    "        temp, totalT = get_transport(mydata, sec_nums[j], starttime+(i*720+(sum(yearjumps[:i+1]*24))), endtime+(i*720+(sum(yearjumps[:i+1]*24))))\n",
    "        sections[j] = np.append(sections[j],temp)\n",
    "    all_total = np.append(all_total, totalT)"
   ]
  },
  {
   "cell_type": "code",
   "execution_count": null,
   "metadata": {},
   "outputs": [],
   "source": []
  }
 ],
 "metadata": {
  "kernelspec": {
   "display_name": "ariane",
   "language": "python",
   "name": "ariane"
  },
  "language_info": {
   "codemirror_mode": {
    "name": "ipython",
    "version": 3
   },
   "file_extension": ".py",
   "mimetype": "text/x-python",
   "name": "python",
   "nbconvert_exporter": "python",
   "pygments_lexer": "ipython3",
   "version": "3.9.9"
  }
 },
 "nbformat": 4,
 "nbformat_minor": 4
}
