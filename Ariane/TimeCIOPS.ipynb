{
 "cells": [
  {
   "cell_type": "markdown",
   "metadata": {},
   "source": [
    "# CIOPS Parcel Timing"
   ]
  },
  {
   "cell_type": "code",
   "execution_count": 3,
   "metadata": {},
   "outputs": [],
   "source": [
    "import xarray as xr\n",
    "import numpy as np\n",
    "import matplotlib.pyplot as plt\n",
    "import datetime as dt"
   ]
  },
  {
   "cell_type": "markdown",
   "metadata": {},
   "source": [
    "# Offshore"
   ]
  },
  {
   "cell_type": "code",
   "execution_count": 4,
   "metadata": {},
   "outputs": [],
   "source": [
    "saltdiv=32\n",
    "sdiv = 33.9\n",
    "to_days = 1.15741*10**-14\n",
    "\n",
    "meander = 0\n",
    "init = 1\n",
    "North = 2\n",
    "Sshelf = 5\n",
    "Sslope = 4\n",
    "Offshore = 3\n",
    "\n",
    "tide = 24\n",
    "offcut = 595 "
   ]
  },
  {
   "cell_type": "markdown",
   "metadata": {},
   "source": [
    "## summer 2017"
   ]
  },
  {
   "cell_type": "code",
   "execution_count": 5,
   "metadata": {},
   "outputs": [],
   "source": [
    "data = xr.open_dataset('/ocean/rbeutel/MOAD/analysis-becca/Ariane/CIOPS_BC12/back_sahubdy_30sep17/ariane_positions_quantitative.nc')"
   ]
  },
  {
   "cell_type": "code",
   "execution_count": 6,
   "metadata": {},
   "outputs": [],
   "source": [
    "# init_t 3601 refers to the first hour of day 150 = 2017/04/01\n",
    "# init_t 7992 refers to the last hour of day 333 = 2017/09/30\n",
    "# the run itself starts on 7992\n",
    "\n",
    "monS = ['apr', 'may', 'jun', 'jul', 'aug', 'sep']\n",
    "mon_len = [30, 31, 30, 31, 31, 30]\n",
    "h = 3601\n",
    "sum_start = [h, h+sum(mon_len[:1])*24, h+sum(mon_len[:2])*24, h+sum(mon_len[:3])*24, h+sum(mon_len[:4])*24, h+sum(mon_len[:5])*24]\n",
    "sum_end = [h+sum(mon_len[:1])*24, h+sum(mon_len[:2])*24, h+sum(mon_len[:3])*24, h+sum(mon_len[:4])*24, h+sum(mon_len[:5])*24, h+sum(mon_len)*24-1]"
   ]
  },
  {
   "cell_type": "code",
   "execution_count": 7,
   "metadata": {},
   "outputs": [],
   "source": [
    "Soff_age = data.final_age[np.logical_or((data.final_section==Offshore),(data.final_section==Sslope)) & (data.final_x <= offcut) & (data.init_t >= sum_start[2]) & (data.init_t <= sum_end[-1])].astype('float')*to_days\n",
    "Snorth_age = data.final_age[(data.final_section==North) & (data.init_t >= sum_start[2]) & (data.init_t <= sum_end[-1])].astype('float')*to_days\n",
    "Scuc_age = data.final_age[np.logical_or((data.final_section==Sshelf),(data.final_section==Sslope)) & (data.final_x > offcut)  & (data.final_salt >= 33.9) & (data.init_t >= sum_start[2]) & (data.init_t <= sum_end[-1])].astype('float')*to_days\n",
    "Ssouth_age = data.final_age[np.logical_or((data.final_section==Sshelf),(data.final_section==Sslope)) & (data.final_x > offcut) & (data.final_salt < 33.9) & (data.final_salt >= saltdiv) & (data.init_t >= sum_start[2]) & (data.init_t <= sum_end[-1])].astype('float')*to_days\n",
    "Sfresh_age = data.final_age[np.logical_or((data.final_section==Sshelf),(data.final_section==Sslope)) & (data.final_x > offcut) & (data.final_salt < saltdiv) & (data.init_t >= sum_start[2]) & (data.init_t <= sum_end[-1])].astype('float')*to_days\n",
    "tide=24\n",
    "Sloop_age = data.final_age[(data.final_section==0) & (abs(data.init_t-data.final_t) > tide) & (data.init_t >= sum_start[2]) & (data.init_t <= sum_end[-1])].astype('float')*to_days"
   ]
  },
  {
   "cell_type": "code",
   "execution_count": 8,
   "metadata": {},
   "outputs": [],
   "source": [
    "time = -(sum_start[2]) + (sum_end[-1]) + 1\n",
    "Soff_tr = data.final_transp[np.logical_or((data.final_section==Offshore),(data.final_section==Sslope)) & (data.final_x <= offcut) & (data.init_t >= sum_start[2]) & (data.init_t <= sum_end[-1])]/time\n",
    "Snorth_tr = data.final_transp[(data.final_section==North) & (data.init_t >= sum_start[2]) & (data.init_t <= sum_end[-1])]/time\n",
    "Scuc_tr = data.final_transp[np.logical_or((data.final_section==Sshelf),(data.final_section==Sslope)) & (data.final_x > offcut)  & (data.final_salt >= 33.9) & (data.init_t >= sum_start[2]) & (data.init_t <= sum_end[-1])]/time\n",
    "Ssouth_tr = data.final_transp[np.logical_or((data.final_section==Sshelf),(data.final_section==Sslope)) & (data.final_x > offcut) & (data.final_salt < 33.9) & (data.final_salt >= saltdiv) & (data.init_t >= sum_start[2]) & (data.init_t <= sum_end[-1])]/time\n",
    "Sfresh_tr = data.final_transp[np.logical_or((data.final_section==Sshelf),(data.final_section==Sslope)) & (data.final_x > offcut) & (data.final_salt < saltdiv) & (data.init_t >= sum_start[2]) & (data.init_t <= sum_end[-1])]/time\n",
    "Sloop_tr = data.final_transp[(data.final_section==0) & (abs(data.init_t-data.final_t) > tide) & (data.init_t >= sum_start[2]) & (data.init_t <= sum_end[-1])]/time"
   ]
  },
  {
   "cell_type": "code",
   "execution_count": 10,
   "metadata": {},
   "outputs": [
    {
     "data": {
      "text/html": [
       "<div><svg style=\"position: absolute; width: 0; height: 0; overflow: hidden\">\n",
       "<defs>\n",
       "<symbol id=\"icon-database\" viewBox=\"0 0 32 32\">\n",
       "<path d=\"M16 0c-8.837 0-16 2.239-16 5v4c0 2.761 7.163 5 16 5s16-2.239 16-5v-4c0-2.761-7.163-5-16-5z\"></path>\n",
       "<path d=\"M16 17c-8.837 0-16-2.239-16-5v6c0 2.761 7.163 5 16 5s16-2.239 16-5v-6c0 2.761-7.163 5-16 5z\"></path>\n",
       "<path d=\"M16 26c-8.837 0-16-2.239-16-5v6c0 2.761 7.163 5 16 5s16-2.239 16-5v-6c0 2.761-7.163 5-16 5z\"></path>\n",
       "</symbol>\n",
       "<symbol id=\"icon-file-text2\" viewBox=\"0 0 32 32\">\n",
       "<path d=\"M28.681 7.159c-0.694-0.947-1.662-2.053-2.724-3.116s-2.169-2.030-3.116-2.724c-1.612-1.182-2.393-1.319-2.841-1.319h-15.5c-1.378 0-2.5 1.121-2.5 2.5v27c0 1.378 1.122 2.5 2.5 2.5h23c1.378 0 2.5-1.122 2.5-2.5v-19.5c0-0.448-0.137-1.23-1.319-2.841zM24.543 5.457c0.959 0.959 1.712 1.825 2.268 2.543h-4.811v-4.811c0.718 0.556 1.584 1.309 2.543 2.268zM28 29.5c0 0.271-0.229 0.5-0.5 0.5h-23c-0.271 0-0.5-0.229-0.5-0.5v-27c0-0.271 0.229-0.5 0.5-0.5 0 0 15.499-0 15.5 0v7c0 0.552 0.448 1 1 1h7v19.5z\"></path>\n",
       "<path d=\"M23 26h-14c-0.552 0-1-0.448-1-1s0.448-1 1-1h14c0.552 0 1 0.448 1 1s-0.448 1-1 1z\"></path>\n",
       "<path d=\"M23 22h-14c-0.552 0-1-0.448-1-1s0.448-1 1-1h14c0.552 0 1 0.448 1 1s-0.448 1-1 1z\"></path>\n",
       "<path d=\"M23 18h-14c-0.552 0-1-0.448-1-1s0.448-1 1-1h14c0.552 0 1 0.448 1 1s-0.448 1-1 1z\"></path>\n",
       "</symbol>\n",
       "</defs>\n",
       "</svg>\n",
       "<style>/* CSS stylesheet for displaying xarray objects in jupyterlab.\n",
       " *\n",
       " */\n",
       "\n",
       ":root {\n",
       "  --xr-font-color0: var(--jp-content-font-color0, rgba(0, 0, 0, 1));\n",
       "  --xr-font-color2: var(--jp-content-font-color2, rgba(0, 0, 0, 0.54));\n",
       "  --xr-font-color3: var(--jp-content-font-color3, rgba(0, 0, 0, 0.38));\n",
       "  --xr-border-color: var(--jp-border-color2, #e0e0e0);\n",
       "  --xr-disabled-color: var(--jp-layout-color3, #bdbdbd);\n",
       "  --xr-background-color: var(--jp-layout-color0, white);\n",
       "  --xr-background-color-row-even: var(--jp-layout-color1, white);\n",
       "  --xr-background-color-row-odd: var(--jp-layout-color2, #eeeeee);\n",
       "}\n",
       "\n",
       "html[theme=dark],\n",
       "body.vscode-dark {\n",
       "  --xr-font-color0: rgba(255, 255, 255, 1);\n",
       "  --xr-font-color2: rgba(255, 255, 255, 0.54);\n",
       "  --xr-font-color3: rgba(255, 255, 255, 0.38);\n",
       "  --xr-border-color: #1F1F1F;\n",
       "  --xr-disabled-color: #515151;\n",
       "  --xr-background-color: #111111;\n",
       "  --xr-background-color-row-even: #111111;\n",
       "  --xr-background-color-row-odd: #313131;\n",
       "}\n",
       "\n",
       ".xr-wrap {\n",
       "  display: block;\n",
       "  min-width: 300px;\n",
       "  max-width: 700px;\n",
       "}\n",
       "\n",
       ".xr-text-repr-fallback {\n",
       "  /* fallback to plain text repr when CSS is not injected (untrusted notebook) */\n",
       "  display: none;\n",
       "}\n",
       "\n",
       ".xr-header {\n",
       "  padding-top: 6px;\n",
       "  padding-bottom: 6px;\n",
       "  margin-bottom: 4px;\n",
       "  border-bottom: solid 1px var(--xr-border-color);\n",
       "}\n",
       "\n",
       ".xr-header > div,\n",
       ".xr-header > ul {\n",
       "  display: inline;\n",
       "  margin-top: 0;\n",
       "  margin-bottom: 0;\n",
       "}\n",
       "\n",
       ".xr-obj-type,\n",
       ".xr-array-name {\n",
       "  margin-left: 2px;\n",
       "  margin-right: 10px;\n",
       "}\n",
       "\n",
       ".xr-obj-type {\n",
       "  color: var(--xr-font-color2);\n",
       "}\n",
       "\n",
       ".xr-sections {\n",
       "  padding-left: 0 !important;\n",
       "  display: grid;\n",
       "  grid-template-columns: 150px auto auto 1fr 20px 20px;\n",
       "}\n",
       "\n",
       ".xr-section-item {\n",
       "  display: contents;\n",
       "}\n",
       "\n",
       ".xr-section-item input {\n",
       "  display: none;\n",
       "}\n",
       "\n",
       ".xr-section-item input + label {\n",
       "  color: var(--xr-disabled-color);\n",
       "}\n",
       "\n",
       ".xr-section-item input:enabled + label {\n",
       "  cursor: pointer;\n",
       "  color: var(--xr-font-color2);\n",
       "}\n",
       "\n",
       ".xr-section-item input:enabled + label:hover {\n",
       "  color: var(--xr-font-color0);\n",
       "}\n",
       "\n",
       ".xr-section-summary {\n",
       "  grid-column: 1;\n",
       "  color: var(--xr-font-color2);\n",
       "  font-weight: 500;\n",
       "}\n",
       "\n",
       ".xr-section-summary > span {\n",
       "  display: inline-block;\n",
       "  padding-left: 0.5em;\n",
       "}\n",
       "\n",
       ".xr-section-summary-in:disabled + label {\n",
       "  color: var(--xr-font-color2);\n",
       "}\n",
       "\n",
       ".xr-section-summary-in + label:before {\n",
       "  display: inline-block;\n",
       "  content: '►';\n",
       "  font-size: 11px;\n",
       "  width: 15px;\n",
       "  text-align: center;\n",
       "}\n",
       "\n",
       ".xr-section-summary-in:disabled + label:before {\n",
       "  color: var(--xr-disabled-color);\n",
       "}\n",
       "\n",
       ".xr-section-summary-in:checked + label:before {\n",
       "  content: '▼';\n",
       "}\n",
       "\n",
       ".xr-section-summary-in:checked + label > span {\n",
       "  display: none;\n",
       "}\n",
       "\n",
       ".xr-section-summary,\n",
       ".xr-section-inline-details {\n",
       "  padding-top: 4px;\n",
       "  padding-bottom: 4px;\n",
       "}\n",
       "\n",
       ".xr-section-inline-details {\n",
       "  grid-column: 2 / -1;\n",
       "}\n",
       "\n",
       ".xr-section-details {\n",
       "  display: none;\n",
       "  grid-column: 1 / -1;\n",
       "  margin-bottom: 5px;\n",
       "}\n",
       "\n",
       ".xr-section-summary-in:checked ~ .xr-section-details {\n",
       "  display: contents;\n",
       "}\n",
       "\n",
       ".xr-array-wrap {\n",
       "  grid-column: 1 / -1;\n",
       "  display: grid;\n",
       "  grid-template-columns: 20px auto;\n",
       "}\n",
       "\n",
       ".xr-array-wrap > label {\n",
       "  grid-column: 1;\n",
       "  vertical-align: top;\n",
       "}\n",
       "\n",
       ".xr-preview {\n",
       "  color: var(--xr-font-color3);\n",
       "}\n",
       "\n",
       ".xr-array-preview,\n",
       ".xr-array-data {\n",
       "  padding: 0 5px !important;\n",
       "  grid-column: 2;\n",
       "}\n",
       "\n",
       ".xr-array-data,\n",
       ".xr-array-in:checked ~ .xr-array-preview {\n",
       "  display: none;\n",
       "}\n",
       "\n",
       ".xr-array-in:checked ~ .xr-array-data,\n",
       ".xr-array-preview {\n",
       "  display: inline-block;\n",
       "}\n",
       "\n",
       ".xr-dim-list {\n",
       "  display: inline-block !important;\n",
       "  list-style: none;\n",
       "  padding: 0 !important;\n",
       "  margin: 0;\n",
       "}\n",
       "\n",
       ".xr-dim-list li {\n",
       "  display: inline-block;\n",
       "  padding: 0;\n",
       "  margin: 0;\n",
       "}\n",
       "\n",
       ".xr-dim-list:before {\n",
       "  content: '(';\n",
       "}\n",
       "\n",
       ".xr-dim-list:after {\n",
       "  content: ')';\n",
       "}\n",
       "\n",
       ".xr-dim-list li:not(:last-child):after {\n",
       "  content: ',';\n",
       "  padding-right: 5px;\n",
       "}\n",
       "\n",
       ".xr-has-index {\n",
       "  font-weight: bold;\n",
       "}\n",
       "\n",
       ".xr-var-list,\n",
       ".xr-var-item {\n",
       "  display: contents;\n",
       "}\n",
       "\n",
       ".xr-var-item > div,\n",
       ".xr-var-item label,\n",
       ".xr-var-item > .xr-var-name span {\n",
       "  background-color: var(--xr-background-color-row-even);\n",
       "  margin-bottom: 0;\n",
       "}\n",
       "\n",
       ".xr-var-item > .xr-var-name:hover span {\n",
       "  padding-right: 5px;\n",
       "}\n",
       "\n",
       ".xr-var-list > li:nth-child(odd) > div,\n",
       ".xr-var-list > li:nth-child(odd) > label,\n",
       ".xr-var-list > li:nth-child(odd) > .xr-var-name span {\n",
       "  background-color: var(--xr-background-color-row-odd);\n",
       "}\n",
       "\n",
       ".xr-var-name {\n",
       "  grid-column: 1;\n",
       "}\n",
       "\n",
       ".xr-var-dims {\n",
       "  grid-column: 2;\n",
       "}\n",
       "\n",
       ".xr-var-dtype {\n",
       "  grid-column: 3;\n",
       "  text-align: right;\n",
       "  color: var(--xr-font-color2);\n",
       "}\n",
       "\n",
       ".xr-var-preview {\n",
       "  grid-column: 4;\n",
       "}\n",
       "\n",
       ".xr-var-name,\n",
       ".xr-var-dims,\n",
       ".xr-var-dtype,\n",
       ".xr-preview,\n",
       ".xr-attrs dt {\n",
       "  white-space: nowrap;\n",
       "  overflow: hidden;\n",
       "  text-overflow: ellipsis;\n",
       "  padding-right: 10px;\n",
       "}\n",
       "\n",
       ".xr-var-name:hover,\n",
       ".xr-var-dims:hover,\n",
       ".xr-var-dtype:hover,\n",
       ".xr-attrs dt:hover {\n",
       "  overflow: visible;\n",
       "  width: auto;\n",
       "  z-index: 1;\n",
       "}\n",
       "\n",
       ".xr-var-attrs,\n",
       ".xr-var-data {\n",
       "  display: none;\n",
       "  background-color: var(--xr-background-color) !important;\n",
       "  padding-bottom: 5px !important;\n",
       "}\n",
       "\n",
       ".xr-var-attrs-in:checked ~ .xr-var-attrs,\n",
       ".xr-var-data-in:checked ~ .xr-var-data {\n",
       "  display: block;\n",
       "}\n",
       "\n",
       ".xr-var-data > table {\n",
       "  float: right;\n",
       "}\n",
       "\n",
       ".xr-var-name span,\n",
       ".xr-var-data,\n",
       ".xr-attrs {\n",
       "  padding-left: 25px !important;\n",
       "}\n",
       "\n",
       ".xr-attrs,\n",
       ".xr-var-attrs,\n",
       ".xr-var-data {\n",
       "  grid-column: 1 / -1;\n",
       "}\n",
       "\n",
       "dl.xr-attrs {\n",
       "  padding: 0;\n",
       "  margin: 0;\n",
       "  display: grid;\n",
       "  grid-template-columns: 125px auto;\n",
       "}\n",
       "\n",
       ".xr-attrs dt,\n",
       ".xr-attrs dd {\n",
       "  padding: 0;\n",
       "  margin: 0;\n",
       "  float: left;\n",
       "  padding-right: 10px;\n",
       "  width: auto;\n",
       "}\n",
       "\n",
       ".xr-attrs dt {\n",
       "  font-weight: normal;\n",
       "  grid-column: 1;\n",
       "}\n",
       "\n",
       ".xr-attrs dt:hover span {\n",
       "  display: inline-block;\n",
       "  background: var(--xr-background-color);\n",
       "  padding-right: 10px;\n",
       "}\n",
       "\n",
       ".xr-attrs dd {\n",
       "  grid-column: 2;\n",
       "  white-space: pre-wrap;\n",
       "  word-break: break-all;\n",
       "}\n",
       "\n",
       ".xr-icon-database,\n",
       ".xr-icon-file-text2 {\n",
       "  display: inline-block;\n",
       "  vertical-align: middle;\n",
       "  width: 1em;\n",
       "  height: 1.5em !important;\n",
       "  stroke-width: 0;\n",
       "  stroke: currentColor;\n",
       "  fill: currentColor;\n",
       "}\n",
       "</style><pre class='xr-text-repr-fallback'>&lt;xarray.DataArray &#x27;final_transp&#x27; ()&gt;\n",
       "array(102150.61965766)</pre><div class='xr-wrap' hidden><div class='xr-header'><div class='xr-obj-type'>xarray.DataArray</div><div class='xr-array-name'>'final_transp'</div></div><ul class='xr-sections'><li class='xr-section-item'><div class='xr-array-wrap'><input id='section-7956228d-4b1a-4fe5-ae51-e74fd7822c22' class='xr-array-in' type='checkbox' checked><label for='section-7956228d-4b1a-4fe5-ae51-e74fd7822c22' title='Show/hide data repr'><svg class='icon xr-icon-database'><use xlink:href='#icon-database'></use></svg></label><div class='xr-array-preview xr-preview'><span>1.022e+05</span></div><div class='xr-array-data'><pre>array(102150.61965766)</pre></div></div></li><li class='xr-section-item'><input id='section-558f8ef3-3853-48c3-9586-1ee8a6d6c856' class='xr-section-summary-in' type='checkbox' disabled ><label for='section-558f8ef3-3853-48c3-9586-1ee8a6d6c856' class='xr-section-summary'  title='Expand/collapse section'>Coordinates: <span>(0)</span></label><div class='xr-section-inline-details'></div><div class='xr-section-details'><ul class='xr-var-list'></ul></div></li><li class='xr-section-item'><input id='section-28def036-91c1-4881-8ea8-16d493035c23' class='xr-section-summary-in' type='checkbox' disabled ><label for='section-28def036-91c1-4881-8ea8-16d493035c23' class='xr-section-summary'  title='Expand/collapse section'>Attributes: <span>(0)</span></label><div class='xr-section-inline-details'></div><div class='xr-section-details'><dl class='xr-attrs'></dl></div></li></ul></div></div>"
      ],
      "text/plain": [
       "<xarray.DataArray 'final_transp' ()>\n",
       "array(102150.61965766)"
      ]
     },
     "execution_count": 10,
     "metadata": {},
     "output_type": "execute_result"
    }
   ],
   "source": [
    "# Stotal = np.sum([np.sum(Scuc_tr), np.sum(Ssouth_tr), np.sum(Sfresh_tr), np.sum(Snorth_tr), np.sum(Soff_tr), np.sum(Sloop_tr)])\n",
    "# Stotal = 1000\n",
    "Stotal = np.sum(data.final_transp[(np.isnan(data.final_section)==False) & (abs(data.init_t-data.final_t) > tide)&(data.init_t >= sum_start[2]) & (data.init_t <= sum_end[-1])]/time)\n",
    "Stotal\n"
   ]
  },
  {
   "cell_type": "code",
   "execution_count": 11,
   "metadata": {},
   "outputs": [
    {
     "data": {
      "image/png": "[encoded data removed]",
      "text/plain": [
       "<Figure size 324x324 with 1 Axes>"
      ]
     },
     "metadata": {
      "needs_background": "light"
     },
     "output_type": "display_data"
    }
   ],
   "source": [
    "fig, ax = plt.subplots(1,1, figsize = (4.5,4.5))\n",
    "\n",
    "bins = np.arange(0,300,1)\n",
    "colours = ['b', 'darkorange', 'magenta', 'mediumspringgreen', 'blueviolet', 'silver']\n",
    "\n",
    "n, _, _ = ax.hist([Scuc_age,Ssouth_age,Sfresh_age, Snorth_age, Soff_age, Sloop_age], bins=bins, weights=[Scuc_tr/Stotal, Ssouth_tr/Stotal, Sfresh_tr/Stotal, Snorth_tr/Stotal, Soff_tr/Stotal, Sloop_tr/Stotal], color = colours, label =['CUC', 'South', 'Columbia River', \"North\", \"Offshore\", 'Strait Outflow'], linewidth = 1.6, histtype='step', stacked=False, zorder=2)\n",
    "ax.hist([Scuc_age,Ssouth_age,Sfresh_age, Snorth_age, Soff_age, Sloop_age], bins=bins, weights=[Scuc_tr/Stotal, Ssouth_tr/Stotal, Sfresh_tr/Stotal, Snorth_tr/Stotal, Soff_tr/Stotal, Sloop_tr/Stotal], color = colours, histtype='stepfilled', alpha=0.3, stacked=False, zorder=1)\n",
    "ax.set_xlabel('Days',fontsize=14)\n",
    "ax.set_ylabel('Transport [$m^{3}s^{-1}$]',fontsize=14)\n",
    "# ax.set_yticks(np.arange(200,801,200))\n",
    "# ax.set_yticklabels(np.arange(200,801,200),fontsize=12)\n",
    "# ax.set_xticks(np.arange(0,201,50))\n",
    "# ax.set_xticklabels(np.arange(0,201,50),fontsize=12);\n",
    "ax.set_xlim([0,200])\n",
    "ax.set_ylim([0,0.03])\n",
    "ax.legend(fontsize=12)\n",
    "\n",
    "\n",
    "plt.tight_layout()"
   ]
  },
  {
   "cell_type": "code",
   "execution_count": 12,
   "metadata": {},
   "outputs": [
    {
     "data": {
      "image/png": "[encoded data removed]",
      "text/plain": [
       "<Figure size 324x324 with 1 Axes>"
      ]
     },
     "metadata": {
      "needs_background": "light"
     },
     "output_type": "display_data"
    }
   ],
   "source": [
    "fig, ax = plt.subplots(1,1, figsize = (4.5,4.5))\n",
    "\n",
    "bins = np.arange(0,300,1)\n",
    "colours = ['b', 'darkorange', 'magenta', 'mediumspringgreen', 'blueviolet', 'silver']\n",
    "\n",
    "n, _, _ = ax.hist([Scuc_age,Ssouth_age,Sfresh_age, Snorth_age, Soff_age, Sloop_age], bins=bins, weights=[Scuc_tr, Ssouth_tr, Sfresh_tr, Snorth_tr, Soff_tr, Sloop_tr], color = colours, label =['CUC', 'South', 'Columbia River', \"North\", \"Offshore\", 'Strait Outflow'], linewidth = 1.6, histtype='step', stacked=False, zorder=2)\n",
    "ax.hist([Scuc_age,Ssouth_age,Sfresh_age, Snorth_age, Soff_age, Sloop_age], bins=bins, weights=[Scuc_tr, Ssouth_tr, Sfresh_tr, Snorth_tr, Soff_tr, Sloop_tr], color = colours, histtype='stepfilled', alpha=0.3, stacked=False, zorder=1)\n",
    "ax.set_xlabel('Days',fontsize=14)\n",
    "ax.set_ylabel('Transport [$m^{3}s^{-1}$]',fontsize=14)\n",
    "ax.set_yticks(np.arange(200,801,200))\n",
    "ax.set_yticklabels(np.arange(200,801,200),fontsize=12)\n",
    "ax.set_xticks(np.arange(0,201,50))\n",
    "ax.set_xticklabels(np.arange(0,201,50),fontsize=12);\n",
    "ax.set_xlim([0,200])\n",
    "ax.set_ylim([0,1000])\n",
    "\n",
    "plt.tight_layout()\n",
    "# plt.savefig(\"./figures/SummerTime.pdf\")"
   ]
  },
  {
   "cell_type": "markdown",
   "metadata": {},
   "source": [
    "## winter 2016/17"
   ]
  },
  {
   "cell_type": "code",
   "execution_count": 13,
   "metadata": {},
   "outputs": [],
   "source": [
    "dataS=data\n",
    "data = xr.open_dataset('/ocean/rbeutel/MOAD/analysis-becca/Ariane/CIOPS_BC12/back_sahubdy_31mar17/ariane_positions_quantitative.nc')"
   ]
  },
  {
   "cell_type": "code",
   "execution_count": 14,
   "metadata": {},
   "outputs": [],
   "source": [
    "# init_t 3601 refers to the first hour of day 150 = 2017/04/01\n",
    "# init_t 7992 refers to the last hour of day 333 = 2017/09/30\n",
    "# the run itself starts on 7992\n",
    "\n",
    "mon16 = ['oct16', 'nov16', 'dec16', 'jan17', 'feb17', 'mar17']\n",
    "mon_len = [31, 30, 31, 31, 28, 31]\n",
    "h = 3601\n",
    "win_start = [h, h+sum(mon_len[:1])*24, h+sum(mon_len[:2])*24, h+sum(mon_len[:3])*24, h+sum(mon_len[:4])*24, h+sum(mon_len[:5])*24]\n",
    "win_end = [h+sum(mon_len[:1])*24, h+sum(mon_len[:2])*24, h+sum(mon_len[:3])*24, h+sum(mon_len[:4])*24, h+sum(mon_len[:5])*24, h+sum(mon_len)*24-1]"
   ]
  },
  {
   "cell_type": "code",
   "execution_count": 15,
   "metadata": {},
   "outputs": [],
   "source": [
    "W16off_age = np.append([data.final_age[np.logical_or((data.final_section==Offshore),(data.final_section==Sslope)) & (data.final_x <= offcut) & (data.init_t >= win_start[0]) & (data.init_t <= win_end[-1])]],\n",
    "                     [dataS.final_age[np.logical_or((dataS.final_section==Offshore),(dataS.final_section==Sslope)) & (dataS.final_x <= offcut) & (dataS.init_t >= sum_start[0]) & (dataS.init_t <= sum_end[1])]]).astype('float')*to_days\n",
    "\n",
    "W16north_age = np.append([data.final_age[(data.final_section==North) & (data.init_t >= win_start[0]) & (data.init_t <= win_end[-1])]],\n",
    "                       [dataS.final_age[(dataS.final_section==North) & (dataS.init_t >= sum_start[0]) & (dataS.init_t <= sum_end[1])]]).astype('float')*to_days\n",
    "\n",
    "W16cuc_age = np.append([data.final_age[np.logical_or((data.final_section==Sshelf),(data.final_section==Sslope)) & (data.final_x > offcut)& (data.final_salt >= sdiv) & (data.init_t >= win_start[0]) & (data.init_t <= win_end[-1])]],\n",
    "                    [dataS.final_age[np.logical_or((dataS.final_section==Sshelf),(dataS.final_section==Sslope)) & (dataS.final_x > offcut) & (dataS.final_salt >= sdiv) & (dataS.init_t >= sum_start[0]) & (dataS.init_t <= sum_end[1])]]).astype('float')*to_days\n",
    "\n",
    "W16south_age = np.append([data.final_age[np.logical_or((data.final_section==Sshelf),(data.final_section==Sslope)) & (data.final_x > offcut) & (data.final_salt >= saltdiv) & (data.final_salt < sdiv) & (data.init_t >= win_start[0]) & (data.init_t <= win_end[-1])]],\n",
    "                       [dataS.final_age[np.logical_or((dataS.final_section==Sshelf),(dataS.final_section==Sslope)) & (dataS.final_x > offcut) & (dataS.final_salt >= saltdiv) & (dataS.final_salt < sdiv)  & (dataS.init_t >= sum_start[0]) & (dataS.init_t <= sum_end[1])]]).astype('float')*to_days\n",
    "\n",
    "W16fresh_age = np.append([data.final_age[np.logical_or((data.final_section==Sshelf),(data.final_section==Sslope)) & (data.final_x > offcut) & (data.final_salt < saltdiv) & (data.init_t >= win_start[0]) & (data.init_t <= win_end[-1])]],\n",
    "                       [dataS.final_age[np.logical_or((dataS.final_section==Sshelf),(dataS.final_section==Sslope)) & (dataS.final_x > offcut) & (dataS.final_salt < saltdiv)  & (dataS.init_t >= sum_start[0]) & (dataS.init_t <= sum_end[1])]]).astype('float')*to_days\n",
    "\n",
    "tide=24\n",
    "W16loop_age = np.append([data.final_age[(data.final_section==0) & (abs(data.init_t-data.final_t) > tide) & (data.init_t >= win_start[0]) & (data.init_t <= win_end[-1])]],\n",
    "                      [dataS.final_age[(dataS.final_section==0) & (abs(dataS.init_t-dataS.final_t) > tide) & (dataS.init_t >= sum_start[0]) & (dataS.init_t <= sum_end[1])]]).astype('float')*to_days"
   ]
  },
  {
   "cell_type": "code",
   "execution_count": 16,
   "metadata": {},
   "outputs": [],
   "source": [
    "time = win_end[-1]-win_start[0]+sum_end[1]-sum_start[0]+2\n",
    "W16off_tr = np.append([data.final_transp[np.logical_or((data.final_section==Offshore),(data.final_section==Sslope)) & (data.final_x <= offcut) & (data.init_t >= win_start[0]) & (data.init_t <= win_end[-1])]],\n",
    "                     [dataS.final_transp[np.logical_or((dataS.final_section==Offshore),(dataS.final_section==Sslope)) & (dataS.final_x <= offcut) & (dataS.init_t >= sum_start[0]) & (dataS.init_t <= sum_end[1])]])/time\n",
    "\n",
    "W16north_tr = np.append([data.final_transp[(data.final_section==North) & (data.init_t >= win_start[0]) & (data.init_t <= win_end[-1])]],\n",
    "                       [dataS.final_transp[(dataS.final_section==North) & (dataS.init_t >= sum_start[0]) & (dataS.init_t <= sum_end[1])]])/time\n",
    "\n",
    "W16cuc_tr = np.append([data.final_transp[np.logical_or((data.final_section==Sshelf),(data.final_section==Sslope)) & (data.final_x > offcut)& (data.final_salt >= sdiv) & (data.init_t >= win_start[0]) & (data.init_t <= win_end[-1])]],\n",
    "                    [dataS.final_transp[np.logical_or((dataS.final_section==Sshelf),(dataS.final_section==Sslope)) & (dataS.final_x > offcut) & (dataS.final_salt >= sdiv) & (dataS.init_t >= sum_start[0]) & (dataS.init_t <= sum_end[1])]])/time\n",
    "\n",
    "W16south_tr = np.append([data.final_transp[np.logical_or((data.final_section==Sshelf),(data.final_section==Sslope)) & (data.final_x > offcut) & (data.final_salt >= saltdiv)& (data.final_salt < sdiv) & (data.init_t >= win_start[0]) & (data.init_t <= win_end[-1])]],\n",
    "                       [dataS.final_transp[np.logical_or((dataS.final_section==Sshelf),(dataS.final_section==Sslope)) & (dataS.final_x > offcut) & (dataS.final_salt >= saltdiv) & (dataS.final_salt < sdiv) & (dataS.init_t >= sum_start[0]) & (dataS.init_t <= sum_end[1])]])/time\n",
    "\n",
    "W16fresh_tr = np.append([data.final_transp[np.logical_or((data.final_section==Sshelf),(data.final_section==Sslope)) & (data.final_x > offcut) & (data.final_salt < saltdiv) & (data.init_t >= win_start[0]) & (data.init_t <= win_end[-1])]],\n",
    "                       [dataS.final_transp[np.logical_or((dataS.final_section==Sshelf),(dataS.final_section==Sslope)) & (dataS.final_x > offcut) & (dataS.final_salt < saltdiv)  & (dataS.init_t >= sum_start[0]) & (dataS.init_t <= sum_end[1])]])/time\n",
    "\n",
    "W16loop_tr = np.append([data.final_transp[(data.final_section==0) & (abs(data.init_t-data.final_t) > tide) & (data.init_t >= win_start[0]) & (data.init_t <= win_end[-1])]],\n",
    "                      [dataS.final_transp[(dataS.final_section==0) & (abs(dataS.init_t-dataS.final_t) > tide) & (dataS.init_t >= sum_start[0]) & (dataS.init_t <= sum_end[1])]])/time"
   ]
  },
  {
   "cell_type": "code",
   "execution_count": 17,
   "metadata": {},
   "outputs": [
    {
     "data": {
      "text/plain": [
       "88004.76576653152"
      ]
     },
     "execution_count": 17,
     "metadata": {},
     "output_type": "execute_result"
    }
   ],
   "source": [
    "# W16total = np.sum([np.sum(W16cuc_tr), np.sum(W16south_tr), np.sum(W16fresh_tr), np.sum(W16north_tr), np.sum(W16off_tr), np.sum(W16loop_tr)])\n",
    "\n",
    "W16total= np.sum(np.append([data.final_transp[(np.isnan(data.final_section)==False) & (abs(data.init_t-data.final_t) > tide) & (data.init_t >= win_start[0]) & (data.init_t <= win_end[-1])]],\n",
    "                       [dataS.final_transp[(np.isnan(dataS.final_section)==False) & (abs(dataS.init_t-dataS.final_t) > tide) & (dataS.init_t >= sum_start[0]) & (dataS.init_t <= sum_end[1])]])/time)\n",
    "W16total"
   ]
  },
  {
   "cell_type": "code",
   "execution_count": 18,
   "metadata": {},
   "outputs": [
    {
     "data": {
      "image/png": "[encoded data removed]",
      "text/plain": [
       "<Figure size 324x324 with 1 Axes>"
      ]
     },
     "metadata": {
      "needs_background": "light"
     },
     "output_type": "display_data"
    }
   ],
   "source": [
    "fig, ax = plt.subplots(1,1, figsize = (4.5,4.5))\n",
    "\n",
    "bins = np.arange(0,150,1)\n",
    "colours = ['b', 'darkorange', 'magenta', 'mediumspringgreen', 'blueviolet', 'silver']\n",
    "\n",
    "n, _, _ = ax.hist([W16cuc_age,W16south_age,W16fresh_age, W16north_age, W16off_age, W16loop_age], bins=bins, weights=[W16cuc_tr/W16total, W16south_tr/W16total, W16fresh_tr/W16total, W16north_tr/W16total, W16off_tr/W16total, W16loop_tr/W16total], color = colours, label =['South Deep', 'South Shelf', 'Columbia River', \"North\", \"Offshore\", \"Strait Outflow\"], linewidth = 1.6, histtype='step', stacked=False, zorder=2)\n",
    "ax.hist([W16cuc_age,W16south_age,W16fresh_age, W16north_age, W16off_age, W16loop_age], bins=bins, weights=[W16cuc_tr/W16total, W16south_tr/W16total, W16fresh_tr/W16total, W16north_tr/W16total, W16off_tr/W16total, W16loop_tr/W16total], color = colours, histtype='stepfilled', alpha=0.3, stacked=False, zorder=1)\n",
    "# ax.legend(fontsize=12)\n",
    "ax.set_xlabel('Days',fontsize=14)\n",
    "ax.set_ylabel('Transport [$m^{3}s^{-1}$]',fontsize=14)\n",
    "# ax.set_yticks(np.arange(200,1401,400))\n",
    "# ax.set_yticklabels(np.arange(200,1401,400),fontsize=12)\n",
    "# ax.set_xticks(np.arange(0,201,50))\n",
    "# ax.set_xticklabels(np.arange(0,201,50),fontsize=12);\n",
    "ax.set_xlim([0,200])\n",
    "ax.set_ylim([0,0.03])\n",
    "\n",
    "plt.tight_layout()"
   ]
  },
  {
   "cell_type": "code",
   "execution_count": 19,
   "metadata": {},
   "outputs": [
    {
     "data": {
      "image/png": "[encoded data removed]",
      "text/plain": [
       "<Figure size 324x324 with 1 Axes>"
      ]
     },
     "metadata": {
      "needs_background": "light"
     },
     "output_type": "display_data"
    }
   ],
   "source": [
    "fig, ax = plt.subplots(1,1, figsize = (4.5,4.5))\n",
    "\n",
    "bins = np.arange(0,150,1)\n",
    "colours = ['b', 'darkorange', 'magenta', 'mediumspringgreen', 'blueviolet', 'silver']\n",
    "\n",
    "n, _, _ = ax.hist([W16cuc_age,W16south_age,W16fresh_age, W16north_age, W16off_age, W16loop_age], bins=bins, weights=[W16cuc_tr, W16south_tr, W16fresh_tr, W16north_tr, W16off_tr, W16loop_tr], color = colours, label =['South Deep', 'South Shelf', 'Columbia River', \"North\", \"Offshore\", \"Strait Outflow\"], linewidth = 1.6, histtype='step', stacked=False, zorder=2)\n",
    "ax.hist([W16cuc_age,W16south_age,W16fresh_age, W16north_age, W16off_age, W16loop_age], bins=bins, weights=[W16cuc_tr, W16south_tr, W16fresh_tr, W16north_tr, W16off_tr, W16loop_tr], color = colours, histtype='stepfilled', alpha=0.3, stacked=False, zorder=1)\n",
    "ax.legend(fontsize=12)\n",
    "ax.set_xlabel('Days',fontsize=14)\n",
    "ax.set_ylabel('Transport [$m^{3}s^{-1}$]',fontsize=14)\n",
    "ax.set_yticks(np.arange(200,1401,400))\n",
    "ax.set_yticklabels(np.arange(200,1401,400),fontsize=12)\n",
    "ax.set_xticks(np.arange(0,201,50))\n",
    "ax.set_xticklabels(np.arange(0,201,50),fontsize=12);\n",
    "ax.set_xlim([0,200])\n",
    "ax.set_ylim([0,1400])\n",
    "\n",
    "plt.tight_layout()\n",
    "# plt.savefig(\"./figures/W16Time.pdf\")"
   ]
  },
  {
   "cell_type": "markdown",
   "metadata": {},
   "source": [
    "## winter 2017/18"
   ]
  },
  {
   "cell_type": "code",
   "execution_count": 20,
   "metadata": {},
   "outputs": [],
   "source": [
    "data = xr.open_dataset('/ocean/rbeutel/MOAD/analysis-becca/Ariane/CIOPS_BC12/back_sahubdy_31mar18/ariane_positions_quantitative.nc')"
   ]
  },
  {
   "cell_type": "code",
   "execution_count": 21,
   "metadata": {},
   "outputs": [],
   "source": [
    "# init_t 3601 refers to the first hour of day 150 = 2017/04/01\n",
    "# init_t 7992 refers to the last hour of day 333 = 2017/09/30\n",
    "# the run itself starts on 7992\n",
    "\n",
    "mon17 = ['oct17', 'nov17', 'dec17', 'jan18', 'feb18', 'mar18']\n",
    "mon_len = [31, 30, 31, 31, 28, 31]\n",
    "h = 3601\n",
    "win_start = [h, h+sum(mon_len[:1])*24, h+sum(mon_len[:2])*24, h+sum(mon_len[:3])*24, h+sum(mon_len[:4])*24, h+sum(mon_len[:5])*24]\n",
    "win_end = [h+sum(mon_len[:1])*24, h+sum(mon_len[:2])*24, h+sum(mon_len[:3])*24, h+sum(mon_len[:4])*24, h+sum(mon_len[:5])*24, h+sum(mon_len)*24-1]"
   ]
  },
  {
   "cell_type": "code",
   "execution_count": 22,
   "metadata": {},
   "outputs": [],
   "source": [
    "W17off_age = data.final_age[np.logical_or((data.final_section==Offshore),(data.final_section==Sslope)) & (data.final_x <= offcut) & (data.init_t >= win_start[0]) & (data.init_t <= win_end[-1])].astype('float')*to_days\n",
    "W17north_age = data.final_age[(data.final_section==North) & (data.init_t >= win_start[0]) & (data.init_t <= win_end[-1])].astype('float')*to_days\n",
    "W17cuc_age = data.final_age[np.logical_or((data.final_section==Sshelf),(data.final_section==Sslope)) & (data.final_x > offcut)  & (data.final_salt >= sdiv) & (data.init_t >= win_start[0]) & (data.init_t <= win_end[-1])].astype('float')*to_days\n",
    "W17south_age = data.final_age[np.logical_or((data.final_section==Sshelf),(data.final_section==Sslope)) & (data.final_x > offcut) & (data.final_salt < sdiv) & (data.final_salt >= saltdiv) & (data.init_t >= win_start[0]) & (data.init_t <= win_end[-1])].astype('float')*to_days\n",
    "W17fresh_age = data.final_age[np.logical_or((data.final_section==Sshelf),(data.final_section==Sslope)) & (data.final_x > offcut) & (data.final_salt < saltdiv) & (data.init_t >= win_start[0]) & (data.init_t <= win_end[-1])].astype('float')*to_days\n",
    "W17loop_age = data.final_age[(data.final_section==0) & (abs(data.init_t-data.final_t) > tide) & (data.init_t >= win_start[0]) & (data.init_t <= win_end[-1])].astype('float')*to_days"
   ]
  },
  {
   "cell_type": "code",
   "execution_count": 40,
   "metadata": {},
   "outputs": [],
   "source": [
    "time = -(win_start[0]) + (win_end[-1]) + 1\n",
    "W17off_tr = data.final_transp[np.logical_or((data.final_section==Offshore),(data.final_section==Sslope)) & (data.final_x <= offcut) & (data.init_t >= win_start[0]) & (data.init_t <= win_end[-1])]/time\n",
    "W17north_tr = data.final_transp[(data.final_section==North) & (data.init_t >= win_start[0]) & (data.init_t <= win_end[-1])]/time\n",
    "W17cuc_tr = data.final_transp[np.logical_or((data.final_section==Sshelf),(data.final_section==Sslope)) & (data.final_x > offcut) & (data.final_salt >= sdiv) & (data.init_t >= win_start[0]) & (data.init_t <= win_end[-1])]/time\n",
    "W17south_tr = data.final_transp[np.logical_or((data.final_section==Sshelf),(data.final_section==Sslope)) & (data.final_x > offcut) & (data.final_salt < sdiv) & (data.final_salt >= saltdiv) & (data.init_t >= win_start[0]) & (data.init_t <= win_end[-1])]/time\n",
    "W17fresh_tr = data.final_transp[np.logical_or((data.final_section==Sshelf),(data.final_section==Sslope)) & (data.final_x > offcut) & (data.final_salt < saltdiv) & (data.init_t >= win_start[0]) & (data.init_t <= win_end[-1])]/time\n",
    "W17loop_tr = data.final_transp[(data.final_section==0) & (abs(data.init_t-data.final_t) > tide) & (data.init_t >= win_start[0]) & (data.init_t <= win_end[-1])]/time"
   ]
  },
  {
   "cell_type": "code",
   "execution_count": 41,
   "metadata": {},
   "outputs": [
    {
     "data": {
      "text/html": [
       "<div><svg style=\"position: absolute; width: 0; height: 0; overflow: hidden\">\n",
       "<defs>\n",
       "<symbol id=\"icon-database\" viewBox=\"0 0 32 32\">\n",
       "<path d=\"M16 0c-8.837 0-16 2.239-16 5v4c0 2.761 7.163 5 16 5s16-2.239 16-5v-4c0-2.761-7.163-5-16-5z\"></path>\n",
       "<path d=\"M16 17c-8.837 0-16-2.239-16-5v6c0 2.761 7.163 5 16 5s16-2.239 16-5v-6c0 2.761-7.163 5-16 5z\"></path>\n",
       "<path d=\"M16 26c-8.837 0-16-2.239-16-5v6c0 2.761 7.163 5 16 5s16-2.239 16-5v-6c0 2.761-7.163 5-16 5z\"></path>\n",
       "</symbol>\n",
       "<symbol id=\"icon-file-text2\" viewBox=\"0 0 32 32\">\n",
       "<path d=\"M28.681 7.159c-0.694-0.947-1.662-2.053-2.724-3.116s-2.169-2.030-3.116-2.724c-1.612-1.182-2.393-1.319-2.841-1.319h-15.5c-1.378 0-2.5 1.121-2.5 2.5v27c0 1.378 1.122 2.5 2.5 2.5h23c1.378 0 2.5-1.122 2.5-2.5v-19.5c0-0.448-0.137-1.23-1.319-2.841zM24.543 5.457c0.959 0.959 1.712 1.825 2.268 2.543h-4.811v-4.811c0.718 0.556 1.584 1.309 2.543 2.268zM28 29.5c0 0.271-0.229 0.5-0.5 0.5h-23c-0.271 0-0.5-0.229-0.5-0.5v-27c0-0.271 0.229-0.5 0.5-0.5 0 0 15.499-0 15.5 0v7c0 0.552 0.448 1 1 1h7v19.5z\"></path>\n",
       "<path d=\"M23 26h-14c-0.552 0-1-0.448-1-1s0.448-1 1-1h14c0.552 0 1 0.448 1 1s-0.448 1-1 1z\"></path>\n",
       "<path d=\"M23 22h-14c-0.552 0-1-0.448-1-1s0.448-1 1-1h14c0.552 0 1 0.448 1 1s-0.448 1-1 1z\"></path>\n",
       "<path d=\"M23 18h-14c-0.552 0-1-0.448-1-1s0.448-1 1-1h14c0.552 0 1 0.448 1 1s-0.448 1-1 1z\"></path>\n",
       "</symbol>\n",
       "</defs>\n",
       "</svg>\n",
       "<style>/* CSS stylesheet for displaying xarray objects in jupyterlab.\n",
       " *\n",
       " */\n",
       "\n",
       ":root {\n",
       "  --xr-font-color0: var(--jp-content-font-color0, rgba(0, 0, 0, 1));\n",
       "  --xr-font-color2: var(--jp-content-font-color2, rgba(0, 0, 0, 0.54));\n",
       "  --xr-font-color3: var(--jp-content-font-color3, rgba(0, 0, 0, 0.38));\n",
       "  --xr-border-color: var(--jp-border-color2, #e0e0e0);\n",
       "  --xr-disabled-color: var(--jp-layout-color3, #bdbdbd);\n",
       "  --xr-background-color: var(--jp-layout-color0, white);\n",
       "  --xr-background-color-row-even: var(--jp-layout-color1, white);\n",
       "  --xr-background-color-row-odd: var(--jp-layout-color2, #eeeeee);\n",
       "}\n",
       "\n",
       "html[theme=dark],\n",
       "body.vscode-dark {\n",
       "  --xr-font-color0: rgba(255, 255, 255, 1);\n",
       "  --xr-font-color2: rgba(255, 255, 255, 0.54);\n",
       "  --xr-font-color3: rgba(255, 255, 255, 0.38);\n",
       "  --xr-border-color: #1F1F1F;\n",
       "  --xr-disabled-color: #515151;\n",
       "  --xr-background-color: #111111;\n",
       "  --xr-background-color-row-even: #111111;\n",
       "  --xr-background-color-row-odd: #313131;\n",
       "}\n",
       "\n",
       ".xr-wrap {\n",
       "  display: block;\n",
       "  min-width: 300px;\n",
       "  max-width: 700px;\n",
       "}\n",
       "\n",
       ".xr-text-repr-fallback {\n",
       "  /* fallback to plain text repr when CSS is not injected (untrusted notebook) */\n",
       "  display: none;\n",
       "}\n",
       "\n",
       ".xr-header {\n",
       "  padding-top: 6px;\n",
       "  padding-bottom: 6px;\n",
       "  margin-bottom: 4px;\n",
       "  border-bottom: solid 1px var(--xr-border-color);\n",
       "}\n",
       "\n",
       ".xr-header > div,\n",
       ".xr-header > ul {\n",
       "  display: inline;\n",
       "  margin-top: 0;\n",
       "  margin-bottom: 0;\n",
       "}\n",
       "\n",
       ".xr-obj-type,\n",
       ".xr-array-name {\n",
       "  margin-left: 2px;\n",
       "  margin-right: 10px;\n",
       "}\n",
       "\n",
       ".xr-obj-type {\n",
       "  color: var(--xr-font-color2);\n",
       "}\n",
       "\n",
       ".xr-sections {\n",
       "  padding-left: 0 !important;\n",
       "  display: grid;\n",
       "  grid-template-columns: 150px auto auto 1fr 20px 20px;\n",
       "}\n",
       "\n",
       ".xr-section-item {\n",
       "  display: contents;\n",
       "}\n",
       "\n",
       ".xr-section-item input {\n",
       "  display: none;\n",
       "}\n",
       "\n",
       ".xr-section-item input + label {\n",
       "  color: var(--xr-disabled-color);\n",
       "}\n",
       "\n",
       ".xr-section-item input:enabled + label {\n",
       "  cursor: pointer;\n",
       "  color: var(--xr-font-color2);\n",
       "}\n",
       "\n",
       ".xr-section-item input:enabled + label:hover {\n",
       "  color: var(--xr-font-color0);\n",
       "}\n",
       "\n",
       ".xr-section-summary {\n",
       "  grid-column: 1;\n",
       "  color: var(--xr-font-color2);\n",
       "  font-weight: 500;\n",
       "}\n",
       "\n",
       ".xr-section-summary > span {\n",
       "  display: inline-block;\n",
       "  padding-left: 0.5em;\n",
       "}\n",
       "\n",
       ".xr-section-summary-in:disabled + label {\n",
       "  color: var(--xr-font-color2);\n",
       "}\n",
       "\n",
       ".xr-section-summary-in + label:before {\n",
       "  display: inline-block;\n",
       "  content: '►';\n",
       "  font-size: 11px;\n",
       "  width: 15px;\n",
       "  text-align: center;\n",
       "}\n",
       "\n",
       ".xr-section-summary-in:disabled + label:before {\n",
       "  color: var(--xr-disabled-color);\n",
       "}\n",
       "\n",
       ".xr-section-summary-in:checked + label:before {\n",
       "  content: '▼';\n",
       "}\n",
       "\n",
       ".xr-section-summary-in:checked + label > span {\n",
       "  display: none;\n",
       "}\n",
       "\n",
       ".xr-section-summary,\n",
       ".xr-section-inline-details {\n",
       "  padding-top: 4px;\n",
       "  padding-bottom: 4px;\n",
       "}\n",
       "\n",
       ".xr-section-inline-details {\n",
       "  grid-column: 2 / -1;\n",
       "}\n",
       "\n",
       ".xr-section-details {\n",
       "  display: none;\n",
       "  grid-column: 1 / -1;\n",
       "  margin-bottom: 5px;\n",
       "}\n",
       "\n",
       ".xr-section-summary-in:checked ~ .xr-section-details {\n",
       "  display: contents;\n",
       "}\n",
       "\n",
       ".xr-array-wrap {\n",
       "  grid-column: 1 / -1;\n",
       "  display: grid;\n",
       "  grid-template-columns: 20px auto;\n",
       "}\n",
       "\n",
       ".xr-array-wrap > label {\n",
       "  grid-column: 1;\n",
       "  vertical-align: top;\n",
       "}\n",
       "\n",
       ".xr-preview {\n",
       "  color: var(--xr-font-color3);\n",
       "}\n",
       "\n",
       ".xr-array-preview,\n",
       ".xr-array-data {\n",
       "  padding: 0 5px !important;\n",
       "  grid-column: 2;\n",
       "}\n",
       "\n",
       ".xr-array-data,\n",
       ".xr-array-in:checked ~ .xr-array-preview {\n",
       "  display: none;\n",
       "}\n",
       "\n",
       ".xr-array-in:checked ~ .xr-array-data,\n",
       ".xr-array-preview {\n",
       "  display: inline-block;\n",
       "}\n",
       "\n",
       ".xr-dim-list {\n",
       "  display: inline-block !important;\n",
       "  list-style: none;\n",
       "  padding: 0 !important;\n",
       "  margin: 0;\n",
       "}\n",
       "\n",
       ".xr-dim-list li {\n",
       "  display: inline-block;\n",
       "  padding: 0;\n",
       "  margin: 0;\n",
       "}\n",
       "\n",
       ".xr-dim-list:before {\n",
       "  content: '(';\n",
       "}\n",
       "\n",
       ".xr-dim-list:after {\n",
       "  content: ')';\n",
       "}\n",
       "\n",
       ".xr-dim-list li:not(:last-child):after {\n",
       "  content: ',';\n",
       "  padding-right: 5px;\n",
       "}\n",
       "\n",
       ".xr-has-index {\n",
       "  font-weight: bold;\n",
       "}\n",
       "\n",
       ".xr-var-list,\n",
       ".xr-var-item {\n",
       "  display: contents;\n",
       "}\n",
       "\n",
       ".xr-var-item > div,\n",
       ".xr-var-item label,\n",
       ".xr-var-item > .xr-var-name span {\n",
       "  background-color: var(--xr-background-color-row-even);\n",
       "  margin-bottom: 0;\n",
       "}\n",
       "\n",
       ".xr-var-item > .xr-var-name:hover span {\n",
       "  padding-right: 5px;\n",
       "}\n",
       "\n",
       ".xr-var-list > li:nth-child(odd) > div,\n",
       ".xr-var-list > li:nth-child(odd) > label,\n",
       ".xr-var-list > li:nth-child(odd) > .xr-var-name span {\n",
       "  background-color: var(--xr-background-color-row-odd);\n",
       "}\n",
       "\n",
       ".xr-var-name {\n",
       "  grid-column: 1;\n",
       "}\n",
       "\n",
       ".xr-var-dims {\n",
       "  grid-column: 2;\n",
       "}\n",
       "\n",
       ".xr-var-dtype {\n",
       "  grid-column: 3;\n",
       "  text-align: right;\n",
       "  color: var(--xr-font-color2);\n",
       "}\n",
       "\n",
       ".xr-var-preview {\n",
       "  grid-column: 4;\n",
       "}\n",
       "\n",
       ".xr-var-name,\n",
       ".xr-var-dims,\n",
       ".xr-var-dtype,\n",
       ".xr-preview,\n",
       ".xr-attrs dt {\n",
       "  white-space: nowrap;\n",
       "  overflow: hidden;\n",
       "  text-overflow: ellipsis;\n",
       "  padding-right: 10px;\n",
       "}\n",
       "\n",
       ".xr-var-name:hover,\n",
       ".xr-var-dims:hover,\n",
       ".xr-var-dtype:hover,\n",
       ".xr-attrs dt:hover {\n",
       "  overflow: visible;\n",
       "  width: auto;\n",
       "  z-index: 1;\n",
       "}\n",
       "\n",
       ".xr-var-attrs,\n",
       ".xr-var-data {\n",
       "  display: none;\n",
       "  background-color: var(--xr-background-color) !important;\n",
       "  padding-bottom: 5px !important;\n",
       "}\n",
       "\n",
       ".xr-var-attrs-in:checked ~ .xr-var-attrs,\n",
       ".xr-var-data-in:checked ~ .xr-var-data {\n",
       "  display: block;\n",
       "}\n",
       "\n",
       ".xr-var-data > table {\n",
       "  float: right;\n",
       "}\n",
       "\n",
       ".xr-var-name span,\n",
       ".xr-var-data,\n",
       ".xr-attrs {\n",
       "  padding-left: 25px !important;\n",
       "}\n",
       "\n",
       ".xr-attrs,\n",
       ".xr-var-attrs,\n",
       ".xr-var-data {\n",
       "  grid-column: 1 / -1;\n",
       "}\n",
       "\n",
       "dl.xr-attrs {\n",
       "  padding: 0;\n",
       "  margin: 0;\n",
       "  display: grid;\n",
       "  grid-template-columns: 125px auto;\n",
       "}\n",
       "\n",
       ".xr-attrs dt,\n",
       ".xr-attrs dd {\n",
       "  padding: 0;\n",
       "  margin: 0;\n",
       "  float: left;\n",
       "  padding-right: 10px;\n",
       "  width: auto;\n",
       "}\n",
       "\n",
       ".xr-attrs dt {\n",
       "  font-weight: normal;\n",
       "  grid-column: 1;\n",
       "}\n",
       "\n",
       ".xr-attrs dt:hover span {\n",
       "  display: inline-block;\n",
       "  background: var(--xr-background-color);\n",
       "  padding-right: 10px;\n",
       "}\n",
       "\n",
       ".xr-attrs dd {\n",
       "  grid-column: 2;\n",
       "  white-space: pre-wrap;\n",
       "  word-break: break-all;\n",
       "}\n",
       "\n",
       ".xr-icon-database,\n",
       ".xr-icon-file-text2 {\n",
       "  display: inline-block;\n",
       "  vertical-align: middle;\n",
       "  width: 1em;\n",
       "  height: 1.5em !important;\n",
       "  stroke-width: 0;\n",
       "  stroke: currentColor;\n",
       "  fill: currentColor;\n",
       "}\n",
       "</style><pre class='xr-text-repr-fallback'>&lt;xarray.DataArray &#x27;final_transp&#x27; ()&gt;\n",
       "array(88149.74786478)</pre><div class='xr-wrap' hidden><div class='xr-header'><div class='xr-obj-type'>xarray.DataArray</div><div class='xr-array-name'>'final_transp'</div></div><ul class='xr-sections'><li class='xr-section-item'><div class='xr-array-wrap'><input id='section-e6b6a3a9-d985-4497-885d-e566ab44fde5' class='xr-array-in' type='checkbox' checked><label for='section-e6b6a3a9-d985-4497-885d-e566ab44fde5' title='Show/hide data repr'><svg class='icon xr-icon-database'><use xlink:href='#icon-database'></use></svg></label><div class='xr-array-preview xr-preview'><span>8.815e+04</span></div><div class='xr-array-data'><pre>array(88149.74786478)</pre></div></div></li><li class='xr-section-item'><input id='section-e0fc6550-f67d-421e-9967-640d26944eb1' class='xr-section-summary-in' type='checkbox' disabled ><label for='section-e0fc6550-f67d-421e-9967-640d26944eb1' class='xr-section-summary'  title='Expand/collapse section'>Coordinates: <span>(0)</span></label><div class='xr-section-inline-details'></div><div class='xr-section-details'><ul class='xr-var-list'></ul></div></li><li class='xr-section-item'><input id='section-9f7cd2de-1997-4bc4-ad2e-55a029bdfdea' class='xr-section-summary-in' type='checkbox' disabled ><label for='section-9f7cd2de-1997-4bc4-ad2e-55a029bdfdea' class='xr-section-summary'  title='Expand/collapse section'>Attributes: <span>(0)</span></label><div class='xr-section-inline-details'></div><div class='xr-section-details'><dl class='xr-attrs'></dl></div></li></ul></div></div>"
      ],
      "text/plain": [
       "<xarray.DataArray 'final_transp' ()>\n",
       "array(88149.74786478)"
      ]
     },
     "execution_count": 41,
     "metadata": {},
     "output_type": "execute_result"
    }
   ],
   "source": [
    "W17total = np.sum(data.final_transp[(np.isnan(data.final_section)==False) & (abs(data.init_t-data.final_t) > tide)&(data.init_t >= win_start[0]) & (data.init_t <= win_end[-1])]/time)\n",
    "W17total\n"
   ]
  },
  {
   "cell_type": "code",
   "execution_count": 43,
   "metadata": {},
   "outputs": [
    {
     "data": {
      "image/png": "[encoded data removed]",
      "text/plain": [
       "<Figure size 324x324 with 1 Axes>"
      ]
     },
     "metadata": {
      "needs_background": "light"
     },
     "output_type": "display_data"
    }
   ],
   "source": [
    "fig, ax = plt.subplots(1,1, figsize = (4.5,4.5))\n",
    "\n",
    "bins = np.arange(0,150,1)\n",
    "colours = ['b', 'darkorange', 'magenta', 'mediumspringgreen', 'blueviolet', 'silver']\n",
    "\n",
    "n, _, _ = ax.hist([W17cuc_age,W17south_age,W17fresh_age, W17north_age, W17off_age, W17loop_age], bins=bins, weights=[W17cuc_tr/W17total, W17south_tr/W17total, W17fresh_tr/W17total, W17north_tr/W17total, W17off_tr/W17total, W17loop_tr/W17total], color = colours, label =['South Deep', 'South Shelf', 'Columbia River', \"North\", \"Offshore\", \"Strait Outflow\"], linewidth = 1.6, histtype='step', stacked=False, zorder=2)\n",
    "ax.hist([W17cuc_age,W17south_age,W17fresh_age, W17north_age, W17off_age, W17loop_age], bins=bins, weights=[W17cuc_tr/W17total, W17south_tr/W17total, W17fresh_tr/W17total, W17north_tr/W17total, W17off_tr/W17total, W17loop_tr/W17total], color = colours, histtype='stepfilled', alpha=0.3, stacked=False, zorder=1)\n",
    "# ax.legend(fontsize=12)\n",
    "ax.set_xlabel('Days',fontsize=14)\n",
    "ax.set_ylabel('Transport [$m^{3}s^{-1}$]',fontsize=14)\n",
    "# ax.set_yticks(np.arange(200,1401,400))\n",
    "# ax.set_yticklabels(np.arange(200,1401,400),fontsize=12)\n",
    "# ax.set_xticks(np.arange(0,201,50))\n",
    "# ax.set_xticklabels(np.arange(0,201,50),fontsize=12);\n",
    "ax.set_xlim([0,200])\n",
    "ax.set_ylim([0,0.03])\n",
    "\n",
    "plt.tight_layout()"
   ]
  },
  {
   "cell_type": "code",
   "execution_count": 44,
   "metadata": {},
   "outputs": [
    {
     "data": {
      "image/png": "[encoded data removed]",
      "text/plain": [
       "<Figure size 324x324 with 1 Axes>"
      ]
     },
     "metadata": {
      "needs_background": "light"
     },
     "output_type": "display_data"
    }
   ],
   "source": [
    "fig, ax = plt.subplots(1,1, figsize = (4.5,4.5))\n",
    "\n",
    "bins = np.arange(0,150,1)\n",
    "colours = ['b', 'darkorange', 'magenta', 'mediumspringgreen', 'blueviolet','silver']\n",
    "\n",
    "n, _, _ = ax.hist([W17cuc_age,W17south_age,W17fresh_age, W17north_age, W17off_age, W17loop_age], bins=bins, weights=[W17cuc_tr, W17south_tr, W17fresh_tr, W17north_tr, W17off_tr, W17loop_tr], color = colours, label =['CUC', 'South', 'Columbia River', \"North\", \"Offshore\", \"Strait Outflow\"], linewidth = 1.6, histtype='step', stacked=False, zorder=2)\n",
    "ax.hist([W17cuc_age,W17south_age,W17fresh_age, W17north_age, W17off_age, W17loop_age], bins=bins, weights=[W17cuc_tr, W17south_tr, W17fresh_tr, W17north_tr, W17off_tr, W17loop_tr], color = colours, histtype='stepfilled', alpha=0.3, stacked=False, zorder=1)\n",
    "ax.set_xlabel('Days',fontsize=14)\n",
    "ax.set_ylabel('Transport [$m^{3}s^{-1}$]',fontsize=14)\n",
    "ax.set_yticks(np.arange(200,1401,400))\n",
    "ax.set_yticklabels(np.arange(200,1401,400),fontsize=12)\n",
    "ax.set_xticks(np.arange(0,201,50))\n",
    "ax.set_xticklabels(np.arange(0,201,50),fontsize=12);\n",
    "ax.set_xlim([0,200])\n",
    "ax.set_ylim([0,1400])\n",
    "\n",
    "plt.tight_layout()\n",
    "# plt.savefig(\"./figures/W17Time.pdf\")"
   ]
  },
  {
   "cell_type": "code",
   "execution_count": 46,
   "metadata": {},
   "outputs": [
    {
     "data": {
      "image/png": "[encoded data removed]",
      "text/plain": [
       "<Figure size 828x252 with 3 Axes>"
      ]
     },
     "metadata": {
      "needs_background": "light"
     },
     "output_type": "display_data"
    }
   ],
   "source": [
    "# all together in one figure\n",
    "fig, ax = plt.subplots(1,3, figsize = (11.5,3.5))\n",
    "\n",
    "colours = ['b', 'darkorange', 'magenta', 'mediumspringgreen', 'blueviolet', 'silver']\n",
    "\n",
    "letter = ['a)','b)','c)']\n",
    "k=0\n",
    "for axs in ax:\n",
    "    axs.set_xticks(np.arange(0,201,50))\n",
    "    axs.set_xticklabels(np.arange(0,201,50),fontsize=11)\n",
    "    axs.set_yticks(np.arange(0,1401,400))\n",
    "    axs.set_xlim([0,200])\n",
    "    axs.set_ylim([0,1400])\n",
    "    axs.set_xlabel('Days',fontsize=12)\n",
    "    axs.text(.97, .05, letter[k], ha='right', va='bottom', transform=axs.transAxes, fontsize=14)\n",
    "    k+=1\n",
    "\n",
    "\n",
    "\n",
    "# summer 2017\n",
    "bins = np.arange(0,300,1)\n",
    "n, _, _ = ax[0].hist([Scuc_age,Ssouth_age,Sfresh_age, Snorth_age, Soff_age, Sloop_age], bins=bins, weights=[Scuc_tr, Ssouth_tr, Sfresh_tr, Snorth_tr, Soff_tr, Sloop_tr], color = colours, label =['CUC', 'South', 'Columbia River', \"North\", \"Offshore\", 'Strait Outflow'], linewidth = 1.6, histtype='step', stacked=False, zorder=2)\n",
    "ax[0].hist([Scuc_age,Ssouth_age,Sfresh_age, Snorth_age, Soff_age, Sloop_age], bins=bins, weights=[Scuc_tr, Ssouth_tr, Sfresh_tr, Snorth_tr, Soff_tr, Sloop_tr], color = colours, histtype='stepfilled', alpha=0.3, stacked=False, zorder=1)\n",
    "\n",
    "ax[0].set_yticklabels(np.arange(0,1401,400),fontsize=12)\n",
    "ax[0].set_ylabel('Transport [$m^{3}s^{-1}$]',fontsize=12)\n",
    "ax[0].legend()\n",
    "\n",
    "# winter 2016/17\n",
    "bins = np.arange(0,150,1)\n",
    "n, _, _ = ax[1].hist([W16cuc_age,W16south_age,W16fresh_age, W16north_age, W16off_age, W16loop_age], bins=bins, weights=[W16cuc_tr, W16south_tr, W16fresh_tr, W16north_tr, W16off_tr, W16loop_tr], color = colours, label =['South Deep', 'South Shelf', 'Columbia River', \"North\", \"Offshore\", \"Strait Outflow\"], linewidth = 1.6, histtype='step', stacked=False, zorder=2)\n",
    "ax[1].hist([W16cuc_age,W16south_age,W16fresh_age, W16north_age, W16off_age, W16loop_age], bins=bins, weights=[W16cuc_tr, W16south_tr, W16fresh_tr, W16north_tr, W16off_tr, W16loop_tr], color = colours, histtype='stepfilled', alpha=0.3, stacked=False, zorder=1)\n",
    "ax[1].set_yticklabels([])\n",
    "\n",
    "# winter 2017/18\n",
    "n, _, _ = ax[2].hist([W17cuc_age,W17south_age,W17fresh_age, W17north_age, W17off_age, W17loop_age], bins=bins, weights=[W17cuc_tr, W17south_tr, W17fresh_tr, W17north_tr, W17off_tr, W17loop_tr], color = colours, label =['South Deep', 'South Shelf', 'Columbia River', \"North\", \"Offshore\", \"Strait Outflow\"], linewidth = 1.6, histtype='step', stacked=False, zorder=2)\n",
    "ax[2].hist([W17cuc_age,W17south_age,W17fresh_age, W17north_age, W17off_age, W17loop_age], bins=bins, weights=[W17cuc_tr, W17south_tr, W17fresh_tr, W17north_tr, W17off_tr, W17loop_tr], color = colours, histtype='stepfilled', alpha=0.3, stacked=False, zorder=1)\n",
    "ax[2].set_yticklabels([]);\n",
    "\n",
    "plt.savefig(\"./figures/Time.pdf\")"
   ]
  },
  {
   "cell_type": "code",
   "execution_count": 47,
   "metadata": {},
   "outputs": [
    {
     "data": {
      "image/png": "[encoded data removed]",
      "text/plain": [
       "<Figure size 972x324 with 3 Axes>"
      ]
     },
     "metadata": {
      "needs_background": "light"
     },
     "output_type": "display_data"
    }
   ],
   "source": [
    "# all together in one figure\n",
    "fig, ax = plt.subplots(1,3, figsize = (13.5,4.5))\n",
    "\n",
    "colours = ['b', 'darkorange', 'magenta', 'mediumspringgreen', 'blueviolet', 'silver']\n",
    "\n",
    "# winter 2016/17\n",
    "bins = np.arange(0,150,1)\n",
    "n, _, _ = ax[0].hist([W16cuc_age,W16south_age,W16fresh_age, W16north_age, W16off_age, W16loop_age], bins=bins, weights=[W16cuc_tr, W16south_tr, W16fresh_tr, W16north_tr, W16off_tr, W16loop_tr], color = colours, label =['South Deep', 'South Shelf', 'Columbia River', \"North\", \"Offshore\", \"Strait Outflow\"], linewidth = 1.6, histtype='step', stacked=False, zorder=2)\n",
    "ax[0].hist([W16cuc_age,W16south_age,W16fresh_age, W16north_age, W16off_age, W16loop_age], bins=bins, weights=[W16cuc_tr, W16south_tr, W16fresh_tr, W16north_tr, W16off_tr, W16loop_tr], color = colours, histtype='stepfilled', alpha=0.3, stacked=False, zorder=1)\n",
    "ax[0].legend(fontsize=12)\n",
    "ax[0].set_xlabel('Age (days)',fontsize=14)\n",
    "ax[0].set_ylabel('Transport [$m^{3}s^{-1}$]',fontsize=14)\n",
    "ax[0].set_yticks(np.arange(200,1401,400))\n",
    "ax[0].set_yticklabels(np.arange(200,1401,400),fontsize=12)\n",
    "ax[0].set_xticks(np.arange(0,201,50))\n",
    "ax[0].set_xticklabels(np.arange(0,201,50),fontsize=12);\n",
    "ax[0].set_xlim([0,200])\n",
    "ax[0].set_ylim([0,1400])\n",
    "\n",
    "# summer\n",
    "bins = np.arange(0,300,1)\n",
    "n, _, _ = ax[1].hist([Scuc_age,Ssouth_age,Sfresh_age, Snorth_age, Soff_age, Sloop_age], bins=bins, weights=[Scuc_tr, Ssouth_tr, Sfresh_tr, Snorth_tr, Soff_tr, Sloop_tr], color = colours, label =['CUC', 'South', 'Columbia River', \"North\", \"Offshore\", 'Strait Outflow'], linewidth = 1.6, histtype='step', stacked=False, zorder=2)\n",
    "ax[1].hist([Scuc_age,Ssouth_age,Sfresh_age, Snorth_age, Soff_age, Sloop_age], bins=bins, weights=[Scuc_tr, Ssouth_tr, Sfresh_tr, Snorth_tr, Soff_tr, Sloop_tr], color = colours, histtype='stepfilled', alpha=0.3, stacked=False, zorder=1)\n",
    "ax[1].set_xlabel('Age (days)',fontsize=14)\n",
    "# ax[1].set_ylabel('Transport [$m^{3}s^{-1}$]',fontsize=14)\n",
    "ax[1].set_yticks(np.arange(200,801,200))\n",
    "ax[1].set_yticklabels(np.arange(200,801,200),fontsize=12)\n",
    "ax[1].set_xticks(np.arange(0,201,50))\n",
    "ax[1].set_xticklabels(np.arange(0,201,50),fontsize=12);\n",
    "ax[1].set_xlim([0,200])\n",
    "ax[1].set_ylim([0,1000])\n",
    "\n",
    "\n",
    "# winter 2017/18\n",
    "bins = np.arange(0,150,1)\n",
    "n, _, _ = ax[2].hist([W17cuc_age,W17south_age,W17fresh_age, W17north_age, W17off_age, W17loop_age], bins=bins, weights=[W17cuc_tr, W17south_tr, W17fresh_tr, W17north_tr, W17off_tr, W17loop_tr], color = colours, label =['CUC', 'South', 'Columbia River', \"North\", \"Offshore\", \"Strait Outflow\"], linewidth = 1.6, histtype='step', stacked=False, zorder=2)\n",
    "ax[2].hist([W17cuc_age,W17south_age,W17fresh_age, W17north_age, W17off_age, W17loop_age], bins=bins, weights=[W17cuc_tr, W17south_tr, W17fresh_tr, W17north_tr, W17off_tr, W17loop_tr], color = colours, histtype='stepfilled', alpha=0.3, stacked=False, zorder=1)\n",
    "ax[2].set_xlabel('Age (days)',fontsize=14)\n",
    "# ax[2].set_ylabel('Transport [$m^{3}s^{-1}$]',fontsize=14)\n",
    "ax[2].set_yticks(np.arange(200,1401,400))\n",
    "ax[2].set_yticklabels(np.arange(200,1401,400),fontsize=12)\n",
    "ax[2].set_xticks(np.arange(0,201,50))\n",
    "ax[2].set_xticklabels(np.arange(0,201,50),fontsize=12);\n",
    "ax[2].set_xlim([0,200])\n",
    "ax[2].set_ylim([0,1400])\n",
    "\n",
    "# figure labels\n",
    "ax[0].text(177, 70, '(a)', weight= \"bold\", fontsize=16)\n",
    "ax[1].text(177, 50, '(b)', weight= \"bold\", fontsize=16)\n",
    "ax[2].text(177, 70, '(c)', weight= \"bold\", fontsize=16)\n",
    "\n",
    "plt.tight_layout()\n",
    "plt.savefig(\"./figures/Time.pdf\")"
   ]
  },
  {
   "cell_type": "markdown",
   "metadata": {},
   "source": [
    "# Eddy"
   ]
  },
  {
   "cell_type": "code",
   "execution_count": null,
   "metadata": {},
   "outputs": [],
   "source": [
    "meander = 0\n",
    "init = 1\n",
    "Eddy = 3\n",
    "Canyon = 4\n",
    "South = 2\n",
    "\n",
    "to_days = 1.15741*10**-14"
   ]
  },
  {
   "cell_type": "markdown",
   "metadata": {},
   "source": [
    "## Summer 2017"
   ]
  },
  {
   "cell_type": "code",
   "execution_count": null,
   "metadata": {},
   "outputs": [],
   "source": [
    "data = xr.open_dataset('/ocean/rbeutel/MOAD/analysis-becca/Ariane/CIOPS_BC12/back_eddybdy_30sep17/ariane_positions_quantitative.nc')"
   ]
  },
  {
   "cell_type": "code",
   "execution_count": null,
   "metadata": {},
   "outputs": [],
   "source": [
    "# init_t 3601 refers to the first hour of day 150 = 2017/04/01\n",
    "# init_t 7992 refers to the last hour of day 333 = 2017/09/30\n",
    "# the run itself starts on 7992\n",
    "\n",
    "monS = ['apr', 'may', 'jun', 'jul', 'aug', 'sep']\n",
    "mon_len = [30, 31, 30, 31, 31, 30]\n",
    "h = 3601\n",
    "sum_start = [h, h+sum(mon_len[:1])*24, h+sum(mon_len[:2])*24, h+sum(mon_len[:3])*24, h+sum(mon_len[:4])*24, h+sum(mon_len[:5])*24]\n",
    "sum_end = [h+sum(mon_len[:1])*24, h+sum(mon_len[:2])*24, h+sum(mon_len[:3])*24, h+sum(mon_len[:4])*24, h+sum(mon_len[:5])*24, h+sum(mon_len)*24-1]"
   ]
  },
  {
   "cell_type": "code",
   "execution_count": null,
   "metadata": {},
   "outputs": [],
   "source": [
    "eddy_age = data.final_age[(data.final_section==Eddy) & (data.init_t >= sum_start[2]) & (data.init_t <= sum_end[-1])].astype('float')*to_days\n",
    "Canyon_age = data.final_age[(data.final_section==Canyon) & (data.init_t >= sum_start[2]) & (data.init_t <= sum_end[-1])].astype('float')*to_days\n",
    "South_age = data.final_age[(data.final_section==South) & (data.init_t >= sum_start[2]) & (data.init_t <= sum_end[-1])].astype('float')*to_days"
   ]
  },
  {
   "cell_type": "code",
   "execution_count": null,
   "metadata": {},
   "outputs": [],
   "source": [
    "time = -(sum_start[2]) + (sum_end[-1]) + 1\n",
    "South_tr = data.final_transp[(data.final_section==South) & (data.init_t >= sum_start[2]) & (data.init_t <= sum_end[-1])]/time\n",
    "Eddy_tr = data.final_transp[(data.final_section==Eddy) & (data.init_t >= sum_start[2]) & (data.init_t <= sum_end[-1])]/time\n",
    "Canyon_tr = data.final_transp[(data.final_section==Canyon) & (data.init_t >= sum_start[2]) & (data.init_t <= sum_end[-1])]/time"
   ]
  },
  {
   "cell_type": "code",
   "execution_count": null,
   "metadata": {},
   "outputs": [
    {
     "data": {
      "image/png": "[encoded data removed]",
      "text/plain": [
       "<Figure size 432x432 with 1 Axes>"
      ]
     },
     "metadata": {
      "needs_background": "light"
     },
     "output_type": "display_data"
    }
   ],
   "source": [
    "fig, ax = plt.subplots(1,1, figsize = (6,6))\n",
    "\n",
    "bins = np.arange(0,150,1)\n",
    "colours = ['teal', 'red', 'cyan']\n",
    "\n",
    "n, _, _ = ax.hist([Canyon_age,South_age,eddy_age], bins=bins, weights=[Canyon_tr, South_tr, Eddy_tr], color = colours, label =['Canyon', 'South', 'Eddy'], linewidth = 1.6, histtype='step', stacked=False, zorder=2)\n",
    "ax.hist([Canyon_age,South_age,eddy_age], bins=bins, weights=[Canyon_tr, South_tr, Eddy_tr], color = colours, histtype='stepfilled', alpha=0.3, stacked=False, zorder=1)\n",
    "ax.set_xlabel('Days')\n",
    "ax.set_ylabel('Transport [$m^{3}s^{-1}$]')\n",
    "ax.set_xticks(np.arange(0,150,10))\n",
    "ax.grid()\n",
    "# ax.set_ylim([0,1750])"
   ]
  },
  {
   "cell_type": "markdown",
   "metadata": {},
   "source": [
    "## winter 2016/17"
   ]
  },
  {
   "cell_type": "code",
   "execution_count": null,
   "metadata": {},
   "outputs": [],
   "source": [
    "dataS = data\n",
    "data = xr.open_dataset('/ocean/rbeutel/MOAD/analysis-becca/Ariane/CIOPS_BC12/back_eddybdy_31mar17/ariane_positions_quantitative.nc')"
   ]
  },
  {
   "cell_type": "code",
   "execution_count": null,
   "metadata": {},
   "outputs": [],
   "source": [
    "mon16 = ['oct16', 'nov16', 'dec16', 'jan17', 'feb17', 'mar17']\n",
    "mon_len = [31, 30, 31, 31, 28, 31]\n",
    "h = 3601\n",
    "win_start = [h, h+sum(mon_len[:1])*24, h+sum(mon_len[:2])*24, h+sum(mon_len[:3])*24, h+sum(mon_len[:4])*24, h+sum(mon_len[:5])*24]\n",
    "win_end = [h+sum(mon_len[:1])*24, h+sum(mon_len[:2])*24, h+sum(mon_len[:3])*24, h+sum(mon_len[:4])*24, h+sum(mon_len[:5])*24, h+sum(mon_len)*24-1]"
   ]
  },
  {
   "cell_type": "code",
   "execution_count": null,
   "metadata": {},
   "outputs": [],
   "source": [
    "south_age = np.append([data.final_age[(data.final_section==South) & (data.init_t >= win_start[0]) & (data.init_t <= win_end[-1])]],\n",
    "                  [dataS.final_age[(dataS.final_section==South) & (dataS.init_t >= sum_start[0]) & (dataS.init_t <= sum_end[1])]]).astype('float')*to_days\n",
    "\n",
    "eddy_age = np.append([data.final_age[(data.final_section==Eddy) & (data.init_t >= win_start[0]) & (data.init_t <= win_end[-1])]],\n",
    "                  [dataS.final_age[(dataS.final_section==Eddy) & (dataS.init_t >= sum_start[0]) & (dataS.init_t <= sum_end[1])]]).astype('float')*to_days\n",
    "\n",
    "Canyon_age = np.append([data.final_age[(data.final_section==Canyon) & (data.init_t >= win_start[0]) & (data.init_t <= win_end[-1])]],\n",
    "                  [dataS.final_age[(dataS.final_section==Canyon) & (dataS.init_t >= sum_start[0]) & (dataS.init_t <= sum_end[1])]]).astype('float')*to_days"
   ]
  },
  {
   "cell_type": "code",
   "execution_count": null,
   "metadata": {},
   "outputs": [],
   "source": [
    "time = win_end[-1]-win_start[0]+sum_end[1]-sum_start[0]+2\n",
    "\n",
    "South_tr = np.append([data.final_transp[(data.final_section==South) & (data.init_t >= win_start[0]) & (data.init_t <= win_end[-1])]],\n",
    "                  [dataS.final_transp[(dataS.final_section==South) & (dataS.init_t >= sum_start[0]) & (dataS.init_t <= sum_end[1])]])/time\n",
    "\n",
    "eddy_tr = np.append([data.final_transp[(data.final_section==Eddy) & (data.init_t >= win_start[0]) & (data.init_t <= win_end[-1])]],\n",
    "                  [dataS.final_transp[(dataS.final_section==Eddy) & (dataS.init_t >= sum_start[0]) & (dataS.init_t <= sum_end[1])]])/time\n",
    "\n",
    "Canyon_tr = np.append([data.final_transp[(data.final_section==Canyon) & (data.init_t >= win_start[0]) & (data.init_t <= win_end[-1])]],\n",
    "                  [dataS.final_transp[(dataS.final_section==Canyon) & (dataS.init_t >= sum_start[0]) & (dataS.init_t <= sum_end[1])]])/time"
   ]
  },
  {
   "cell_type": "code",
   "execution_count": null,
   "metadata": {},
   "outputs": [
    {
     "data": {
      "text/plain": [
       "<matplotlib.legend.Legend at 0x7f1130a3be20>"
      ]
     },
     "execution_count": 28,
     "metadata": {},
     "output_type": "execute_result"
    },
    {
     "data": {
      "image/png": "[encoded data removed]",
      "text/plain": [
       "<Figure size 432x432 with 1 Axes>"
      ]
     },
     "metadata": {
      "needs_background": "light"
     },
     "output_type": "display_data"
    }
   ],
   "source": [
    "fig, ax = plt.subplots(1,1, figsize = (6,6))\n",
    "\n",
    "bins = np.arange(0,150,1)\n",
    "colours = ['teal', 'red', 'cyan']\n",
    "\n",
    "n, _, _ = ax.hist([Canyon_age,south_age,eddy_age], bins=bins, weights=[Canyon_tr, South_tr, eddy_tr], color = colours, label =['Canyon', 'South', 'Eddy'], linewidth = 1.6, histtype='step', stacked=False, zorder=2)\n",
    "ax.hist([Canyon_age,south_age,eddy_age], bins=bins, weights=[Canyon_tr, South_tr, eddy_tr], color = colours, histtype='stepfilled', alpha=0.3, stacked=False, zorder=1)\n",
    "ax.set_xlabel('Days')\n",
    "ax.set_ylabel('Transport [$m^{3}s^{-1}$]')\n",
    "ax.legend()\n",
    "# ax.set_ylim([0,1750])"
   ]
  },
  {
   "cell_type": "markdown",
   "metadata": {},
   "source": [
    "## winter 2017/18"
   ]
  },
  {
   "cell_type": "code",
   "execution_count": null,
   "metadata": {},
   "outputs": [],
   "source": [
    "data = xr.open_dataset('/ocean/rbeutel/MOAD/analysis-becca/Ariane/CIOPS_BC12/back_eddybdy_31mar18/ariane_positions_quantitative.nc')"
   ]
  },
  {
   "cell_type": "code",
   "execution_count": null,
   "metadata": {},
   "outputs": [],
   "source": [
    "mon17 = ['oct', 'nov', 'dec', 'jan', 'feb', 'mar']\n",
    "mon_len = [31, 30, 31, 31, 28, 31]\n",
    "h = 3601\n",
    "win_start = [h, h+sum(mon_len[:1])*24, h+sum(mon_len[:2])*24, h+sum(mon_len[:3])*24, h+sum(mon_len[:4])*24, h+sum(mon_len[:5])*24]\n",
    "win_end = [h+sum(mon_len[:1])*24, h+sum(mon_len[:2])*24, h+sum(mon_len[:3])*24, h+sum(mon_len[:4])*24, h+sum(mon_len[:5])*24, h+sum(mon_len)*24-1]"
   ]
  },
  {
   "cell_type": "code",
   "execution_count": null,
   "metadata": {},
   "outputs": [],
   "source": [
    "eddy_age = data.final_age[(data.final_section==Eddy) & (data.init_t >= win_start[0]) & (data.init_t <= win_end[-1])].astype('float')*to_days\n",
    "Canyon_age = data.final_age[(data.final_section==Canyon) & (data.init_t >= win_start[0]) & (data.init_t <= win_end[-1])].astype('float')*to_days\n",
    "South_age = data.final_age[(data.final_section==South) & (data.init_t >= win_start[0]) & (data.init_t <= win_end[-1])].astype('float')*to_days"
   ]
  },
  {
   "cell_type": "code",
   "execution_count": null,
   "metadata": {},
   "outputs": [],
   "source": [
    "time = -(win_start[0]) + (win_end[-1]) + 1\n",
    "South_tr = data.final_transp[(data.final_section==South) & (data.init_t >= win_start[0]) & (data.init_t <= win_end[-1])]/time\n",
    "Eddy_tr = data.final_transp[(data.final_section==Eddy) & (data.init_t >= win_start[0]) & (data.init_t <= win_end[-1])]/time\n",
    "Canyon_tr = data.final_transp[(data.final_section==Canyon) & (data.init_t >= win_start[0]) & (data.init_t <= win_end[-1])]/time"
   ]
  },
  {
   "cell_type": "code",
   "execution_count": null,
   "metadata": {},
   "outputs": [
    {
     "data": {
      "text/plain": [
       "Text(0, 0.5, 'Transport [$m^{3}s^{-1}$]')"
      ]
     },
     "execution_count": 33,
     "metadata": {},
     "output_type": "execute_result"
    },
    {
     "data": {
      "image/png": "[encoded data removed]",
      "text/plain": [
       "<Figure size 432x432 with 1 Axes>"
      ]
     },
     "metadata": {
      "needs_background": "light"
     },
     "output_type": "display_data"
    }
   ],
   "source": [
    "fig, ax = plt.subplots(1,1, figsize = (6,6))\n",
    "\n",
    "bins = np.arange(0,150,1)\n",
    "colours = ['teal', 'red', 'cyan']\n",
    "\n",
    "n, _, _ = ax.hist([Canyon_age,South_age,eddy_age], bins=bins, weights=[Canyon_tr, South_tr, Eddy_tr], color = colours, label =['Canyon', 'South', 'Eddy'], linewidth = 1.6, histtype='step', stacked=False, zorder=2)\n",
    "ax.hist([Canyon_age,South_age,eddy_age], bins=bins, weights=[Canyon_tr, South_tr, Eddy_tr], color = colours, histtype='stepfilled', alpha=0.3, stacked=False, zorder=1)\n",
    "ax.set_xlabel('Days')\n",
    "ax.set_ylabel('Transport [$m^{3}s^{-1}$]')\n",
    "# ax.set_ylim([0,1750])"
   ]
  },
  {
   "cell_type": "code",
   "execution_count": null,
   "metadata": {},
   "outputs": [],
   "source": []
  }
 ],
 "metadata": {
  "kernelspec": {
   "display_name": "Ariane",
   "language": "python",
   "name": "python3"
  },
  "language_info": {
   "codemirror_mode": {
    "name": "ipython",
    "version": 3
   },
   "file_extension": ".py",
   "mimetype": "text/x-python",
   "name": "python",
   "nbconvert_exporter": "python",
   "pygments_lexer": "ipython3",
   "version": "3.9.9"
  }
 },
 "nbformat": 4,
 "nbformat_minor": 4
}
