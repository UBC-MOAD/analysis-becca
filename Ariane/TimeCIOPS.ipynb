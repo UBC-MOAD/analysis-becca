{
 "cells": [
  {
   "cell_type": "markdown",
   "metadata": {},
   "source": [
    "# CIOPS Parcel Timing"
   ]
  },
  {
   "cell_type": "code",
   "execution_count": 1,
   "metadata": {},
   "outputs": [],
   "source": [
    "import xarray as xr\n",
    "import numpy as np\n",
    "import matplotlib.pyplot as plt\n",
    "import datetime as dt"
   ]
  },
  {
   "cell_type": "markdown",
   "metadata": {},
   "source": [
    "# Offshore"
   ]
  },
  {
   "cell_type": "code",
   "execution_count": 3,
   "metadata": {},
   "outputs": [],
   "source": [
    "saltdiv=32\n",
    "to_days = 1.15741*10**-14\n",
    "\n",
    "meander = 0\n",
    "init = 1\n",
    "North = 2\n",
    "Sshelf = 5\n",
    "Sslope = 4\n",
    "Offshore = 3\n",
    "\n",
    "tide = 24\n",
    "Ssdep = -100\n",
    "Wsdep = -150\n",
    "offcut = 595 "
   ]
  },
  {
   "cell_type": "markdown",
   "metadata": {},
   "source": [
    "## summer 2017"
   ]
  },
  {
   "cell_type": "code",
   "execution_count": 4,
   "metadata": {},
   "outputs": [],
   "source": [
    "data = xr.open_dataset('/ocean/rbeutel/MOAD/analysis-becca/Ariane/CIOPS_BC12/back_sahubdy_30sep17/ariane_positions_quantitative.nc')"
   ]
  },
  {
   "cell_type": "code",
   "execution_count": 5,
   "metadata": {},
   "outputs": [],
   "source": [
    "# init_t 3601 refers to the first hour of day 150 = 2017/04/01\n",
    "# init_t 7992 refers to the last hour of day 333 = 2017/09/30\n",
    "# the run itself starts on 7992\n",
    "\n",
    "monS = ['apr', 'may', 'jun', 'jul', 'aug', 'sep']\n",
    "mon_len = [30, 31, 30, 31, 31, 30]\n",
    "h = 3601\n",
    "sum_start = [h, h+sum(mon_len[:1])*24, h+sum(mon_len[:2])*24, h+sum(mon_len[:3])*24, h+sum(mon_len[:4])*24, h+sum(mon_len[:5])*24]\n",
    "sum_end = [h+sum(mon_len[:1])*24, h+sum(mon_len[:2])*24, h+sum(mon_len[:3])*24, h+sum(mon_len[:4])*24, h+sum(mon_len[:5])*24, h+sum(mon_len)*24-1]"
   ]
  },
  {
   "cell_type": "code",
   "execution_count": 7,
   "metadata": {},
   "outputs": [],
   "source": [
    "off_age = data.final_age[np.logical_or((data.final_section==Offshore),(data.final_section==Sslope)) & (data.final_x <= offcut) & (data.init_t >= sum_start[2]) & (data.init_t <= sum_end[-1])].astype('float')*to_days\n",
    "north_age = data.final_age[(data.final_section==North) & (data.init_t >= sum_start[2]) & (data.init_t <= sum_end[-1])].astype('float')*to_days\n",
    "cuc_age = data.final_age[np.logical_or((data.final_section==Sshelf),(data.final_section==Sslope)) & (data.final_x > offcut) & (data.final_depth <= Ssdep) & (data.init_t >= sum_start[2]) & (data.init_t <= sum_end[-1])].astype('float')*to_days\n",
    "south_age = data.final_age[np.logical_or((data.final_section==Sshelf),(data.final_section==Sslope)) & (data.final_x > offcut) & (data.init_salt >= saltdiv) & (data.final_depth > Ssdep) & (data.init_t >= sum_start[2]) & (data.init_t <= sum_end[-1])].astype('float')*to_days\n",
    "fresh_age = data.final_age[np.logical_or((data.final_section==Sshelf),(data.final_section==Sslope)) & (data.final_x > offcut) & (data.init_salt < saltdiv) & (data.final_depth > Ssdep) & (data.init_t >= sum_start[2]) & (data.init_t <= sum_end[-1])].astype('float')*to_days\n",
    "tide=24\n",
    "loop_age = data.final_age[(data.final_section==0) & (abs(data.init_t-data.final_t) > tide) & (data.init_t >= sum_start[2]) & (data.init_t <= sum_end[-1])].astype('float')*to_days"
   ]
  },
  {
   "cell_type": "code",
   "execution_count": 15,
   "metadata": {},
   "outputs": [],
   "source": [
    "time = -(sum_start[2]) + (sum_end[-1]) + 1\n",
    "off_tr = data.final_transp[np.logical_or((data.final_section==Offshore),(data.final_section==Sslope)) & (data.final_x <= offcut) & (data.init_t >= sum_start[2]) & (data.init_t <= sum_end[-1])]/time\n",
    "north_tr = data.final_transp[(data.final_section==North) & (data.init_t >= sum_start[2]) & (data.init_t <= sum_end[-1])]/time\n",
    "cuc_tr = data.final_transp[np.logical_or((data.final_section==Sshelf),(data.final_section==Sslope)) & (data.final_x > offcut) & (data.final_depth <= Ssdep) & (data.init_t >= sum_start[2]) & (data.init_t <= sum_end[-1])]/time\n",
    "south_tr = data.final_transp[np.logical_or((data.final_section==Sshelf),(data.final_section==Sslope)) & (data.final_x > offcut) & (data.init_salt >= saltdiv) & (data.final_depth > Ssdep) & (data.init_t >= sum_start[2]) & (data.init_t <= sum_end[-1])]/time\n",
    "fresh_tr = data.final_transp[np.logical_or((data.final_section==Sshelf),(data.final_section==Sslope)) & (data.final_x > offcut) & (data.init_salt < saltdiv) & (data.final_depth > Ssdep) & (data.init_t >= sum_start[2]) & (data.init_t <= sum_end[-1])]/time\n",
    "loop_tr = data.final_transp[(data.final_section==0) & (abs(data.init_t-data.final_t) > tide) & (data.init_t >= sum_start[2]) & (data.init_t <= sum_end[-1])]/time"
   ]
  },
  {
   "cell_type": "code",
   "execution_count": 17,
   "metadata": {},
   "outputs": [
    {
     "data": {
      "image/png": "[encoded data removed]",
      "text/plain": [
       "<Figure size 324x324 with 1 Axes>"
      ]
     },
     "metadata": {
      "needs_background": "light"
     },
     "output_type": "display_data"
    }
   ],
   "source": [
    "fig, ax = plt.subplots(1,1, figsize = (4.5,4.5))\n",
    "\n",
    "bins = np.arange(0,300,1)\n",
    "colours = ['b', 'darkorange', 'magenta', 'mediumspringgreen', 'blueviolet', 'silver']\n",
    "\n",
    "n, _, _ = ax.hist([cuc_age,south_age,fresh_age, north_age, off_age, loop_age], bins=bins, weights=[cuc_tr, south_tr, fresh_tr, north_tr, off_tr, loop_tr], color = colours, label =['CUC', 'South', 'Columbia River', \"North\", \"Offshore\", 'Strait Outflow'], linewidth = 1.6, histtype='step', stacked=False, zorder=2)\n",
    "ax.hist([cuc_age,south_age,fresh_age, north_age, off_age, loop_age], bins=bins, weights=[cuc_tr, south_tr, fresh_tr, north_tr, off_tr, loop_tr], color = colours, histtype='stepfilled', alpha=0.3, stacked=False, zorder=1)\n",
    "ax.set_xlabel('Days',fontsize=14)\n",
    "ax.set_ylabel('Transport [$m^{3}s^{-1}$]',fontsize=14)\n",
    "ax.set_yticks(np.arange(200,801,200))\n",
    "ax.set_yticklabels(np.arange(200,801,200),fontsize=12)\n",
    "ax.set_xticks(np.arange(0,201,50))\n",
    "ax.set_xticklabels(np.arange(0,201,50),fontsize=12);\n",
    "ax.set_xlim([0,200])\n",
    "ax.set_ylim([0,1000])\n",
    "\n",
    "plt.tight_layout()\n",
    "plt.savefig(\"./figures/SummerTime.pdf\")"
   ]
  },
  {
   "cell_type": "markdown",
   "metadata": {},
   "source": [
    "## winter 2016/17"
   ]
  },
  {
   "cell_type": "code",
   "execution_count": 18,
   "metadata": {},
   "outputs": [],
   "source": [
    "dataS=data\n",
    "data = xr.open_dataset('/ocean/rbeutel/MOAD/analysis-becca/Ariane/CIOPS_BC12/back_sahubdy_31mar17/ariane_positions_quantitative.nc')"
   ]
  },
  {
   "cell_type": "code",
   "execution_count": 19,
   "metadata": {},
   "outputs": [],
   "source": [
    "# init_t 3601 refers to the first hour of day 150 = 2017/04/01\n",
    "# init_t 7992 refers to the last hour of day 333 = 2017/09/30\n",
    "# the run itself starts on 7992\n",
    "\n",
    "mon16 = ['oct16', 'nov16', 'dec16', 'jan17', 'feb17', 'mar17']\n",
    "mon_len = [31, 30, 31, 31, 28, 31]\n",
    "h = 3601\n",
    "win_start = [h, h+sum(mon_len[:1])*24, h+sum(mon_len[:2])*24, h+sum(mon_len[:3])*24, h+sum(mon_len[:4])*24, h+sum(mon_len[:5])*24]\n",
    "win_end = [h+sum(mon_len[:1])*24, h+sum(mon_len[:2])*24, h+sum(mon_len[:3])*24, h+sum(mon_len[:4])*24, h+sum(mon_len[:5])*24, h+sum(mon_len)*24-1]"
   ]
  },
  {
   "cell_type": "code",
   "execution_count": 15,
   "metadata": {},
   "outputs": [],
   "source": [
    "cuc_age = np.append([data.final_age[np.logical_or((data.final_section==Sshelf),(data.final_section==Sslope)) & (data.init_t >= win_start[0]) & (data.final_depth <= -200) & (data.init_t <= win_end[-1])]],\n",
    "                [dataS.final_age[np.logical_or((dataS.final_section==Sshelf),(dataS.final_section==Sslope)) & (dataS.final_depth <= -200) & (dataS.init_t >= sum_start[0]) & (dataS.init_t <= sum_end[1])]]).astype('float')*to_days\n",
    "\n",
    "south_age = np.append([data.final_age[np.logical_or((data.final_section==Sshelf),(data.final_section==Sslope)) & (data.init_salt >= saltdiv) & (data.init_t >= win_start[0]) & (data.final_depth > -200) & (data.init_t <= win_end[-1])]],\n",
    "                  [dataS.final_age[np.logical_or((dataS.final_section==Sshelf),(dataS.final_section==Sslope)) & (dataS.init_salt >= saltdiv) & (dataS.init_t >= sum_start[0]) & (dataS.final_depth > -200) & (dataS.init_t <= sum_end[1])]]).astype('float')*to_days\n",
    "\n",
    "fresh_age = np.append([data.final_age[np.logical_or((data.final_section==Sshelf),(data.final_section==Sslope)) & (data.init_salt < saltdiv) & (data.final_depth > -200)& (data.init_t >= win_start[0]) & (data.init_t <= win_end[-1])]],\n",
    "                  [dataS.final_age[np.logical_or((dataS.final_section==Sshelf),(dataS.final_section==Sslope)) & (dataS.init_salt < saltdiv) & (dataS.final_depth > -200) &(dataS.init_t >= sum_start[0]) & (dataS.init_t <= sum_end[1])]]).astype('float')*to_days\n",
    "\n",
    "north_age = np.append([data.final_age[(data.final_section==North) & (data.init_t >= win_start[0]) & (data.init_t <= win_end[-1])]],\n",
    "                  [dataS.final_age[(dataS.final_section==North) & (dataS.init_t >= sum_start[0]) & (dataS.init_t <= sum_end[1])]]).astype('float')*to_days\n",
    "\n",
    "offshore_age = np.append([data.final_age[(data.final_section==3) & (data.init_t >= win_start[0]) & (data.init_t <= win_end[-1])]],\n",
    "                  [dataS.final_age[(dataS.final_section==3) & (dataS.init_t >= sum_start[0]) & (dataS.init_t <= sum_end[1])]]).astype('float')*to_days\n",
    "\n",
    "tide=24\n",
    "loop_age = np.append([data.final_age[(data.final_section==0) & (abs(data.init_t-data.final_t) > tide) & (data.init_t >= win_start[0]) & (data.init_t <= win_end[-1])]],\n",
    "                  [dataS.final_age[(dataS.final_section==0) & (abs(dataS.init_t-dataS.final_t) > tide) & (dataS.init_t >= sum_start[0]) & (dataS.init_t <= sum_end[1])]]).astype('float')*to_days"
   ]
  },
  {
   "cell_type": "code",
   "execution_count": 56,
   "metadata": {},
   "outputs": [],
   "source": [
    "off_age = np.append([data.final_age[np.logical_or((data.final_section==Offshore),(data.final_section==Sslope)) & (data.final_x <= offcut) & (data.init_t >= sum_start[2]) & (data.init_t <= sum_end[-1])]],\n",
    "                     [dataS.final_age[np.logical_or((dataS.final_section==Offshore),(dataS.final_section==Sslope)) & (dataS.final_x <= offcut) & (dataS.init_t >= sum_start[0]) & (dataS.init_t <= sum_end[1])]]).astype('float')*to_days\n",
    "\n",
    "north_age = np.append([data.final_age[(data.final_section==North) & (data.init_t >= sum_start[2]) & (data.init_t <= sum_end[-1])]],\n",
    "                       [dataS.final_age[(dataS.final_section==North) & (dataS.init_t >= sum_start[0]) & (dataS.init_t <= sum_end[1])]]).astype('float')*to_days\n",
    "\n",
    "cuc_age = np.append([data.final_age[np.logical_or((data.final_section==Sshelf),(data.final_section==Sslope)) & (data.final_x > offcut) & (data.final_depth <= Wsdep) & (data.init_t >= sum_start[2]) & (data.init_t <= sum_end[-1])]],\n",
    "                    [dataS.final_age[np.logical_or((dataS.final_section==Sshelf),(dataS.final_section==Sslope)) & (dataS.final_x > offcut) & (dataS.final_depth <= Wsdep) & (dataS.init_t >= sum_start[0]) & (dataS.init_t <= sum_end[1])]]).astype('float')*to_days\n",
    "\n",
    "south_age = np.append([data.final_age[np.logical_or((data.final_section==Sshelf),(data.final_section==Sslope)) & (data.final_x > offcut) & (data.init_salt >= saltdiv) & (data.final_depth > Wsdep) & (data.init_t >= sum_start[2]) & (data.init_t <= sum_end[-1])]],\n",
    "                       [dataS.final_age[np.logical_or((dataS.final_section==Sshelf),(dataS.final_section==Sslope)) & (dataS.final_x > offcut) & (dataS.init_salt >= saltdiv) & (dataS.final_depth > Wsdep) & (dataS.init_t >= sum_start[0]) & (dataS.init_t <= sum_end[1])]]).astype('float')*to_days\n",
    "\n",
    "fresh_age = np.append([data.final_age[np.logical_or((data.final_section==Sshelf),(data.final_section==Sslope)) & (data.final_x > offcut) & (data.init_salt < saltdiv) & (data.final_depth > Wsdep) & (data.init_t >= sum_start[2]) & (data.init_t <= sum_end[-1])]],\n",
    "                       [dataS.final_age[np.logical_or((dataS.final_section==Sshelf),(dataS.final_section==Sslope)) & (dataS.final_x > offcut) & (dataS.init_salt < saltdiv) & (dataS.final_depth > Wsdep) & (dataS.init_t >= sum_start[0]) & (dataS.init_t <= sum_end[1])]]).astype('float')*to_days\n",
    "\n",
    "loop_age = np.append([data.final_age[(data.final_section==0) & (abs(data.init_t-data.final_t) > tide) & (data.init_t >= sum_start[2]) & (data.init_t <= sum_end[-1])]],\n",
    "                      [dataS.final_age[(dataS.final_section==0) & (abs(dataS.init_t-dataS.final_t) > tide) & (dataS.init_t >= sum_start[0]) & (dataS.init_t <= sum_end[1])]]).astype('float')*to_days"
   ]
  },
  {
   "cell_type": "code",
   "execution_count": 55,
   "metadata": {},
   "outputs": [],
   "source": [
    "time = win_end[-1]-win_start[0]+sum_end[1]-sum_start[0]+2\n",
    "off_tr = np.append([data.final_transp[np.logical_or((data.final_section==Offshore),(data.final_section==Sslope)) & (data.final_x <= offcut) & (data.init_t >= sum_start[2]) & (data.init_t <= sum_end[-1])]],\n",
    "                     [dataS.final_transp[np.logical_or((dataS.final_section==Offshore),(dataS.final_section==Sslope)) & (dataS.final_x <= offcut) & (dataS.init_t >= sum_start[0]) & (dataS.init_t <= sum_end[1])]])/time\n",
    "\n",
    "north_tr = np.append([data.final_transp[(data.final_section==North) & (data.init_t >= sum_start[2]) & (data.init_t <= sum_end[-1])]],\n",
    "                       [dataS.final_transp[(dataS.final_section==North) & (dataS.init_t >= sum_start[0]) & (dataS.init_t <= sum_end[1])]])/time\n",
    "\n",
    "cuc_tr = np.append([data.final_transp[np.logical_or((data.final_section==Sshelf),(data.final_section==Sslope)) & (data.final_x > offcut) & (data.final_depth <= Wsdep) & (data.init_t >= sum_start[2]) & (data.init_t <= sum_end[-1])]],\n",
    "                    [dataS.final_transp[np.logical_or((dataS.final_section==Sshelf),(dataS.final_section==Sslope)) & (dataS.final_x > offcut) & (dataS.final_depth <= Wsdep) & (dataS.init_t >= sum_start[0]) & (dataS.init_t <= sum_end[1])]])/time\n",
    "\n",
    "south_tr = np.append([data.final_transp[np.logical_or((data.final_section==Sshelf),(data.final_section==Sslope)) & (data.final_x > offcut) & (data.init_salt >= saltdiv) & (data.final_depth > Wsdep) & (data.init_t >= sum_start[2]) & (data.init_t <= sum_end[-1])]],\n",
    "                       [dataS.final_transp[np.logical_or((dataS.final_section==Sshelf),(dataS.final_section==Sslope)) & (dataS.final_x > offcut) & (dataS.init_salt >= saltdiv) & (dataS.final_depth > Wsdep) & (dataS.init_t >= sum_start[0]) & (dataS.init_t <= sum_end[1])]])/time\n",
    "\n",
    "fresh_tr = np.append([data.final_transp[np.logical_or((data.final_section==Sshelf),(data.final_section==Sslope)) & (data.final_x > offcut) & (data.init_salt < saltdiv) & (data.final_depth > Wsdep) & (data.init_t >= sum_start[2]) & (data.init_t <= sum_end[-1])]],\n",
    "                       [dataS.final_transp[np.logical_or((dataS.final_section==Sshelf),(dataS.final_section==Sslope)) & (dataS.final_x > offcut) & (dataS.init_salt < saltdiv) & (dataS.final_depth > Wsdep) & (dataS.init_t >= sum_start[0]) & (dataS.init_t <= sum_end[1])]])/time\n",
    "\n",
    "loop_tr = np.append([data.final_transp[(data.final_section==0) & (abs(data.init_t-data.final_t) > tide) & (data.init_t >= sum_start[2]) & (data.init_t <= sum_end[-1])]],\n",
    "                      [dataS.final_transp[(dataS.final_section==0) & (abs(dataS.init_t-dataS.final_t) > tide) & (dataS.init_t >= sum_start[0]) & (dataS.init_t <= sum_end[1])]])/time"
   ]
  },
  {
   "cell_type": "code",
   "execution_count": 57,
   "metadata": {},
   "outputs": [
    {
     "data": {
      "image/png": "[encoded data removed]",
      "text/plain": [
       "<Figure size 324x324 with 1 Axes>"
      ]
     },
     "metadata": {
      "needs_background": "light"
     },
     "output_type": "display_data"
    }
   ],
   "source": [
    "fig, ax = plt.subplots(1,1, figsize = (4.5,4.5))\n",
    "\n",
    "bins = np.arange(0,150,1)\n",
    "colours = ['b', 'darkorange', 'magenta', 'mediumspringgreen', 'blueviolet', 'silver']\n",
    "\n",
    "n, _, _ = ax.hist([cuc_age,south_age,fresh_age, north_age, off_age, loop_age], bins=bins, weights=[cuc_tr, south_tr, fresh_tr, north_tr, off_tr, loop_tr], color = colours, label =['South Deep', 'South Shelf', 'Columbia River', \"North\", \"Offshore\", \"Strait Outflow\"], linewidth = 1.6, histtype='step', stacked=False, zorder=2)\n",
    "ax.hist([cuc_age,south_age,fresh_age, north_age, off_age, loop_age], bins=bins, weights=[cuc_tr, south_tr, fresh_tr, north_tr, off_tr, loop_tr], color = colours, histtype='stepfilled', alpha=0.3, stacked=False, zorder=1)\n",
    "ax.legend(fontsize=12)\n",
    "ax.set_xlabel('Days',fontsize=14)\n",
    "ax.set_ylabel('Transport [$m^{3}s^{-1}$]',fontsize=14)\n",
    "ax.set_yticks(np.arange(200,1401,400))\n",
    "ax.set_yticklabels(np.arange(200,1401,400),fontsize=12)\n",
    "ax.set_xticks(np.arange(0,201,50))\n",
    "ax.set_xticklabels(np.arange(0,201,50),fontsize=12);\n",
    "ax.set_xlim([0,200])\n",
    "ax.set_ylim([0,1400])\n",
    "\n",
    "plt.tight_layout()\n",
    "plt.savefig(\"./figures/W16Time.pdf\")"
   ]
  },
  {
   "cell_type": "markdown",
   "metadata": {},
   "source": [
    "## winter 2017/18"
   ]
  },
  {
   "cell_type": "code",
   "execution_count": 58,
   "metadata": {},
   "outputs": [],
   "source": [
    "data = xr.open_dataset('/ocean/rbeutel/MOAD/analysis-becca/Ariane/CIOPS_BC12/back_sahubdy_31mar18/ariane_positions_quantitative.nc')"
   ]
  },
  {
   "cell_type": "code",
   "execution_count": 59,
   "metadata": {},
   "outputs": [],
   "source": [
    "# init_t 3601 refers to the first hour of day 150 = 2017/04/01\n",
    "# init_t 7992 refers to the last hour of day 333 = 2017/09/30\n",
    "# the run itself starts on 7992\n",
    "\n",
    "mon17 = ['oct17', 'nov17', 'dec17', 'jan18', 'feb18', 'mar18']\n",
    "mon_len = [31, 30, 31, 31, 28, 31]\n",
    "h = 3601\n",
    "win_start = [h, h+sum(mon_len[:1])*24, h+sum(mon_len[:2])*24, h+sum(mon_len[:3])*24, h+sum(mon_len[:4])*24, h+sum(mon_len[:5])*24]\n",
    "win_end = [h+sum(mon_len[:1])*24, h+sum(mon_len[:2])*24, h+sum(mon_len[:3])*24, h+sum(mon_len[:4])*24, h+sum(mon_len[:5])*24, h+sum(mon_len)*24-1]"
   ]
  },
  {
   "cell_type": "code",
   "execution_count": 60,
   "metadata": {},
   "outputs": [],
   "source": [
    "off_age = data.final_age[np.logical_or((data.final_section==Offshore),(data.final_section==Sslope)) & (data.final_x <= offcut) & (data.init_t >= sum_start[2]) & (data.init_t <= sum_end[-1])].astype('float')*to_days\n",
    "north_age = data.final_age[(data.final_section==North) & (data.init_t >= sum_start[2]) & (data.init_t <= sum_end[-1])].astype('float')*to_days\n",
    "cuc_age = data.final_age[np.logical_or((data.final_section==Sshelf),(data.final_section==Sslope)) & (data.final_x > offcut) & (data.final_depth <= Wsdep) & (data.init_t >= sum_start[2]) & (data.init_t <= sum_end[-1])].astype('float')*to_days\n",
    "south_age = data.final_age[np.logical_or((data.final_section==Sshelf),(data.final_section==Sslope)) & (data.final_x > offcut) & (data.init_salt >= saltdiv) & (data.final_depth > Wsdep) & (data.init_t >= sum_start[2]) & (data.init_t <= sum_end[-1])].astype('float')*to_days\n",
    "fresh_age = data.final_age[np.logical_or((data.final_section==Sshelf),(data.final_section==Sslope)) & (data.final_x > offcut) & (data.init_salt < saltdiv) & (data.final_depth > Wsdep) & (data.init_t >= sum_start[2]) & (data.init_t <= sum_end[-1])].astype('float')*to_days\n",
    "loop_age = data.final_age[(data.final_section==0) & (abs(data.init_t-data.final_t) > tide) & (data.init_t >= sum_start[2]) & (data.init_t <= sum_end[-1])].astype('float')*to_days"
   ]
  },
  {
   "cell_type": "code",
   "execution_count": 61,
   "metadata": {},
   "outputs": [],
   "source": [
    "time = -(sum_start[2]) + (sum_end[-1]) + 1\n",
    "off_tr = data.final_transp[np.logical_or((data.final_section==Offshore),(data.final_section==Sslope)) & (data.final_x <= offcut) & (data.init_t >= sum_start[2]) & (data.init_t <= sum_end[-1])]/time\n",
    "north_tr = data.final_transp[(data.final_section==North) & (data.init_t >= sum_start[2]) & (data.init_t <= sum_end[-1])]/time\n",
    "cuc_tr = data.final_transp[np.logical_or((data.final_section==Sshelf),(data.final_section==Sslope)) & (data.final_x > offcut) & (data.final_depth <= Wsdep) & (data.init_t >= sum_start[2]) & (data.init_t <= sum_end[-1])]/time\n",
    "south_tr = data.final_transp[np.logical_or((data.final_section==Sshelf),(data.final_section==Sslope)) & (data.final_x > offcut) & (data.init_salt >= saltdiv) & (data.final_depth > Wsdep) & (data.init_t >= sum_start[2]) & (data.init_t <= sum_end[-1])]/time\n",
    "fresh_tr = data.final_transp[np.logical_or((data.final_section==Sshelf),(data.final_section==Sslope)) & (data.final_x > offcut) & (data.init_salt < saltdiv) & (data.final_depth > Wsdep) & (data.init_t >= sum_start[2]) & (data.init_t <= sum_end[-1])]/time\n",
    "loop_tr = data.final_transp[(data.final_section==0) & (abs(data.init_t-data.final_t) > tide) & (data.init_t >= sum_start[2]) & (data.init_t <= sum_end[-1])]/time"
   ]
  },
  {
   "cell_type": "code",
   "execution_count": 62,
   "metadata": {},
   "outputs": [
    {
     "data": {
      "image/png": "[encoded data removed]",
      "text/plain": [
       "<Figure size 324x324 with 1 Axes>"
      ]
     },
     "metadata": {
      "needs_background": "light"
     },
     "output_type": "display_data"
    }
   ],
   "source": [
    "fig, ax = plt.subplots(1,1, figsize = (4.5,4.5))\n",
    "\n",
    "bins = np.arange(0,150,1)\n",
    "colours = ['b', 'darkorange', 'magenta', 'mediumspringgreen', 'blueviolet','silver']\n",
    "\n",
    "n, _, _ = ax.hist([cuc_age,south_age,fresh_age, north_age, off_age, loop_age], bins=bins, weights=[cuc_tr, south_tr, fresh_tr, north_tr, off_tr, loop_tr], color = colours, label =['CUC', 'South', 'Columbia River', \"North\", \"Offshore\", \"Strait Outflow\"], linewidth = 1.6, histtype='step', stacked=False, zorder=2)\n",
    "ax.hist([cuc_age,south_age,fresh_age, north_age, off_age, loop_age], bins=bins, weights=[cuc_tr, south_tr, fresh_tr, north_tr, off_tr, loop_tr], color = colours, histtype='stepfilled', alpha=0.3, stacked=False, zorder=1)\n",
    "ax.set_xlabel('Days',fontsize=14)\n",
    "ax.set_ylabel('Transport [$m^{3}s^{-1}$]',fontsize=14)\n",
    "ax.set_yticks(np.arange(200,1401,400))\n",
    "ax.set_yticklabels(np.arange(200,1401,400),fontsize=12)\n",
    "ax.set_xticks(np.arange(0,201,50))\n",
    "ax.set_xticklabels(np.arange(0,201,50),fontsize=12);\n",
    "ax.set_xlim([0,200])\n",
    "ax.set_ylim([0,1400])\n",
    "\n",
    "plt.tight_layout()\n",
    "plt.savefig(\"./figures/W17Time.pdf\")"
   ]
  },
  {
   "cell_type": "markdown",
   "metadata": {},
   "source": [
    "# Eddy"
   ]
  },
  {
   "cell_type": "code",
   "execution_count": 3,
   "metadata": {},
   "outputs": [],
   "source": [
    "meander = 0\n",
    "init = 1\n",
    "Eddy = 3\n",
    "Canyon = 4\n",
    "South = 2\n",
    "\n",
    "to_days = 1.15741*10**-14"
   ]
  },
  {
   "cell_type": "markdown",
   "metadata": {},
   "source": [
    "## Summer 2017"
   ]
  },
  {
   "cell_type": "code",
   "execution_count": 4,
   "metadata": {},
   "outputs": [],
   "source": [
    "data = xr.open_dataset('/ocean/rbeutel/MOAD/analysis-becca/Ariane/CIOPS_BC12/back_eddybdy_30sep17/ariane_positions_quantitative.nc')"
   ]
  },
  {
   "cell_type": "code",
   "execution_count": 6,
   "metadata": {},
   "outputs": [],
   "source": [
    "# init_t 3601 refers to the first hour of day 150 = 2017/04/01\n",
    "# init_t 7992 refers to the last hour of day 333 = 2017/09/30\n",
    "# the run itself starts on 7992\n",
    "\n",
    "monS = ['apr', 'may', 'jun', 'jul', 'aug', 'sep']\n",
    "mon_len = [30, 31, 30, 31, 31, 30]\n",
    "h = 3601\n",
    "sum_start = [h, h+sum(mon_len[:1])*24, h+sum(mon_len[:2])*24, h+sum(mon_len[:3])*24, h+sum(mon_len[:4])*24, h+sum(mon_len[:5])*24]\n",
    "sum_end = [h+sum(mon_len[:1])*24, h+sum(mon_len[:2])*24, h+sum(mon_len[:3])*24, h+sum(mon_len[:4])*24, h+sum(mon_len[:5])*24, h+sum(mon_len)*24-1]"
   ]
  },
  {
   "cell_type": "code",
   "execution_count": 7,
   "metadata": {},
   "outputs": [],
   "source": [
    "eddy_age = data.final_age[(data.final_section==Eddy) & (data.init_t >= sum_start[2]) & (data.init_t <= sum_end[-1])].astype('float')*to_days\n",
    "Canyon_age = data.final_age[(data.final_section==Canyon) & (data.init_t >= sum_start[2]) & (data.init_t <= sum_end[-1])].astype('float')*to_days\n",
    "South_age = data.final_age[(data.final_section==South) & (data.init_t >= sum_start[2]) & (data.init_t <= sum_end[-1])].astype('float')*to_days"
   ]
  },
  {
   "cell_type": "code",
   "execution_count": 8,
   "metadata": {},
   "outputs": [],
   "source": [
    "time = -(sum_start[2]) + (sum_end[-1]) + 1\n",
    "South_tr = data.final_transp[(data.final_section==South) & (data.init_t >= sum_start[2]) & (data.init_t <= sum_end[-1])]/time\n",
    "Eddy_tr = data.final_transp[(data.final_section==Eddy) & (data.init_t >= sum_start[2]) & (data.init_t <= sum_end[-1])]/time\n",
    "Canyon_tr = data.final_transp[(data.final_section==Canyon) & (data.init_t >= sum_start[2]) & (data.init_t <= sum_end[-1])]/time"
   ]
  },
  {
   "cell_type": "code",
   "execution_count": 12,
   "metadata": {},
   "outputs": [
    {
     "data": {
      "image/png": "[encoded data removed]",
      "text/plain": [
       "<Figure size 432x432 with 1 Axes>"
      ]
     },
     "metadata": {
      "needs_background": "light"
     },
     "output_type": "display_data"
    }
   ],
   "source": [
    "fig, ax = plt.subplots(1,1, figsize = (6,6))\n",
    "\n",
    "bins = np.arange(0,150,1)\n",
    "colours = ['teal', 'red', 'cyan']\n",
    "\n",
    "n, _, _ = ax.hist([Canyon_age,South_age,eddy_age], bins=bins, weights=[Canyon_tr, South_tr, Eddy_tr], color = colours, label =['Canyon', 'South', 'Eddy'], linewidth = 1.6, histtype='step', stacked=False, zorder=2)\n",
    "ax.hist([Canyon_age,South_age,eddy_age], bins=bins, weights=[Canyon_tr, South_tr, Eddy_tr], color = colours, histtype='stepfilled', alpha=0.3, stacked=False, zorder=1)\n",
    "ax.set_xlabel('Days')\n",
    "ax.set_ylabel('Transport [$m^{3}s^{-1}$]')\n",
    "ax.set_xticks(np.arange(0,150,10))\n",
    "ax.grid()\n",
    "# ax.set_ylim([0,1750])"
   ]
  },
  {
   "cell_type": "markdown",
   "metadata": {},
   "source": [
    "## winter 2016/17"
   ]
  },
  {
   "cell_type": "code",
   "execution_count": 24,
   "metadata": {},
   "outputs": [],
   "source": [
    "dataS = data\n",
    "data = xr.open_dataset('/ocean/rbeutel/MOAD/analysis-becca/Ariane/CIOPS_BC12/back_eddybdy_31mar17/ariane_positions_quantitative.nc')"
   ]
  },
  {
   "cell_type": "code",
   "execution_count": 25,
   "metadata": {},
   "outputs": [],
   "source": [
    "mon16 = ['oct16', 'nov16', 'dec16', 'jan17', 'feb17', 'mar17']\n",
    "mon_len = [31, 30, 31, 31, 28, 31]\n",
    "h = 3601\n",
    "win_start = [h, h+sum(mon_len[:1])*24, h+sum(mon_len[:2])*24, h+sum(mon_len[:3])*24, h+sum(mon_len[:4])*24, h+sum(mon_len[:5])*24]\n",
    "win_end = [h+sum(mon_len[:1])*24, h+sum(mon_len[:2])*24, h+sum(mon_len[:3])*24, h+sum(mon_len[:4])*24, h+sum(mon_len[:5])*24, h+sum(mon_len)*24-1]"
   ]
  },
  {
   "cell_type": "code",
   "execution_count": 26,
   "metadata": {},
   "outputs": [],
   "source": [
    "south_age = np.append([data.final_age[(data.final_section==South) & (data.init_t >= win_start[0]) & (data.init_t <= win_end[-1])]],\n",
    "                  [dataS.final_age[(dataS.final_section==South) & (dataS.init_t >= sum_start[0]) & (dataS.init_t <= sum_end[1])]]).astype('float')*to_days\n",
    "\n",
    "eddy_age = np.append([data.final_age[(data.final_section==Eddy) & (data.init_t >= win_start[0]) & (data.init_t <= win_end[-1])]],\n",
    "                  [dataS.final_age[(dataS.final_section==Eddy) & (dataS.init_t >= sum_start[0]) & (dataS.init_t <= sum_end[1])]]).astype('float')*to_days\n",
    "\n",
    "Canyon_age = np.append([data.final_age[(data.final_section==Canyon) & (data.init_t >= win_start[0]) & (data.init_t <= win_end[-1])]],\n",
    "                  [dataS.final_age[(dataS.final_section==Canyon) & (dataS.init_t >= sum_start[0]) & (dataS.init_t <= sum_end[1])]]).astype('float')*to_days"
   ]
  },
  {
   "cell_type": "code",
   "execution_count": 27,
   "metadata": {},
   "outputs": [],
   "source": [
    "time = win_end[-1]-win_start[0]+sum_end[1]-sum_start[0]+2\n",
    "\n",
    "South_tr = np.append([data.final_transp[(data.final_section==South) & (data.init_t >= win_start[0]) & (data.init_t <= win_end[-1])]],\n",
    "                  [dataS.final_transp[(dataS.final_section==South) & (dataS.init_t >= sum_start[0]) & (dataS.init_t <= sum_end[1])]])/time\n",
    "\n",
    "eddy_tr = np.append([data.final_transp[(data.final_section==Eddy) & (data.init_t >= win_start[0]) & (data.init_t <= win_end[-1])]],\n",
    "                  [dataS.final_transp[(dataS.final_section==Eddy) & (dataS.init_t >= sum_start[0]) & (dataS.init_t <= sum_end[1])]])/time\n",
    "\n",
    "Canyon_tr = np.append([data.final_transp[(data.final_section==Canyon) & (data.init_t >= win_start[0]) & (data.init_t <= win_end[-1])]],\n",
    "                  [dataS.final_transp[(dataS.final_section==Canyon) & (dataS.init_t >= sum_start[0]) & (dataS.init_t <= sum_end[1])]])/time"
   ]
  },
  {
   "cell_type": "code",
   "execution_count": 28,
   "metadata": {},
   "outputs": [
    {
     "data": {
      "text/plain": [
       "<matplotlib.legend.Legend at 0x7f1130a3be20>"
      ]
     },
     "execution_count": 28,
     "metadata": {},
     "output_type": "execute_result"
    },
    {
     "data": {
      "image/png": "[encoded data removed]",
      "text/plain": [
       "<Figure size 432x432 with 1 Axes>"
      ]
     },
     "metadata": {
      "needs_background": "light"
     },
     "output_type": "display_data"
    }
   ],
   "source": [
    "fig, ax = plt.subplots(1,1, figsize = (6,6))\n",
    "\n",
    "bins = np.arange(0,150,1)\n",
    "colours = ['teal', 'red', 'cyan']\n",
    "\n",
    "n, _, _ = ax.hist([Canyon_age,south_age,eddy_age], bins=bins, weights=[Canyon_tr, South_tr, eddy_tr], color = colours, label =['Canyon', 'South', 'Eddy'], linewidth = 1.6, histtype='step', stacked=False, zorder=2)\n",
    "ax.hist([Canyon_age,south_age,eddy_age], bins=bins, weights=[Canyon_tr, South_tr, eddy_tr], color = colours, histtype='stepfilled', alpha=0.3, stacked=False, zorder=1)\n",
    "ax.set_xlabel('Days')\n",
    "ax.set_ylabel('Transport [$m^{3}s^{-1}$]')\n",
    "ax.legend()\n",
    "# ax.set_ylim([0,1750])"
   ]
  },
  {
   "cell_type": "markdown",
   "metadata": {},
   "source": [
    "## winter 2017/18"
   ]
  },
  {
   "cell_type": "code",
   "execution_count": 29,
   "metadata": {},
   "outputs": [],
   "source": [
    "data = xr.open_dataset('/ocean/rbeutel/MOAD/analysis-becca/Ariane/CIOPS_BC12/back_eddybdy_31mar18/ariane_positions_quantitative.nc')"
   ]
  },
  {
   "cell_type": "code",
   "execution_count": 30,
   "metadata": {},
   "outputs": [],
   "source": [
    "mon17 = ['oct', 'nov', 'dec', 'jan', 'feb', 'mar']\n",
    "mon_len = [31, 30, 31, 31, 28, 31]\n",
    "h = 3601\n",
    "win_start = [h, h+sum(mon_len[:1])*24, h+sum(mon_len[:2])*24, h+sum(mon_len[:3])*24, h+sum(mon_len[:4])*24, h+sum(mon_len[:5])*24]\n",
    "win_end = [h+sum(mon_len[:1])*24, h+sum(mon_len[:2])*24, h+sum(mon_len[:3])*24, h+sum(mon_len[:4])*24, h+sum(mon_len[:5])*24, h+sum(mon_len)*24-1]"
   ]
  },
  {
   "cell_type": "code",
   "execution_count": 31,
   "metadata": {},
   "outputs": [],
   "source": [
    "eddy_age = data.final_age[(data.final_section==Eddy) & (data.init_t >= win_start[0]) & (data.init_t <= win_end[-1])].astype('float')*to_days\n",
    "Canyon_age = data.final_age[(data.final_section==Canyon) & (data.init_t >= win_start[0]) & (data.init_t <= win_end[-1])].astype('float')*to_days\n",
    "South_age = data.final_age[(data.final_section==South) & (data.init_t >= win_start[0]) & (data.init_t <= win_end[-1])].astype('float')*to_days"
   ]
  },
  {
   "cell_type": "code",
   "execution_count": 32,
   "metadata": {},
   "outputs": [],
   "source": [
    "time = -(win_start[0]) + (win_end[-1]) + 1\n",
    "South_tr = data.final_transp[(data.final_section==South) & (data.init_t >= win_start[0]) & (data.init_t <= win_end[-1])]/time\n",
    "Eddy_tr = data.final_transp[(data.final_section==Eddy) & (data.init_t >= win_start[0]) & (data.init_t <= win_end[-1])]/time\n",
    "Canyon_tr = data.final_transp[(data.final_section==Canyon) & (data.init_t >= win_start[0]) & (data.init_t <= win_end[-1])]/time"
   ]
  },
  {
   "cell_type": "code",
   "execution_count": 33,
   "metadata": {},
   "outputs": [
    {
     "data": {
      "text/plain": [
       "Text(0, 0.5, 'Transport [$m^{3}s^{-1}$]')"
      ]
     },
     "execution_count": 33,
     "metadata": {},
     "output_type": "execute_result"
    },
    {
     "data": {
      "image/png": "[encoded data removed]",
      "text/plain": [
       "<Figure size 432x432 with 1 Axes>"
      ]
     },
     "metadata": {
      "needs_background": "light"
     },
     "output_type": "display_data"
    }
   ],
   "source": [
    "fig, ax = plt.subplots(1,1, figsize = (6,6))\n",
    "\n",
    "bins = np.arange(0,150,1)\n",
    "colours = ['teal', 'red', 'cyan']\n",
    "\n",
    "n, _, _ = ax.hist([Canyon_age,South_age,eddy_age], bins=bins, weights=[Canyon_tr, South_tr, Eddy_tr], color = colours, label =['Canyon', 'South', 'Eddy'], linewidth = 1.6, histtype='step', stacked=False, zorder=2)\n",
    "ax.hist([Canyon_age,South_age,eddy_age], bins=bins, weights=[Canyon_tr, South_tr, Eddy_tr], color = colours, histtype='stepfilled', alpha=0.3, stacked=False, zorder=1)\n",
    "ax.set_xlabel('Days')\n",
    "ax.set_ylabel('Transport [$m^{3}s^{-1}$]')\n",
    "# ax.set_ylim([0,1750])"
   ]
  },
  {
   "cell_type": "code",
   "execution_count": null,
   "metadata": {},
   "outputs": [],
   "source": []
  }
 ],
 "metadata": {
  "kernelspec": {
   "display_name": "ariane",
   "language": "python",
   "name": "ariane"
  },
  "language_info": {
   "codemirror_mode": {
    "name": "ipython",
    "version": 3
   },
   "file_extension": ".py",
   "mimetype": "text/x-python",
   "name": "python",
   "nbconvert_exporter": "python",
   "pygments_lexer": "ipython3",
   "version": "3.9.9"
  }
 },
 "nbformat": 4,
 "nbformat_minor": 4
}
