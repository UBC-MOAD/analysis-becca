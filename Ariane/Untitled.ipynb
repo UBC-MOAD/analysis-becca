{
 "cells": [
  {
   "cell_type": "markdown",
   "metadata": {},
   "source": [
    "# Within Salish Sea SSC and CIOPS compare"
   ]
  },
  {
   "cell_type": "code",
   "execution_count": 1,
   "metadata": {},
   "outputs": [],
   "source": [
    "import numpy as np\n",
    "import xarray as xr\n",
    "import scipy.interpolate as interp\n",
    "import pandas as pd\n",
    "import matplotlib.pyplot as plt"
   ]
  },
  {
   "cell_type": "code",
   "execution_count": 2,
   "metadata": {},
   "outputs": [],
   "source": [
    "def get_data(mydata, depthf, section, starttime, endtime):\n",
    "    depths = depthf(mydata.final_z[(mydata.final_section==section) & (mydata.init_t >= starttime) & (mydata.init_t <= endtime)]-1.)[0]\n",
    "    transports = mydata.final_transp[(mydata.final_section==section) & (mydata.init_t >= starttime) & (mydata.init_t <= endtime)]\n",
    "    temp = mydata.final_temp[(mydata.final_section==section) & (mydata.init_t >= starttime) & (mydata.init_t <= endtime)]\n",
    "    sal = mydata.final_salt[(mydata.final_section==section) & (mydata.init_t >= starttime) & (mydata.init_t <= endtime)]\n",
    "    return depths, transports, temp, sal"
   ]
  },
  {
   "cell_type": "code",
   "execution_count": 7,
   "metadata": {},
   "outputs": [],
   "source": [
    "def get_all_data(file, mymesh):\n",
    "    \n",
    "    depthf = interp.interp1d(mymesh.z, mymesh.gdept_1d)\n",
    "    \n",
    "    yearjumps = [0,1,-2,1,0,1,0,1,1,0,1,0]\n",
    "    starttime = 1\n",
    "    endtime = 720\n",
    "    sections = [0,2,3,4,5,6] #meander, admiralty, deception, rosario, sanjuan, and haro (same for both models)\n",
    "\n",
    "    depths = np.array([])\n",
    "    transports = np.array([])\n",
    "    temp = np.array([])\n",
    "    sal = np.array([])\n",
    "    month = np.array([])\n",
    "    sec = np.array([])\n",
    "\n",
    "    mydata = xr.open_dataset(file)\n",
    "    for i in range(12):\n",
    "        for section in sections:\n",
    "            tempD, tempT, tempt1, tempt2 = get_data(mydata, depthf, section, starttime+(i*720+(sum(yearjumps[:i+1]*24))), endtime+(i*720+(sum(yearjumps[:i+1]*24))))\n",
    "\n",
    "            depths = np.append(depths, tempD)\n",
    "            transports = np.append(transports, tempT/720)\n",
    "            temp = np.append(temp, tempt1)\n",
    "            sal = np.append(sal, tempt2)\n",
    "            month = np.append(month, np.full(len(tempD),i+1))\n",
    "            sec = np.append(sec, np.full(len(tempD),section))\n",
    "    \n",
    "    return depths, transports, month, temp, sal, sec"
   ]
  },
  {
   "cell_type": "code",
   "execution_count": 4,
   "metadata": {},
   "outputs": [],
   "source": [
    "mymesh_SSC = xr.open_dataset('/home/sallen/MEOPAR/grid/mesh_mask201702.nc')\n",
    "\n",
    "mymesh_CIOPS = xr.open_dataset('/ocean/mdunphy/CIOPSW-BC12/grid/mesh_mask_Bathymetry_NEP36_714x1020_SRTM30v11_NOAA3sec_WCTSS_JdeFSalSea.nc')"
   ]
  },
  {
   "cell_type": "code",
   "execution_count": 5,
   "metadata": {},
   "outputs": [],
   "source": [
    "file_SSC = '/ocean/rbeutel/MOAD/analysis-becca/Ariane/1yr_runs/201905_1hr/forward_01jan17/ariane_positions_quantitative.nc'\n",
    "file_CIOPS = '/ocean/rbeutel/MOAD/analysis-becca/Ariane/CIOPS_SS_1yr/forward_01jan17/ariane_positions_quantitative.nc'"
   ]
  },
  {
   "cell_type": "code",
   "execution_count": 9,
   "metadata": {},
   "outputs": [],
   "source": [
    "depths, transports, month, temp, sal, sec = get_all_data(file_SSC, mymesh_SSC)\n",
    "d = {'month':month, 'section':sec, 'transport': transports, 'temperature':temp, 'salinity':sal, 'depth':depths}\n",
    "SSC = pd.DataFrame(data=d)"
   ]
  },
  {
   "cell_type": "code",
   "execution_count": null,
   "metadata": {},
   "outputs": [],
   "source": [
    "depths, transports, month, temp, sal, sec = get_all_data(file_CIOPS, mymesh_CIOPS)\n",
    "d = {'month':month, 'section':sec, 'transport': transports, 'temperature':temp, 'salinity':sal, 'depth':depths}\n",
    "CIOPS = pd.DataFrame(data=d)"
   ]
  },
  {
   "cell_type": "code",
   "execution_count": null,
   "metadata": {},
   "outputs": [],
   "source": []
  }
 ],
 "metadata": {
  "kernelspec": {
   "display_name": "ariane",
   "language": "python",
   "name": "ariane"
  },
  "language_info": {
   "codemirror_mode": {
    "name": "ipython",
    "version": 3
   },
   "file_extension": ".py",
   "mimetype": "text/x-python",
   "name": "python",
   "nbconvert_exporter": "python",
   "pygments_lexer": "ipython3",
   "version": "3.10.2"
  }
 },
 "nbformat": 4,
 "nbformat_minor": 4
}
