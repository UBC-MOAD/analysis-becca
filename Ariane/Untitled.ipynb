{
 "cells": [
  {
   "cell_type": "markdown",
   "metadata": {},
   "source": [
    "# Monthly Run Forward and Backward to the JDF"
   ]
  },
  {
   "cell_type": "code",
   "execution_count": 1,
   "metadata": {},
   "outputs": [],
   "source": [
    "#import required libraries\n",
    "import arrow\n",
    "import datetime\n",
    "import numpy as np\n",
    "import os\n",
    "import xarray as xr\n",
    "import matplotlib.pyplot as plt"
   ]
  },
  {
   "cell_type": "code",
   "execution_count": 2,
   "metadata": {},
   "outputs": [],
   "source": [
    "def calculate_all(section, allv, folder):\n",
    "    final = {}\n",
    "    mean = {}    \n",
    "    filename = 'ariane_positions_quantitative.nc'\n",
    "    fullfile = os.path.join('/ocean/rbeutel/MOAD/analysis-becca/Ariane/salish_manydays/',folder, filename)\n",
    "    try:\n",
    "        if os.stat(fullfile).st_size > 0:\n",
    "            filegood = True\n",
    "            data = xr.open_dataset(fullfile)\n",
    "            final_section = data.variables['final_section'][:]\n",
    "            final_transport = data.variables['final_transp'][:]\n",
    "            transport = np.sum(np.where(final_section == section, final_transport, 0)) \n",
    "            #transport= the sum of particles through this section (m3/s), same as stats.txt summary once divided by 24\n",
    "            for variable in allv:\n",
    "                #this loop calculates the mean values shown in stats.txt final state tables\n",
    "                if variable == 'final_age':\n",
    "                    scale = 86400. # convert from seconds to days\n",
    "                else:\n",
    "                    scale = 1.\n",
    "                final[variable] = data.variables[variable][:]/scale\n",
    "                mean[variable] = np.sum(np.where(final_section == section, final_transport*final[variable], 0))/transport\n",
    "        else:\n",
    "            filegood = False\n",
    "            transport = float('NaN')\n",
    "            print (\"empty file\")\n",
    "    except OSError:\n",
    "        filegood = False\n",
    "        transport = float('NaN')\n",
    "        print ('Missing Data')\n",
    "    return filegood, transport/24., mean"
   ]
  },
  {
   "cell_type": "code",
   "execution_count": 3,
   "metadata": {},
   "outputs": [],
   "source": [
    "def get_data_all(start, endtime, section, allv, folder): \n",
    "    #pretty sure the only difference between this and calculate_all is that this one seperates into days (susan wants me to do for whole month)\n",
    "    timerange = arrow.Arrow.range('day', start, endtime)\n",
    "    length = (endtime-start).days + 1\n",
    "    transport = np.zeros(length)\n",
    "    mean = {}\n",
    "    for variable in allv:\n",
    "        mean[variable] = np.zeros(length)\n",
    "    time = []\n",
    "    for i, r in enumerate(timerange):\n",
    "        dir1 = r.format('DDMMMYY').lower()\n",
    "#        print (dir1)\n",
    "        filegood, transport[i], meanday = calculate_all(section, allv, folder)\n",
    "        for variable in allv:\n",
    "            if filegood:\n",
    "                mean[variable][i] = meanday[variable]\n",
    "            else:\n",
    "                mean[variable][i] = float('NaN')\n",
    "        time.append(r.datetime)\n",
    "    return transport[0], mean['final_salt'][0], mean['final_temp'][0]"
   ]
  },
  {
   "cell_type": "code",
   "execution_count": 4,
   "metadata": {},
   "outputs": [],
   "source": [
    "mar_for = ['haro_forward_01mar19','rosario_forward_01mar19','sanjuan_forward_01mar19','admilralty_forward_01mar19' ,'deception_forward_01mar19']\n",
    "mar_back =['haro_backward_01mar19','rosario_backward_01mar19','sanjuan_backward_01mar19','admilralty_backward_01mar19','deception_backward_01mar19']\n",
    "\n",
    "jun_for = ['haro_forward_01jun19','rosario_forward_01jun19','sanjuan_forward_01jun19','admiralty_forward_01jun19','deception_forward_01jun19']\n",
    "jun_back = ['haro_backward_01jun19','rosario_backward_01jun19','sanjuan_backward_01jun19','admiralty_backward_01jun19','deception_backward_01jun19']\n",
    "\n",
    "sep_for = ['haro_forward_01sep19','rosario_forward_01sep19','sanjuan_forward_01sep19','admilralty_forward_01sep19','deception_forward_01sep19']\n",
    "sep_back = ['haro_backward_01sep19','rosario_backward_01sep19','sanjuan_backward_01sep19','admilralty_backward_01sep19','deception_backward_01sep19']\n",
    "\n",
    "dec_for = ['haro_forward_01dec19','rosario_forward_01dec19','sanjuan_forward_01dec19','admiralty_forward_01dec19' ,'deception_forward_01dec19']\n",
    "dec_back =['haro_backward_01dec19','rosario_backward_01dec19','sanjuan_backward_01dec19','admiralty_backward_01dec19','deception_backward_01dec19']\n",
    "\n",
    "\n",
    "\n",
    "allv = ['final_age', 'final_depth', 'final_salt', 'final_temp', 'final_lon', \n",
    "        'init_depth', 'init_salt', 'init_temp', 'init_lat']\n",
    "section = 6 #Jordan River is always section 6 in every run"
   ]
  },
  {
   "cell_type": "code",
   "execution_count": 5,
   "metadata": {},
   "outputs": [],
   "source": [
    "start_mar = datetime.datetime(2019, 3, 1) #first full day\n",
    "end_mar = datetime.datetime(2019, 3, 30) #last full day\n",
    "\n",
    "start_jun = datetime.datetime(2019, 6, 1) #first full day\n",
    "end_jun = datetime.datetime(2019, 6, 30) #last full day\n",
    "\n",
    "start_sep = datetime.datetime(2019, 9, 1) #first full day\n",
    "end_sep = datetime.datetime(2019, 9, 30) #last full day\n",
    "\n",
    "start_dec = datetime.datetime(2019, 12, 1) #first full day\n",
    "end_dec = datetime.datetime(2019, 12, 30) #last full day"
   ]
  },
  {
   "cell_type": "code",
   "execution_count": 6,
   "metadata": {},
   "outputs": [],
   "source": [
    "mar_for_temp, mar_for_sal, mar_for_trans = np.zeros(5), np.zeros(5), np.zeros(5)\n",
    "mar_bac_temp, mar_bac_sal, mar_bac_trans = np.zeros(5), np.zeros(5), np.zeros(5)\n",
    "\n",
    "jun_for_temp, jun_for_sal, jun_for_trans = np.zeros(5), np.zeros(5), np.zeros(5)\n",
    "jun_bac_temp, jun_bac_sal, jun_bac_trans = np.zeros(5), np.zeros(5), np.zeros(5)\n",
    "\n",
    "sep_for_temp, sep_for_sal, sep_for_trans = np.zeros(5), np.zeros(5), np.zeros(5)\n",
    "sep_bac_temp, sep_bac_sal, sep_bac_trans = np.zeros(5), np.zeros(5), np.zeros(5)\n",
    "\n",
    "dec_for_temp, dec_for_sal, dec_for_trans = np.zeros(5), np.zeros(5), np.zeros(5)\n",
    "dec_bac_temp, dec_bac_sal, dec_bac_trans = np.zeros(5), np.zeros(5), np.zeros(5)"
   ]
  },
  {
   "cell_type": "code",
   "execution_count": 7,
   "metadata": {},
   "outputs": [
    {
     "name": "stdout",
     "output_type": "stream",
     "text": [
      "Missing Data\n",
      "Missing Data\n",
      "Missing Data\n",
      "Missing Data\n",
      "Missing Data\n",
      "Missing Data\n",
      "Missing Data\n",
      "Missing Data\n",
      "Missing Data\n",
      "Missing Data\n",
      "Missing Data\n",
      "Missing Data\n",
      "Missing Data\n",
      "Missing Data\n",
      "Missing Data\n",
      "Missing Data\n",
      "Missing Data\n",
      "Missing Data\n",
      "Missing Data\n",
      "Missing Data\n",
      "Missing Data\n",
      "Missing Data\n",
      "Missing Data\n",
      "Missing Data\n",
      "Missing Data\n",
      "Missing Data\n",
      "Missing Data\n",
      "Missing Data\n",
      "Missing Data\n",
      "Missing Data\n",
      "Missing Data\n",
      "Missing Data\n",
      "Missing Data\n",
      "Missing Data\n",
      "Missing Data\n",
      "Missing Data\n",
      "Missing Data\n",
      "Missing Data\n",
      "Missing Data\n",
      "Missing Data\n",
      "Missing Data\n",
      "Missing Data\n",
      "Missing Data\n",
      "Missing Data\n",
      "Missing Data\n",
      "Missing Data\n",
      "Missing Data\n",
      "Missing Data\n",
      "Missing Data\n",
      "Missing Data\n",
      "Missing Data\n",
      "Missing Data\n",
      "Missing Data\n",
      "Missing Data\n",
      "Missing Data\n",
      "Missing Data\n",
      "Missing Data\n",
      "Missing Data\n",
      "Missing Data\n",
      "Missing Data\n",
      "Missing Data\n",
      "Missing Data\n",
      "Missing Data\n",
      "Missing Data\n",
      "Missing Data\n",
      "Missing Data\n",
      "Missing Data\n",
      "Missing Data\n",
      "Missing Data\n",
      "Missing Data\n",
      "Missing Data\n",
      "Missing Data\n",
      "Missing Data\n",
      "Missing Data\n",
      "Missing Data\n",
      "Missing Data\n",
      "Missing Data\n",
      "Missing Data\n",
      "Missing Data\n",
      "Missing Data\n",
      "Missing Data\n",
      "Missing Data\n",
      "Missing Data\n",
      "Missing Data\n",
      "Missing Data\n",
      "Missing Data\n",
      "Missing Data\n",
      "Missing Data\n",
      "Missing Data\n",
      "Missing Data\n",
      "Missing Data\n",
      "Missing Data\n",
      "Missing Data\n",
      "Missing Data\n",
      "Missing Data\n",
      "Missing Data\n",
      "Missing Data\n",
      "Missing Data\n",
      "Missing Data\n",
      "Missing Data\n",
      "Missing Data\n",
      "Missing Data\n",
      "Missing Data\n",
      "Missing Data\n",
      "Missing Data\n",
      "Missing Data\n",
      "Missing Data\n",
      "Missing Data\n",
      "Missing Data\n",
      "Missing Data\n",
      "Missing Data\n",
      "Missing Data\n",
      "Missing Data\n",
      "Missing Data\n",
      "Missing Data\n",
      "Missing Data\n",
      "Missing Data\n",
      "Missing Data\n",
      "Missing Data\n",
      "Missing Data\n",
      "Missing Data\n",
      "Missing Data\n",
      "Missing Data\n",
      "Missing Data\n",
      "Missing Data\n",
      "Missing Data\n",
      "Missing Data\n",
      "Missing Data\n",
      "Missing Data\n",
      "Missing Data\n",
      "Missing Data\n",
      "Missing Data\n",
      "Missing Data\n",
      "Missing Data\n",
      "Missing Data\n",
      "Missing Data\n",
      "Missing Data\n",
      "Missing Data\n",
      "Missing Data\n",
      "Missing Data\n",
      "Missing Data\n",
      "Missing Data\n",
      "Missing Data\n",
      "Missing Data\n",
      "Missing Data\n",
      "Missing Data\n",
      "Missing Data\n",
      "Missing Data\n",
      "Missing Data\n",
      "Missing Data\n"
     ]
    }
   ],
   "source": [
    "for i in range(len(mar_for_temp)):\n",
    "    mar_for_trans[i], mar_for_sal[i], mar_for_temp[i] = get_data_all(start_mar, end_mar, section, allv, mar_for[i])\n",
    "    mar_bac_trans[i], mar_bac_sal[i], mar_bac_temp[i] = get_data_all(start_mar, end_mar, section, allv, mar_back[i])\n",
    "    \n",
    "    jun_for_trans[i], jun_for_sal[i], jun_for_temp[i] = get_data_all(start_jun, end_jun, section, allv, jun_for[i])\n",
    "    jun_bac_trans[i], jun_bac_sal[i], jun_bac_temp[i] = get_data_all(start_jun, end_jun, section, allv, jun_back[i])\n",
    "    \n",
    "    sep_for_trans[i], sep_for_sal[i], sep_for_temp[i] = get_data_all(start_jun, end_jun, section, allv, sep_for[i])\n",
    "    sep_bac_trans[i], sep_bac_sal[i], sep_bac_temp[i] = get_data_all(start_jun, end_jun, section, allv, sep_back[i])\n",
    "    \n",
    "    dec_for_trans[i], dec_for_sal[i], dec_for_temp[i] = get_data_all(start_dec, end_dec, section, allv, dec_for[i])\n",
    "    dec_bac_trans[i], dec_bac_sal[i], dec_bac_temp[i] = get_data_all(start_dec, end_dec, section, allv, dec_back[i])"
   ]
  },
  {
   "cell_type": "code",
   "execution_count": 8,
   "metadata": {},
   "outputs": [
    {
     "data": {
      "text/plain": [
       "Text(0, 0.5, 'Temperature (C$\\\\degree$)')"
      ]
     },
     "execution_count": 8,
     "metadata": {},
     "output_type": "execute_result"
    },
    {
     "data": {
      "image/png": "[encoded data removed]",
      "text/plain": [
       "<Figure size 1440x432 with 3 Axes>"
      ]
     },
     "metadata": {
      "needs_background": "light"
     },
     "output_type": "display_data"
    }
   ],
   "source": [
    "#backwards - refers to a backwards run, source determination, FROM the JDF TO the listed straits\n",
    "x = ['Haro', 'Rosario', 'San Juan', 'Admiralty', 'Deception']\n",
    "fig, axs = plt.subplots(1, 3, figsize=(20, 6))\n",
    "\n",
    "axs[0].scatter(x, mar_bac_trans, label = 'march')\n",
    "axs[0].scatter(x, sep_bac_trans, label = 'september')\n",
    "axs[0].scatter(x, jun_bac_trans, label = 'june')\n",
    "axs[0].scatter(x, dec_bac_trans, label = 'december')\n",
    "axs[0].set_ylabel('Transport (m$^{3}$ s$^{-1}$)')\n",
    "axs[0].legend()\n",
    "\n",
    "axs[1].scatter(x, mar_bac_sal)#, label = 'march salinity')\n",
    "axs[1].scatter(x, sep_bac_sal)#, label = 'september salinity')\n",
    "axs[1].scatter(x, jun_bac_sal)\n",
    "axs[1].scatter(x, dec_bac_sal)\n",
    "axs[1].set_ylabel('Salinity (g kg$^{-1}$)')\n",
    "axs[1].set_title('Backwards', fontsize = 14)\n",
    "\n",
    "axs[2].scatter(x, mar_bac_temp)#, label = 'march temperature')\n",
    "axs[2].scatter(x, sep_bac_temp)#, label = 'september temperature')\n",
    "axs[2].scatter(x, jun_bac_temp)\n",
    "axs[2].scatter(x, dec_bac_temp)\n",
    "axs[2].set_ylabel('Temperature (C$\\degree$)')"
   ]
  },
  {
   "cell_type": "code",
   "execution_count": 9,
   "metadata": {},
   "outputs": [
    {
     "data": {
      "text/plain": [
       "Text(0, 0.5, 'Temperature (C$\\\\degree$)')"
      ]
     },
     "execution_count": 9,
     "metadata": {},
     "output_type": "execute_result"
    },
    {
     "data": {
      "image/png": "[encoded data removed]",
      "text/plain": [
       "<Figure size 1440x432 with 3 Axes>"
      ]
     },
     "metadata": {
      "needs_background": "light"
     },
     "output_type": "display_data"
    }
   ],
   "source": [
    "#forwards - refers to a forward run FROM the listed straits TO the JDF\n",
    "x = ['Haro', 'Rosario', 'San Juan', 'Admiralty', 'Deception']\n",
    "fig, axs = plt.subplots(1, 3, figsize=(20, 6))\n",
    "\n",
    "axs[0].scatter(x, mar_for_trans, label = 'march')\n",
    "axs[0].scatter(x, sep_for_trans, label = 'september')\n",
    "axs[0].scatter(x, jun_for_trans, label = 'june')\n",
    "axs[0].scatter(x, dec_for_trans, label = 'december')\n",
    "axs[0].set_ylabel('Transport (m$^{3}$ s$^{-1}$)')\n",
    "axs[0].legend()\n",
    "\n",
    "axs[1].scatter(x, mar_for_sal)#, label = 'march salinity')\n",
    "axs[1].scatter(x, sep_for_sal)#, label = 'september salinity')\n",
    "axs[1].scatter(x, jun_for_sal)\n",
    "axs[1].scatter(x, dec_for_sal)\n",
    "axs[1].set_ylabel('Salinity (g kg$^{-1}$)')\n",
    "axs[1].set_title('Forwards', fontsize = 14)\n",
    "\n",
    "axs[2].scatter(x, mar_for_temp)#, label = 'march temperature')\n",
    "axs[2].scatter(x, sep_for_temp)#, label = 'september temperature')\n",
    "axs[2].scatter(x, jun_for_temp)\n",
    "axs[2].scatter(x, dec_for_temp)\n",
    "axs[2].set_ylabel('Temperature (C$\\degree$)')"
   ]
  },
  {
   "cell_type": "code",
   "execution_count": null,
   "metadata": {},
   "outputs": [],
   "source": []
  },
  {
   "cell_type": "code",
   "execution_count": null,
   "metadata": {},
   "outputs": [],
   "source": []
  }
 ],
 "metadata": {
  "kernelspec": {
   "display_name": "OceanParcels",
   "language": "python",
   "name": "oceanparcels"
  },
  "language_info": {
   "codemirror_mode": {
    "name": "ipython",
    "version": 3
   },
   "file_extension": ".py",
   "mimetype": "text/x-python",
   "name": "python",
   "nbconvert_exporter": "python",
   "pygments_lexer": "ipython3",
   "version": "3.8.8"
  }
 },
 "nbformat": 4,
 "nbformat_minor": 4
}
