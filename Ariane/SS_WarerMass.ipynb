{
 "cells": [
  {
   "cell_type": "markdown",
   "metadata": {},
   "source": [
    "# Where do the water masses go in the Salish Sea?\n",
    "Using the same water mass seperations as in CIOPS"
   ]
  },
  {
   "cell_type": "code",
   "execution_count": 3,
   "metadata": {},
   "outputs": [],
   "source": [
    "import xarray as xr\n",
    "import numpy as np\n",
    "import pandas as pd\n",
    "import matplotlib.pyplot as plt\n",
    "import scipy.interpolate as interp\n",
    "import datetime as dt\n",
    "\n",
    "import cmocean as cm\n",
    "from matplotlib.patches import Rectangle\n",
    "from matplotlib.collections import PatchCollection\n",
    "from dateutil.relativedelta import relativedelta\n",
    "%matplotlib inline"
   ]
  },
  {
   "cell_type": "code",
   "execution_count": 82,
   "metadata": {},
   "outputs": [],
   "source": [
    "def get_data(mydata, starttime, endtime, time):\n",
    "    salt = mydata.init_salt[(mydata.init_t >= starttime) & (mydata.init_t <= endtime)]\n",
    "    temp = mydata.init_t[(mydata.init_t >= starttime) & (mydata.init_t <= endtime)]\n",
    "    depth = depthf(mydata.init_z[(mydata.init_t >= starttime) & (mydata.init_t <= endtime)]-1.)[0]\n",
    "    section = mydata.final_section[(mydata.init_t >= starttime) & (mydata.init_t <= endtime)]\n",
    "    trans = mydata.init_transp[(mydata.init_t >= starttime) & (mydata.init_t <= endtime)]/(time)\n",
    "    lons = mydata.final_lon[(mydata.init_t >= starttime) & (mydata.init_t <= endtime)]\n",
    "    return salt, temp, depth, section, trans, lons"
   ]
  },
  {
   "cell_type": "code",
   "execution_count": 4,
   "metadata": {},
   "outputs": [],
   "source": [
    "mymesh = xr.open_dataset('/home/sallen/MEOPAR/grid/mesh_mask201702.nc')\n",
    "depthf = interp.interp1d(mymesh.z, mymesh.gdept_1d)"
   ]
  },
  {
   "cell_type": "code",
   "execution_count": 5,
   "metadata": {},
   "outputs": [],
   "source": [
    "# section numbers\n",
    "meander = 0\n",
    "admiralty = 2\n",
    "deception = 3\n",
    "rosario = 4\n",
    "sanjuan = 5\n",
    "haro = 6\n",
    "sec_name = ['meander', 'admiralty', 'deception', 'rosario', 'sanjuan', 'haro']"
   ]
  },
  {
   "cell_type": "code",
   "execution_count": 6,
   "metadata": {},
   "outputs": [],
   "source": [
    "def draw_patches(fmask, lonW, lonE, t_dist, t_depths): #draw ground part of cross section\n",
    "    topo = []\n",
    "    for i in range(lonW,lonE):\n",
    "        for j in range(39):\n",
    "            if fmask[j, i] == 0:\n",
    "                rect = Rectangle((t_dist[i], t_depths[j]), t_dist[i+1]-t_dist[i], t_depths[j+1]-t_depths[j])\n",
    "                topo.append(rect)\n",
    "    pc = PatchCollection(topo, facecolors='lightgray', zorder=3)\n",
    "    return(pc)"
   ]
  },
  {
   "cell_type": "code",
   "execution_count": 7,
   "metadata": {},
   "outputs": [],
   "source": [
    "#lets make a fun lil matrix with all of the info we need about every channel to run the cross-section code\n",
    "#in the format [section, jgridW, jgridE, figrid, maxdepth]\n",
    "admiralty = [2, 255, 267, 204, 100]\n",
    "rosario = [4, 286, 307, 266, 100]\n",
    "sanjuan = [5, 264, 266, 280, 100]\n",
    "haro = [6, 218, 242, 304, 300]\n",
    "\n",
    "#in the format [section, jgridS, jgridN, figrid, maxdepth]\n",
    "decep = [3, 246, 247, 309, 20]"
   ]
  },
  {
   "cell_type": "code",
   "execution_count": 81,
   "metadata": {},
   "outputs": [],
   "source": [
    "def FluxCS(lonW, lonE, figrid, maxdepth, ax, lons, depths, transports):\n",
    "    igrid = figrid-1\n",
    "    fmask = mymesh.fmask[0, :, igrid]\n",
    "    tmask = mymesh.tmask[0]\n",
    "    nav_lon = mymesh.nav_lon[igrid]\n",
    "#     time = 720\n",
    "    \n",
    "#     lons = mydata.init_lon[(mydata.final_section != 0)]\n",
    "    \n",
    "    t_lons = mymesh.glamt[0, igrid]\n",
    "    m2lon = ((t_lons[lonE]-t_lons[lonW])/(mymesh.e1t[0, igrid, lonW:lonE].sum())).values\n",
    "#     print(m2lon)\n",
    "    t_dist = t_lons/m2lon\n",
    "    t_depths = mymesh.gdept_1d[0,:]\n",
    "    \n",
    "    xs, ys = np.meshgrid(np.array(t_dist), np.array(t_depths))\n",
    "    \n",
    "    dist = lons/m2lon\n",
    "#     depths = depthf(mydata.init_z[(mydata.final_section != 0)]-1.)[0]\n",
    "#     transports = mydata.init_transp[(mydata.final_section != 0)]/time\n",
    "    \n",
    "    vmax = 1/sum(transports)\n",
    "    \n",
    "    H, xedges, yedges = np.histogram2d(dist, depths, bins=[np.array(t_dist[lonW-1:lonE]), t_depths],weights= transports, density= True)\n",
    "    H = np.where(H>0, H, H*np.nan)\n",
    "\n",
    "    X, Y = np.meshgrid(xedges, yedges)\n",
    "    cmap = cm.cm.speed\n",
    "    cmap.set_bad('white')\n",
    "    im = ax.pcolormesh(X, Y, H.T, vmax = vmax, vmin = 0, cmap=cmap)\n",
    "\n",
    "    cb1 = fig.colorbar(im, ax=ax)\n",
    "    cb1.set_ticks([0, vmax])\n",
    "    cb1.set_ticklabels([0, np.round(((vmax * sum(transports))),2)]) \n",
    "    cb1.set_label('m s$^{-1}$', labelpad=-20)\n",
    "    \n",
    "    pc = draw_patches(fmask, lonW-2, lonE, np.array(t_dist), np.array(t_depths))\n",
    "    ax.add_collection(pc)\n",
    "\n",
    "    ax.invert_yaxis()\n",
    "    ax.set_xticks([t_dist[lonW+1], t_dist[lonE-1]])\n",
    "    ax.set_ylabel('Depth [m]')\n",
    "    ax.set_xticklabels(np.round([t_lons[lonW+1], t_lons[lonE-1]],2))\n",
    "    ax.set_xlim((t_dist[lonW-2], t_dist[lonE]))\n",
    "    ax.set_ylim((maxdepth, 0))\n",
    "#     ax.set_title(str(title))\n",
    "    mydata.close()"
   ]
  },
  {
   "cell_type": "markdown",
   "metadata": {},
   "source": [
    "## summer 2017"
   ]
  },
  {
   "cell_type": "code",
   "execution_count": 61,
   "metadata": {},
   "outputs": [],
   "source": [
    "yearjumps = [0,1,-2,1,0,1,0,1,1,0,1,0]\n",
    "str_mo = ['jan', 'feb', 'mar', 'apr','may', 'jun', 'jul', 'aug', 'sep','oct', 'nov', 'dec']\n",
    "sum_start = 1+(5*720+(sum(yearjumps[:5+1]*24)))\n",
    "sum_end = 720+(8*720+(sum(yearjumps[:8+1]*24)))\n",
    "\n",
    "file = '/ocean/rbeutel/MOAD/analysis-becca/Ariane/1yr_runs/201905_1hr/forward_01jan17/ariane_positions_quantitative.nc'\n",
    "mydata = xr.open_dataset(file)\n",
    "salt, temp, depth, section, trans, lons = get_data(mydata, sum_start, sum_end, sum_end-sum_start+1)"
   ]
  },
  {
   "cell_type": "code",
   "execution_count": 62,
   "metadata": {},
   "outputs": [],
   "source": [
    "d = {'salt': salt, 'temp': temp, 'depth':depth, 'section':section, 'transport':trans, 'lon':lons}\n",
    "dfS = pd.DataFrame(data=d)"
   ]
  },
  {
   "cell_type": "code",
   "execution_count": 77,
   "metadata": {},
   "outputs": [],
   "source": [
    "upwelled = dfS[(dfS.depth <= 200) & (dfS.salt >= 32)]\n",
    "cuc = dfS[(dfS.depth > 200) & (dfS.salt >= 32)]\n",
    "columbia = dfS[(dfS.salt < 32)]"
   ]
  },
  {
   "cell_type": "code",
   "execution_count": 8,
   "metadata": {},
   "outputs": [
    {
     "data": {
      "text/plain": [
       "[82.48644651961337, 6.267863370364149, 11.245690110022469]"
      ]
     },
     "execution_count": 8,
     "metadata": {},
     "output_type": "execute_result"
    }
   ],
   "source": [
    "[np.sum(upwelled.transport)/np.sum(df.transport)*100,np.sum(cuc.transport)/np.sum(df.transport)*100,\n",
    "np.sum(columbia.transport)/np.sum(df.transport)*100]"
   ]
  },
  {
   "cell_type": "code",
   "execution_count": 9,
   "metadata": {},
   "outputs": [
    {
     "name": "stdout",
     "output_type": "stream",
     "text": [
      "advects back out = 78.86193130464324\n",
      "haro = 15.036141234040171\n",
      "sanjuan = 0.8025543181691127\n",
      "rosario = 1.6676706078259846\n",
      "admiralty = 3.61407399127876\n",
      "deception = 0.017539038600961242\n"
     ]
    }
   ],
   "source": [
    "# lets see what sections these groups get into \n",
    "# first upwelled\n",
    "print('advects back out = ' + str(sum(upwelled.transport[upwelled.section == meander])/np.sum(upwelled.transport)*100))\n",
    "print('haro = ' + str(sum(upwelled.transport[upwelled.section == haro])/np.sum(upwelled.transport)*100))\n",
    "print('sanjuan = ' + str(sum(upwelled.transport[upwelled.section == sanjuan])/np.sum(upwelled.transport)*100))\n",
    "print('rosario = ' + str(sum(upwelled.transport[upwelled.section == rosario])/np.sum(upwelled.transport)*100))\n",
    "print('admiralty = ' + str(sum(upwelled.transport[upwelled.section == admiralty])/np.sum(upwelled.transport)*100))\n",
    "print('deception = ' + str(sum(upwelled.transport[upwelled.section == deception])/np.sum(upwelled.transport)*100))"
   ]
  },
  {
   "cell_type": "code",
   "execution_count": 10,
   "metadata": {},
   "outputs": [
    {
     "name": "stdout",
     "output_type": "stream",
     "text": [
      "advects back out = 88.46222790645251\n",
      "haro = 8.610096977372251\n",
      "sanjuan = 0.4545295871380527\n",
      "rosario = 0.8177067747539721\n",
      "admiralty = 1.6480737956203904\n",
      "deception = 0.007364958662847872\n"
     ]
    }
   ],
   "source": [
    "# and deep\n",
    "print('advects back out = ' + str(sum(cuc.transport[cuc.section == meander])/np.sum(cuc.transport)*100))\n",
    "print('haro = ' + str(sum(cuc.transport[cuc.section == haro])/np.sum(cuc.transport)*100))\n",
    "print('sanjuan = ' + str(sum(cuc.transport[cuc.section == sanjuan])/np.sum(cuc.transport)*100))\n",
    "print('rosario = ' + str(sum(cuc.transport[cuc.section == rosario])/np.sum(cuc.transport)*100))\n",
    "print('admiralty = ' + str(sum(cuc.transport[cuc.section == admiralty])/np.sum(cuc.transport)*100))\n",
    "print('deception = ' + str(sum(cuc.transport[cuc.section == deception])/np.sum(cuc.transport)*100))"
   ]
  },
  {
   "cell_type": "code",
   "execution_count": 11,
   "metadata": {},
   "outputs": [
    {
     "name": "stdout",
     "output_type": "stream",
     "text": [
      "advects back out = 99.92800893015723\n",
      "haro = 0.043914367160181295\n",
      "sanjuan = 0.0019204581578246885\n",
      "rosario = 0.0067040129977496985\n",
      "admiralty = 0.01945223152815096\n",
      "deception = 0.0\n"
     ]
    }
   ],
   "source": [
    "# columbia \n",
    "print('advects back out = ' + str(sum(columbia.transport[columbia.section == meander])/np.sum(columbia.transport)*100))\n",
    "print('haro = ' + str(sum(columbia.transport[columbia.section == haro])/np.sum(columbia.transport)*100))\n",
    "print('sanjuan = ' + str(sum(columbia.transport[columbia.section == sanjuan])/np.sum(columbia.transport)*100))\n",
    "print('rosario = ' + str(sum(columbia.transport[columbia.section == rosario])/np.sum(columbia.transport)*100))\n",
    "print('admiralty = ' + str(sum(columbia.transport[columbia.section == admiralty])/np.sum(columbia.transport)*100))\n",
    "print('deception = ' + str(sum(columbia.transport[columbia.section == deception])/np.sum(columbia.transport)*100))"
   ]
  },
  {
   "cell_type": "code",
   "execution_count": 78,
   "metadata": {},
   "outputs": [],
   "source": [
    "time = 720*4"
   ]
  },
  {
   "cell_type": "code",
   "execution_count": 79,
   "metadata": {},
   "outputs": [
    {
     "data": {
      "image/png": "[encoded data removed]",
      "text/plain": [
       "<Figure size 1440x432 with 6 Axes>"
      ]
     },
     "metadata": {
      "needs_background": "light"
     },
     "output_type": "display_data"
    }
   ],
   "source": [
    "fig, ax = plt.subplots(1,3,figsize=(20,6))\n",
    "FluxCS(admiralty[1], admiralty[2], admiralty[3], admiralty[4], ax[0], np.array(upwelled.lon), np.array(upwelled.depth), np.array(upwelled.transport))\n",
    "FluxCS(haro[1], haro[2], haro[3], haro[4], ax[1], np.array(upwelled.lon), np.array(upwelled.depth), np.array(upwelled.transport))\n",
    "FluxCS(rosario[1], rosario[2], rosario[3], rosario[4], ax[2], np.array(upwelled.lon), np.array(upwelled.depth), np.array(upwelled.transport))"
   ]
  },
  {
   "cell_type": "code",
   "execution_count": 80,
   "metadata": {},
   "outputs": [
    {
     "data": {
      "image/png": "[encoded data removed]",
      "text/plain": [
       "<Figure size 1440x432 with 6 Axes>"
      ]
     },
     "metadata": {
      "needs_background": "light"
     },
     "output_type": "display_data"
    }
   ],
   "source": [
    "fig, ax = plt.subplots(1,3,figsize=(20,6))\n",
    "FluxCS(admiralty[1], admiralty[2], admiralty[3], admiralty[4], ax[0], cuc.lon, cuc.depth, cuc.transport)\n",
    "FluxCS(haro[1], haro[2], haro[3], haro[4], ax[1], cuc.lon, cuc.depth, cuc.transport)\n",
    "FluxCS(rosario[1], rosario[2], rosario[3], rosario[4], ax[2], cuc.lon, cuc.depth, cuc.transport)"
   ]
  },
  {
   "cell_type": "markdown",
   "metadata": {},
   "source": [
    "## Winter 2016/17"
   ]
  },
  {
   "cell_type": "code",
   "execution_count": 83,
   "metadata": {},
   "outputs": [],
   "source": [
    "yearjumps = [0,1,-2,1,0,1,0,1,1,0,1,0]\n",
    "str_mo = ['jan', 'feb', 'mar', 'apr','may', 'jun', 'jul', 'aug', 'sep','oct', 'nov', 'dec']\n",
    "win_start1 = 1+(9*720+(sum(yearjumps[:9+1]*24)))\n",
    "win_end1 = 720+(11*720+(sum(yearjumps[:11+1]*24)))\n",
    "\n",
    "win_start2 = 1+(0*720+(sum(yearjumps[:0+1]*24)))\n",
    "win_end2 = 720+(5*720+(sum(yearjumps[:5+1]*24)))\n",
    "\n",
    "time = (win_end1-win_start1+1) + (win_end2-win_start2+1)\n",
    "\n",
    "file = '/ocean/rbeutel/MOAD/analysis-becca/Ariane/1yr_runs/201905_1hr/forward_01jan16/ariane_positions_quantitative.nc'\n",
    "mydata = xr.open_dataset(file)\n",
    "saltW, tempW, depthW, sectionW, transW, lonsW = get_data(mydata, win_start1, win_end1, time)\n",
    "\n",
    "file = '/ocean/rbeutel/MOAD/analysis-becca/Ariane/1yr_runs/201905_1hr/forward_01jan17/ariane_positions_quantitative.nc'\n",
    "mydata = xr.open_dataset(file)\n",
    "saltS, tempS, depthS, sectionS, transS, lonsS = get_data(mydata, win_start2, win_end2, time)\n",
    "\n",
    "salt = np.append(saltW, saltS)\n",
    "temp = np.append(tempW, tempS)\n",
    "depth = np.append(depthW, depthS)\n",
    "section = np.append(sectionW, sectionS)\n",
    "trans = np.append(transW, transS)\n",
    "lons = np.append(lonsW, lonsS)"
   ]
  },
  {
   "cell_type": "code",
   "execution_count": 84,
   "metadata": {},
   "outputs": [],
   "source": [
    "d = {'salt': salt, 'temp': temp, 'depth':depth, 'section':section, 'transport':trans, 'lon': lons}\n",
    "dfW16 = pd.DataFrame(data=d)"
   ]
  },
  {
   "cell_type": "code",
   "execution_count": 85,
   "metadata": {},
   "outputs": [],
   "source": [
    "upwelled = dfW16[(dfW16.depth <= 200) & (dfW16.salt >= 32)]\n",
    "cuc = dfW16[(dfW16.depth > 200) & (dfW16.salt >= 32)]\n",
    "columbia = dfW16[(dfW16.salt < 32)]"
   ]
  },
  {
   "cell_type": "code",
   "execution_count": 15,
   "metadata": {},
   "outputs": [
    {
     "data": {
      "text/plain": [
       "[63.403783973964146, 6.166366356170525, 30.429849669865423]"
      ]
     },
     "execution_count": 15,
     "metadata": {},
     "output_type": "execute_result"
    }
   ],
   "source": [
    "[np.sum(upwelled.transport)/np.sum(df.transport)*100,np.sum(cuc.transport)/np.sum(df.transport)*100,\n",
    "np.sum(columbia.transport)/np.sum(df.transport)*100]"
   ]
  },
  {
   "cell_type": "code",
   "execution_count": 16,
   "metadata": {},
   "outputs": [
    {
     "name": "stdout",
     "output_type": "stream",
     "text": [
      "advects back out = 86.20518281324941\n",
      "haro = 9.097603288118055\n",
      "sanjuan = 0.53019990239909\n",
      "rosario = 0.9464089207634625\n",
      "admiralty = 3.0111675182564492\n",
      "deception = 0.010073688376884028\n"
     ]
    }
   ],
   "source": [
    "# lets see what sections these groups get into \n",
    "# first upwelled\n",
    "print('advects back out = ' + str(sum(upwelled.transport[upwelled.section == meander])/np.sum(upwelled.transport)*100))\n",
    "print('haro = ' + str(sum(upwelled.transport[upwelled.section == haro])/np.sum(upwelled.transport)*100))\n",
    "print('sanjuan = ' + str(sum(upwelled.transport[upwelled.section == sanjuan])/np.sum(upwelled.transport)*100))\n",
    "print('rosario = ' + str(sum(upwelled.transport[upwelled.section == rosario])/np.sum(upwelled.transport)*100))\n",
    "print('admiralty = ' + str(sum(upwelled.transport[upwelled.section == admiralty])/np.sum(upwelled.transport)*100))\n",
    "print('deception = ' + str(sum(upwelled.transport[upwelled.section == deception])/np.sum(upwelled.transport)*100))"
   ]
  },
  {
   "cell_type": "code",
   "execution_count": 17,
   "metadata": {},
   "outputs": [
    {
     "name": "stdout",
     "output_type": "stream",
     "text": [
      "advects back out = 93.48854029970028\n",
      "haro = 4.305421294243852\n",
      "sanjuan = 0.260153862976561\n",
      "rosario = 0.4206077366042773\n",
      "admiralty = 1.3420340829031492\n",
      "deception = 0.0028524863047357826\n"
     ]
    }
   ],
   "source": [
    "# and deep\n",
    "print('advects back out = ' + str(sum(cuc.transport[cuc.section == meander])/np.sum(cuc.transport)*100))\n",
    "print('haro = ' + str(sum(cuc.transport[cuc.section == haro])/np.sum(cuc.transport)*100))\n",
    "print('sanjuan = ' + str(sum(cuc.transport[cuc.section == sanjuan])/np.sum(cuc.transport)*100))\n",
    "print('rosario = ' + str(sum(cuc.transport[cuc.section == rosario])/np.sum(cuc.transport)*100))\n",
    "print('admiralty = ' + str(sum(cuc.transport[cuc.section == admiralty])/np.sum(cuc.transport)*100))\n",
    "print('deception = ' + str(sum(cuc.transport[cuc.section == deception])/np.sum(cuc.transport)*100))"
   ]
  },
  {
   "cell_type": "code",
   "execution_count": 18,
   "metadata": {},
   "outputs": [
    {
     "name": "stdout",
     "output_type": "stream",
     "text": [
      "advects back out = 97.85569637029515\n",
      "haro = 1.1634320828212685\n",
      "sanjuan = 0.09707726678581699\n",
      "rosario = 0.14877661649244175\n",
      "admiralty = 0.7172346426113841\n",
      "deception = 0.0017962889823965333\n"
     ]
    }
   ],
   "source": [
    "# columbia \n",
    "print('advects back out = ' + str(sum(columbia.transport[columbia.section == meander])/np.sum(columbia.transport)*100))\n",
    "print('haro = ' + str(sum(columbia.transport[columbia.section == haro])/np.sum(columbia.transport)*100))\n",
    "print('sanjuan = ' + str(sum(columbia.transport[columbia.section == sanjuan])/np.sum(columbia.transport)*100))\n",
    "print('rosario = ' + str(sum(columbia.transport[columbia.section == rosario])/np.sum(columbia.transport)*100))\n",
    "print('admiralty = ' + str(sum(columbia.transport[columbia.section == admiralty])/np.sum(columbia.transport)*100))\n",
    "print('deception = ' + str(sum(columbia.transport[columbia.section == deception])/np.sum(columbia.transport)*100))"
   ]
  },
  {
   "cell_type": "code",
   "execution_count": 86,
   "metadata": {},
   "outputs": [
    {
     "data": {
      "image/png": "[encoded data removed]",
      "text/plain": [
       "<Figure size 1440x432 with 6 Axes>"
      ]
     },
     "metadata": {
      "needs_background": "light"
     },
     "output_type": "display_data"
    }
   ],
   "source": [
    "fig, ax = plt.subplots(1,3,figsize=(20,6))\n",
    "FluxCS(admiralty[1], admiralty[2], admiralty[3], admiralty[4], ax[0], upwelled.lon, upwelled.depth, upwelled.transport)\n",
    "FluxCS(haro[1], haro[2], haro[3], haro[4], ax[1], upwelled.lon, upwelled.depth, upwelled.transport)\n",
    "FluxCS(rosario[1], rosario[2], rosario[3], rosario[4], ax[2], upwelled.lon, upwelled.depth, upwelled.transport)"
   ]
  },
  {
   "cell_type": "code",
   "execution_count": 87,
   "metadata": {},
   "outputs": [
    {
     "data": {
      "image/png": "[encoded data removed]",
      "text/plain": [
       "<Figure size 1440x432 with 6 Axes>"
      ]
     },
     "metadata": {
      "needs_background": "light"
     },
     "output_type": "display_data"
    }
   ],
   "source": [
    "fig, ax = plt.subplots(1,3,figsize=(20,6))\n",
    "FluxCS(admiralty[1], admiralty[2], admiralty[3], admiralty[4], ax[0], cuc.lon, cuc.depth, cuc.transport)\n",
    "FluxCS(haro[1], haro[2], haro[3], haro[4], ax[1], cuc.lon, cuc.depth, cuc.transport)\n",
    "FluxCS(rosario[1], rosario[2], rosario[3], rosario[4], ax[2], cuc.lon, cuc.depth, cuc.transport)"
   ]
  },
  {
   "cell_type": "markdown",
   "metadata": {},
   "source": [
    "## Winter 2017/18"
   ]
  },
  {
   "cell_type": "code",
   "execution_count": 88,
   "metadata": {},
   "outputs": [],
   "source": [
    "yearjumps = [0,1,-2,1,0,1,0,1,1,0,1,0]\n",
    "str_mo = ['jan', 'feb', 'mar', 'apr','may', 'jun', 'jul', 'aug', 'sep','oct', 'nov', 'dec']\n",
    "win_start = 1+(9*720+(sum(yearjumps[:9+1]*24)))\n",
    "win_end = 720+(11*720+(sum(yearjumps[:11+1]*24)))\n",
    "\n",
    "time = win_end-win_start+1+720*3\n",
    "\n",
    "file = '/ocean/rbeutel/MOAD/analysis-becca/Ariane/1yr_runs/201905_1hr/forward_01jan17/ariane_positions_quantitative.nc'\n",
    "mydata = xr.open_dataset(file)\n",
    "salt17, temp17, depth17, section17, trans17, lons17 = get_data(mydata, win_start, win_end, time)\n",
    "\n",
    "start = 1\n",
    "end = 720\n",
    "\n",
    "file = '/ocean/rbeutel/MOAD/analysis-becca/Ariane/201905_1hr/forward_01jan18/ariane_positions_quantitative.nc'\n",
    "mydata = xr.open_dataset(file)\n",
    "salt_jan, temp_jan, depth_jan, section_jan, trans_jan, lons_jan = get_data(mydata, start, end, time)\n",
    "\n",
    "file = '/ocean/rbeutel/MOAD/analysis-becca/Ariane/201905_1hr/forward_01feb18/ariane_positions_quantitative.nc'\n",
    "mydata = xr.open_dataset(file)\n",
    "salt_feb, temp_feb, depth_feb, section_feb, trans_feb, lons_feb = get_data(mydata, start, end, time)\n",
    "\n",
    "file = '/ocean/rbeutel/MOAD/analysis-becca/Ariane/201905_1hr/forward_01mar18/ariane_positions_quantitative.nc'\n",
    "mydata = xr.open_dataset(file)\n",
    "salt_mar, temp_mar, depth_mar, section_mar, trans_mar, lons_mar = get_data(mydata, start, end, time)\n",
    "\n",
    "salt = np.append(np.append(np.append(salt17, salt_jan), salt_feb), salt_mar)\n",
    "temp = np.append(np.append(np.append(temp17, temp_jan), temp_feb), temp_mar)\n",
    "depth = np.append(np.append(np.append(depth17, depth_jan), depth_feb), depth_mar)\n",
    "section = np.append(np.append(np.append(section17, section_jan), section_feb), section_mar)\n",
    "trans = np.append(np.append(np.append(trans17, trans_jan), trans_feb), trans_mar)\n",
    "lons = np.append(np.append(np.append(lons17, lons_jan), lons_feb), lons_mar)"
   ]
  },
  {
   "cell_type": "code",
   "execution_count": 89,
   "metadata": {},
   "outputs": [],
   "source": [
    "d = {'salt': salt, 'temp': temp, 'depth':depth, 'section':section, 'transport':trans, 'lon':lons}\n",
    "dfW17 = pd.DataFrame(data=d)"
   ]
  },
  {
   "cell_type": "code",
   "execution_count": 90,
   "metadata": {},
   "outputs": [],
   "source": [
    "upwelled = dfW17[(dfW17.depth <= 200) & (dfW17.salt >= 32)]\n",
    "cuc = dfW17[(dfW17.depth > 200) & (dfW17.salt >= 32)]\n",
    "columbia = dfW17[(dfW17.salt < 32)]"
   ]
  },
  {
   "cell_type": "code",
   "execution_count": 22,
   "metadata": {},
   "outputs": [
    {
     "data": {
      "text/plain": [
       "[64.51913894995195, 6.095397136901457, 29.38546391314661]"
      ]
     },
     "execution_count": 22,
     "metadata": {},
     "output_type": "execute_result"
    }
   ],
   "source": [
    "[np.sum(upwelled.transport)/np.sum(df.transport)*100,np.sum(cuc.transport)/np.sum(df.transport)*100,\n",
    "np.sum(columbia.transport)/np.sum(df.transport)*100]"
   ]
  },
  {
   "cell_type": "code",
   "execution_count": 23,
   "metadata": {},
   "outputs": [
    {
     "name": "stdout",
     "output_type": "stream",
     "text": [
      "advects back out = 85.9074923365857\n",
      "haro = 8.602617816895028\n",
      "sanjuan = 0.5376347724680806\n",
      "rosario = 0.8684338590656555\n",
      "admiralty = 2.9866354265755346\n",
      "deception = 0.010135156206366625\n"
     ]
    }
   ],
   "source": [
    "# lets see what sections these groups get into \n",
    "# first upwelled\n",
    "print('advects back out = ' + str(sum(upwelled.transport[upwelled.section == meander])/np.sum(upwelled.transport)*100))\n",
    "print('haro = ' + str(sum(upwelled.transport[upwelled.section == haro])/np.sum(upwelled.transport)*100))\n",
    "print('sanjuan = ' + str(sum(upwelled.transport[upwelled.section == sanjuan])/np.sum(upwelled.transport)*100))\n",
    "print('rosario = ' + str(sum(upwelled.transport[upwelled.section == rosario])/np.sum(upwelled.transport)*100))\n",
    "print('admiralty = ' + str(sum(upwelled.transport[upwelled.section == admiralty])/np.sum(upwelled.transport)*100))\n",
    "print('deception = ' + str(sum(upwelled.transport[upwelled.section == deception])/np.sum(upwelled.transport)*100))"
   ]
  },
  {
   "cell_type": "code",
   "execution_count": 24,
   "metadata": {},
   "outputs": [
    {
     "name": "stdout",
     "output_type": "stream",
     "text": [
      "advects back out = 92.6043680365625\n",
      "haro = 4.5736470339224535\n",
      "sanjuan = 0.2979765798597585\n",
      "rosario = 0.47534916550493256\n",
      "admiralty = 1.3799345621068348\n",
      "deception = 0.0064622023368504766\n"
     ]
    }
   ],
   "source": [
    "# and deep\n",
    "print('advects back out = ' + str(sum(cuc.transport[cuc.section == meander])/np.sum(cuc.transport)*100))\n",
    "print('haro = ' + str(sum(cuc.transport[cuc.section == haro])/np.sum(cuc.transport)*100))\n",
    "print('sanjuan = ' + str(sum(cuc.transport[cuc.section == sanjuan])/np.sum(cuc.transport)*100))\n",
    "print('rosario = ' + str(sum(cuc.transport[cuc.section == rosario])/np.sum(cuc.transport)*100))\n",
    "print('admiralty = ' + str(sum(cuc.transport[cuc.section == admiralty])/np.sum(cuc.transport)*100))\n",
    "print('deception = ' + str(sum(cuc.transport[cuc.section == deception])/np.sum(cuc.transport)*100))"
   ]
  },
  {
   "cell_type": "code",
   "execution_count": 25,
   "metadata": {},
   "outputs": [
    {
     "name": "stdout",
     "output_type": "stream",
     "text": [
      "advects back out = 97.5227071696774\n",
      "haro = 1.1339700976419966\n",
      "sanjuan = 0.08780541379432083\n",
      "rosario = 0.16373876709214663\n",
      "admiralty = 0.9096707882284927\n",
      "deception = 0.0033608758785290643\n"
     ]
    }
   ],
   "source": [
    "# columbia \n",
    "print('advects back out = ' + str(sum(columbia.transport[columbia.section == meander])/np.sum(columbia.transport)*100))\n",
    "print('haro = ' + str(sum(columbia.transport[columbia.section == haro])/np.sum(columbia.transport)*100))\n",
    "print('sanjuan = ' + str(sum(columbia.transport[columbia.section == sanjuan])/np.sum(columbia.transport)*100))\n",
    "print('rosario = ' + str(sum(columbia.transport[columbia.section == rosario])/np.sum(columbia.transport)*100))\n",
    "print('admiralty = ' + str(sum(columbia.transport[columbia.section == admiralty])/np.sum(columbia.transport)*100))\n",
    "print('deception = ' + str(sum(columbia.transport[columbia.section == deception])/np.sum(columbia.transport)*100))"
   ]
  },
  {
   "cell_type": "code",
   "execution_count": 91,
   "metadata": {},
   "outputs": [
    {
     "data": {
      "image/png": "[encoded data removed]",
      "text/plain": [
       "<Figure size 1440x432 with 6 Axes>"
      ]
     },
     "metadata": {
      "needs_background": "light"
     },
     "output_type": "display_data"
    }
   ],
   "source": [
    "fig, ax = plt.subplots(1,3,figsize=(20,6))\n",
    "FluxCS(admiralty[1], admiralty[2], admiralty[3], admiralty[4], ax[0], upwelled.lon, upwelled.depth, upwelled.transport)\n",
    "FluxCS(haro[1], haro[2], haro[3], haro[4], ax[1], upwelled.lon, upwelled.depth, upwelled.transport)\n",
    "FluxCS(rosario[1], rosario[2], rosario[3], rosario[4], ax[2], upwelled.lon, upwelled.depth, upwelled.transport)"
   ]
  },
  {
   "cell_type": "code",
   "execution_count": 92,
   "metadata": {},
   "outputs": [
    {
     "data": {
      "image/png": "[encoded data removed]",
      "text/plain": [
       "<Figure size 1440x432 with 6 Axes>"
      ]
     },
     "metadata": {
      "needs_background": "light"
     },
     "output_type": "display_data"
    }
   ],
   "source": [
    "fig, ax = plt.subplots(1,3,figsize=(20,6))\n",
    "FluxCS(admiralty[1], admiralty[2], admiralty[3], admiralty[4], ax[0], cuc.lon, cuc.depth, cuc.transport)\n",
    "FluxCS(haro[1], haro[2], haro[3], haro[4], ax[1], cuc.lon, cuc.depth, cuc.transport)\n",
    "FluxCS(rosario[1], rosario[2], rosario[3], rosario[4], ax[2], cuc.lon, cuc.depth, cuc.transport)"
   ]
  },
  {
   "cell_type": "markdown",
   "metadata": {},
   "source": [
    "# plots of water masses to straits or meander?"
   ]
  },
  {
   "cell_type": "code",
   "execution_count": null,
   "metadata": {},
   "outputs": [],
   "source": [
    "starttime = 1\n",
    "endtime = 720\n",
    "yearjumps = [0,1,-2,1,0,1,0,1,1,0,1,0]\n",
    "\n",
    "freshSOG = np.array([])\n",
    "freshOUT = np.array([])\n",
    "freshPS = np.array([])\n",
    "    \n",
    "cucSOG = np.array([])\n",
    "cucOUT = np.array([])\n",
    "cucPS = np.array([])\n",
    "    \n",
    "upSOG = np.array([])\n",
    "upOUT = np.array([])\n",
    "upPS = np.array([])\n",
    "k = np.array([])\n",
    "\n",
    "#216 and 2017\n",
    "year = [16,17]\n",
    "\n",
    "for num in year:\n",
    "    file = '/ocean/rbeutel/MOAD/analysis-becca/Ariane/1yr_runs/201905_1hr/forward_01jan'+str(num)+'/ariane_positions_quantitative.nc'\n",
    "    mydata = xr.open_dataset(file)\n",
    "    for i in range(12):\n",
    "        start, end = starttime+(i*720+(sum(yearjumps[:i+1]*24))), endtime+(i*720+(sum(yearjumps[:i+1]*24)))\n",
    "        XfreshSOG = np.sum(mydata.final_transp[np.logical_or((mydata.final_section==haro),(mydata.final_section==rosario)) & (mydata.init_salt < 32) & (mydata.init_t >= start) & (mydata.init_t <= end)])/720\n",
    "        XfreshPS = np.sum(mydata.final_transp[np.logical_or((mydata.final_section==admiralty),(mydata.final_section==deception)) & (mydata.init_salt < 32) & (mydata.init_t >= start) & (mydata.init_t <= end)])/720\n",
    "        XfreshOUT = np.sum(mydata.final_transp[(mydata.final_section==meander) & (mydata.init_salt < 32) & (mydata.init_t >= start) & (mydata.init_t <= end)])/720\n",
    "\n",
    "        XcucSOG = np.sum(mydata.final_transp[np.logical_or((mydata.final_section==haro),(mydata.final_section==rosario)) & (mydata.init_salt >= 32) & (mydata.init_depth < -200) & (mydata.init_t >= start) & (mydata.init_t <= end)])/720\n",
    "        XcucPS = np.sum(mydata.final_transp[np.logical_or((mydata.final_section==admiralty),(mydata.final_section==deception)) & (mydata.init_salt >= 32) & (mydata.init_depth < -200) & (mydata.init_t >= start) & (mydata.init_t <= end)])/720\n",
    "        XcucOUT = np.sum(mydata.final_transp[(mydata.final_section==meander) & (mydata.init_salt >= 32) & (mydata.init_depth < -200) & (mydata.init_t >= start) & (mydata.init_t <= end)])/720\n",
    "\n",
    "        XupSOG = np.sum(mydata.final_transp[np.logical_or((mydata.final_section==haro),(mydata.final_section==rosario)) & (mydata.init_salt >= 32) & (mydata.init_depth >= -200) & (mydata.init_t >= start) & (mydata.init_t <= end)])/720\n",
    "        XupPS = np.sum(mydata.final_transp[np.logical_or((mydata.final_section==admiralty),(mydata.final_section==deception)) & (mydata.init_salt >= 32) & (mydata.init_depth >= -200) & (mydata.init_t >= start) & (mydata.init_t <= end)])/720\n",
    "        XupOUT = np.sum(mydata.final_transp[(mydata.final_section==meander) & (mydata.init_salt >= 32) & (mydata.init_depth >= -200) & (mydata.init_t >= start) & (mydata.init_t <= end)])/720\n",
    "            \n",
    "        freshSOG = np.append(freshSOG, XfreshSOG)\n",
    "        freshOUT = np.append(freshOUT, XfreshOUT)\n",
    "        freshPS = np.append(freshPS, XfreshPS)\n",
    "\n",
    "        cucSOG = np.append(cucSOG, XcucSOG)\n",
    "        cucOUT = np.append(cucOUT, XcucOUT)\n",
    "        cucPS = np.append(cucPS, XcucPS)\n",
    "\n",
    "        upSOG = np.append(upSOG, XupSOG)\n",
    "        upOUT = np.append(upOUT, XupOUT)\n",
    "        upPS = np.append(upPS, XupPS)\n",
    "            \n",
    "        k = np.append(k,i)\n",
    "\n",
    "#2019 and 2018 (both done month by month)\n",
    "year = [18,19]\n",
    "str_mo = ['jan', 'feb', 'mar', 'apr', 'jun', 'jul', 'aug', 'sep', 'oct', 'nov', 'dec']\n",
    "for num in year:\n",
    "    for i in range(len(str_mo)):\n",
    "        file = '/ocean/rbeutel/MOAD/analysis-becca/Ariane/201905_1hr/forward_01'+str_mo[i]+str(num)+'/ariane_positions_quantitative.nc'\n",
    "        mydata = xr.open_dataset(file)\n",
    "        time = mydata.init_t[-1]\n",
    "\n",
    "        start, end = 1, 720\n",
    "        XfreshSOG = np.sum(mydata.final_transp[np.logical_or((mydata.final_section==haro),(mydata.final_section==rosario)) & (mydata.init_salt < 32) & (mydata.init_t >= start) & (mydata.init_t <= end)])/720\n",
    "        XfreshPS = np.sum(mydata.final_transp[np.logical_or((mydata.final_section==admiralty),(mydata.final_section==deception)) & (mydata.init_salt < 32) & (mydata.init_t >= start) & (mydata.init_t <= end)])/720\n",
    "        XfreshOUT = np.sum(mydata.final_transp[(mydata.final_section==meander) & (mydata.init_salt < 32) & (mydata.init_t >= start) & (mydata.init_t <= end)])/720\n",
    "\n",
    "        XcucSOG = np.sum(mydata.final_transp[np.logical_or((mydata.final_section==haro),(mydata.final_section==rosario)) & (mydata.init_salt >= 32) & (mydata.init_depth < -200) & (mydata.init_t >= start) & (mydata.init_t <= end)])/720\n",
    "        XcucPS = np.sum(mydata.final_transp[np.logical_or((mydata.final_section==admiralty),(mydata.final_section==deception)) & (mydata.init_salt >= 32) & (mydata.init_depth < -200) & (mydata.init_t >= start) & (mydata.init_t <= end)])/720\n",
    "        XcucOUT = np.sum(mydata.final_transp[(mydata.final_section==meander) & (mydata.init_salt >= 32) & (mydata.init_depth < -200) & (mydata.init_t >= start) & (mydata.init_t <= end)])/720\n",
    "\n",
    "        XupSOG = np.sum(mydata.final_transp[np.logical_or((mydata.final_section==haro),(mydata.final_section==rosario)) & (mydata.init_salt >= 32) & (mydata.init_depth >= -200) & (mydata.init_t >= start) & (mydata.init_t <= end)])/720\n",
    "        XupPS = np.sum(mydata.final_transp[np.logical_or((mydata.final_section==admiralty),(mydata.final_section==deception)) & (mydata.init_salt >= 32) & (mydata.init_depth >= -200) & (mydata.init_t >= start) & (mydata.init_t <= end)])/720\n",
    "        XupOUT = np.sum(mydata.final_transp[(mydata.final_section==meander) & (mydata.init_salt >= 32) & (mydata.init_depth >= -200) & (mydata.init_t >= start) & (mydata.init_t <= end)])/720\n",
    "            \n",
    "        freshSOG = np.append(freshSOG, XfreshSOG)\n",
    "        freshOUT = np.append(freshOUT, XfreshOUT)\n",
    "        freshPS = np.append(freshPS, XfreshPS)\n",
    "\n",
    "        cucSOG = np.append(cucSOG, XcucSOG)\n",
    "        cucOUT = np.append(cucOUT, XcucOUT)\n",
    "        cucPS = np.append(cucPS, XcucPS)\n",
    "\n",
    "        upSOG = np.append(upSOG, XupSOG)\n",
    "        upOUT = np.append(upOUT, XupOUT)\n",
    "        upPS = np.append(upPS, XupPS)\n",
    "        k = np.append(k,i)\n",
    "\n",
    "#2020\n",
    "file = '/ocean/rbeutel/MOAD/analysis-becca/Ariane/1yr_runs/201905_1hr/forward_01jan20/ariane_positions_quantitative.nc'\n",
    "mydata = xr.open_dataset(file)\n",
    "for i in range(12):\n",
    "    start, end = starttime+(i*720+(sum(yearjumps[:i+1]*24))), endtime+(i*720+(sum(yearjumps[:i+1]*24)))\n",
    "    XfreshSOG = np.sum(mydata.final_transp[np.logical_or((mydata.final_section==haro),(mydata.final_section==rosario)) & (mydata.init_salt < 32) & (mydata.init_t >= start) & (mydata.init_t <= end)])/720\n",
    "    XfreshPS = np.sum(mydata.final_transp[np.logical_or((mydata.final_section==admiralty),(mydata.final_section==deception)) & (mydata.init_salt < 32) & (mydata.init_t >= start) & (mydata.init_t <= end)])/720\n",
    "    XfreshOUT = np.sum(mydata.final_transp[(mydata.final_section==meander) & (mydata.init_salt < 32) & (mydata.init_t >= start) & (mydata.init_t <= end)])/720\n",
    "\n",
    "    XcucSOG = np.sum(mydata.final_transp[np.logical_or((mydata.final_section==haro),(mydata.final_section==rosario)) & (mydata.init_salt >= 32) & (mydata.init_depth < -200) & (mydata.init_t >= start) & (mydata.init_t <= end)])/720\n",
    "    XcucPS = np.sum(mydata.final_transp[np.logical_or((mydata.final_section==admiralty),(mydata.final_section==deception)) & (mydata.init_salt >= 32) & (mydata.init_depth < -200) & (mydata.init_t >= start) & (mydata.init_t <= end)])/720\n",
    "    XcucOUT = np.sum(mydata.final_transp[(mydata.final_section==meander) & (mydata.init_salt >= 32) & (mydata.init_depth < -200) & (mydata.init_t >= start) & (mydata.init_t <= end)])/720\n",
    "\n",
    "    XupSOG = np.sum(mydata.final_transp[np.logical_or((mydata.final_section==haro),(mydata.final_section==rosario)) & (mydata.init_salt >= 32) & (mydata.init_depth >= -200) & (mydata.init_t >= start) & (mydata.init_t <= end)])/720\n",
    "    XupPS = np.sum(mydata.final_transp[np.logical_or((mydata.final_section==admiralty),(mydata.final_section==deception)) & (mydata.init_salt >= 32) & (mydata.init_depth >= -200) & (mydata.init_t >= start) & (mydata.init_t <= end)])/720\n",
    "    XupOUT = np.sum(mydata.final_transp[(mydata.final_section==meander) & (mydata.init_salt >= 32) & (mydata.init_depth >= -200) & (mydata.init_t >= start) & (mydata.init_t <= end)])/720\n",
    "            \n",
    "    freshSOG = np.append(freshSOG, XfreshSOG)\n",
    "    freshOUT = np.append(freshOUT, XfreshOUT)\n",
    "    freshPS = np.append(freshPS, XfreshPS)\n",
    "\n",
    "    cucSOG = np.append(cucSOG, XcucSOG)\n",
    "    cucOUT = np.append(cucOUT, XcucOUT)\n",
    "    cucPS = np.append(cucPS, XcucPS)\n",
    "\n",
    "    upSOG = np.append(upSOG, XupSOG)\n",
    "    upOUT = np.append(upOUT, XupOUT)\n",
    "    upPS = np.append(upPS, XupPS)\n",
    "    k = np.append(k,i)"
   ]
  },
  {
   "cell_type": "code",
   "execution_count": null,
   "metadata": {},
   "outputs": [],
   "source": [
    "dates = [dt.datetime(2016,1,1)+dt.timedelta(months=i) for i in range(len(upPS))]"
   ]
  },
  {
   "cell_type": "code",
   "execution_count": null,
   "metadata": {},
   "outputs": [],
   "source": [
    "fig, ax = plt.subplots(3,1,figsize=(10,15))\n",
    "\n",
    "ax[0].plot(dates, freshSOG, 'r')#, ls='dotted')\n",
    "ax[0].plot(dates, freshOUT, 'k')#, ls='dotted')\n",
    "ax[0].plot(dates, freshPS, 'b')#, ls='dotted')\n",
    "# ax[0].set_yscale('log')\n",
    "\n",
    "ax[1].plot(dates, cucSOG, 'r')\n",
    "ax[1].plot(dates, cucOUT, 'k')\n",
    "ax[1].plot(dates, cucPS, 'b')\n",
    "# ax[1].set_yscale('log')\n",
    "\n",
    "ax[2].plot(dates, upSOG, 'r')\n",
    "ax[2].plot(dates, upOUT, 'k')\n",
    "ax[2].plot(dates, upPS, 'b')\n",
    "# ax[2].set_yscale('log')"
   ]
  },
  {
   "cell_type": "markdown",
   "metadata": {},
   "source": [
    "## lets draw where the upwelled and CUC water mass enter the channels"
   ]
  }
 ],
 "metadata": {
  "kernelspec": {
   "display_name": "ariane",
   "language": "python",
   "name": "ariane"
  },
  "language_info": {
   "codemirror_mode": {
    "name": "ipython",
    "version": 3
   },
   "file_extension": ".py",
   "mimetype": "text/x-python",
   "name": "python",
   "nbconvert_exporter": "python",
   "pygments_lexer": "ipython3",
   "version": "3.9.9"
  }
 },
 "nbformat": 4,
 "nbformat_minor": 4
}
