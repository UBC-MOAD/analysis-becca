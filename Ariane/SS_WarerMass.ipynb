{
 "cells": [
  {
   "cell_type": "markdown",
   "metadata": {},
   "source": [
    "# Where do the water masses go in the Salish Sea?\n",
    "Using the same water mass seperations as in CIOPS"
   ]
  },
  {
   "cell_type": "code",
   "execution_count": 1,
   "metadata": {},
   "outputs": [],
   "source": [
    "import xarray as xr\n",
    "import numpy as np\n",
    "import pandas as pd\n",
    "import matplotlib.pyplot as plt\n",
    "import scipy.interpolate as interp\n",
    "import datetime as dt"
   ]
  },
  {
   "cell_type": "code",
   "execution_count": 2,
   "metadata": {},
   "outputs": [],
   "source": [
    "def get_data(mydata, starttime, endtime):\n",
    "    salt = mydata.init_salt[(mydata.init_t >= starttime) & (mydata.init_t <= endtime)]\n",
    "    temp = mydata.init_t[(mydata.init_t >= starttime) & (mydata.init_t <= endtime)]\n",
    "    depth = depthf(mydata.init_z[(mydata.init_t >= starttime) & (mydata.init_t <= endtime)]-1.)[0]\n",
    "    section = mydata.final_section[(mydata.init_t >= starttime) & (mydata.init_t <= endtime)]\n",
    "    trans = mydata.init_transp[(mydata.init_t >= starttime) & (mydata.init_t <= endtime)]/(endtime-starttime+1)\n",
    "    return salt, temp, depth, section, trans"
   ]
  },
  {
   "cell_type": "code",
   "execution_count": 3,
   "metadata": {},
   "outputs": [],
   "source": [
    "mymesh = xr.open_dataset('/home/sallen/MEOPAR/grid/mesh_mask201702.nc')\n",
    "depthf = interp.interp1d(mymesh.z, mymesh.gdept_1d)"
   ]
  },
  {
   "cell_type": "code",
   "execution_count": 4,
   "metadata": {},
   "outputs": [],
   "source": [
    "# section numbers\n",
    "meander = 0\n",
    "admiralty = 2\n",
    "deception = 3\n",
    "rosario = 4\n",
    "sanjuan = 5\n",
    "haro = 6\n",
    "sec_name = ['meander', 'admiralty', 'deception', 'rosario', 'sanjuan', 'haro']"
   ]
  },
  {
   "cell_type": "markdown",
   "metadata": {},
   "source": [
    "## summer 2017"
   ]
  },
  {
   "cell_type": "code",
   "execution_count": 5,
   "metadata": {},
   "outputs": [],
   "source": [
    "yearjumps = [0,1,-2,1,0,1,0,1,1,0,1,0]\n",
    "str_mo = ['jan', 'feb', 'mar', 'apr','may', 'jun', 'jul', 'aug', 'sep','oct', 'nov', 'dec']\n",
    "sum_start = 1+(5*720+(sum(yearjumps[:5+1]*24)))\n",
    "sum_end = 720+(8*720+(sum(yearjumps[:8+1]*24)))\n",
    "\n",
    "file = '/ocean/rbeutel/MOAD/analysis-becca/Ariane/1yr_runs/201905_1hr/forward_01jan17/ariane_positions_quantitative.nc'\n",
    "mydata = xr.open_dataset(file)\n",
    "salt, temp, depth, section, trans = get_data(mydata, sum_start, sum_end)"
   ]
  },
  {
   "cell_type": "code",
   "execution_count": 6,
   "metadata": {},
   "outputs": [],
   "source": [
    "d = {'salt': salt, 'temp': temp, 'depth':depth, 'section':section, 'transport':trans}\n",
    "df = pd.DataFrame(data=d)"
   ]
  },
  {
   "cell_type": "code",
   "execution_count": 7,
   "metadata": {},
   "outputs": [],
   "source": [
    "upwelled = df[(df.depth <= 200) & (df.salt >= 32)]\n",
    "cuc = df[(df.depth > 200) & (df.salt >= 32)]\n",
    "columbia = df[(df.salt < 32)]"
   ]
  },
  {
   "cell_type": "code",
   "execution_count": 8,
   "metadata": {},
   "outputs": [
    {
     "data": {
      "text/plain": [
       "[82.48644651961337, 6.267863370364149, 11.245690110022469]"
      ]
     },
     "execution_count": 8,
     "metadata": {},
     "output_type": "execute_result"
    }
   ],
   "source": [
    "[np.sum(upwelled.transport)/np.sum(df.transport)*100,np.sum(cuc.transport)/np.sum(df.transport)*100,\n",
    "np.sum(columbia.transport)/np.sum(df.transport)*100]"
   ]
  },
  {
   "cell_type": "code",
   "execution_count": 9,
   "metadata": {},
   "outputs": [
    {
     "name": "stdout",
     "output_type": "stream",
     "text": [
      "advects back out = 78.86193130464324\n",
      "haro = 15.036141234040171\n",
      "sanjuan = 0.8025543181691127\n",
      "rosario = 1.6676706078259846\n",
      "admiralty = 3.61407399127876\n",
      "deception = 0.017539038600961242\n"
     ]
    }
   ],
   "source": [
    "# lets see what sections these groups get into \n",
    "# first upwelled\n",
    "print('advects back out = ' + str(sum(upwelled.transport[upwelled.section == meander])/np.sum(upwelled.transport)*100))\n",
    "print('haro = ' + str(sum(upwelled.transport[upwelled.section == haro])/np.sum(upwelled.transport)*100))\n",
    "print('sanjuan = ' + str(sum(upwelled.transport[upwelled.section == sanjuan])/np.sum(upwelled.transport)*100))\n",
    "print('rosario = ' + str(sum(upwelled.transport[upwelled.section == rosario])/np.sum(upwelled.transport)*100))\n",
    "print('admiralty = ' + str(sum(upwelled.transport[upwelled.section == admiralty])/np.sum(upwelled.transport)*100))\n",
    "print('deception = ' + str(sum(upwelled.transport[upwelled.section == deception])/np.sum(upwelled.transport)*100))"
   ]
  },
  {
   "cell_type": "code",
   "execution_count": 10,
   "metadata": {},
   "outputs": [
    {
     "name": "stdout",
     "output_type": "stream",
     "text": [
      "advects back out = 88.46222790645251\n",
      "haro = 8.610096977372251\n",
      "sanjuan = 0.4545295871380527\n",
      "rosario = 0.8177067747539721\n",
      "admiralty = 1.6480737956203904\n",
      "deception = 0.007364958662847872\n"
     ]
    }
   ],
   "source": [
    "# and deep\n",
    "print('advects back out = ' + str(sum(cuc.transport[cuc.section == meander])/np.sum(cuc.transport)*100))\n",
    "print('haro = ' + str(sum(cuc.transport[cuc.section == haro])/np.sum(cuc.transport)*100))\n",
    "print('sanjuan = ' + str(sum(cuc.transport[cuc.section == sanjuan])/np.sum(cuc.transport)*100))\n",
    "print('rosario = ' + str(sum(cuc.transport[cuc.section == rosario])/np.sum(cuc.transport)*100))\n",
    "print('admiralty = ' + str(sum(cuc.transport[cuc.section == admiralty])/np.sum(cuc.transport)*100))\n",
    "print('deception = ' + str(sum(cuc.transport[cuc.section == deception])/np.sum(cuc.transport)*100))"
   ]
  },
  {
   "cell_type": "code",
   "execution_count": 11,
   "metadata": {},
   "outputs": [
    {
     "name": "stdout",
     "output_type": "stream",
     "text": [
      "advects back out = 99.92800893015723\n",
      "haro = 0.043914367160181295\n",
      "sanjuan = 0.0019204581578246885\n",
      "rosario = 0.0067040129977496985\n",
      "admiralty = 0.01945223152815096\n",
      "deception = 0.0\n"
     ]
    }
   ],
   "source": [
    "# columbia \n",
    "print('advects back out = ' + str(sum(columbia.transport[columbia.section == meander])/np.sum(columbia.transport)*100))\n",
    "print('haro = ' + str(sum(columbia.transport[columbia.section == haro])/np.sum(columbia.transport)*100))\n",
    "print('sanjuan = ' + str(sum(columbia.transport[columbia.section == sanjuan])/np.sum(columbia.transport)*100))\n",
    "print('rosario = ' + str(sum(columbia.transport[columbia.section == rosario])/np.sum(columbia.transport)*100))\n",
    "print('admiralty = ' + str(sum(columbia.transport[columbia.section == admiralty])/np.sum(columbia.transport)*100))\n",
    "print('deception = ' + str(sum(columbia.transport[columbia.section == deception])/np.sum(columbia.transport)*100))"
   ]
  },
  {
   "cell_type": "markdown",
   "metadata": {},
   "source": [
    "## Winter 2016/17"
   ]
  },
  {
   "cell_type": "code",
   "execution_count": 12,
   "metadata": {},
   "outputs": [],
   "source": [
    "yearjumps = [0,1,-2,1,0,1,0,1,1,0,1,0]\n",
    "str_mo = ['jan', 'feb', 'mar', 'apr','may', 'jun', 'jul', 'aug', 'sep','oct', 'nov', 'dec']\n",
    "win_start = 1+(9*720+(sum(yearjumps[:9+1]*24)))\n",
    "win_end = 720+(11*720+(sum(yearjumps[:11+1]*24)))\n",
    "\n",
    "file = '/ocean/rbeutel/MOAD/analysis-becca/Ariane/1yr_runs/201905_1hr/forward_01jan16/ariane_positions_quantitative.nc'\n",
    "mydata = xr.open_dataset(file)\n",
    "saltW, tempW, depthW, sectionW, transW = get_data(mydata, win_start, win_end)\n",
    "\n",
    "win_start = 1+(0*720+(sum(yearjumps[:0+1]*24)))\n",
    "win_end = 720+(5*720+(sum(yearjumps[:5+1]*24)))\n",
    "\n",
    "file = '/ocean/rbeutel/MOAD/analysis-becca/Ariane/1yr_runs/201905_1hr/forward_01jan17/ariane_positions_quantitative.nc'\n",
    "mydata = xr.open_dataset(file)\n",
    "saltS, tempS, depthS, sectionS, transS = get_data(mydata, win_start, win_end)\n",
    "\n",
    "salt = np.append(saltW, saltS)\n",
    "temp = np.append(tempW, tempS)\n",
    "depth = np.append(depthW, depthS)\n",
    "section = np.append(sectionW, sectionS)\n",
    "trans = np.append(transW, transS)"
   ]
  },
  {
   "cell_type": "code",
   "execution_count": 13,
   "metadata": {},
   "outputs": [],
   "source": [
    "d = {'salt': salt, 'temp': temp, 'depth':depth, 'section':section, 'transport':trans}\n",
    "df = pd.DataFrame(data=d)"
   ]
  },
  {
   "cell_type": "code",
   "execution_count": 14,
   "metadata": {},
   "outputs": [],
   "source": [
    "upwelled = df[(df.depth <= 200) & (df.salt >= 32)]\n",
    "cuc = df[(df.depth > 200) & (df.salt >= 32)]\n",
    "columbia = df[(df.salt < 32)]"
   ]
  },
  {
   "cell_type": "code",
   "execution_count": 15,
   "metadata": {},
   "outputs": [
    {
     "data": {
      "text/plain": [
       "[63.403783973964146, 6.166366356170525, 30.429849669865423]"
      ]
     },
     "execution_count": 15,
     "metadata": {},
     "output_type": "execute_result"
    }
   ],
   "source": [
    "[np.sum(upwelled.transport)/np.sum(df.transport)*100,np.sum(cuc.transport)/np.sum(df.transport)*100,\n",
    "np.sum(columbia.transport)/np.sum(df.transport)*100]"
   ]
  },
  {
   "cell_type": "code",
   "execution_count": 16,
   "metadata": {},
   "outputs": [
    {
     "name": "stdout",
     "output_type": "stream",
     "text": [
      "advects back out = 86.20518281324941\n",
      "haro = 9.097603288118055\n",
      "sanjuan = 0.53019990239909\n",
      "rosario = 0.9464089207634625\n",
      "admiralty = 3.0111675182564492\n",
      "deception = 0.010073688376884028\n"
     ]
    }
   ],
   "source": [
    "# lets see what sections these groups get into \n",
    "# first upwelled\n",
    "print('advects back out = ' + str(sum(upwelled.transport[upwelled.section == meander])/np.sum(upwelled.transport)*100))\n",
    "print('haro = ' + str(sum(upwelled.transport[upwelled.section == haro])/np.sum(upwelled.transport)*100))\n",
    "print('sanjuan = ' + str(sum(upwelled.transport[upwelled.section == sanjuan])/np.sum(upwelled.transport)*100))\n",
    "print('rosario = ' + str(sum(upwelled.transport[upwelled.section == rosario])/np.sum(upwelled.transport)*100))\n",
    "print('admiralty = ' + str(sum(upwelled.transport[upwelled.section == admiralty])/np.sum(upwelled.transport)*100))\n",
    "print('deception = ' + str(sum(upwelled.transport[upwelled.section == deception])/np.sum(upwelled.transport)*100))"
   ]
  },
  {
   "cell_type": "code",
   "execution_count": 17,
   "metadata": {},
   "outputs": [
    {
     "name": "stdout",
     "output_type": "stream",
     "text": [
      "advects back out = 93.48854029970028\n",
      "haro = 4.305421294243852\n",
      "sanjuan = 0.260153862976561\n",
      "rosario = 0.4206077366042773\n",
      "admiralty = 1.3420340829031492\n",
      "deception = 0.0028524863047357826\n"
     ]
    }
   ],
   "source": [
    "# and deep\n",
    "print('advects back out = ' + str(sum(cuc.transport[cuc.section == meander])/np.sum(cuc.transport)*100))\n",
    "print('haro = ' + str(sum(cuc.transport[cuc.section == haro])/np.sum(cuc.transport)*100))\n",
    "print('sanjuan = ' + str(sum(cuc.transport[cuc.section == sanjuan])/np.sum(cuc.transport)*100))\n",
    "print('rosario = ' + str(sum(cuc.transport[cuc.section == rosario])/np.sum(cuc.transport)*100))\n",
    "print('admiralty = ' + str(sum(cuc.transport[cuc.section == admiralty])/np.sum(cuc.transport)*100))\n",
    "print('deception = ' + str(sum(cuc.transport[cuc.section == deception])/np.sum(cuc.transport)*100))"
   ]
  },
  {
   "cell_type": "code",
   "execution_count": 18,
   "metadata": {},
   "outputs": [
    {
     "name": "stdout",
     "output_type": "stream",
     "text": [
      "advects back out = 97.85569637029515\n",
      "haro = 1.1634320828212685\n",
      "sanjuan = 0.09707726678581699\n",
      "rosario = 0.14877661649244175\n",
      "admiralty = 0.7172346426113841\n",
      "deception = 0.0017962889823965333\n"
     ]
    }
   ],
   "source": [
    "# columbia \n",
    "print('advects back out = ' + str(sum(columbia.transport[columbia.section == meander])/np.sum(columbia.transport)*100))\n",
    "print('haro = ' + str(sum(columbia.transport[columbia.section == haro])/np.sum(columbia.transport)*100))\n",
    "print('sanjuan = ' + str(sum(columbia.transport[columbia.section == sanjuan])/np.sum(columbia.transport)*100))\n",
    "print('rosario = ' + str(sum(columbia.transport[columbia.section == rosario])/np.sum(columbia.transport)*100))\n",
    "print('admiralty = ' + str(sum(columbia.transport[columbia.section == admiralty])/np.sum(columbia.transport)*100))\n",
    "print('deception = ' + str(sum(columbia.transport[columbia.section == deception])/np.sum(columbia.transport)*100))"
   ]
  },
  {
   "cell_type": "markdown",
   "metadata": {},
   "source": [
    "## Winter 2017/18"
   ]
  },
  {
   "cell_type": "code",
   "execution_count": 19,
   "metadata": {},
   "outputs": [],
   "source": [
    "yearjumps = [0,1,-2,1,0,1,0,1,1,0,1,0]\n",
    "str_mo = ['jan', 'feb', 'mar', 'apr','may', 'jun', 'jul', 'aug', 'sep','oct', 'nov', 'dec']\n",
    "win_start = 1+(9*720+(sum(yearjumps[:9+1]*24)))\n",
    "win_end = 720+(11*720+(sum(yearjumps[:11+1]*24)))\n",
    "\n",
    "file = '/ocean/rbeutel/MOAD/analysis-becca/Ariane/1yr_runs/201905_1hr/forward_01jan17/ariane_positions_quantitative.nc'\n",
    "mydata = xr.open_dataset(file)\n",
    "salt17, temp17, depth17, section17, trans17 = get_data(mydata, win_start, win_end)\n",
    "\n",
    "start = 1\n",
    "end = 720\n",
    "\n",
    "file = '/ocean/rbeutel/MOAD/analysis-becca/Ariane/201905_1hr/forward_01jan18/ariane_positions_quantitative.nc'\n",
    "mydata = xr.open_dataset(file)\n",
    "salt_jan, temp_jan, depth_jan, section_jan, trans_jan = get_data(mydata, start, end)\n",
    "\n",
    "file = '/ocean/rbeutel/MOAD/analysis-becca/Ariane/201905_1hr/forward_01feb18/ariane_positions_quantitative.nc'\n",
    "mydata = xr.open_dataset(file)\n",
    "salt_feb, temp_feb, depth_feb, section_feb, trans_feb = get_data(mydata, start, end)\n",
    "\n",
    "file = '/ocean/rbeutel/MOAD/analysis-becca/Ariane/201905_1hr/forward_01mar18/ariane_positions_quantitative.nc'\n",
    "mydata = xr.open_dataset(file)\n",
    "salt_mar, temp_mar, depth_mar, section_mar, trans_mar = get_data(mydata, start, end)\n",
    "\n",
    "salt = np.append(np.append(np.append(salt17, salt_jan), salt_feb), salt_mar)\n",
    "temp = np.append(np.append(np.append(temp17, temp_jan), temp_feb), temp_mar)\n",
    "depth = np.append(np.append(np.append(depth17, depth_jan), depth_feb), depth_mar)\n",
    "section = np.append(np.append(np.append(section17, section_jan), section_feb), section_mar)\n",
    "trans = np.append(np.append(np.append(trans17, trans_jan), trans_feb), trans_mar)"
   ]
  },
  {
   "cell_type": "code",
   "execution_count": 20,
   "metadata": {},
   "outputs": [],
   "source": [
    "d = {'salt': salt, 'temp': temp, 'depth':depth, 'section':section, 'transport':trans}\n",
    "df = pd.DataFrame(data=d)"
   ]
  },
  {
   "cell_type": "code",
   "execution_count": 21,
   "metadata": {},
   "outputs": [],
   "source": [
    "upwelled = df[(df.depth <= 200) & (df.salt >= 32)]\n",
    "cuc = df[(df.depth > 200) & (df.salt >= 32)]\n",
    "columbia = df[(df.salt < 32)]"
   ]
  },
  {
   "cell_type": "code",
   "execution_count": 22,
   "metadata": {},
   "outputs": [
    {
     "data": {
      "text/plain": [
       "[64.51913894995195, 6.095397136901457, 29.38546391314661]"
      ]
     },
     "execution_count": 22,
     "metadata": {},
     "output_type": "execute_result"
    }
   ],
   "source": [
    "[np.sum(upwelled.transport)/np.sum(df.transport)*100,np.sum(cuc.transport)/np.sum(df.transport)*100,\n",
    "np.sum(columbia.transport)/np.sum(df.transport)*100]"
   ]
  },
  {
   "cell_type": "code",
   "execution_count": 23,
   "metadata": {},
   "outputs": [
    {
     "name": "stdout",
     "output_type": "stream",
     "text": [
      "advects back out = 85.9074923365857\n",
      "haro = 8.602617816895028\n",
      "sanjuan = 0.5376347724680806\n",
      "rosario = 0.8684338590656555\n",
      "admiralty = 2.9866354265755346\n",
      "deception = 0.010135156206366625\n"
     ]
    }
   ],
   "source": [
    "# lets see what sections these groups get into \n",
    "# first upwelled\n",
    "print('advects back out = ' + str(sum(upwelled.transport[upwelled.section == meander])/np.sum(upwelled.transport)*100))\n",
    "print('haro = ' + str(sum(upwelled.transport[upwelled.section == haro])/np.sum(upwelled.transport)*100))\n",
    "print('sanjuan = ' + str(sum(upwelled.transport[upwelled.section == sanjuan])/np.sum(upwelled.transport)*100))\n",
    "print('rosario = ' + str(sum(upwelled.transport[upwelled.section == rosario])/np.sum(upwelled.transport)*100))\n",
    "print('admiralty = ' + str(sum(upwelled.transport[upwelled.section == admiralty])/np.sum(upwelled.transport)*100))\n",
    "print('deception = ' + str(sum(upwelled.transport[upwelled.section == deception])/np.sum(upwelled.transport)*100))"
   ]
  },
  {
   "cell_type": "code",
   "execution_count": 24,
   "metadata": {},
   "outputs": [
    {
     "name": "stdout",
     "output_type": "stream",
     "text": [
      "advects back out = 92.6043680365625\n",
      "haro = 4.5736470339224535\n",
      "sanjuan = 0.2979765798597585\n",
      "rosario = 0.47534916550493256\n",
      "admiralty = 1.3799345621068348\n",
      "deception = 0.0064622023368504766\n"
     ]
    }
   ],
   "source": [
    "# and deep\n",
    "print('advects back out = ' + str(sum(cuc.transport[cuc.section == meander])/np.sum(cuc.transport)*100))\n",
    "print('haro = ' + str(sum(cuc.transport[cuc.section == haro])/np.sum(cuc.transport)*100))\n",
    "print('sanjuan = ' + str(sum(cuc.transport[cuc.section == sanjuan])/np.sum(cuc.transport)*100))\n",
    "print('rosario = ' + str(sum(cuc.transport[cuc.section == rosario])/np.sum(cuc.transport)*100))\n",
    "print('admiralty = ' + str(sum(cuc.transport[cuc.section == admiralty])/np.sum(cuc.transport)*100))\n",
    "print('deception = ' + str(sum(cuc.transport[cuc.section == deception])/np.sum(cuc.transport)*100))"
   ]
  },
  {
   "cell_type": "code",
   "execution_count": 53,
   "metadata": {},
   "outputs": [
    {
     "data": {
      "text/plain": [
       "14.099999999999994"
      ]
     },
     "execution_count": 53,
     "metadata": {},
     "output_type": "execute_result"
    }
   ],
   "source": [
    "100 - 85.9"
   ]
  },
  {
   "cell_type": "code",
   "execution_count": 25,
   "metadata": {},
   "outputs": [
    {
     "name": "stdout",
     "output_type": "stream",
     "text": [
      "advects back out = 97.5227071696774\n",
      "haro = 1.1339700976419966\n",
      "sanjuan = 0.08780541379432083\n",
      "rosario = 0.16373876709214663\n",
      "admiralty = 0.9096707882284927\n",
      "deception = 0.0033608758785290643\n"
     ]
    }
   ],
   "source": [
    "# columbia \n",
    "print('advects back out = ' + str(sum(columbia.transport[columbia.section == meander])/np.sum(columbia.transport)*100))\n",
    "print('haro = ' + str(sum(columbia.transport[columbia.section == haro])/np.sum(columbia.transport)*100))\n",
    "print('sanjuan = ' + str(sum(columbia.transport[columbia.section == sanjuan])/np.sum(columbia.transport)*100))\n",
    "print('rosario = ' + str(sum(columbia.transport[columbia.section == rosario])/np.sum(columbia.transport)*100))\n",
    "print('admiralty = ' + str(sum(columbia.transport[columbia.section == admiralty])/np.sum(columbia.transport)*100))\n",
    "print('deception = ' + str(sum(columbia.transport[columbia.section == deception])/np.sum(columbia.transport)*100))"
   ]
  },
  {
   "cell_type": "markdown",
   "metadata": {},
   "source": [
    "# plots of water mass f to straits or meander?"
   ]
  },
  {
   "cell_type": "code",
   "execution_count": 6,
   "metadata": {},
   "outputs": [],
   "source": [
    "starttime = 1\n",
    "endtime = 720\n",
    "yearjumps = [0,1,-2,1,0,1,0,1,1,0,1,0]\n",
    "\n",
    "freshSOG = np.array([])\n",
    "freshOUT = np.array([])\n",
    "freshPS = np.array([])\n",
    "    \n",
    "cucSOG = np.array([])\n",
    "cucOUT = np.array([])\n",
    "cucPS = np.array([])\n",
    "    \n",
    "upSOG = np.array([])\n",
    "upOUT = np.array([])\n",
    "upPS = np.array([])\n",
    "k = np.array([])\n",
    "\n",
    "#216 and 2017\n",
    "year = [16,17]\n",
    "\n",
    "for num in year:\n",
    "    file = '/ocean/rbeutel/MOAD/analysis-becca/Ariane/1yr_runs/201905_1hr/forward_01jan'+str(num)+'/ariane_positions_quantitative.nc'\n",
    "    mydata = xr.open_dataset(file)\n",
    "    for i in range(12):\n",
    "        start, end = starttime+(i*720+(sum(yearjumps[:i+1]*24))), endtime+(i*720+(sum(yearjumps[:i+1]*24)))\n",
    "        XfreshSOG = np.sum(mydata.final_transp[np.logical_or((mydata.final_section==haro),(mydata.final_section==rosario)) & (mydata.init_salt < 32) & (mydata.init_t >= start) & (mydata.init_t <= end)])/720\n",
    "        XfreshPS = np.sum(mydata.final_transp[np.logical_or((mydata.final_section==admiralty),(mydata.final_section==deception)) & (mydata.init_salt < 32) & (mydata.init_t >= start) & (mydata.init_t <= end)])/720\n",
    "        XfreshOUT = np.sum(mydata.final_transp[(mydata.final_section==meander) & (mydata.init_salt < 32) & (mydata.init_t >= start) & (mydata.init_t <= end)])/720\n",
    "\n",
    "        XcucSOG = np.sum(mydata.final_transp[np.logical_or((mydata.final_section==haro),(mydata.final_section==rosario)) & (mydata.init_salt >= 32) & (mydata.init_depth < -200) & (mydata.init_t >= start) & (mydata.init_t <= end)])/720\n",
    "        XcucPS = np.sum(mydata.final_transp[np.logical_or((mydata.final_section==admiralty),(mydata.final_section==deception)) & (mydata.init_salt >= 32) & (mydata.init_depth < -200) & (mydata.init_t >= start) & (mydata.init_t <= end)])/720\n",
    "        XcucOUT = np.sum(mydata.final_transp[(mydata.final_section==meander) & (mydata.init_salt >= 32) & (mydata.init_depth < -200) & (mydata.init_t >= start) & (mydata.init_t <= end)])/720\n",
    "\n",
    "        XupSOG = np.sum(mydata.final_transp[np.logical_or((mydata.final_section==haro),(mydata.final_section==rosario)) & (mydata.init_salt >= 32) & (mydata.init_depth >= -200) & (mydata.init_t >= start) & (mydata.init_t <= end)])/720\n",
    "        XupPS = np.sum(mydata.final_transp[np.logical_or((mydata.final_section==admiralty),(mydata.final_section==deception)) & (mydata.init_salt >= 32) & (mydata.init_depth >= -200) & (mydata.init_t >= start) & (mydata.init_t <= end)])/720\n",
    "        XupOUT = np.sum(mydata.final_transp[(mydata.final_section==meander) & (mydata.init_salt >= 32) & (mydata.init_depth >= -200) & (mydata.init_t >= start) & (mydata.init_t <= end)])/720\n",
    "            \n",
    "        freshSOG = np.append(freshSOG, XfreshSOG)\n",
    "        freshOUT = np.append(freshOUT, XfreshOUT)\n",
    "        freshPS = np.append(freshPS, XfreshPS)\n",
    "\n",
    "        cucSOG = np.append(cucSOG, XcucSOG)\n",
    "        cucOUT = np.append(cucOUT, XcucOUT)\n",
    "        cucPS = np.append(cucPS, XcucPS)\n",
    "\n",
    "        upSOG = np.append(upSOG, XupSOG)\n",
    "        upOUT = np.append(upOUT, XupOUT)\n",
    "        upPS = np.append(upPS, XupPS)\n",
    "            \n",
    "        k = np.append(k,i)\n",
    "\n",
    "#2019 and 2018 (both done month by month)\n",
    "year = [18,19]\n",
    "str_mo = ['jan', 'feb', 'mar', 'apr', 'jun', 'jul', 'aug', 'sep', 'oct', 'nov', 'dec']\n",
    "for num in year:\n",
    "    for i in range(len(str_mo)):\n",
    "        file = '/ocean/rbeutel/MOAD/analysis-becca/Ariane/201905_1hr/forward_01'+str_mo[i]+str(num)+'/ariane_positions_quantitative.nc'\n",
    "        mydata = xr.open_dataset(file)\n",
    "        time = mydata.init_t[-1]\n",
    "\n",
    "        start, end = 1, 720\n",
    "        XfreshSOG = np.sum(mydata.final_transp[np.logical_or((mydata.final_section==haro),(mydata.final_section==rosario)) & (mydata.init_salt < 32) & (mydata.init_t >= start) & (mydata.init_t <= end)])/720\n",
    "        XfreshPS = np.sum(mydata.final_transp[np.logical_or((mydata.final_section==admiralty),(mydata.final_section==deception)) & (mydata.init_salt < 32) & (mydata.init_t >= start) & (mydata.init_t <= end)])/720\n",
    "        XfreshOUT = np.sum(mydata.final_transp[(mydata.final_section==meander) & (mydata.init_salt < 32) & (mydata.init_t >= start) & (mydata.init_t <= end)])/720\n",
    "\n",
    "        XcucSOG = np.sum(mydata.final_transp[np.logical_or((mydata.final_section==haro),(mydata.final_section==rosario)) & (mydata.init_salt >= 32) & (mydata.init_depth < -200) & (mydata.init_t >= start) & (mydata.init_t <= end)])/720\n",
    "        XcucPS = np.sum(mydata.final_transp[np.logical_or((mydata.final_section==admiralty),(mydata.final_section==deception)) & (mydata.init_salt >= 32) & (mydata.init_depth < -200) & (mydata.init_t >= start) & (mydata.init_t <= end)])/720\n",
    "        XcucOUT = np.sum(mydata.final_transp[(mydata.final_section==meander) & (mydata.init_salt >= 32) & (mydata.init_depth < -200) & (mydata.init_t >= start) & (mydata.init_t <= end)])/720\n",
    "\n",
    "        XupSOG = np.sum(mydata.final_transp[np.logical_or((mydata.final_section==haro),(mydata.final_section==rosario)) & (mydata.init_salt >= 32) & (mydata.init_depth >= -200) & (mydata.init_t >= start) & (mydata.init_t <= end)])/720\n",
    "        XupPS = np.sum(mydata.final_transp[np.logical_or((mydata.final_section==admiralty),(mydata.final_section==deception)) & (mydata.init_salt >= 32) & (mydata.init_depth >= -200) & (mydata.init_t >= start) & (mydata.init_t <= end)])/720\n",
    "        XupOUT = np.sum(mydata.final_transp[(mydata.final_section==meander) & (mydata.init_salt >= 32) & (mydata.init_depth >= -200) & (mydata.init_t >= start) & (mydata.init_t <= end)])/720\n",
    "            \n",
    "        freshSOG = np.append(freshSOG, XfreshSOG)\n",
    "        freshOUT = np.append(freshOUT, XfreshOUT)\n",
    "        freshPS = np.append(freshPS, XfreshPS)\n",
    "\n",
    "        cucSOG = np.append(cucSOG, XcucSOG)\n",
    "        cucOUT = np.append(cucOUT, XcucOUT)\n",
    "        cucPS = np.append(cucPS, XcucPS)\n",
    "\n",
    "        upSOG = np.append(upSOG, XupSOG)\n",
    "        upOUT = np.append(upOUT, XupOUT)\n",
    "        upPS = np.append(upPS, XupPS)\n",
    "        k = np.append(k,i)\n",
    "\n",
    "#2020\n",
    "file = '/ocean/rbeutel/MOAD/analysis-becca/Ariane/1yr_runs/201905_1hr/forward_01jan20/ariane_positions_quantitative.nc'\n",
    "mydata = xr.open_dataset(file)\n",
    "for i in range(12):\n",
    "    start, end = starttime+(i*720+(sum(yearjumps[:i+1]*24))), endtime+(i*720+(sum(yearjumps[:i+1]*24)))\n",
    "    XfreshSOG = np.sum(mydata.final_transp[np.logical_or((mydata.final_section==haro),(mydata.final_section==rosario)) & (mydata.init_salt < 32) & (mydata.init_t >= start) & (mydata.init_t <= end)])/720\n",
    "    XfreshPS = np.sum(mydata.final_transp[np.logical_or((mydata.final_section==admiralty),(mydata.final_section==deception)) & (mydata.init_salt < 32) & (mydata.init_t >= start) & (mydata.init_t <= end)])/720\n",
    "    XfreshOUT = np.sum(mydata.final_transp[(mydata.final_section==meander) & (mydata.init_salt < 32) & (mydata.init_t >= start) & (mydata.init_t <= end)])/720\n",
    "\n",
    "    XcucSOG = np.sum(mydata.final_transp[np.logical_or((mydata.final_section==haro),(mydata.final_section==rosario)) & (mydata.init_salt >= 32) & (mydata.init_depth < -200) & (mydata.init_t >= start) & (mydata.init_t <= end)])/720\n",
    "    XcucPS = np.sum(mydata.final_transp[np.logical_or((mydata.final_section==admiralty),(mydata.final_section==deception)) & (mydata.init_salt >= 32) & (mydata.init_depth < -200) & (mydata.init_t >= start) & (mydata.init_t <= end)])/720\n",
    "    XcucOUT = np.sum(mydata.final_transp[(mydata.final_section==meander) & (mydata.init_salt >= 32) & (mydata.init_depth < -200) & (mydata.init_t >= start) & (mydata.init_t <= end)])/720\n",
    "\n",
    "    XupSOG = np.sum(mydata.final_transp[np.logical_or((mydata.final_section==haro),(mydata.final_section==rosario)) & (mydata.init_salt >= 32) & (mydata.init_depth >= -200) & (mydata.init_t >= start) & (mydata.init_t <= end)])/720\n",
    "    XupPS = np.sum(mydata.final_transp[np.logical_or((mydata.final_section==admiralty),(mydata.final_section==deception)) & (mydata.init_salt >= 32) & (mydata.init_depth >= -200) & (mydata.init_t >= start) & (mydata.init_t <= end)])/720\n",
    "    XupOUT = np.sum(mydata.final_transp[(mydata.final_section==meander) & (mydata.init_salt >= 32) & (mydata.init_depth >= -200) & (mydata.init_t >= start) & (mydata.init_t <= end)])/720\n",
    "            \n",
    "    freshSOG = np.append(freshSOG, XfreshSOG)\n",
    "    freshOUT = np.append(freshOUT, XfreshOUT)\n",
    "    freshPS = np.append(freshPS, XfreshPS)\n",
    "\n",
    "    cucSOG = np.append(cucSOG, XcucSOG)\n",
    "    cucOUT = np.append(cucOUT, XcucOUT)\n",
    "    cucPS = np.append(cucPS, XcucPS)\n",
    "\n",
    "    upSOG = np.append(upSOG, XupSOG)\n",
    "    upOUT = np.append(upOUT, XupOUT)\n",
    "    upPS = np.append(upPS, XupPS)\n",
    "    k = np.append(k,i)"
   ]
  },
  {
   "cell_type": "code",
   "execution_count": 26,
   "metadata": {},
   "outputs": [],
   "source": [
    "# mydata = xr.open_dataset('/ocean/rbeutel/MOAD/analysis-becca/Ariane/CIOPS_BC12/back_sahubdy_31mar17/ariane_positions_quantitative.nc')\n",
    "\n",
    "# # dates = [dt.datetime(2017,4,1)+dt.timedelta(days=i) for i in range(183)]\n",
    "# h = 3601\n",
    "# start = [h+24*i for i in range(182)]\n",
    "\n",
    "# W16freshSOG = [np.sum(mydata.final_transp[np.logical_or((mydata.final_section==haro),(mydata.final_section==rosario)) & (mydata.init_salt < 32) & (mydata.init_t >= start[i]) & (mydata.init_t <= start[i]+23)])/24 for i in range(len(start))]\n",
    "# W16freshPS = [np.sum(mydata.final_transp[np.logical_or((mydata.final_section==admiralty),(mydata.final_section==deception)) & (mydata.init_salt < 32) & (mydata.init_t >= start[i]) & (mydata.init_t <= start[i]+23)])/24 for i in range(len(start))]\n",
    "# W16freshOUT = [np.sum(mydata.final_transp[(mydata.final_section==meander) & (mydata.init_salt < 32) & (mydata.init_t >= start[i]) & (mydata.init_t <= start[i]+23)])/24 for i in range(len(start))]\n",
    "\n",
    "# W16cucSOG = [np.sum(mydata.final_transp[np.logical_or((mydata.final_section==haro),(mydata.final_section==rosario)) & (mydata.init_salt >= 32) & (mydata.init_depth < -200) & (mydata.init_t >= start[i]) & (mydata.init_t <= start[i]+23)])/24 for i in range(len(start))]\n",
    "# W16cucPS = [np.sum(mydata.final_transp[np.logical_or((mydata.final_section==admiralty),(mydata.final_section==deception)) & (mydata.init_salt >= 32) & (mydata.init_depth < -200) & (mydata.init_t >= start[i]) & (mydata.init_t <= start[i]+23)])/24 for i in range(len(start))]\n",
    "# W16cucOUT = [np.sum(mydata.final_transp[(mydata.final_section==meander) & (mydata.init_salt >= 32) & (mydata.init_depth < -200) & (mydata.init_t >= start[i]) & (mydata.init_t <= start[i]+23)])/24 for i in range(len(start))]\n",
    "\n",
    "# W16upSOG = [np.sum(mydata.final_transp[np.logical_or((mydata.final_section==haro),(mydata.final_section==rosario)) & (mydata.init_salt >= 32) & (mydata.init_depth >= -200) & (mydata.init_t >= start[i]) & (mydata.init_t <= start[i]+23)])/24 for i in range(len(start))]\n",
    "# W16upPS = [np.sum(mydata.final_transp[np.logical_or((mydata.final_section==admiralty),(mydata.final_section==deception)) & (mydata.init_salt >= 32) & (mydata.init_depth >= -200) & (mydata.init_t >= start[i]) & (mydata.init_t <= start[i]+23)])/24 for i in range(len(start))]\n",
    "# W16upOUT = [np.sum(mydata.final_transp[(mydata.final_section==meander) & (mydata.init_salt >= 32) & (mydata.init_depth >= -200) & (mydata.init_t >= start[i]) & (mydata.init_t <= start[i]+23)])/24 for i in range(len(start))]"
   ]
  },
  {
   "cell_type": "code",
   "execution_count": 27,
   "metadata": {},
   "outputs": [],
   "source": [
    "# mydata = xr.open_dataset('/ocean/rbeutel/MOAD/analysis-becca/Ariane/CIOPS_BC12/back_sahubdy_30sep17/ariane_positions_quantitative.nc')\n",
    "\n",
    "# # dates = [dt.datetime(2017,4,1)+dt.timedelta(days=i) for i in range(183)]\n",
    "# h = 3601\n",
    "# start = [h+24*i for i in range(183)]\n",
    "\n",
    "# SfreshSOG = [np.sum(mydata.final_transp[np.logical_or((mydata.final_section==haro),(mydata.final_section==rosario)) & (mydata.init_salt < 32) & (mydata.init_t >= start[i]) & (mydata.init_t <= start[i]+23)])/24 for i in range(len(start))]\n",
    "# SfreshPS = [np.sum(mydata.final_transp[np.logical_or((mydata.final_section==admiralty),(mydata.final_section==deception)) & (mydata.init_salt < 32) & (mydata.init_t >= start[i]) & (mydata.init_t <= start[i]+23)])/24 for i in range(len(start))]\n",
    "# SfreshOUT = [np.sum(mydata.final_transp[(mydata.final_section==meander) & (mydata.init_salt < 32) & (mydata.init_t >= start[i]) & (mydata.init_t <= start[i]+23)])/24 for i in range(len(start))]\n",
    "\n",
    "# ScucSOG = [np.sum(mydata.final_transp[np.logical_or((mydata.final_section==haro),(mydata.final_section==rosario)) & (mydata.init_salt >= 32) & (mydata.init_depth < -200) & (mydata.init_t >= start[i]) & (mydata.init_t <= start[i]+23)])/24 for i in range(len(start))]\n",
    "# ScucPS = [np.sum(mydata.final_transp[np.logical_or((mydata.final_section==admiralty),(mydata.final_section==deception)) & (mydata.init_salt >= 32) & (mydata.init_depth < -200) & (mydata.init_t >= start[i]) & (mydata.init_t <= start[i]+23)])/24 for i in range(len(start))]\n",
    "# ScucOUT = [np.sum(mydata.final_transp[(mydata.final_section==meander) & (mydata.init_salt >= 32) & (mydata.init_depth < -200) & (mydata.init_t >= start[i]) & (mydata.init_t <= start[i]+23)])/24 for i in range(len(start))]\n",
    "\n",
    "# SupSOG = [np.sum(mydata.final_transp[np.logical_or((mydata.final_section==haro),(mydata.final_section==rosario)) & (mydata.init_salt >= 32) & (mydata.init_depth >= -200) & (mydata.init_t >= start[i]) & (mydata.init_t <= start[i]+23)])/24 for i in range(len(start))]\n",
    "# SupPS = [np.sum(mydata.final_transp[np.logical_or((mydata.final_section==admiralty),(mydata.final_section==deception)) & (mydata.init_salt >= 32) & (mydata.init_depth >= -200) & (mydata.init_t >= start[i]) & (mydata.init_t <= start[i]+23)])/24 for i in range(len(start))]\n",
    "# SupOUT = [np.sum(mydata.final_transp[(mydata.final_section==meander) & (mydata.init_salt >= 32) & (mydata.init_depth >= -200) & (mydata.init_t >= start[i]) & (mydata.init_t <= start[i]+23)])/24 for i in range(len(start))]"
   ]
  },
  {
   "cell_type": "code",
   "execution_count": 36,
   "metadata": {},
   "outputs": [],
   "source": [
    "# mydata = xr.open_dataset('/ocean/rbeutel/MOAD/analysis-becca/Ariane/CIOPS_BC12/back_sahubdy_31mar18/ariane_positions_quantitative.nc')\n",
    "\n",
    "# # dates = [dt.datetime(2017,4,1)+dt.timedelta(days=i) for i in range(183)]\n",
    "# h = 3601\n",
    "# start = [h+24*i for i in range(182)]\n",
    "\n",
    "# W17freshSOG = [np.sum(mydata.final_transp[np.logical_or((mydata.final_section==haro),(mydata.final_section==rosario)) & (mydata.init_salt < 32) & (mydata.init_t >= start[i]) & (mydata.init_t <= start[i]+23)])/24 for i in range(len(start))]\n",
    "# W17freshPS = [np.sum(mydata.final_transp[np.logical_or((mydata.final_section==admiralty),(mydata.final_section==deception)) & (mydata.init_salt < 32) & (mydata.init_t >= start[i]) & (mydata.init_t <= start[i]+23)])/24 for i in range(len(start))]\n",
    "# W17freshOUT = [np.sum(mydata.final_transp[(mydata.final_section==meander) & (mydata.init_salt < 32) & (mydata.init_t >= start[i]) & (mydata.init_t <= start[i]+23)])/24 for i in range(len(start))]\n",
    "\n",
    "# W17cucSOG = [np.sum(mydata.final_transp[np.logical_or((mydata.final_section==haro),(mydata.final_section==rosario)) & (mydata.init_salt >= 32) & (mydata.init_depth < -200) & (mydata.init_t >= start[i]) & (mydata.init_t <= start[i]+23)])/24 for i in range(len(start))]\n",
    "# W17cucPS = [np.sum(mydata.final_transp[np.logical_or((mydata.final_section==admiralty),(mydata.final_section==deception)) & (mydata.init_salt >= 32) & (mydata.init_depth < -200) & (mydata.init_t >= start[i]) & (mydata.init_t <= start[i]+23)])/24 for i in range(len(start))]\n",
    "# W17cucOUT = [np.sum(mydata.final_transp[(mydata.final_section==meander) & (mydata.init_salt >= 32) & (mydata.init_depth < -200) & (mydata.init_t >= start[i]) & (mydata.init_t <= start[i]+23)])/24 for i in range(len(start))]\n",
    "\n",
    "# W17upSOG = [np.sum(mydata.final_transp[np.logical_or((mydata.final_section==haro),(mydata.final_section==rosario)) & (mydata.init_salt >= 32) & (mydata.init_depth >= -200) & (mydata.init_t >= start[i]) & (mydata.init_t <= start[i]+23)])/24 for i in range(len(start))]\n",
    "# W17upPS = [np.sum(mydata.final_transp[np.logical_or((mydata.final_section==admiralty),(mydata.final_section==deception)) & (mydata.init_salt >= 32) & (mydata.init_depth >= -200) & (mydata.init_t >= start[i]) & (mydata.init_t <= start[i]+23)])/24 for i in range(len(start))]\n",
    "# W17upOUT = [np.sum(mydata.final_transp[(mydata.final_section==meander) & (mydata.init_salt >= 32) & (mydata.init_depth >= -200) & (mydata.init_t >= start[i]) & (mydata.init_t <= start[i]+23)])/24 for i in range(len(start))]"
   ]
  },
  {
   "cell_type": "code",
   "execution_count": 7,
   "metadata": {},
   "outputs": [],
   "source": [
    "dates = [dt.datetime(2016,1,1)+dt.timedelta(days=i) for i in range(len(upPS))]"
   ]
  },
  {
   "cell_type": "code",
   "execution_count": 77,
   "metadata": {},
   "outputs": [
    {
     "data": {
      "text/plain": [
       "array([2.65929489e+03, 1.10650355e+03, 1.41416747e+03, 1.45318420e+02,\n",
       "       1.20975386e+01, 1.34124734e+01, 2.29337614e+01, 4.54968668e+00,\n",
       "       1.74824944e+01, 3.41908428e+03, 4.02854602e+03, 6.93844105e+02,\n",
       "       4.11075800e+03, 2.33135628e+03, 1.42362620e+03, 1.31153308e+03,\n",
       "       4.35456248e+01, 5.74308296e+01, 1.07323893e+01, 1.82594932e+01,\n",
       "       3.55227250e+01, 4.99567262e+01, 6.65614041e+03, 3.87793186e+02,\n",
       "       4.54042012e+03, 1.98996700e+02, 1.08445540e+02, 5.83197707e+01,\n",
       "       4.98411897e+02, 4.42054990e+01, 1.38364757e+01, 3.80803197e+01,\n",
       "       9.50406037e+01, 1.28013906e+02, 7.78922571e+02, 2.05107373e+03])"
      ]
     },
     "execution_count": 77,
     "metadata": {},
     "output_type": "execute_result"
    }
   ],
   "source": [
    "freshSOG"
   ]
  },
  {
   "cell_type": "code",
   "execution_count": 8,
   "metadata": {},
   "outputs": [
    {
     "data": {
      "text/plain": [
       "[<matplotlib.lines.Line2D at 0x7fa586e142e0>]"
      ]
     },
     "execution_count": 8,
     "metadata": {},
     "output_type": "execute_result"
    },
    {
     "data": {
      "image/png": "[encoded data removed]",
      "text/plain": [
       "<Figure size 720x1080 with 3 Axes>"
      ]
     },
     "metadata": {
      "needs_background": "light"
     },
     "output_type": "display_data"
    }
   ],
   "source": [
    "fig, ax = plt.subplots(3,1,figsize=(10,15))\n",
    "\n",
    "ax[0].plot(dates, freshSOG, 'r')#, ls='dotted')\n",
    "ax[0].plot(dates, freshOUT, 'k')#, ls='dotted')\n",
    "ax[0].plot(dates, freshPS, 'b')#, ls='dotted')\n",
    "# ax[0].set_yscale('log')\n",
    "\n",
    "ax[1].plot(dates, cucSOG, 'r')\n",
    "ax[1].plot(dates, cucOUT, 'k')\n",
    "ax[1].plot(dates, cucPS, 'b')\n",
    "# ax[1].set_yscale('log')\n",
    "\n",
    "ax[2].plot(dates, upSOG, 'r')\n",
    "ax[2].plot(dates, upOUT, 'k')\n",
    "ax[2].plot(dates, upPS, 'b')\n",
    "# ax[2].set_yscale('log')"
   ]
  },
  {
   "cell_type": "code",
   "execution_count": null,
   "metadata": {},
   "outputs": [],
   "source": []
  }
 ],
 "metadata": {
  "kernelspec": {
   "display_name": "ariane",
   "language": "python",
   "name": "ariane"
  },
  "language_info": {
   "codemirror_mode": {
    "name": "ipython",
    "version": 3
   },
   "file_extension": ".py",
   "mimetype": "text/x-python",
   "name": "python",
   "nbconvert_exporter": "python",
   "pygments_lexer": "ipython3",
   "version": "3.9.9"
  }
 },
 "nbformat": 4,
 "nbformat_minor": 4
}
