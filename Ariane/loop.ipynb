{
 "cells": [
  {
   "cell_type": "markdown",
   "metadata": {},
   "source": [
    "# a look into the difference between loop and tidally fluxed flow"
   ]
  },
  {
   "cell_type": "code",
   "execution_count": 1,
   "metadata": {},
   "outputs": [],
   "source": [
    "import xarray as xr\n",
    "# import matplotlib.pyplot as plt\n",
    "import numpy as np"
   ]
  },
  {
   "cell_type": "code",
   "execution_count": 2,
   "metadata": {},
   "outputs": [],
   "source": [
    "tide = 24"
   ]
  },
  {
   "cell_type": "markdown",
   "metadata": {},
   "source": [
    "# CIOPS"
   ]
  },
  {
   "cell_type": "code",
   "execution_count": 6,
   "metadata": {},
   "outputs": [
    {
     "name": "stdout",
     "output_type": "stream",
     "text": [
      "loop average S diff = 1.7073569  +- 1.440186858177185\n",
      "pump average S diff = 0.07377975  +- 0.16952529549598694\n"
     ]
    }
   ],
   "source": [
    "# summer 2017\n",
    "data = xr.open_dataset('/ocean/rbeutel/MOAD/analysis-becca/Ariane/CIOPS_BC12/back_sahubdy_30sep17/ariane_positions_quantitative.nc')\n",
    "\n",
    "loop = (data.final_section==0) & (data.init_t-data.final_t > tide)\n",
    "pump = (data.final_section==0) & (data.init_t-data.final_t <= tide)\n",
    "\n",
    "print('loop average S diff =', np.mean(np.abs(data.init_salt[loop]-data.final_salt[loop])).values, ' +-', np.std(data.init_salt[loop]-data.final_salt[loop]).values)\n",
    "print('pump average S diff =', np.mean(np.abs(data.init_salt[pump]-data.final_salt[pump])).values, ' +-', np.std(data.init_salt[pump]-data.final_salt[pump]).values)"
   ]
  },
  {
   "cell_type": "code",
   "execution_count": 7,
   "metadata": {},
   "outputs": [
    {
     "name": "stdout",
     "output_type": "stream",
     "text": [
      "loop average S diff = 0.883158  +- 1.2355396747589111\n",
      "pump average S diff = 0.08074302  +- 0.15139706432819366\n"
     ]
    }
   ],
   "source": [
    "# winter 2016/17\n",
    "data = xr.open_dataset('/ocean/rbeutel/MOAD/analysis-becca/Ariane/CIOPS_BC12/back_sahubdy_31mar17/ariane_positions_quantitative.nc')\n",
    "\n",
    "loop = (data.final_section==0) & (data.init_t-data.final_t > tide)\n",
    "pump = (data.final_section==0) & (data.init_t-data.final_t <= tide)\n",
    "\n",
    "print('loop average S diff =', np.mean(np.abs(data.init_salt[loop]-data.final_salt[loop])).values, ' +-', np.std(data.init_salt[loop]-data.final_salt[loop]).values)\n",
    "print('pump average S diff =', np.mean(np.abs(data.init_salt[pump]-data.final_salt[pump])).values, ' +-', np.std(data.init_salt[pump]-data.final_salt[pump]).values)"
   ]
  },
  {
   "cell_type": "code",
   "execution_count": 8,
   "metadata": {},
   "outputs": [
    {
     "name": "stdout",
     "output_type": "stream",
     "text": [
      "loop average S diff = 1.2867062  +- 2.662745237350464\n",
      "pump average S diff = 0.092311256  +- 0.5100454688072205\n"
     ]
    }
   ],
   "source": [
    "# winter 2017/18\n",
    "data = xr.open_dataset('/ocean/rbeutel/MOAD/analysis-becca/Ariane/CIOPS_BC12/back_sahubdy_31mar18/ariane_positions_quantitative.nc')\n",
    "\n",
    "loop = (data.final_section==0) & (data.init_t-data.final_t > tide)\n",
    "pump = (data.final_section==0) & (data.init_t-data.final_t <= tide)\n",
    "\n",
    "print('loop average S diff =', np.mean(np.abs(data.init_salt[loop]-data.final_salt[loop])).values, ' +-', np.std(data.init_salt[loop]-data.final_salt[loop]).values)\n",
    "print('pump average S diff =', np.mean(np.abs(data.init_salt[pump]-data.final_salt[pump])).values, ' +-', np.std(data.init_salt[pump]-data.final_salt[pump]).values)"
   ]
  },
  {
   "cell_type": "code",
   "execution_count": 10,
   "metadata": {},
   "outputs": [
    {
     "data": {
      "text/plain": [
       "[1.2924070333333333, 0.08227800866666667]"
      ]
     },
     "execution_count": 10,
     "metadata": {},
     "output_type": "execute_result"
    }
   ],
   "source": [
    "[np.mean([1.7073569,0.883158,1.2867062]),np.mean([0.07377975,0.08074302,0.092311256])]"
   ]
  },
  {
   "cell_type": "code",
   "execution_count": 11,
   "metadata": {},
   "outputs": [
    {
     "data": {
      "text/plain": [
       "[0.3365019379001388, 0.007642919220302551]"
      ]
     },
     "execution_count": 11,
     "metadata": {},
     "output_type": "execute_result"
    }
   ],
   "source": [
    "[np.std([1.7073569,0.883158,1.2867062]),np.std([0.07377975,0.08074302,0.092311256])]"
   ]
  },
  {
   "cell_type": "markdown",
   "metadata": {},
   "source": [
    "# SalishSeaCast"
   ]
  },
  {
   "cell_type": "code",
   "execution_count": 3,
   "metadata": {},
   "outputs": [],
   "source": [
    "files = ['/ocean/rbeutel/MOAD/analysis-becca/Ariane/1yr_runs/201905_1hr/forward_01jan16/ariane_positions_quantitative.nc',\n",
    "         '/ocean/rbeutel/MOAD/analysis-becca/Ariane/1yr_runs/201905_1hr/forward_01jan17/ariane_positions_quantitative.nc',\n",
    "         '/ocean/rbeutel/MOAD/analysis-becca/Ariane/1yr_runs/201905_1hr/forward_01jan19/ariane_positions_quantitative.nc',\n",
    "         '/ocean/rbeutel/MOAD/analysis-becca/Ariane/1yr_runs/201905_1hr/forward_01jan20/ariane_positions_quantitative.nc']"
   ]
  },
  {
   "cell_type": "code",
   "execution_count": 11,
   "metadata": {},
   "outputs": [
    {
     "name": "stdout",
     "output_type": "stream",
     "text": [
      "loop average S diff = 0.89335006  +- 1.0685169696807861\n",
      "pump average S diff = 0.077161126  +- 0.14458312094211578\n"
     ]
    }
   ],
   "source": [
    "# 2016\n",
    "data = xr.open_dataset(files[0])\n",
    "loop = (data.final_section==0) & (data.final_t-data.init_t > tide)\n",
    "pump = (data.final_section==0) & (data.final_t-data.init_t <= tide)\n",
    "\n",
    "print('loop average S diff =', np.mean(np.abs(data.init_salt[loop]-data.final_salt[loop])).values, ' +-', np.std(data.init_salt[loop]-data.final_salt[loop]).values)\n",
    "print('pump average S diff =', np.mean(np.abs(data.init_salt[pump]-data.final_salt[pump])).values, ' +-', np.std(data.init_salt[pump]-data.final_salt[pump]).values)"
   ]
  },
  {
   "cell_type": "code",
   "execution_count": 12,
   "metadata": {},
   "outputs": [
    {
     "name": "stdout",
     "output_type": "stream",
     "text": [
      "loop average S diff = 1.0026585  +- 1.2578558921813965\n",
      "pump average S diff = 0.08597325  +- 0.16198839247226715\n"
     ]
    }
   ],
   "source": [
    "# 2017\n",
    "data = xr.open_dataset(files[1])\n",
    "loop = (data.final_section==0) & (data.final_t-data.init_t > tide)\n",
    "pump = (data.final_section==0) & (data.final_t-data.init_t <= tide)\n",
    "\n",
    "print('loop average S diff =', np.mean(np.abs(data.init_salt[loop]-data.final_salt[loop])).values, ' +-', np.std(data.init_salt[loop]-data.final_salt[loop]).values)\n",
    "print('pump average S diff =', np.mean(np.abs(data.init_salt[pump]-data.final_salt[pump])).values, ' +-', np.std(data.init_salt[pump]-data.final_salt[pump]).values)"
   ]
  },
  {
   "cell_type": "code",
   "execution_count": 23,
   "metadata": {},
   "outputs": [
    {
     "name": "stdout",
     "output_type": "stream",
     "text": [
      "loop average S diff = 1.0453935  +- 1.3561619520187378\n",
      "pump average S diff = 0.7986598  +- 1.122363805770874\n"
     ]
    }
   ],
   "source": [
    "# 2019\n",
    "data = xr.open_dataset(files[2])\n",
    "loop = (data.final_section==0) & (data.final_t-data.init_t > tide)\n",
    "pump = (data.final_section==0) & (data.final_t-data.init_t <= tide)\n",
    "\n",
    "print('loop average S diff =', np.mean(np.abs(data.init_salt[loop]-data.final_salt[loop])).values, ' +-', np.std(data.init_salt[loop]-data.final_salt[loop]).values)\n",
    "print('pump average S diff =', np.mean(np.abs(data.init_salt[pump]-data.final_salt[pump])).values, ' +-', np.std(data.init_salt[pump]-data.final_salt[pump]).values)"
   ]
  },
  {
   "cell_type": "code",
   "execution_count": 22,
   "metadata": {},
   "outputs": [
    {
     "data": {
      "text/plain": [
       "[<matplotlib.lines.Line2D at 0x7fd8008b0dc0>]"
      ]
     },
     "execution_count": 22,
     "metadata": {},
     "output_type": "execute_result"
    },
    {
     "data": {
      "image/png": "[encoded data removed]",
      "text/plain": [
       "<Figure size 432x288 with 1 Axes>"
      ]
     },
     "metadata": {
      "needs_background": "light"
     },
     "output_type": "display_data"
    }
   ],
   "source": [
    "plt.plot(data.init_salt[pump]-data.final_salt[pump])"
   ]
  },
  {
   "cell_type": "code",
   "execution_count": 14,
   "metadata": {},
   "outputs": [
    {
     "name": "stdout",
     "output_type": "stream",
     "text": [
      "loop average S diff = 0.92397946  +- 1.0448908805847168\n",
      "pump average S diff = 0.07866312  +- 0.1468258500099182\n"
     ]
    }
   ],
   "source": [
    "# 2020\n",
    "data = xr.open_dataset(files[3])\n",
    "loop = (data.final_section==0) & (data.final_t-data.init_t > tide)\n",
    "pump = (data.final_section==0) & (data.final_t-data.init_t <= tide)\n",
    "\n",
    "print('loop average S diff =', np.mean(np.abs(data.init_salt[loop]-data.final_salt[loop])).values, ' +-', np.std(data.init_salt[loop]-data.final_salt[loop]).values)\n",
    "print('pump average S diff =', np.mean(np.abs(data.init_salt[pump]-data.final_salt[pump])).values, ' +-', np.std(data.init_salt[pump]-data.final_salt[pump]).values)"
   ]
  },
  {
   "cell_type": "code",
   "execution_count": 16,
   "metadata": {},
   "outputs": [
    {
     "data": {
      "text/plain": [
       "[0.9663453799999999, 0.260114324]"
      ]
     },
     "execution_count": 16,
     "metadata": {},
     "output_type": "execute_result"
    }
   ],
   "source": [
    "[np.mean([0.89335006,1.0026585,1.04539350,.92397946]), np.mean([0.077161126,0.08597325,0.7986598, 0.07866312])]"
   ]
  },
  {
   "cell_type": "code",
   "execution_count": 24,
   "metadata": {},
   "outputs": [
    {
     "data": {
      "text/plain": [
       "[0.060602054171079084, 0.31094724450677197]"
      ]
     },
     "execution_count": 24,
     "metadata": {},
     "output_type": "execute_result"
    }
   ],
   "source": [
    "[np.std([0.89335006,1.0026585,1.04539350,.92397946]), np.std([0.077161126,0.08597325,0.7986598,0.07866312])]"
   ]
  },
  {
   "cell_type": "code",
   "execution_count": 18,
   "metadata": {},
   "outputs": [
    {
     "data": {
      "text/plain": [
       "[0.9399960066666666, 0.08059916533333333]"
      ]
     },
     "execution_count": 18,
     "metadata": {},
     "output_type": "execute_result"
    }
   ],
   "source": [
    "[np.mean([0.89335006,1.0026585,.92397946]), np.mean([0.077161126,0.08597325,0.07866312])]\n"
   ]
  },
  {
   "cell_type": "code",
   "execution_count": 19,
   "metadata": {},
   "outputs": [
    {
     "data": {
      "text/plain": [
       "[0.04603970090514294, 0.003849206498088088]"
      ]
     },
     "execution_count": 19,
     "metadata": {},
     "output_type": "execute_result"
    }
   ],
   "source": [
    "[np.std([0.89335006,1.0026585,.92397946]), np.std([0.077161126,0.08597325,0.07866312])]"
   ]
  },
  {
   "cell_type": "code",
   "execution_count": null,
   "metadata": {},
   "outputs": [],
   "source": []
  }
 ],
 "metadata": {
  "kernelspec": {
   "display_name": "Ariane",
   "language": "python",
   "name": "python3"
  },
  "language_info": {
   "codemirror_mode": {
    "name": "ipython",
    "version": 3
   },
   "file_extension": ".py",
   "mimetype": "text/x-python",
   "name": "python",
   "nbconvert_exporter": "python",
   "pygments_lexer": "ipython3",
   "version": "3.9.9"
  }
 },
 "nbformat": 4,
 "nbformat_minor": 2
}
