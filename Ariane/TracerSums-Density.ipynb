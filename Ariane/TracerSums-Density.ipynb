{
 "cells": [
  {
   "cell_type": "code",
   "execution_count": 1,
   "metadata": {},
   "outputs": [],
   "source": [
    "import cmocean.cm as cm\n",
    "from matplotlib.patches import Rectangle\n",
    "from matplotlib.collections import PatchCollection\n",
    "import matplotlib.pyplot as plt\n",
    "import numpy as np\n",
    "import xarray as xr\n",
    "\n",
    "import scipy.interpolate as interp\n",
    "from scipy.stats import binned_statistic_2d\n",
    "\n",
    "%matplotlib inline"
   ]
  },
  {
   "cell_type": "code",
   "execution_count": 2,
   "metadata": {},
   "outputs": [],
   "source": [
    "mymesh = xr.open_dataset('/home/sallen/MEOPAR/grid/mesh_mask201702.nc')\n",
    "depthf = interp.interp1d(mymesh.z, mymesh.gdept_1d)"
   ]
  },
  {
   "cell_type": "code",
   "execution_count": null,
   "metadata": {},
   "outputs": [],
   "source": [
    "def get_data(mydata, section, starttime, endtime):\n",
    "#     depths = depthf(mydata.final_z[(mydata.final_section==section) & (mydata.init_t >= starttime) & (mydata.init_t <= endtime)]-1.)[0]\n",
    "    transports = mydata.final_transp[(mydata.final_section==section) & (mydata.init_t >= starttime) & (mydata.init_t <= endtime)]\n",
    "    tracer1 = mydata.final_temp[(mydata.final_section==section) & (mydata.init_t >= starttime) & (mydata.init_t <= endtime)]\n",
    "    tracer2 = mydata.final_salt[(mydata.final_section==section) & (mydata.init_t >= starttime) & (mydata.init_t <= endtime)]\n",
    "    return depths, transports, tracer1, tracer2"
   ]
  },
  {
   "cell_type": "code",
   "execution_count": 4,
   "metadata": {},
   "outputs": [],
   "source": [
    "def get_all_data_SoG(folder,forback):\n",
    "    starttime = 1\n",
    "    endtime = 720\n",
    "\n",
    "#     depths = np.array([])\n",
    "    transports = np.array([])\n",
    "    tracer1 = np.array([])\n",
    "    tracer2 = np.array([])\n",
    "    month = np.array([])\n",
    "    k = 0\n",
    "\n",
    "    #2016 and 2017\n",
    "    year = [16,17]\n",
    "\n",
    "    for num in year:\n",
    "        file = '/ocean/rbeutel/MOAD/analysis-becca/Ariane/1yr_runs/201905_'+str(folder)+'/'+str(forback)+'ward_01jan'+str(num)+'/ariane_positions_quantitative.nc'\n",
    "        mydata = xr.open_dataset(file)\n",
    "        for i in range(12):\n",
    "            for section in sections:\n",
    "                tempT, tempt1, tempt2 = get_data(mydata, section, starttime+(i*720), endtime+(i*720))\n",
    "\n",
    "#                 depths = np.append(depths, tempD)\n",
    "                transports = np.append(transports, tempT/720)\n",
    "                tracer1 = np.append(tracer1, tempt1)\n",
    "                tracer2 = np.append(tracer2, tempt2)\n",
    "                month = np.append(month, np.full(len(tempD),i+k+1))\n",
    "        k=12\n",
    "\n",
    "    #2019 and 2018 (both done month by month)\n",
    "    year = [18,19]\n",
    "    for num in year:\n",
    "        k += 12\n",
    "        for i in range(len(str_mo)):\n",
    "            file = '/ocean/rbeutel/MOAD/analysis-becca/Ariane/201905_'+str(folder)+'/'+str(forback)+'ward_01'+str_mo[i]+str(num)+'/ariane_positions_quantitative.nc'\n",
    "            mydata = xr.open_dataset(file)\n",
    "            time = mydata.init_t[-1]\n",
    "\n",
    "            for section in sections:\n",
    "#                 depths = np.append(depths, depthf(mydata.final_z[(mydata.final_section==section)]-1.)[0])\n",
    "                tracer1 = np.append(tracer1, mydata.final_temp[(mydata.final_section==section)])\n",
    "                tracer2 = np.append(tracer2, mydata.final_salt[(mydata.final_section==section)])\n",
    "                transports = np.append(transports, mydata.final_transp[(mydata.final_section==section)]/time)\n",
    "                month = np.append(month, np.full(len(mydata.final_salt[(mydata.final_section==section)]),i+k+1))\n",
    "\n",
    "    #2020\n",
    "    k=48\n",
    "    file = '/ocean/rbeutel/MOAD/analysis-becca/Ariane/1yr_runs/201905_'+str(folder)+'/'+str(forback)+'ward_01jan20/ariane_positions_quantitative.nc'\n",
    "    mydata = xr.open_dataset(file)\n",
    "    for i in range(12):\n",
    "        for section in sections:\n",
    "            tempT, tempt1, tempt2 = get_data(mydata, section, starttime+(i*720), endtime+(i*720))\n",
    "\n",
    "#             depths = np.append(depths, tempD)\n",
    "            transports = np.append(transports, tempT/720)\n",
    "            tracer1 = np.append(tracer1, tempt1)\n",
    "            tracer2 = np.append(tracer2, tempt2)\n",
    "            month = np.append(month, np.full(len(tempD),i+k+1))\n",
    "    \n",
    "    return depths, transports, tracer1, tracer2, month"
   ]
  },
  {
   "cell_type": "code",
   "execution_count": 5,
   "metadata": {},
   "outputs": [],
   "source": [
    "back_mo = ['31jan','03mar','31mar','01may','31may','01jul','31jul','31aug','01oct','31oct','01dec','31dec']\n",
    "\n",
    "def BACK_get_all_data_SoG(folder):\n",
    "    starttime = 721\n",
    "    endtime = 1440\n",
    "\n",
    "#     depths = np.array([])\n",
    "    transports = np.array([])\n",
    "    tracer1 = np.array([])\n",
    "    tracer2 = np.array([])\n",
    "    month = np.array([])\n",
    "    k = 0\n",
    "    \n",
    "    #2016 (month by month)\n",
    "    for i in range(len(str_mo)):\n",
    "        file = '/ocean/rbeutel/MOAD/analysis-becca/Ariane/201905_'+str(folder)+'/backward_'+back_mo[i]+'16/ariane_positions_quantitative.nc'\n",
    "        mydata = xr.open_dataset(file)\n",
    "        time = mydata.init_t[-1]\n",
    "\n",
    "        for section in sections:\n",
    "#             depths = np.append(depths, depthf(mydata.final_z[(mydata.final_section==section)]-1.)[0])\n",
    "            tracer1 = np.append(tracer1, mydata.final_temp[(mydata.final_section==section)])\n",
    "            tracer2 = np.append(tracer2, mydata.final_salt[(mydata.final_section==section)])\n",
    "            transports = np.append(transports, mydata.final_transp[(mydata.final_section==section)]/time)\n",
    "            month = np.append(month, np.full(len(mydata.final_salt[(mydata.final_section==section)]),i+k+1))\n",
    "\n",
    "    #2017 and 2018\n",
    "    k=12\n",
    "    year = [17,18]\n",
    "    for num in year:\n",
    "        file = '/ocean/rbeutel/MOAD/analysis-becca/Ariane/1yr_runs/201905_'+str(folder)+'/backward_31dec'+str(num)+'/ariane_positions_quantitative.nc'\n",
    "        mydata = xr.open_dataset(file)\n",
    "        for i in range(12):\n",
    "            for section in sections:\n",
    "                tempT, tempt1, tempt2 = get_data(mydata, section, starttime+(i*720), endtime+(i*720))\n",
    "\n",
    "#                 depths = np.append(depths, tempD)\n",
    "                transports = np.append(transports, tempT/720)\n",
    "                tracer1 = np.append(tracer1, tempt1)\n",
    "                tracer2 = np.append(tracer2, tempt2)\n",
    "                month = np.append(month, np.full(len(tempD),i+k+1))\n",
    "        k=24\n",
    "\n",
    "    #2019 and (month by month)\n",
    "    k=36\n",
    "    for i in range(len(str_mo)):\n",
    "        file = '/ocean/rbeutel/MOAD/analysis-becca/Ariane/201905_'+str(folder)+'/backward_'+back_mo[i]+'19/ariane_positions_quantitative.nc'\n",
    "        mydata = xr.open_dataset(file)\n",
    "        time = mydata.init_t[-1]\n",
    "\n",
    "        for section in sections:\n",
    "#             depths = np.append(depths, depthf(mydata.final_z[(mydata.final_section==section)]-1.)[0])\n",
    "            tracer1 = np.append(tracer1, mydata.final_temp[(mydata.final_section==section)])\n",
    "            tracer2 = np.append(tracer2, mydata.final_salt[(mydata.final_section==section)])\n",
    "            transports = np.append(transports, mydata.final_transp[(mydata.final_section==section)]/time)\n",
    "            month = np.append(month, np.full(len(mydata.final_salt[(mydata.final_section==section)]),i+k+1))\n",
    "    \n",
    "    #2020\n",
    "    k=48\n",
    "    file = '/ocean/rbeutel/MOAD/analysis-becca/Ariane/1yr_runs/201905_'+str(folder)+'/backward_31dec20/ariane_positions_quantitative.nc'\n",
    "    mydata = xr.open_dataset(file)\n",
    "    for i in range(12):\n",
    "        for section in sections:\n",
    "            tempT, tempt1, tempt2 = get_data(mydata, section, starttime+(i*720), endtime+(i*720))\n",
    "\n",
    "#             depths = np.append(depths, tempD)\n",
    "            transports = np.append(transports, tempT/720)\n",
    "            tracer1 = np.append(tracer1, tempt1)\n",
    "            tracer2 = np.append(tracer2, tempt2)\n",
    "            month = np.append(month, np.full(len(tempD),i+k+1))\n",
    "    \n",
    "    return transports, tracer1, tracer2, month"
   ]
  },
  {
   "cell_type": "code",
   "execution_count": 3,
   "metadata": {},
   "outputs": [],
   "source": [
    "str_mo = ['jan', 'feb', 'mar', 'apr','may', 'jun', 'jul', 'aug', 'sep','oct', 'nov', 'dec']\n",
    "int_mo = [1,2,3,4,5,6,7,8,9,10,11,12]\n",
    "sections = [4,5,6] #haro, sanjuan, and rosario go into the JDF"
   ]
  },
  {
   "cell_type": "code",
   "execution_count": 13,
   "metadata": {},
   "outputs": [],
   "source": [
    "file = '/ocean/rbeutel/MOAD/analysis-becca/Ariane/201905_tracers/forward_01jan19/ariane_positions_quantitative.nc'\n",
    "dens = xr.open_dataset(file).final_dens.load()"
   ]
  },
  {
   "cell_type": "code",
   "execution_count": null,
   "metadata": {},
   "outputs": [],
   "source": []
  },
  {
   "cell_type": "markdown",
   "metadata": {},
   "source": [
    "BIG question - before the division by depth was automatic (bc depth was used ot bin) and i had to manually add the division by width (because i was no longer binning by width) to get trasport from m3/s to m/s <br>\n",
    "\n",
    "Because i am now no longer binnig by depth how do i divide by depth? for now lets not do this BUT i think a resobale thing ot ask about. make sure you ajust the flux units accordingly."
   ]
  },
  {
   "cell_type": "code",
   "execution_count": 32,
   "metadata": {},
   "outputs": [],
   "source": [
    "month_edge = [0.5,1.5,2.5,3.5,4.5,5.5,6.5,7.5,8.5,9.5,10.5,11.5,12.5]\n",
    "dens_edge = np.linspace(dens.mean()-dens.std()*3.5,dens.mean()+dens.std()*3,101)"
   ]
  },
  {
   "cell_type": "code",
   "execution_count": 37,
   "metadata": {},
   "outputs": [
    {
     "data": {
      "text/plain": [
       "Text(0, 0.5, 'Density (kg/m3)')"
      ]
     },
     "execution_count": 37,
     "metadata": {},
     "output_type": "execute_result"
    },
    {
     "data": {
      "image/png": "[encoded data removed]",
      "text/plain": [
       "<Figure size 1080x432 with 2 Axes>"
      ]
     },
     "metadata": {
      "needs_background": "light"
     },
     "output_type": "display_data"
    }
   ],
   "source": [
    "#SILICON FLUX\n",
    "salts = np.array([])\n",
    "transports = np.array([])\n",
    "month = np.array([])\n",
    "dens = np.array([])\n",
    "time = 0\n",
    "\n",
    "for i in range(len(str_mo)):\n",
    "    file = '/ocean/rbeutel/MOAD/analysis-becca/Ariane/201905_tracers/forward_01'+str_mo[i]+'19/ariane_positions_quantitative.nc'\n",
    "    mydata = xr.open_dataset(file)\n",
    "    time = mydata.init_t[-1]\n",
    "    \n",
    "    for section in sections:\n",
    "        salts = np.append(salts, mydata.final_salt[(mydata.final_section==section)])\n",
    "        transports = np.append(transports, mydata.final_transp[(mydata.final_section==section)]/time)\n",
    "        month = np.append(month, np.full(len(mydata.final_salt[(mydata.final_section==section)]),int_mo[i]))\n",
    "        dens = np.append(dens, mydata.final_dens[(mydata.final_section==section)])\n",
    "\n",
    "vmax = (300/sum(transports))\n",
    "\n",
    "H1, xedges1, yedges1 = np.histogram2d(month, dens, bins=[month_edge,dens_edge], weights= transports, density= True)\n",
    "\n",
    "H = binned_statistic_2d(month, dens, salts, statistic=np.mean, bins=[month_edge,dens_edge])\n",
    "_, xedges, yedges = np.histogram2d(month, dens, bins = [month_edge,dens_edge])\n",
    "   \n",
    "H_final= (H1.T/W) * H.statistic.T\n",
    "np.nan_to_num(H_final, nan=0, copy=False)\n",
    "\n",
    "fig, ax = plt.subplots(1, 1, figsize = (15, 6))\n",
    "    \n",
    "X, Y = np.meshgrid(xedges1, yedges1)\n",
    "cmap = cm.matter\n",
    "im = ax.pcolormesh(X, Y, H_final, vmax=vmax, vmin=0, cmap=cmap)\n",
    "cb1 = fig.colorbar(im, ax=ax)\n",
    "cb1.set_ticks([0, vmax])\n",
    "cb1.set_ticklabels([0, np.round((vmax * sum(transports)),1)])\n",
    "cb1.set_label('mmol m-1 s-1', labelpad=-20)\n",
    "\n",
    "ax.invert_yaxis()\n",
    "# ax.set_ylim((280, 0))\n",
    "ax.set_title('Silicon Flux into the SoG', fontsize = 18)\n",
    "ax.set_xticks(int_mo)\n",
    "ax.set_xticklabels(str_mo)\n",
    "ax.set_ylabel('Density (kg/m3)')"
   ]
  },
  {
   "cell_type": "code",
   "execution_count": 39,
   "metadata": {},
   "outputs": [
    {
     "data": {
      "text/plain": [
       "Text(0, 0.5, 'Density (kg/m3)')"
      ]
     },
     "execution_count": 39,
     "metadata": {},
     "output_type": "execute_result"
    },
    {
     "data": {
      "image/png": "[encoded data removed]",
      "text/plain": [
       "<Figure size 1080x432 with 2 Axes>"
      ]
     },
     "metadata": {
      "needs_background": "light"
     },
     "output_type": "display_data"
    }
   ],
   "source": [
    "#NITRATE FLUX\n",
    "dens = np.array([])\n",
    "tracer = np.array([])\n",
    "transports = np.array([])\n",
    "month = np.array([])\n",
    "\n",
    "for i in range(len(str_mo)):\n",
    "    file = '/ocean/rbeutel/MOAD/analysis-becca/Ariane/201905_tracers/forward_01'+str_mo[i]+'19/ariane_positions_quantitative.nc'\n",
    "    mydata = xr.open_dataset(file)\n",
    "    time = mydata.init_t[-1]\n",
    "    \n",
    "    for section in sections:\n",
    "        dens = np.append(dens, mydata.final_dens[(mydata.final_section==section)])\n",
    "        tracer = np.append(tracer, mydata.final_temp[(mydata.final_section==section)])\n",
    "        transports = np.append(transports, mydata.final_transp[(mydata.final_section==section)]/time)\n",
    "        month = np.append(month, np.full(len(mydata.final_salt[(mydata.final_section==section)]),int_mo[i]))\n",
    "        \n",
    "month_edge = [0.5,1.5,2.5,3.5,4.5,5.5,6.5,7.5,8.5,9.5,10.5,11.5,12.5]\n",
    "\n",
    "vmax = (200/sum(transports))\n",
    "\n",
    "H1, xedges1, yedges1 = np.histogram2d(month, dens, bins=[month_edge,dens_edge] ,weights= transports, density= True)\n",
    "\n",
    "H = binned_statistic_2d(month, dens, tracer, statistic=np.mean, bins=[month_edge,dens_edge])\n",
    "_, xedges, yedges = np.histogram2d(month, dens, bins = [month_edge,dens_edge])\n",
    "   \n",
    "H_final= (H1.T/W) * H.statistic.T\n",
    "np.nan_to_num(H_final, nan=0, copy=False)\n",
    "\n",
    "fig, ax = plt.subplots(1, 1, figsize = (15, 6))\n",
    "    \n",
    "X, Y = np.meshgrid(xedges, yedges)\n",
    "cmap = cm.rain\n",
    "im = ax.pcolormesh(X, Y, H_final, vmax = vmax, vmin = 0, cmap=cmap)\n",
    "cb1 = fig.colorbar(im, ax=ax)\n",
    "cb1.set_ticks([0, vmax])\n",
    "cb1.set_ticklabels([0, np.round((vmax * sum(transports)),1)])\n",
    "cb1.set_label('mmol m-1 s-1', labelpad=-20)\n",
    "    \n",
    "ax.invert_yaxis()\n",
    "ax.set_title('Nitrate Flux into the SoG', fontsize = 18)\n",
    "ax.set_xticks(int_mo)\n",
    "ax.set_xticklabels(str_mo)\n",
    "ax.set_ylabel('Density (kg/m3)')"
   ]
  },
  {
   "cell_type": "code",
   "execution_count": 53,
   "metadata": {},
   "outputs": [
    {
     "data": {
      "text/plain": [
       "Text(0, 0.5, 'Density (kg/m3)')"
      ]
     },
     "execution_count": 53,
     "metadata": {},
     "output_type": "execute_result"
    },
    {
     "data": {
      "image/png": "[encoded data removed]",
      "text/plain": [
       "<Figure size 1080x432 with 2 Axes>"
      ]
     },
     "metadata": {
      "needs_background": "light"
     },
     "output_type": "display_data"
    }
   ],
   "source": [
    "#SALINITY FLUX\n",
    "dens = np.array([])\n",
    "tracer = np.array([])\n",
    "transports = np.array([])\n",
    "month = np.array([])\n",
    "\n",
    "for i in range(len(str_mo)):\n",
    "    file = '/ocean/rbeutel/MOAD/analysis-becca/Ariane/201905_tracers/forward_01'+str_mo[i]+'19/ariane_positions_quantitative.nc'\n",
    "    mydata = xr.open_dataset(file)\n",
    "    file = '/ocean/rbeutel/MOAD/analysis-becca/Ariane/201905_Car_Sal/forward_01'+str_mo[i]+'19/ariane_positions_quantitative.nc'\n",
    "    mydata2 = xr.open_dataset(file)\n",
    "    time2 = mydata.init_t[-1]\n",
    "    \n",
    "    for section in sections:\n",
    "        dens = np.append(dens, mydata.final_dens[(mydata.final_section==section)])\n",
    "        tracer = np.append(tracer, mydata2.final_salt[(mydata2.final_section==section)])\n",
    "        transports = np.append(transports, mydata2.final_transp[(mydata2.final_section==section)]/time)\n",
    "        month = np.append(month, np.full(len(mydata2.final_salt[(mydata2.final_section==section)]),int_mo[i]))\n",
    "\n",
    "vmax = (350/sum(transports))\n",
    "\n",
    "H1, xedges1, yedges1 = np.histogram2d(month, dens, bins=[month_edge,dens_edge] ,weights= transports, density= True)# vmax=vmax)\n",
    "\n",
    "H = binned_statistic_2d(month, dens, tracer, statistic=np.mean, bins=[month_edge,dens_edge])\n",
    "_, xedges, yedges = np.histogram2d(month, dens, bins = [month_edge,dens_edge])\n",
    "   \n",
    "H_final= (H1.T/W) * H.statistic.T\n",
    "np.nan_to_num(H_final, nan=0, copy=False)\n",
    "\n",
    "fig, ax = plt.subplots(1, 1, figsize = (15, 6))\n",
    "    \n",
    "X, Y = np.meshgrid(xedges, yedges)\n",
    "cmap = cm.haline\n",
    "im = ax.pcolormesh(X, Y, H_final, vmax = vmax, vmin = 0, cmap=cmap)\n",
    "cb1 = fig.colorbar(im, ax=ax)\n",
    "cb1.set_ticks([0, vmax])\n",
    "cb1.set_ticklabels([0, np.round((vmax * sum(transports)),1)])\n",
    "cb1.set_label('g kg-1 m s-1', labelpad=-20)\n",
    "    \n",
    "ax.invert_yaxis()\n",
    "ax.set_title('Salinity Flux into the SoG', fontsize = 18)\n",
    "ax.set_xticks(int_mo)\n",
    "ax.set_xticklabels(str_mo)\n",
    "ax.set_ylabel('Density (kg/m3)')"
   ]
  },
  {
   "cell_type": "code",
   "execution_count": 56,
   "metadata": {},
   "outputs": [
    {
     "data": {
      "text/plain": [
       "Text(0, 0.5, 'Density (kg/m3)')"
      ]
     },
     "execution_count": 56,
     "metadata": {},
     "output_type": "execute_result"
    },
    {
     "data": {
      "image/png": "[encoded data removed]",
      "text/plain": [
       "<Figure size 1080x432 with 2 Axes>"
      ]
     },
     "metadata": {
      "needs_background": "light"
     },
     "output_type": "display_data"
    }
   ],
   "source": [
    "#CARBON FLUX\n",
    "dens = np.array([])\n",
    "tracer = np.array([])\n",
    "transports = np.array([])\n",
    "month = np.array([])\n",
    "\n",
    "for i in range(len(str_mo)):\n",
    "    file = '/ocean/rbeutel/MOAD/analysis-becca/Ariane/201905_tracers/forward_01'+str_mo[i]+'19/ariane_positions_quantitative.nc'\n",
    "    mydata = xr.open_dataset(file)\n",
    "    file = '/ocean/rbeutel/MOAD/analysis-becca/Ariane/201905_Car_Sal/forward_01'+str_mo[i]+'19/ariane_positions_quantitative.nc'\n",
    "    mydata2 = xr.open_dataset(file)\n",
    "    time = mydata2.init_t[-1]\n",
    "    \n",
    "    for section in sections:\n",
    "        dens = np.append(dens, mydata.final_dens[(mydata.final_section==section)])\n",
    "        tracer = np.append(tracer, mydata2.final_temp[(mydata2.final_section==section)])\n",
    "        transports = np.append(transports, mydata2.final_transp[(mydata2.final_section==section)]/time)\n",
    "        month = np.append(month, np.full(len(mydata2.final_salt[(mydata2.final_section==section)]),int_mo[i]))\n",
    "        \n",
    "month_edge = [0.5,1.5,2.5,3.5,4.5,5.5,6.5,7.5,8.5,9.5,10.5,11.5,12.5]\n",
    "\n",
    "vmax = (6000/sum(transports))\n",
    "\n",
    "H1, xedges1, yedges1 = np.histogram2d(month, dens, bins=[month_edge,dens_edge] ,weights= transports, density= True)# vmax=vmax)\n",
    "\n",
    "H = binned_statistic_2d(month, dens, tracer, statistic=np.mean, bins=[month_edge,dens_edge])\n",
    "_, xedges, yedges = np.histogram2d(month, dens, bins = [month_edge,dens_edge])\n",
    "   \n",
    "H_final= (H1.T/W) * H.statistic.T\n",
    "np.nan_to_num(H_final, nan=0, copy=False)\n",
    "\n",
    "fig, ax = plt.subplots(1, 1, figsize = (15, 6))\n",
    "    \n",
    "X, Y = np.meshgrid(xedges, yedges)\n",
    "cmap = cm.turbid\n",
    "im = ax.pcolormesh(X, Y, H_final, vmax = vmax, vmin = 0, cmap=cmap)\n",
    "cb1 = fig.colorbar(im, ax=ax)\n",
    "cb1.set_ticks([0, vmax])\n",
    "cb1.set_ticklabels([0, np.round((vmax * sum(transports)),1)])\n",
    "cb1.set_label('mmol m-2 s-1', labelpad=-20)\n",
    "    \n",
    "ax.invert_yaxis()\n",
    "ax.set_title('Dissolved Inorganic Carbon Flux into the SoG', fontsize = 18)\n",
    "ax.set_xticks(int_mo)\n",
    "ax.set_xticklabels(str_mo)\n",
    "ax.set_ylabel('Density (kg/m3)')"
   ]
  },
  {
   "cell_type": "markdown",
   "metadata": {},
   "source": [
    "YOU NEED OT RUN THE ORIGIANL ARIANE FOR ALL MONTHS IN 2019 bc the density is calculated based upon the temp and salinity thus the tracer workaround messes it up"
   ]
  },
  {
   "cell_type": "code",
   "execution_count": null,
   "metadata": {},
   "outputs": [],
   "source": []
  }
 ],
 "metadata": {
  "kernelspec": {
   "display_name": "OceanParcels",
   "language": "python",
   "name": "oceanparcels"
  },
  "language_info": {
   "codemirror_mode": {
    "name": "ipython",
    "version": 3
   },
   "file_extension": ".py",
   "mimetype": "text/x-python",
   "name": "python",
   "nbconvert_exporter": "python",
   "pygments_lexer": "ipython3",
   "version": "3.8.8"
  }
 },
 "nbformat": 4,
 "nbformat_minor": 4
}
