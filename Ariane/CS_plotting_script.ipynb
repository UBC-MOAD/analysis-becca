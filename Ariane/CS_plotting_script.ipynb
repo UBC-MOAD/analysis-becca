{
 "cells": [
  {
   "cell_type": "markdown",
   "metadata": {},
   "source": [
    "# Analysis file for Ariane quantitative runs\n",
    "gets data from .nc file into basic plot<br>\n",
    "based on code from https://github.com/SalishSeaCast/analysis-susan/blob/master/notebooks/Ariane/FluxRobertsBankApr2015-New.ipynb"
   ]
  },
  {
   "cell_type": "code",
   "execution_count": 1,
   "metadata": {},
   "outputs": [],
   "source": [
    "import cmocean.cm as cm\n",
    "from matplotlib.patches import Rectangle\n",
    "from matplotlib.collections import PatchCollection\n",
    "import matplotlib.pyplot as plt\n",
    "import numpy as np\n",
    "import xarray as xr\n",
    "\n",
    "import scipy.interpolate as interp\n",
    "\n",
    "%matplotlib inline"
   ]
  },
  {
   "cell_type": "markdown",
   "metadata": {},
   "source": [
    "### get grid info"
   ]
  },
  {
   "cell_type": "code",
   "execution_count": 2,
   "metadata": {},
   "outputs": [],
   "source": [
    "mymesh = xr.open_dataset('/home/sallen/MEOPAR/grid/mesh_mask201702.nc')\n",
    "depthf = interp.interp1d(mymesh.z, mymesh.gdept_1d)"
   ]
  },
  {
   "cell_type": "code",
   "execution_count": 3,
   "metadata": {},
   "outputs": [],
   "source": [
    "def get_data(mydata, section, time):\n",
    "    lons = mydata.final_lon[(mydata.final_section==section) & (mydata.init_t==time)]\n",
    "    depths = depthf(mydata.final_z[(mydata.final_section==section) & (mydata.init_t==time)]-1.)[0]\n",
    "    transports = mydata.final_transp[(mydata.final_section==section) & (mydata.init_t==time)]\n",
    "    return lons, depths, transports"
   ]
  },
  {
   "cell_type": "code",
   "execution_count": 4,
   "metadata": {},
   "outputs": [],
   "source": [
    "def draw_patches(fmask, lonW, lonE, t_dist, t_depths): #draw ground part of cross section\n",
    "    topo = []\n",
    "    for i in range(lonW,lonE):\n",
    "        for j in range(39):\n",
    "            if fmask[j, i] == 0:\n",
    "                rect = Rectangle((t_dist[i], t_depths[j]), t_dist[i+1]-t_dist[i], t_depths[j+1]-t_depths[j])\n",
    "                topo.append(rect)\n",
    "    pc = PatchCollection(topo, facecolors='burlywood', edgecolors='burlywood', zorder=3)\n",
    "    return(pc)"
   ]
  },
  {
   "cell_type": "code",
   "execution_count": 5,
   "metadata": {},
   "outputs": [],
   "source": [
    "def tranCS(section, lonW, lonE, figrid, maxdepth, ax, title):\n",
    "    igrid = figrid-1\n",
    "    fmask = mymesh.fmask[0, :, igrid]\n",
    "    tmask = mymesh.tmask[0]\n",
    "    nav_lon = mymesh.nav_lon[igrid]\n",
    "    \n",
    "    lons = mydata.final_lon[(mydata.final_section==section)]\n",
    "    lats = mydata.final_lat[(mydata.final_section==section)]\n",
    "    \n",
    "    t_lons = mymesh.glamt[0, igrid]\n",
    "    m2lon = ((t_lons[lonE]-t_lons[lonW])/(mymesh.e1t[0, igrid, lonW:lonE].sum()))\n",
    "    t_dist = t_lons/m2lon\n",
    "    t_depths = mymesh.gdept_1d[0,:]\n",
    "    \n",
    "    xs, ys = np.meshgrid(np.array(t_dist), np.array(t_depths))\n",
    "    \n",
    "    dist = lons/m2lon\n",
    "    depths = depthf(mydata.final_z[(mydata.final_section==section)]-1.)[0]\n",
    "    transports = mydata.final_transp[(mydata.final_section==section)]\n",
    "    \n",
    "#     vmax = 0.000006\n",
    "    vmax = 200/sum(transports)\n",
    "    \n",
    "#     fig, ax = plt.subplots(1, 1, figsize=(6, 5))\n",
    "    \n",
    "    c, xedge, yedge, im = ax.hist2d(dist, \n",
    "                            depths,\n",
    "                            weights=transports,\n",
    "                            bins=[np.array(t_dist[lonW:lonE]), t_depths], cmap=cm.matter, vmax = vmax, density=True, zorder=1) \n",
    "    \n",
    "    salinity = 0.5*(np.ma.array(xr.open_dataset(salfile).vosaline[0, :, igrid],\n",
    "            mask=1-tmask[:, igrid]) +\n",
    "            np.ma.array(xr.open_dataset(salfile).vosaline[0, :, igrid+1],\n",
    "            mask=1-tmask[:, igrid+1]))\n",
    "    CS = ax.contour(xs, ys, salinity,  [29, 30, 30.2, 30.4, 30.6, 30.8, 31, 31.2, 31.4], colors='g', zorder = 2)\n",
    "    \n",
    "    pc = draw_patches(fmask, lonW, lonE, np.array(t_dist), np.array(t_depths))\n",
    "    ax.add_collection(pc)\n",
    "    \n",
    "    # the histogram will integrate to 1, given density=True, manually set the range of the colourbar so it reflects the actual speeds\n",
    "    cb1 = fig.colorbar(im, ax=ax) \n",
    "    cb1.set_ticks([0, vmax])\n",
    "    cb1.set_ticklabels([0, np.round(((vmax*sum(transports)).values),1)]) #i think you have to divide transport by num days and num hours in day, ask susan why\n",
    "    cb1.set_label('m s$^{-1}$', labelpad=-20)\n",
    "\n",
    "    ax.clabel(CS, inline=1, fontsize=7)\n",
    "    ax.invert_yaxis()\n",
    "    ax.set_xticks(np.linspace(t_dist[lonW+1], t_dist[lonE-1], 5))\n",
    "    ax.set_xticklabels(np.round(np.linspace(t_lons[lonW+1], t_lons[lonE-1], 5),2))\n",
    "    ax.set_xlim((t_dist[lonW], t_dist[lonE]))\n",
    "    ax.set_ylim((maxdepth, 0))\n",
    "    ax.set_title(str(title))\n",
    "    mydata.close()"
   ]
  },
  {
   "cell_type": "code",
   "execution_count": 6,
   "metadata": {},
   "outputs": [],
   "source": [
    "#lets make a fun lil matrix with all of the info we need about every channel to run the cross-section code\n",
    "#in the format [section, jgridW, jgridE, figrid, maxdepth]\n",
    "admiralty = [2, 255, 267, 204, 200]\n",
    "rosario = [4, 286, 307, 266, 100]\n",
    "sanjuan = [5, 264, 266, 280, 100]\n",
    "haro = [6, 218, 242, 304, 300]\n",
    "straits = [admiralty, rosario, sanjuan, haro]\n",
    "names = ['Admiralty', 'Rosario', 'San Juan', 'Haro']"
   ]
  },
  {
   "cell_type": "markdown",
   "metadata": {},
   "source": [
    "# Lets plot!\n",
    "### Forward"
   ]
  },
  {
   "cell_type": "code",
   "execution_count": 7,
   "metadata": {},
   "outputs": [],
   "source": [
    "file = '/ocean/rbeutel/MOAD/analysis-becca/Ariane/jordan_manydays/forward1yr_01jan19/ariane_positions_quantitative.nc'\n",
    "salfile = '/results2/SalishSea/nowcast-green.201905/15dec19/SalishSea_1d_20191215_20191215_grid_T.nc'\n",
    "mydata = xr.open_dataset(file)\n",
    "time1 = mydata.init_t[0]"
   ]
  },
  {
   "cell_type": "code",
   "execution_count": null,
   "metadata": {},
   "outputs": [],
   "source": [
    "fig, axs = plt.subplots(1, 3, figsize=(20, 6))\n",
    "tranCS(haro[0], haro[1], haro[2], haro[3], haro[4], axs[0], \"Haro\")\n",
    "tranCS(sanjuan[0], sanjuan[1], sanjuan[2], sanjuan[3], sanjuan[4], axs[1], \"San Juan\")\n",
    "tranCS(rosario[0], rosario[1], rosario[2], rosario[3], rosario[4], axs[2], \"Rosario\")\n",
    "plt.savefig(\"Jordan-SoG_forward2019.png\")"
   ]
  },
  {
   "cell_type": "markdown",
   "metadata": {},
   "source": [
    "### Backward"
   ]
  },
  {
   "cell_type": "code",
   "execution_count": null,
   "metadata": {},
   "outputs": [],
   "source": [
    "file = '/ocean/rbeutel/MOAD/analysis-becca/Ariane/jordan_manydays/backward1yr_31dec19/ariane_positions_quantitative.nc'\n",
    "salfile = '/results2/SalishSea/nowcast-green.201905/15dec19/SalishSea_1d_20191215_20191215_grid_T.nc'\n",
    "mydata = xr.open_dataset(file)\n",
    "time1 = mydata.init_t[0]"
   ]
  },
  {
   "cell_type": "code",
   "execution_count": null,
   "metadata": {},
   "outputs": [],
   "source": [
    "fig, axs = plt.subplots(1, 3, figsize=(20, 6))\n",
    "tranCS(haro[0], haro[1], haro[2], haro[3], haro[4], axs[0], \"Haro\")\n",
    "tranCS(sanjuan[0], sanjuan[1], sanjuan[2], sanjuan[3], sanjuan[4], axs[1], \"San Juan\")\n",
    "tranCS(rosario[0], rosario[1], rosario[2], rosario[3], rosario[4], axs[2], \"Rosario\")\n",
    "plt.savefig(\"Jordan-SoG_backward2019.png\")"
   ]
  },
  {
   "cell_type": "code",
   "execution_count": null,
   "metadata": {},
   "outputs": [],
   "source": []
  }
 ],
 "metadata": {
  "kernelspec": {
   "display_name": "OceanParcels",
   "language": "python",
   "name": "oceanparcels"
  },
  "language_info": {
   "codemirror_mode": {
    "name": "ipython",
    "version": 3
   },
   "file_extension": ".py",
   "mimetype": "text/x-python",
   "name": "python",
   "nbconvert_exporter": "python",
   "pygments_lexer": "ipython3",
   "version": "3.8.8"
  }
 },
 "nbformat": 4,
 "nbformat_minor": 4
}
