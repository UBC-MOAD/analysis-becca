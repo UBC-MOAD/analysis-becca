{
 "cells": [
  {
   "cell_type": "markdown",
   "metadata": {},
   "source": [
    "# Analysis file for Ariane quantitative runs\n",
    "gets data from .nc file into form similar to what's summarized in the stats.txt file, but usable in python <br>\n",
    "based on code from https://nbviewer.jupyter.org/github/SalishSeaCast/analysis-susan/blob/master/notebooks/Ariane/Transport.ipynb"
   ]
  },
  {
   "cell_type": "code",
   "execution_count": 1,
   "metadata": {},
   "outputs": [],
   "source": [
    "#import required libraries\n",
    "import arrow\n",
    "import datetime\n",
    "import matplotlib.pyplot as plt\n",
    "import netCDF4 as nc\n",
    "import numpy as np\n",
    "import os\n",
    "import pandas as pd\n",
    "import pickle\n",
    "import xarray as xr\n",
    "\n",
    "%matplotlib inline"
   ]
  },
  {
   "cell_type": "code",
   "execution_count": 2,
   "metadata": {},
   "outputs": [],
   "source": [
    "mesh = nc.Dataset('/home/sallen/MEOPAR/grid/mesh_mask201702.nc')\n",
    "gdepw = mesh.variables['gdepw_1d'][0]\n",
    "bathy = nc.Dataset('/home/sallen/MEOPAR/grid/bathymetry_201702.nc')\n",
    "lats = bathy.variables['nav_lat'][:]\n",
    "lons = bathy.variables['nav_lon'][:]\n",
    "mesh.close()\n",
    "bathy.close()"
   ]
  },
  {
   "cell_type": "markdown",
   "metadata": {},
   "source": [
    "## Functions"
   ]
  },
  {
   "cell_type": "code",
   "execution_count": 3,
   "metadata": {},
   "outputs": [],
   "source": [
    "def calculate_all(section, allv):\n",
    "    final = {}\n",
    "    mean = {}    \n",
    "    filename = 'ariane_positions_quantitative.nc'\n",
    "    fullfile = os.path.join('/ocean/rbeutel/MOAD/analysis-becca/Ariane/JDF_salish/14sep17', filename)\n",
    "    try:\n",
    "        if os.stat(fullfile).st_size > 0:\n",
    "            filegood = True\n",
    "            data = xr.open_dataset(fullfile)\n",
    "            final_section = data.variables['final_section'][:]\n",
    "            final_transport = data.variables['final_transp'][:]\n",
    "            transport = np.sum(np.where(final_section == section, final_transport, 0)) \n",
    "            #transport= the sum of particles through this section (m3/s), same as stats.txt summary once divided by 24\n",
    "            for variable in allv:\n",
    "                #this loop calculates the mean values shown in stats.txt final state tables\n",
    "                if variable == 'final_age':\n",
    "                    scale = 86400. # convert from seconds to days\n",
    "                else:\n",
    "                    scale = 1.\n",
    "                final[variable] = data.variables[variable][:]/scale\n",
    "                mean[variable] = np.sum(np.where(final_section == section, final_transport*final[variable], 0))/transport\n",
    "        else:\n",
    "            filegood = False\n",
    "            transport = float('NaN')\n",
    "            print (\"empty file\")\n",
    "    except OSError:\n",
    "        filegood = False\n",
    "        transport = float('NaN')\n",
    "        print ('Missing Data')\n",
    "    return filegood, transport/24., mean"
   ]
  },
  {
   "cell_type": "code",
   "execution_count": 4,
   "metadata": {},
   "outputs": [],
   "source": [
    "def get_data_all(start, endtime, section, allv): \n",
    "    #pretty sure the only difference between this and calculate_all is that this one seperates into days (susan wants me to do for whole month)\n",
    "    timerange = arrow.Arrow.range('day', start, endtime)\n",
    "    length = (endtime-start).days + 1\n",
    "    transport = np.zeros(length)\n",
    "    mean = {}\n",
    "    for variable in allv:\n",
    "        mean[variable] = np.zeros(length)\n",
    "    time = []\n",
    "    for i, r in enumerate(timerange):\n",
    "        dir1 = r.format('DDMMMYY').lower()\n",
    "#        print (dir1)\n",
    "        filegood, transport[i], meanday = calculate_all(section, allv)\n",
    "        for variable in allv:\n",
    "            if filegood:\n",
    "                mean[variable][i] = meanday[variable]\n",
    "            else:\n",
    "                mean[variable][i] = float('NaN')\n",
    "        time.append(r.datetime)\n",
    "    return time, transport, mean"
   ]
  },
  {
   "cell_type": "code",
   "execution_count": 5,
   "metadata": {},
   "outputs": [],
   "source": [
    "section = 4 #care about number of section not whatever you named it, this is SoG1\n",
    "allv = ['final_age', 'final_depth', 'final_salt', 'final_temp', 'final_lon', \n",
    "        'init_depth', 'init_salt', 'init_temp', 'init_lat']"
   ]
  },
  {
   "cell_type": "code",
   "execution_count": 6,
   "metadata": {},
   "outputs": [],
   "source": [
    "start = datetime.datetime(2017, 9, 14) #first full day\n",
    "endtime = datetime.datetime(2017, 9, 14) #last full day"
   ]
  },
  {
   "cell_type": "code",
   "execution_count": 7,
   "metadata": {},
   "outputs": [
    {
     "data": {
      "text/plain": [
       "([datetime.datetime(2017, 9, 14, 0, 0, tzinfo=tzutc())],\n",
       " array([35187.92129251]),\n",
       " {'final_age': array([3.32426375e+09]),\n",
       "  'final_depth': array([-21.00670309]),\n",
       "  'final_salt': array([30.60636982]),\n",
       "  'final_temp': array([11.18815158]),\n",
       "  'final_lon': array([-122.74932382]),\n",
       "  'init_depth': array([-58.80713027]),\n",
       "  'init_salt': array([32.736253]),\n",
       "  'init_temp': array([8.71515225]),\n",
       "  'init_lat': array([48.4158211])})"
      ]
     },
     "execution_count": 7,
     "metadata": {},
     "output_type": "execute_result"
    }
   ],
   "source": [
    "get_data_all(start, endtime, section, allv)"
   ]
  },
  {
   "cell_type": "code",
   "execution_count": null,
   "metadata": {},
   "outputs": [],
   "source": []
  }
 ],
 "metadata": {
  "kernelspec": {
   "display_name": "OceanParcels",
   "language": "python",
   "name": "oceanparcels"
  },
  "language_info": {
   "codemirror_mode": {
    "name": "ipython",
    "version": 3
   },
   "file_extension": ".py",
   "mimetype": "text/x-python",
   "name": "python",
   "nbconvert_exporter": "python",
   "pygments_lexer": "ipython3",
   "version": "3.8.8"
  }
 },
 "nbformat": 4,
 "nbformat_minor": 4
}
