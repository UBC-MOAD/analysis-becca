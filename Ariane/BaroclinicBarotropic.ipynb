{
 "cells": [
  {
   "cell_type": "markdown",
   "metadata": {},
   "source": [
    "# Adding Back the Tides\n",
    "An effort to make the daily files more accurate as they are currently lacking the tidal pumping that is so important to the flow of the Salish Sea"
   ]
  },
  {
   "cell_type": "code",
   "execution_count": 1,
   "metadata": {},
   "outputs": [],
   "source": [
    "import xarray as xr\n",
    "from pathlib import Path\n",
    "import matplotlib.pyplot as plt\n",
    "import numpy as np\n",
    "import datetime as dt"
   ]
  },
  {
   "cell_type": "code",
   "execution_count": 2,
   "metadata": {},
   "outputs": [],
   "source": [
    "start_day, end_day = 1, 30\n",
    "days = range(start_day, end_day+1)\n",
    "\n",
    "start = dt.datetime(2019,3,1)\n",
    "split = dt.datetime(2019,6,1)"
   ]
  },
  {
   "cell_type": "code",
   "execution_count": 3,
   "metadata": {},
   "outputs": [],
   "source": [
    "if start >= split:\n",
    "    path = Path(\"/results2/SalishSea/nowcast-green.201812/\")\n",
    "else:\n",
    "    path = Path(\"/results/SalishSea/nowcast-green.201812/\")\n",
    "\n",
    "drop_vars = (\n",
    "    \"bounds_lon\", \"bounds_lat\", \"area\", \"deptht_bounds\", \"PAR\",\n",
    "    \"time_centered_bounds\", \"time_counter_bounds\", \"dissolved_oxygen\",\n",
    "    \"sigma_theta\", \"Fraser_tracer\", \"dissolved_inorganic_carbon\", \"total_alkalnity\",\n",
    ")\n",
    "\n",
    "files = [sorted(path.glob(\"{:02}mar19/SalishSea_1h_*_carp_T.nc\".format(day))) for day in days]\n",
    "\n",
    "mydata = xr.open_mfdataset(files, drop_variables=drop_vars)\n",
    "e3t = mydata['e3t']"
   ]
  },
  {
   "cell_type": "code",
   "execution_count": 4,
   "metadata": {},
   "outputs": [],
   "source": [
    "# convert e3t to e3u and to e3v\n",
    "e3t_xshift = e3t.shift(x=-1,fill_value=0)\n",
    "e3u = e3t_xshift+e3t\n",
    "e3u = e3u*0.5\n",
    "e3u = e3u.rename({'deptht': 'depthu'})\n",
    "\n",
    "e3t_yshift = e3t.shift(y=-1,fill_value=0)\n",
    "e3v = e3t_yshift+e3t\n",
    "e3v = e3v*0.5\n",
    "e3v = e3v.rename({'deptht': 'depthv'})\n",
    "\n",
    "# e3u = np.zeros(np.shape(e3t))\n",
    "# e3v = np.zeros(np.shape(e3t))\n",
    "\n",
    "# for i in range(np.shape(e3t)[2]-1):\n",
    "#     e3u[:,:,i,:] = 1/2*(e3t[:,:,i,:]+e3t[:,:,i+1,:])\n",
    "    \n",
    "# for i in range(np.shape(e3t)[3]-1):\n",
    "#     e3v[:,:,:,j] = 1/2*(e3t[:,:,:,j]+e3t[:,:,:,j+1])\n",
    "    \n",
    "# e3u[:,:,-1,:] = e3u[:,:,-2,:]\n",
    "# e3v[:,:,:,-1] = e3u[:,:,:,-2]"
   ]
  },
  {
   "cell_type": "code",
   "execution_count": 5,
   "metadata": {},
   "outputs": [],
   "source": [
    "drop_vars = (\n",
    "    \"bounds_lon\", \"bounds_lat\", \"area\", \"depthu_bounds\", \n",
    "    \"time_centered_bounds\", \"time_counter_bounds\",\n",
    ")\n",
    "\n",
    "files = [sorted(path.glob(\"{:02}mar19/SalishSea_1h_*_grid_U.nc\".format(day))) for day in days]\n",
    "\n",
    "mydata = xr.open_mfdataset(files, drop_variables=drop_vars)\n",
    "u = mydata['vozocrtx']"
   ]
  },
  {
   "cell_type": "code",
   "execution_count": 6,
   "metadata": {},
   "outputs": [],
   "source": [
    "drop_vars = (\n",
    "    \"bounds_lon\", \"bounds_lat\", \"area\", \"depthu_bounds\", \n",
    "    \"time_centered_bounds\", \"time_counter_bounds\",\n",
    ")\n",
    "\n",
    "files = [sorted(path.glob(\"{:02}mar19/SalishSea_1h_*_grid_V.nc\".format(day))) for day in days]\n",
    "\n",
    "mydata = xr.open_mfdataset(files, drop_variables=drop_vars)\n",
    "v = mydata['vomecrty']"
   ]
  },
  {
   "cell_type": "code",
   "execution_count": 7,
   "metadata": {},
   "outputs": [],
   "source": [
    "#calcuate bartropic component of u\n",
    "ut_h = (u*e3u).sum(dim='depthu')/e3u.sum(dim='depthu')\n",
    "\n",
    "# ut_h = np.zeros((len(u.time_counter), len(u.y), len(u.x)))\n",
    "\n",
    "# for t in range(len(u.time_counter)):\n",
    "#     for y in range(len(u.y)):\n",
    "#         for x in range(len(u.x)):\n",
    "#             ut_h[t,y,x] = sum(u[t,:,y,x].values*e3u[t,:,y,x].values)/sum(e3u[t,:,y,x].values)"
   ]
  },
  {
   "cell_type": "code",
   "execution_count": 8,
   "metadata": {},
   "outputs": [],
   "source": [
    "#calcuate bartropic component of v\n",
    "vt_h = (v*e3v).sum(dim='depthv')/e3v.sum(dim='depthv')\n",
    "\n",
    "# vt_h = np.zeros((len(v.time_counter), len(v.y), len(v.x)))\n",
    "\n",
    "# for t in range(len(v.time_counter)):\n",
    "#     for y in range(len(v.y)):\n",
    "#         for x in range(len(v.x)):\n",
    "#             vt_h[t,y,x] = sum(v[t,:,y,x].values*e3v[t,:,y,x].values)/sum(e3v[t,:,y,x].values)"
   ]
  },
  {
   "cell_type": "code",
   "execution_count": 9,
   "metadata": {},
   "outputs": [],
   "source": [
    "# Now get the required data from the daily files\n",
    "drop_vars = (\n",
    "    \"bounds_lon\", \"bounds_lat\", \"area\", \"deptht_bounds\", \"PAR\",\n",
    "    \"time_centered_bounds\", \"time_counter_bounds\", \"dissolved_oxygen\",\n",
    "    \"sigma_theta\", \"Fraser_tracer\", \"dissolved_inorganic_carbon\", \"total_alkalnity\",\n",
    ")\n",
    "\n",
    "files = [sorted(path.glob(\"{:02}mar19/SalishSea_1d_*_carp_T.nc\".format(day))) for day in days]\n",
    "\n",
    "mydata = xr.open_mfdataset(files, drop_variables=drop_vars)\n",
    "e3t = mydata['e3t']\n",
    "\n",
    "drop_vars = (\n",
    "    \"bounds_lon\", \"bounds_lat\", \"area\", \"depthu_bounds\", \n",
    "    \"time_centered_bounds\", \"time_counter_bounds\",\n",
    ")\n",
    "\n",
    "files = [sorted(path.glob(\"{:02}mar19/SalishSea_1d_*_grid_U.nc\".format(day))) for day in days]\n",
    "\n",
    "mydata = xr.open_mfdataset(files, drop_variables=drop_vars)\n",
    "u = mydata['vozocrtx']\n",
    "\n",
    "drop_vars = (\n",
    "    \"bounds_lon\", \"bounds_lat\", \"area\", \"depthu_bounds\", \n",
    "    \"time_centered_bounds\", \"time_counter_bounds\",\n",
    ")\n",
    "\n",
    "files = [sorted(path.glob(\"{:02}mar19/SalishSea_1d_*_grid_V.nc\".format(day))) for day in days]\n",
    "\n",
    "mydata = xr.open_mfdataset(files, drop_variables=drop_vars)\n",
    "v = mydata['vomecrty']"
   ]
  },
  {
   "cell_type": "code",
   "execution_count": 10,
   "metadata": {},
   "outputs": [],
   "source": [
    "# convert e3t to e3u and to e3v\n",
    "e3t_xshift = e3t.shift(x=-1,fill_value=0)\n",
    "e3u = e3t_xshift+e3t\n",
    "e3u = e3u*0.5\n",
    "e3u = e3u.rename({'deptht': 'depthu'})\n",
    "\n",
    "e3t_yshift = e3t.shift(y=-1,fill_value=0)\n",
    "e3v = e3t_yshift+e3t\n",
    "e3v = e3v*0.5\n",
    "e3v = e3v.rename({'deptht': 'depthv'})\n",
    "\n",
    "# e3u = np.zeros(np.shape(e3t))\n",
    "# e3v = np.zeros(np.shape(e3t))\n",
    "\n",
    "# for i in range(np.shape(e3t)[2]-1):\n",
    "#     e3u[:,:,i,:] = 1/2*(e3t[:,:,i,:]+e3t[:,:,i+1,:])\n",
    "    \n",
    "# for i in range(np.shape(e3t)[3]-1):\n",
    "#     e3v[:,:,:,j] = 1/2*(e3t[:,:,:,j]+e3t[:,:,:,j+1])\n",
    "    \n",
    "# e3u[:,:,-1,:] = e3u[:,:,-2,:]\n",
    "# e3v[:,:,:,-1] = e3u[:,:,:,-2]"
   ]
  },
  {
   "cell_type": "code",
   "execution_count": 11,
   "metadata": {},
   "outputs": [],
   "source": [
    "#calcuate bartropic component\n",
    "ut_d = (u*e3u).sum(dim='depthu')/e3u.sum(dim='depthu')\n",
    "\n",
    "# ut_d = np.zeros((len(u.time_counter), len(u.y), len(u.x)))\n",
    "\n",
    "# for t in range(len(u.time_counter)):\n",
    "#     for y in range(len(u.y)):\n",
    "#         for x in range(len(u.x)):\n",
    "#             ut_d[t,y,x] = sum(u[t,:,y,x].values*e3u[t,:,y,x].values)/sum(e3u[t,:,y,x].values)"
   ]
  },
  {
   "cell_type": "code",
   "execution_count": null,
   "metadata": {},
   "outputs": [],
   "source": [
    "#subtract from u to get baroclinic component\n",
    "uc_d = u-ut_d #does this work even though their ut_d lacks the depth dimension?\n",
    "\n",
    "# uc_d = np.zeros(np.shape(u))\n",
    "\n",
    "# for t in range(len(u.time_counter)):\n",
    "#     for z in range(40):\n",
    "#         for y in range(len(u.y)):\n",
    "#             for x in range(len(u.x)):\n",
    "#                 uc_d[t,z,y,x] = u[t,z,y,x]-ut_d[t,y,x]"
   ]
  },
  {
   "cell_type": "code",
   "execution_count": null,
   "metadata": {},
   "outputs": [],
   "source": [
    "# treat baroclinic daily as a constant hourly component and add barotropic hourly to it to add back tides\n",
    "\n",
    "u_new = np.zeros([ut_h.shape[0],40,ut_h.shape[1], ut_h.shape[2]])\n",
    "\n",
    "for t in range(len(ut_h[:,0,0])):\n",
    "    for z in range(40):\n",
    "        for y in range(len(u.y)):\n",
    "            for x in range(len(u.x)):\n",
    "                u_new[t,z,y,x] = ut_h[t,y,x] + uc_d[t//24,z,y,x] \n",
    "                \n",
    "np.save(\"u_new.npy\",u_new)"
   ]
  },
  {
   "cell_type": "code",
   "execution_count": null,
   "metadata": {},
   "outputs": [],
   "source": [
    "#calcuate bartropic component\n",
    "vt_d = (v*e3v).sum(dim='depthv')/e3v.sum(dim='depthv')\n",
    "\n",
    "# vt_d = np.zeros((len(v.time_counter), len(v.y), len(v.x)))\n",
    "\n",
    "# for t in range(len(v.time_counter)):\n",
    "#     for y in range(len(v.y)):\n",
    "#         for x in range(len(v.x)):\n",
    "#             vt_d[t,y,x] = sum(v[t,:,y,x].values*e3v[t,:,y,x].values)/sum(e3v[t,:,y,x].values)"
   ]
  },
  {
   "cell_type": "code",
   "execution_count": null,
   "metadata": {},
   "outputs": [],
   "source": [
    "#subtract from v to get baroclinic component\n",
    "vc_d = v-vt_d #does this work even though vt_d lacks the depth dimension?\n",
    "\n",
    "# vc_d = np.zeros(np.shape(v))\n",
    "\n",
    "# for t in range(len(v.time_counter)):\n",
    "#     for z in range(40):\n",
    "#         for y in range(len(v.y)):\n",
    "#             for x in range(len(v.x)):\n",
    "#                 vc_d[t,z,y,x] = v[t,z,y,x]-vt_d[t,y,x]"
   ]
  },
  {
   "cell_type": "code",
   "execution_count": null,
   "metadata": {},
   "outputs": [],
   "source": [
    "# treat baroclinic daily as a constant hourly component and add barotropic hourly to it to add back tides\n",
    "\n",
    "v_new = np.zeros([len(vt_h[:,0,0]),40,len(v.y), len(v.x)])\n",
    "\n",
    "for t in range(len(vt_h[:,0,0])):\n",
    "    for z in range(40):\n",
    "        for y in range(len(v.y)):\n",
    "            for x in range(len(v.x)):\n",
    "                v_new[t,z,y,x] = vt_h[t,y,x] + vc_d[t//24,z,y,x] \n",
    "                \n",
    "np.save(\"v_new.npy\",v_new)"
   ]
  }
 ],
 "metadata": {
  "kernelspec": {
   "display_name": "OceanParcels",
   "language": "python",
   "name": "oceanparcels"
  },
  "language_info": {
   "codemirror_mode": {
    "name": "ipython",
    "version": 3
   },
   "file_extension": ".py",
   "mimetype": "text/x-python",
   "name": "python",
   "nbconvert_exporter": "python",
   "pygments_lexer": "ipython3",
   "version": "3.8.8"
  }
 },
 "nbformat": 4,
 "nbformat_minor": 4
}
