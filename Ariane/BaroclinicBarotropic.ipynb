{
 "cells": [
  {
   "cell_type": "markdown",
   "metadata": {},
   "source": [
    "# Adding Back the Tides\n",
    "An effort to make the daily files more accurate as they are currently lacking the tidal pumping that is so important to the flow of the Salish Sea"
   ]
  },
  {
   "cell_type": "code",
   "execution_count": 1,
   "metadata": {},
   "outputs": [],
   "source": [
    "import xarray as xr\n",
    "from pathlib import Path\n",
    "import matplotlib.pyplot as plt\n",
    "import numpy as np"
   ]
  },
  {
   "cell_type": "code",
   "execution_count": 2,
   "metadata": {},
   "outputs": [],
   "source": [
    "start_day, end_day = 1, 30\n",
    "days = range(start_day, end_day+1)"
   ]
  },
  {
   "cell_type": "code",
   "execution_count": 3,
   "metadata": {},
   "outputs": [],
   "source": [
    "drop_vars = (\n",
    "    \"bounds_lon\", \"bounds_lat\", \"area\", \"deptht_bounds\", \"PAR\",\n",
    "    \"time_centered_bounds\", \"time_counter_bounds\", \"dissolved_oxygen\",\n",
    "    \"sigma_theta\", \"Fraser_tracer\", \"dissolved_inorganic_carbon\", \"total_alkalnity\",\n",
    ")\n",
    "\n",
    "path = Path(\"/results2/SalishSea/nowcast-green.201905/\")\n",
    "files = [sorted(path.glob(\"{:02}mar19/SalishSea_1h_*_carp_T.nc\".format(day))) for day in days]\n",
    "\n",
    "mydata = xr.open_mfdataset(files, drop_variables=drop_vars)\n",
    "e3t = mydata['e3t']"
   ]
  },
  {
   "cell_type": "code",
   "execution_count": 4,
   "metadata": {},
   "outputs": [],
   "source": [
    "drop_vars = (\n",
    "    \"bounds_lon\", \"bounds_lat\", \"area\", \"depthu_bounds\", \n",
    "    \"time_centered_bounds\", \"time_counter_bounds\",\n",
    ")\n",
    "\n",
    "path = Path(\"/results2/SalishSea/nowcast-green.201905/\")\n",
    "files = [sorted(path.glob(\"{:02}mar19/SalishSea_1h_*_grid_U.nc\".format(day))) for day in days]\n",
    "\n",
    "mydata = xr.open_mfdataset(files, drop_variables=drop_vars)\n",
    "u = mydata['vozocrtx']"
   ]
  },
  {
   "cell_type": "code",
   "execution_count": null,
   "metadata": {},
   "outputs": [],
   "source": [
    "# might need to convert to e3u in this step"
   ]
  },
  {
   "cell_type": "code",
   "execution_count": null,
   "metadata": {},
   "outputs": [],
   "source": [
    "ut_h = np.zeros((len(u.time_counter), len(u.y), len(u.x)))\n",
    "\n",
    "for t in range(len(u.time_counter)):\n",
    "    for y in range(len(u.y)):\n",
    "        for x in range(len(u.x)):\n",
    "            ut_h[t,y,x] = sum(u[t,:,y,x].values*e3t[t,:,y,x].values)/sum(e3t[t,:,y,x].values)"
   ]
  },
  {
   "cell_type": "code",
   "execution_count": null,
   "metadata": {},
   "outputs": [],
   "source": [
    "#if my understanding is correct then we don't actually need the uc from the hourly files\n",
    "\n",
    "# uc = np.zeros(np.shape(u))\n",
    "\n",
    "# for t in range(len(u.time_counter)):\n",
    "#     for z in range(40):\n",
    "#         for y in range(len(u.y)):\n",
    "#             for x in range(len(u.x)):\n",
    "#                 uc[t,z,y,x] = u[t,z,y,x]-ut[t,y,x] "
   ]
  },
  {
   "cell_type": "code",
   "execution_count": null,
   "metadata": {},
   "outputs": [],
   "source": [
    "# Now get the required data from the daily files\n",
    "\n",
    "drop_vars = (\n",
    "    \"bounds_lon\", \"bounds_lat\", \"area\", \"deptht_bounds\", \"PAR\",\n",
    "    \"time_centered_bounds\", \"time_counter_bounds\", \"dissolved_oxygen\",\n",
    "    \"sigma_theta\", \"Fraser_tracer\", \"dissolved_inorganic_carbon\", \"total_alkalnity\",\n",
    ")\n",
    "\n",
    "path = Path(\"/results2/SalishSea/nowcast-green.201905/\")\n",
    "files = [sorted(path.glob(\"{:02}mar19/SalishSea_1d_*_carp_T.nc\".format(day))) for day in days]\n",
    "\n",
    "mydata = xr.open_mfdataset(files, drop_variables=drop_vars)\n",
    "e3t = mydata['e3t']m\n",
    "\n",
    "drop_vars = (\n",
    "    \"bounds_lon\", \"bounds_lat\", \"area\", \"depthu_bounds\", \n",
    "    \"time_centered_bounds\", \"time_counter_bounds\",\n",
    ")\n",
    "\n",
    "path = Path(\"/results2/SalishSea/nowcast-green.201905/\")\n",
    "files = [sorted(path.glob(\"{:02}mar19/SalishSea_1d_*_grid_U.nc\".format(day))) for day in days]\n",
    "\n",
    "mydata = xr.open_mfdataset(files, drop_variables=drop_vars)\n",
    "u = mydata['vozocrtx']"
   ]
  },
  {
   "cell_type": "code",
   "execution_count": null,
   "metadata": {},
   "outputs": [],
   "source": [
    "# again, might need to convert to e3u in this step"
   ]
  },
  {
   "cell_type": "code",
   "execution_count": null,
   "metadata": {},
   "outputs": [],
   "source": [
    "ut_d = np.zeros((len(u.time_counter), len(u.y), len(u.x)))\n",
    "\n",
    "for t in range(len(u.time_counter)):\n",
    "    for y in range(len(u.y)):\n",
    "        for x in range(len(u.x)):\n",
    "            ut_d[t,y,x] = sum(u[t,:,y,x].values*e3t[t,:,y,x].values)/sum(e3t[t,:,y,x].values)"
   ]
  },
  {
   "cell_type": "code",
   "execution_count": null,
   "metadata": {},
   "outputs": [],
   "source": [
    "uc_d = np.zeros(np.shape(u))\n",
    "\n",
    "for t in range(len(u.time_counter)):\n",
    "    for z in range(40):\n",
    "        for y in range(len(u.y)):\n",
    "            for x in range(len(u.x)):\n",
    "                uc_d[t,z,y,x] = u[t,z,y,x]-ut_d[t,y,x]"
   ]
  },
  {
   "cell_type": "code",
   "execution_count": null,
   "metadata": {},
   "outputs": [],
   "source": [
    "u_new = np.zeros(len(ut_h[:,0,0]),40,len(u.y), len(u.x))\n",
    "\n",
    "for t in range(len(ut_h[:,0,0])):\n",
    "    for z in range(40):\n",
    "        for y in range(len(u.y)):\n",
    "            for x in range(len(u.x)):\n",
    "                u_new[t,z,y,x] = ut_h[t,y,x] + uc_d[t//24,z,y,x] "
   ]
  },
  {
   "cell_type": "code",
   "execution_count": null,
   "metadata": {},
   "outputs": [],
   "source": [
    "# and then i think that's it! rerun ariane with new currents (of course need to also do for v component)"
   ]
  }
 ],
 "metadata": {
  "kernelspec": {
   "display_name": "OceanParcels",
   "language": "python",
   "name": "oceanparcels"
  },
  "language_info": {
   "codemirror_mode": {
    "name": "ipython",
    "version": 3
   },
   "file_extension": ".py",
   "mimetype": "text/x-python",
   "name": "python",
   "nbconvert_exporter": "python",
   "pygments_lexer": "ipython3",
   "version": "3.8.8"
  }
 },
 "nbformat": 4,
 "nbformat_minor": 4
}
