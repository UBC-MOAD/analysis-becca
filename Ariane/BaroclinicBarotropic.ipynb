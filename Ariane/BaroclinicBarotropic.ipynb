{
 "cells": [
  {
   "cell_type": "markdown",
   "metadata": {},
   "source": [
    "# Adding Back the Tides\n",
    "An effort to make the daily files more accurate as they are currently lacking the tidal pumping that is so important to the flow of the Salish Sea"
   ]
  },
  {
   "cell_type": "code",
   "execution_count": 25,
   "metadata": {},
   "outputs": [],
   "source": [
    "import xarray as xr\n",
    "from pathlib import Path\n",
    "import matplotlib.pyplot as plt\n",
    "import numpy as np"
   ]
  },
  {
   "cell_type": "code",
   "execution_count": 2,
   "metadata": {},
   "outputs": [],
   "source": [
    "start_day, end_day = 1, 30\n",
    "days = range(start_day, end_day+1)"
   ]
  },
  {
   "cell_type": "code",
   "execution_count": 3,
   "metadata": {},
   "outputs": [],
   "source": [
    "drop_vars = (\n",
    "    \"bounds_lon\", \"bounds_lat\", \"area\", \"deptht_bounds\", \"PAR\",\n",
    "    \"time_centered_bounds\", \"time_counter_bounds\", \"dissolved_oxygen\",\n",
    "    \"sigma_theta\", \"Fraser_tracer\", \"dissolved_inorganic_carbon\", \"total_alkalnity\",\n",
    ")\n",
    "\n",
    "path = Path(\"/results2/SalishSea/nowcast-green.201905/\")\n",
    "files = [sorted(path.glob(\"{:02}mar19/SalishSea_1h_*_carp_T.nc\".format(day))) for day in days]\n",
    "\n",
    "mydata = xr.open_mfdataset(files, drop_variables=drop_vars)\n",
    "e3t = mydata['e3t']"
   ]
  },
  {
   "cell_type": "code",
   "execution_count": 4,
   "metadata": {},
   "outputs": [],
   "source": [
    "drop_vars = (\n",
    "    \"bounds_lon\", \"bounds_lat\", \"area\", \"depthu_bounds\", \n",
    "    \"time_centered_bounds\", \"time_counter_bounds\",\n",
    ")\n",
    "\n",
    "path = Path(\"/results2/SalishSea/nowcast-green.201905/\")\n",
    "files = [sorted(path.glob(\"{:02}mar19/SalishSea_1h_*_grid_U.nc\".format(day))) for day in days]\n",
    "\n",
    "mydata = xr.open_mfdataset(files, drop_variables=drop_vars)\n",
    "u = mydata['vozocrtx']"
   ]
  },
  {
   "cell_type": "code",
   "execution_count": null,
   "metadata": {},
   "outputs": [],
   "source": [
    "ut = np.zeros((len(u.time_counter), len(u.y), len(u.x)))\n",
    "\n",
    "for t in range(len(u.time_counter)):\n",
    "    for y in range(len(u.y)):\n",
    "        for x in range(len(u.x)):\n",
    "            ut[t,y,x] = sum(u[t,:,y,x].values*e3t[t,:,y,x].values)/sum(e3t[t,:,y,x].values)"
   ]
  },
  {
   "cell_type": "code",
   "execution_count": null,
   "metadata": {},
   "outputs": [],
   "source": [
    "uc = np.zeros(np.shape(u))\n",
    "\n",
    "for t in range(len(u.time_counter)):\n",
    "    for z in range(40):\n",
    "        for y in range(len(u.y)):\n",
    "            for x in range(len(u.x)):\n",
    "                uc[t,z,y,x] = u[t,z,y,x]-ut[t,y,x]"
   ]
  },
  {
   "cell_type": "code",
   "execution_count": null,
   "metadata": {},
   "outputs": [],
   "source": [
    "plt.plot(ut)\n",
    "plt.plot(uc)"
   ]
  },
  {
   "cell_type": "code",
   "execution_count": null,
   "metadata": {},
   "outputs": [],
   "source": []
  }
 ],
 "metadata": {
  "kernelspec": {
   "display_name": "OceanParcels",
   "language": "python",
   "name": "oceanparcels"
  },
  "language_info": {
   "codemirror_mode": {
    "name": "ipython",
    "version": 3
   },
   "file_extension": ".py",
   "mimetype": "text/x-python",
   "name": "python",
   "nbconvert_exporter": "python",
   "pygments_lexer": "ipython3",
   "version": "3.8.8"
  }
 },
 "nbformat": 4,
 "nbformat_minor": 4
}
