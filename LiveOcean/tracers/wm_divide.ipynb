{
 "cells": [
  {
   "cell_type": "markdown",
   "metadata": {},
   "source": [
    "# divide observations into watermasses based on location"
   ]
  },
  {
   "cell_type": "code",
   "execution_count": 16,
   "metadata": {},
   "outputs": [],
   "source": [
    "import xarray as xr\n",
    "import numpy as np\n",
    "import pandas as pd\n",
    "import matplotlib.pyplot as plt\n",
    "import gsw\n",
    "\n",
    "from cartopy import crs, feature\n",
    "from cartopy.mpl.gridliner import LONGITUDE_FORMATTER, LATITUDE_FORMATTER\n",
    "import geopandas as gpd\n",
    "from shapely.geometry import Point\n",
    "\n",
    "import warnings\n",
    "warnings.filterwarnings(\"ignore\")"
   ]
  },
  {
   "cell_type": "code",
   "execution_count": 17,
   "metadata": {},
   "outputs": [],
   "source": [
    "grid = xr.open_dataset('/ocean/rbeutel/MOAD/analysis-becca/LiveOcean/grid.nc')\n",
    "obs = pd.read_csv('/data/rbeutel/obs/PNW_obs_compiled.csv')"
   ]
  },
  {
   "cell_type": "markdown",
   "metadata": {},
   "source": [
    "## remove unnecessary points"
   ]
  },
  {
   "cell_type": "code",
   "execution_count": 18,
   "metadata": {},
   "outputs": [
    {
     "data": {
      "text/plain": [
       "{'GEOTRACES IDP21',\n",
       " 'GEOTRACES IDP21, GEOTRACES Taves',\n",
       " 'GEOTRACES Taves',\n",
       " 'NCEI Coastal',\n",
       " 'NCEI Coastal, NHL',\n",
       " 'NCEI PNW',\n",
       " 'NCEI Salish',\n",
       " 'NHL',\n",
       " 'OCNMS',\n",
       " 'department of ecology',\n",
       " 'department of ecology, NCEI Salish',\n",
       " 'ios bottle',\n",
       " 'ios bottle, GEOTRACES IDP21',\n",
       " 'ios bottle, GEOTRACES IDP21, GEOTRACES Taves',\n",
       " 'ios bottle, GEOTRACES Taves',\n",
       " 'ios bottle, NCEI PNW',\n",
       " 'ios bottle, NCEI PNW, GEOTRACES Taves',\n",
       " 'ios ctd profiles',\n",
       " 'ios ctd profiles, ios bottle',\n",
       " 'ios mooring',\n",
       " 'ios mooring, ios bottle',\n",
       " 'onc',\n",
       " 'ooi'}"
      ]
     },
     "execution_count": 18,
     "metadata": {},
     "output_type": "execute_result"
    }
   ],
   "source": [
    "set(obs.source)"
   ]
  },
  {
   "cell_type": "code",
   "execution_count": 19,
   "metadata": {},
   "outputs": [
    {
     "data": {
      "text/plain": [
       "-160.0"
      ]
     },
     "execution_count": 19,
     "metadata": {},
     "output_type": "execute_result"
    }
   ],
   "source": [
    "np.min(obs['longitude (degrees_east)'][obs.source ==\"GEOTRACES IDP21\"])"
   ]
  },
  {
   "cell_type": "code",
   "execution_count": 20,
   "metadata": {},
   "outputs": [
    {
     "data": {
      "text/plain": [
       "2339849"
      ]
     },
     "execution_count": 20,
     "metadata": {},
     "output_type": "execute_result"
    }
   ],
   "source": [
    "len(obs)"
   ]
  },
  {
   "cell_type": "code",
   "execution_count": 21,
   "metadata": {},
   "outputs": [],
   "source": [
    "# salish sea cuttoff\n",
    "x = np.linspace(-130,-122,10)\n",
    "m = -0.83\n",
    "b = 48.4-(-124.6)*m\n",
    "\n",
    "ind = np.where(obs['longitude (degrees_east)'] > (obs['latitude (degrees_north)']-b)/m) \n",
    "obs = obs.drop(ind[0])\n",
    "obs.reset_index(drop=True, inplace=True)"
   ]
  },
  {
   "cell_type": "code",
   "execution_count": 22,
   "metadata": {},
   "outputs": [
    {
     "data": {
      "text/plain": [
       "1297611"
      ]
     },
     "execution_count": 22,
     "metadata": {},
     "output_type": "execute_result"
    }
   ],
   "source": [
    "len(obs)"
   ]
  },
  {
   "cell_type": "code",
   "execution_count": 23,
   "metadata": {},
   "outputs": [],
   "source": [
    "# depth cuttoff\n",
    "# for the sake of looking at what ACTUALLY gets into the salish sea, can cuttoff at 500 m\n",
    "# this reasonning is that the CC flows in the top 500, and the CUC core is around 200 m\n",
    "\n",
    "ind = np.where(obs['depth (m)'] > 500) \n",
    "obs = obs.drop(ind[0])\n",
    "obs.reset_index(drop=True, inplace=True)"
   ]
  },
  {
   "cell_type": "code",
   "execution_count": 24,
   "metadata": {},
   "outputs": [
    {
     "data": {
      "text/plain": [
       "1192146"
      ]
     },
     "execution_count": 24,
     "metadata": {},
     "output_type": "execute_result"
    }
   ],
   "source": [
    "len(obs)"
   ]
  },
  {
   "cell_type": "code",
   "execution_count": 25,
   "metadata": {},
   "outputs": [],
   "source": [
    "# lat and lon cuttoff\n",
    "xlim, ylim = [-145.5, -120.2], [40, 50.8]\n",
    "\n",
    "ind = np.where(obs['latitude (degrees_north)'] > ylim[1]) \n",
    "obs = obs.drop(ind[0])\n",
    "obs.reset_index(drop=True, inplace=True)\n",
    "\n",
    "ind = np.where(obs['latitude (degrees_north)'] < ylim[0]) \n",
    "obs = obs.drop(ind[0])\n",
    "obs.reset_index(drop=True, inplace=True)\n",
    "\n",
    "ind = np.where(obs['longitude (degrees_east)'] > xlim[1]) \n",
    "obs = obs.drop(ind[0])\n",
    "obs.reset_index(drop=True, inplace=True)\n",
    "\n",
    "ind = np.where(obs['longitude (degrees_east)'] < xlim[0]) \n",
    "obs = obs.drop(ind[0])\n",
    "obs.reset_index(drop=True, inplace=True)"
   ]
  },
  {
   "cell_type": "code",
   "execution_count": 26,
   "metadata": {},
   "outputs": [
    {
     "data": {
      "text/plain": [
       "1046348"
      ]
     },
     "execution_count": 26,
     "metadata": {},
     "output_type": "execute_result"
    }
   ],
   "source": [
    "len(obs)"
   ]
  },
  {
   "cell_type": "code",
   "execution_count": 27,
   "metadata": {},
   "outputs": [],
   "source": [
    "# and honestly i really dont think the washington ecology data or onc data are useful for my purposes\n",
    "ind = np.where(obs['source'] == 'department of ecology') \n",
    "obs = obs.drop(ind[0])\n",
    "obs.reset_index(drop=True, inplace=True)\n",
    "ind = np.where(obs['source'] == 'onc') \n",
    "obs = obs.drop(ind[0])\n",
    "obs.reset_index(drop=True, inplace=True)"
   ]
  },
  {
   "cell_type": "code",
   "execution_count": 28,
   "metadata": {},
   "outputs": [
    {
     "data": {
      "text/plain": [
       "884102"
      ]
     },
     "execution_count": 28,
     "metadata": {},
     "output_type": "execute_result"
    }
   ],
   "source": [
    "len(obs)"
   ]
  },
  {
   "cell_type": "code",
   "execution_count": 30,
   "metadata": {},
   "outputs": [
    {
     "name": "stdout",
     "output_type": "stream",
     "text": [
      "ios mooring, ios bottle\n",
      "1\n",
      "\n",
      "\n",
      "ios ctd profiles\n",
      "60571\n",
      "\n",
      "\n",
      "ios bottle, GEOTRACES IDP21, GEOTRACES Taves\n",
      "27\n",
      "\n",
      "\n",
      "ios bottle\n",
      "122477\n",
      "\n",
      "\n",
      "NCEI Salish\n",
      "464\n",
      "\n",
      "\n",
      "ios bottle, NCEI PNW, GEOTRACES Taves\n",
      "3\n",
      "\n",
      "\n",
      "ios bottle, NCEI PNW\n",
      "392\n",
      "\n",
      "\n",
      "GEOTRACES Taves\n",
      "348\n",
      "\n",
      "\n",
      "GEOTRACES IDP21, GEOTRACES Taves\n",
      "12\n",
      "\n",
      "\n",
      "ooi\n",
      "50567\n",
      "\n",
      "\n",
      "NCEI Coastal\n",
      "4011\n",
      "\n",
      "\n",
      "ios ctd profiles, ios bottle\n",
      "766\n",
      "\n",
      "\n",
      "ios mooring\n",
      "96843\n",
      "\n",
      "\n",
      "ios bottle, GEOTRACES Taves\n",
      "151\n",
      "\n",
      "\n",
      "GEOTRACES IDP21\n",
      "156\n",
      "\n",
      "\n",
      "NCEI Coastal, NHL\n",
      "10\n",
      "\n",
      "\n",
      "OCNMS\n",
      "46231\n",
      "\n",
      "\n",
      "NCEI PNW\n",
      "851\n",
      "\n",
      "\n",
      "ios bottle, GEOTRACES IDP21\n",
      "148\n",
      "\n",
      "\n",
      "NHL\n",
      "500073\n",
      "\n",
      "\n"
     ]
    }
   ],
   "source": [
    "for s in set(obs.source):\n",
    "    print(s)\n",
    "    print(len(obs[obs.source==s]))\n",
    "    print('\\n')"
   ]
  },
  {
   "cell_type": "markdown",
   "metadata": {},
   "source": [
    "## unit conversion\n",
    "went with the most common choice from observations, be there are some better choices for the sake of the paper"
   ]
  },
  {
   "cell_type": "code",
   "execution_count": 31,
   "metadata": {},
   "outputs": [
    {
     "data": {
      "text/plain": [
       "Index(['Unnamed: 0', 'time', 'longitude (degrees_east)',\n",
       "       'latitude (degrees_north)', 'depth (m)', 'pressure (dbar)',\n",
       "       'temperature (degC)', 'salinity (g kg-1)', 'DO (umol kg-1)', 'NO3 (uM)',\n",
       "       'NO2 (uM)', 'NH4 (uM)', 'PO4 (uM)', 'SiO4 (uM)', 'Chl (mg m-3)',\n",
       "       'TA (uM)', 'DIC (uM)', 'Carbonate', 'Aragonite', 'Calcite',\n",
       "       'Cd (nmol kg-1)', 'Co (nmol kg-1)', 'Cu (nmol kg-1)', 'Fe (nmol kg-1)',\n",
       "       'Mn (nmol kg-1)', 'Ni (nmol kg-1)', 'Zn (nmol kg-1)', 'source',\n",
       "       'Nstar (umol kg-1)', 'spice'],\n",
       "      dtype='object')"
      ]
     },
     "execution_count": 31,
     "metadata": {},
     "output_type": "execute_result"
    }
   ],
   "source": [
    "obs.columns"
   ]
  },
  {
   "cell_type": "code",
   "execution_count": 32,
   "metadata": {},
   "outputs": [],
   "source": [
    "# convert Nstar from umol/kg to mmol/m3 (uM)\n",
    "\n",
    "# Calculate seawater density using TEOS-10\n",
    "conservative_temp = gsw.CT_from_t(obs['salinity (g kg-1)'], obs['temperature (degC)'], obs['pressure (dbar)'])\n",
    "density_seawater = gsw.rho(obs['salinity (g kg-1)'], conservative_temp, obs['pressure (dbar)'])  # Density in kg/m^3\n",
    "    \n",
    "# Convert µmol/kg to µmol/L (µM=mmol/m3) using the seawater density\n",
    "newNstar = obs['Nstar (umol kg-1)'] * (density_seawater / 1000)\n",
    "obs['Nstar (uM)'] = newNstar"
   ]
  },
  {
   "cell_type": "code",
   "execution_count": 33,
   "metadata": {},
   "outputs": [],
   "source": [
    "# convert TA, DIC, carbonate from mmol/m3 to umol/kg\n",
    "    \n",
    "# Convert µmol/L to µmol/kg using the seawater density\n",
    "newTA = (obs['TA (uM)'] / density_seawater) * 1000\n",
    "newDIC = (obs['DIC (uM)'] / density_seawater) * 1000\n",
    "newCarb = (obs['Carbonate'] / density_seawater) * 1000\n",
    "\n",
    "obs['TA (umol/kg)'] = newTA\n",
    "obs['DIC (umol/kg)'] = newDIC\n",
    "obs['Carbonate (umol/kg)'] = newCarb\n",
    "    "
   ]
  },
  {
   "cell_type": "markdown",
   "metadata": {},
   "source": [
    "## dividing based on bathymetry"
   ]
  },
  {
   "cell_type": "code",
   "execution_count": 34,
   "metadata": {},
   "outputs": [
    {
     "data": {
      "text/plain": [
       "[<matplotlib.lines.Line2D at 0x7fc247a3f230>]"
      ]
     },
     "execution_count": 34,
     "metadata": {},
     "output_type": "execute_result"
    },
    {
     "name": "stderr",
     "output_type": "stream",
     "text": [
      "Possible issue encountered when converting Shape #95 to GeoJSON: Shapefile format requires that polygons contain at least one exterior ring, but the Shape was entirely made up of interior holes (defined by counter-clockwise orientation in the shapefile format). The rings were still included but were encoded as GeoJSON exterior rings instead of holes.\n",
      "Possible issue encountered when converting Shape #95 to GeoJSON: Shapefile format requires that polygons contain at least one exterior ring, but the Shape was entirely made up of interior holes (defined by counter-clockwise orientation in the shapefile format). The rings were still included but were encoded as GeoJSON exterior rings instead of holes.\n",
      "Possible issue encountered when converting Shape #491 to GeoJSON: Shapefile format requires that polygons contain at least one exterior ring, but the Shape was entirely made up of interior holes (defined by counter-clockwise orientation in the shapefile format). The rings were still included but were encoded as GeoJSON exterior rings instead of holes.\n",
      "Possible issue encountered when converting Shape #491 to GeoJSON: Shapefile format requires that polygons contain at least one exterior ring, but the Shape was entirely made up of interior holes (defined by counter-clockwise orientation in the shapefile format). The rings were still included but were encoded as GeoJSON exterior rings instead of holes.\n"
     ]
    },
    {
     "data": {
      "image/png": "[encoded data removed]",
      "text/plain": [
       "<Figure size 800x1000 with 1 Axes>"
      ]
     },
     "metadata": {},
     "output_type": "display_data"
    }
   ],
   "source": [
    "fig, ax = plt.subplots(1,1, figsize=(8, 10), subplot_kw={'projection': crs.Mercator(np.mean(xlim), *ylim)})\n",
    "\n",
    "# Make plot area\n",
    "ax.set_extent(xlim + ylim)\n",
    "\n",
    "# Draw coastline\n",
    "ax.add_feature(feature.GSHHSFeature('auto', facecolor='whitesmoke', zorder=2))\n",
    "ax.add_feature(feature.GSHHSFeature('auto', edgecolor='k', zorder=4))\n",
    "\n",
    "# and bathymetry..?\n",
    "ax.add_feature(feature.NaturalEarthFeature(name='bathymetry_K_200', scale='10m', category='physical',facecolor='white', edgecolor='k',zorder=4))\n",
    "ax.add_feature(feature.NaturalEarthFeature(name='bathymetry_J_1000', scale='10m', category='physical',facecolor='white', edgecolor='k',zorder=4))\n",
    "ax.add_feature(feature.NaturalEarthFeature(name='bathymetry_I_2000', scale='10m', category='physical',facecolor='white', edgecolor='b',zorder=4))\n",
    "\n",
    "\n",
    "# offshore cuttoff \n",
    "y=np.linspace(42,52,100)\n",
    "x = np.sqrt((1-((y-42)**2)/(9**2))*(6**2))-130.8\n",
    "ax.plot(x,y, transform=crs.PlateCarree(),zorder=7, c='r')\n",
    "\n",
    "#north cuttoff\n",
    "ax.plot([-127.7,-125],[49,49], transform=crs.PlateCarree(),zorder=7)\n",
    "\n",
    "# south cuttoff\n",
    "ax.plot([-126.1,-124.1],[47.3,47.3], transform=crs.PlateCarree(),zorder=7)\n",
    "# south deep s>=33.9\n",
    "# south shelf s>=32 <33.9\n",
    "# south fresh s<32"
   ]
  },
  {
   "cell_type": "code",
   "execution_count": 35,
   "metadata": {},
   "outputs": [],
   "source": [
    "# filter those offshore of the 2000 m isobar\n",
    "\n",
    "# Load the bathymetry shapefile\n",
    "bathymetry = gpd.read_file(\"./ne_10m_bathymetry_I_2000.shp\")\n",
    "\n",
    "# Filter for the 2000 m contour polygons\n",
    "contour_2000m = bathymetry[bathymetry['depth'] == 2000]\n",
    "\n",
    "contour_2000m = contour_2000m.set_crs('EPSG:4326')\n",
    "\n",
    "# Now, ensure both GeoDataFrames are in the same CRS\n",
    "obs['geometry'] = obs.apply(lambda row: Point(row[\"longitude (degrees_east)\"], row[\"latitude (degrees_north)\"]), axis=1)\n",
    "obs_gdf = gpd.GeoDataFrame(obs, geometry='geometry', crs='EPSG:4326')  # Ensure the CRS matches bathymetry\n",
    "obs_gdf = obs_gdf.to_crs(contour_2000m.crs)  # Make sure your observations match the bathymetry CRS\n",
    "\n",
    "# Perform the spatial join or classification as before\n",
    "obs_gdf['is_shelf'] = obs_gdf.within(contour_2000m.unary_union)\n",
    "\n",
    "# Apply classification based on the result of spatial join\n",
    "obs_gdf['location_type'] = obs_gdf['is_shelf'].apply(lambda x: 'offshore' if x else 'shelf')"
   ]
  },
  {
   "cell_type": "code",
   "execution_count": 36,
   "metadata": {},
   "outputs": [],
   "source": [
    "# can we do the same for data between the 200 m and 200m isobar? call it \"slope\" data instead of \"shelf\"\n",
    "\n",
    "# Load the bathymetry shapefile\n",
    "bathymetry = gpd.read_file(\"./ne_10m_bathymetry_K_200.shp\")\n",
    "\n",
    "# Filter for the 2000 m contour polygons\n",
    "contour_200m = bathymetry[bathymetry['depth'] == 200]\n",
    "\n",
    "contour_200m = contour_200m.set_crs('EPSG:4326')\n",
    "\n",
    "# Now, ensure both GeoDataFrames are in the same CRS\n",
    "obs_200 = obs_gdf[obs_gdf.location_type=='shelf'] # using the shelf data only so that we don't group the offshore data in with the slope data\n",
    "# obs_200 = obs_200.to_crs(contour_200m.crs)  # Make sure your observations match the bathymetry CRS\n",
    "\n",
    "# Perform the spatial join or classification as before\n",
    "obs_200['is_slope'] = obs_200.within(contour_200m.unary_union)\n",
    "\n",
    "# Apply classification based on the result of spatial join\n",
    "obs_200['location_type'] = obs_200['is_slope'].apply(lambda x: 'slope' if x else 'shelf')"
   ]
  },
  {
   "cell_type": "code",
   "execution_count": 37,
   "metadata": {},
   "outputs": [],
   "source": [
    "obs['location'] = obs_gdf['location_type']\n",
    "obs.location[obs.location=='shelf'] = obs_200['location_type']"
   ]
  },
  {
   "cell_type": "code",
   "execution_count": 38,
   "metadata": {},
   "outputs": [
    {
     "data": {
      "text/plain": [
       "<matplotlib.legend.Legend at 0x7fc24b5b6f30>"
      ]
     },
     "execution_count": 38,
     "metadata": {},
     "output_type": "execute_result"
    },
    {
     "name": "stderr",
     "output_type": "stream",
     "text": [
      "Possible issue encountered when converting Shape #95 to GeoJSON: Shapefile format requires that polygons contain at least one exterior ring, but the Shape was entirely made up of interior holes (defined by counter-clockwise orientation in the shapefile format). The rings were still included but were encoded as GeoJSON exterior rings instead of holes.\n",
      "Possible issue encountered when converting Shape #95 to GeoJSON: Shapefile format requires that polygons contain at least one exterior ring, but the Shape was entirely made up of interior holes (defined by counter-clockwise orientation in the shapefile format). The rings were still included but were encoded as GeoJSON exterior rings instead of holes.\n",
      "Possible issue encountered when converting Shape #471 to GeoJSON: Shapefile format requires that polygons contain at least one exterior ring, but the Shape was entirely made up of interior holes (defined by counter-clockwise orientation in the shapefile format). The rings were still included but were encoded as GeoJSON exterior rings instead of holes.\n",
      "Possible issue encountered when converting Shape #471 to GeoJSON: Shapefile format requires that polygons contain at least one exterior ring, but the Shape was entirely made up of interior holes (defined by counter-clockwise orientation in the shapefile format). The rings were still included but were encoded as GeoJSON exterior rings instead of holes.\n"
     ]
    },
    {
     "data": {
      "image/png": "[encoded data removed]",
      "text/plain": [
       "<Figure size 800x1000 with 1 Axes>"
      ]
     },
     "metadata": {},
     "output_type": "display_data"
    }
   ],
   "source": [
    "xlim, ylim = [-145.5, -120.2], [30, 60]\n",
    "\n",
    "fig, ax = plt.subplots(1,1, figsize=(8, 10), subplot_kw={'projection': crs.Mercator(np.mean(xlim), *ylim)})\n",
    "\n",
    "# Make plot area\n",
    "ax.set_extent(xlim + ylim)\n",
    "\n",
    "# Draw coastline\n",
    "ax.add_feature(feature.GSHHSFeature('auto', facecolor='whitesmoke', zorder=2))\n",
    "ax.add_feature(feature.GSHHSFeature('auto', edgecolor='k', zorder=4))\n",
    "\n",
    "# and bathymetry..?\n",
    "ax.add_feature(feature.NaturalEarthFeature(name='bathymetry_I_2000', scale='10m', category='physical',facecolor='white', edgecolor='k',zorder=4))\n",
    "\n",
    "# points\n",
    "ax.scatter(obs['longitude (degrees_east)'][obs.location == 'shelf'],obs['latitude (degrees_north)'][obs.location == 'shelf'], transform=crs.PlateCarree(),s=1,zorder=5,label='shelf')\n",
    "ax.scatter(obs['longitude (degrees_east)'][obs.location == 'slope'],obs['latitude (degrees_north)'][obs.location == 'slope'], transform=crs.PlateCarree(),s=1,zorder=5,label='slope')\n",
    "ax.scatter(obs['longitude (degrees_east)'][obs.location == 'offshore'],obs['latitude (degrees_north)'][obs.location == 'offshore'], transform=crs.PlateCarree(),s=1,zorder=5,label='offshore')\n",
    "\n",
    "#cuttoffs\n",
    "ax.plot([-127.7,-125],[49,49], 'k--', transform=crs.PlateCarree(),zorder=7,label='N summer')\n",
    "ax.plot([-126.1,-124.1],[47.3,47.3], 'k.-', transform=crs.PlateCarree(),zorder=7,label='S summer')\n",
    "ax.plot([-130,-128],[50.5,50.5], 'k', transform=crs.PlateCarree(),zorder=7,label='N/S winter?')\n",
    "\n",
    "\n",
    "ax.legend()\n"
   ]
  },
  {
   "cell_type": "code",
   "execution_count": 39,
   "metadata": {},
   "outputs": [],
   "source": [
    "# we're going to divide our watermasses differently during upwelling and downwelling\n",
    "# so get month from the time\n",
    "\n",
    "obs['time']=pd.to_datetime(obs.time)\n",
    "obs['month'] = [obs.time[i].month for i in obs.index]"
   ]
  },
  {
   "cell_type": "code",
   "execution_count": 40,
   "metadata": {},
   "outputs": [],
   "source": [
    "# save  obs file with all the data you don't need removed and the location and month columns added\n",
    "obs.to_csv('./filtered_obs.csv')"
   ]
  },
  {
   "cell_type": "code",
   "execution_count": 41,
   "metadata": {},
   "outputs": [
    {
     "data": {
      "text/html": [
       "<div>\n",
       "<style scoped>\n",
       "    .dataframe tbody tr th:only-of-type {\n",
       "        vertical-align: middle;\n",
       "    }\n",
       "\n",
       "    .dataframe tbody tr th {\n",
       "        vertical-align: top;\n",
       "    }\n",
       "\n",
       "    .dataframe thead th {\n",
       "        text-align: right;\n",
       "    }\n",
       "</style>\n",
       "<table border=\"1\" class=\"dataframe\">\n",
       "  <thead>\n",
       "    <tr style=\"text-align: right;\">\n",
       "      <th></th>\n",
       "      <th>Unnamed: 0</th>\n",
       "      <th>time</th>\n",
       "      <th>longitude (degrees_east)</th>\n",
       "      <th>latitude (degrees_north)</th>\n",
       "      <th>depth (m)</th>\n",
       "      <th>pressure (dbar)</th>\n",
       "      <th>temperature (degC)</th>\n",
       "      <th>salinity (g kg-1)</th>\n",
       "      <th>DO (umol kg-1)</th>\n",
       "      <th>NO3 (uM)</th>\n",
       "      <th>...</th>\n",
       "      <th>source</th>\n",
       "      <th>Nstar (umol kg-1)</th>\n",
       "      <th>spice</th>\n",
       "      <th>Nstar (uM)</th>\n",
       "      <th>TA (umol/kg)</th>\n",
       "      <th>DIC (umol/kg)</th>\n",
       "      <th>Carbonate (umol/kg)</th>\n",
       "      <th>geometry</th>\n",
       "      <th>location</th>\n",
       "      <th>month</th>\n",
       "    </tr>\n",
       "  </thead>\n",
       "  <tbody>\n",
       "    <tr>\n",
       "      <th>0</th>\n",
       "      <td>1262</td>\n",
       "      <td>1933-07-24 00:00:00+00:00</td>\n",
       "      <td>-126.60</td>\n",
       "      <td>49.58</td>\n",
       "      <td>1.0</td>\n",
       "      <td>1.008610</td>\n",
       "      <td>NaN</td>\n",
       "      <td>31.528030</td>\n",
       "      <td>NaN</td>\n",
       "      <td>NaN</td>\n",
       "      <td>...</td>\n",
       "      <td>ios bottle</td>\n",
       "      <td>NaN</td>\n",
       "      <td>NaN</td>\n",
       "      <td>NaN</td>\n",
       "      <td>NaN</td>\n",
       "      <td>NaN</td>\n",
       "      <td>NaN</td>\n",
       "      <td>POINT (-126.6 49.58)</td>\n",
       "      <td>shelf</td>\n",
       "      <td>7</td>\n",
       "    </tr>\n",
       "    <tr>\n",
       "      <th>1</th>\n",
       "      <td>1263</td>\n",
       "      <td>1933-07-24 00:00:00+00:00</td>\n",
       "      <td>-126.60</td>\n",
       "      <td>49.58</td>\n",
       "      <td>2.0</td>\n",
       "      <td>2.017225</td>\n",
       "      <td>NaN</td>\n",
       "      <td>31.618518</td>\n",
       "      <td>NaN</td>\n",
       "      <td>NaN</td>\n",
       "      <td>...</td>\n",
       "      <td>ios bottle</td>\n",
       "      <td>NaN</td>\n",
       "      <td>NaN</td>\n",
       "      <td>NaN</td>\n",
       "      <td>NaN</td>\n",
       "      <td>NaN</td>\n",
       "      <td>NaN</td>\n",
       "      <td>POINT (-126.6 49.58)</td>\n",
       "      <td>shelf</td>\n",
       "      <td>7</td>\n",
       "    </tr>\n",
       "    <tr>\n",
       "      <th>2</th>\n",
       "      <td>1264</td>\n",
       "      <td>1933-07-24 00:00:00+00:00</td>\n",
       "      <td>-126.60</td>\n",
       "      <td>49.58</td>\n",
       "      <td>4.0</td>\n",
       "      <td>4.034469</td>\n",
       "      <td>NaN</td>\n",
       "      <td>32.060972</td>\n",
       "      <td>NaN</td>\n",
       "      <td>NaN</td>\n",
       "      <td>...</td>\n",
       "      <td>ios bottle</td>\n",
       "      <td>NaN</td>\n",
       "      <td>NaN</td>\n",
       "      <td>NaN</td>\n",
       "      <td>NaN</td>\n",
       "      <td>NaN</td>\n",
       "      <td>NaN</td>\n",
       "      <td>POINT (-126.6 49.58)</td>\n",
       "      <td>shelf</td>\n",
       "      <td>7</td>\n",
       "    </tr>\n",
       "    <tr>\n",
       "      <th>3</th>\n",
       "      <td>1265</td>\n",
       "      <td>1933-07-24 00:00:00+00:00</td>\n",
       "      <td>-126.60</td>\n",
       "      <td>49.58</td>\n",
       "      <td>6.0</td>\n",
       "      <td>6.051732</td>\n",
       "      <td>NaN</td>\n",
       "      <td>32.332462</td>\n",
       "      <td>NaN</td>\n",
       "      <td>NaN</td>\n",
       "      <td>...</td>\n",
       "      <td>ios bottle</td>\n",
       "      <td>NaN</td>\n",
       "      <td>NaN</td>\n",
       "      <td>NaN</td>\n",
       "      <td>NaN</td>\n",
       "      <td>NaN</td>\n",
       "      <td>NaN</td>\n",
       "      <td>POINT (-126.6 49.58)</td>\n",
       "      <td>shelf</td>\n",
       "      <td>7</td>\n",
       "    </tr>\n",
       "    <tr>\n",
       "      <th>4</th>\n",
       "      <td>1266</td>\n",
       "      <td>1933-07-24 00:00:00+00:00</td>\n",
       "      <td>-126.60</td>\n",
       "      <td>49.58</td>\n",
       "      <td>10.0</td>\n",
       "      <td>10.086320</td>\n",
       "      <td>NaN</td>\n",
       "      <td>32.493280</td>\n",
       "      <td>NaN</td>\n",
       "      <td>NaN</td>\n",
       "      <td>...</td>\n",
       "      <td>ios bottle</td>\n",
       "      <td>NaN</td>\n",
       "      <td>NaN</td>\n",
       "      <td>NaN</td>\n",
       "      <td>NaN</td>\n",
       "      <td>NaN</td>\n",
       "      <td>NaN</td>\n",
       "      <td>POINT (-126.6 49.58)</td>\n",
       "      <td>shelf</td>\n",
       "      <td>7</td>\n",
       "    </tr>\n",
       "    <tr>\n",
       "      <th>...</th>\n",
       "      <td>...</td>\n",
       "      <td>...</td>\n",
       "      <td>...</td>\n",
       "      <td>...</td>\n",
       "      <td>...</td>\n",
       "      <td>...</td>\n",
       "      <td>...</td>\n",
       "      <td>...</td>\n",
       "      <td>...</td>\n",
       "      <td>...</td>\n",
       "      <td>...</td>\n",
       "      <td>...</td>\n",
       "      <td>...</td>\n",
       "      <td>...</td>\n",
       "      <td>...</td>\n",
       "      <td>...</td>\n",
       "      <td>...</td>\n",
       "      <td>...</td>\n",
       "      <td>...</td>\n",
       "      <td>...</td>\n",
       "      <td>...</td>\n",
       "    </tr>\n",
       "    <tr>\n",
       "      <th>884097</th>\n",
       "      <td>2339838</td>\n",
       "      <td>2024-11-18 00:00:00+00:00</td>\n",
       "      <td>-124.95</td>\n",
       "      <td>44.38</td>\n",
       "      <td>0.0</td>\n",
       "      <td>0.000000</td>\n",
       "      <td>12.713836</td>\n",
       "      <td>32.386146</td>\n",
       "      <td>312.025459</td>\n",
       "      <td>NaN</td>\n",
       "      <td>...</td>\n",
       "      <td>ooi</td>\n",
       "      <td>NaN</td>\n",
       "      <td>-0.251376</td>\n",
       "      <td>NaN</td>\n",
       "      <td>NaN</td>\n",
       "      <td>NaN</td>\n",
       "      <td>NaN</td>\n",
       "      <td>POINT (-124.95 44.38)</td>\n",
       "      <td>slope</td>\n",
       "      <td>11</td>\n",
       "    </tr>\n",
       "    <tr>\n",
       "      <th>884098</th>\n",
       "      <td>2339839</td>\n",
       "      <td>2024-11-18 00:00:00+00:00</td>\n",
       "      <td>-124.94</td>\n",
       "      <td>44.36</td>\n",
       "      <td>0.0</td>\n",
       "      <td>0.000000</td>\n",
       "      <td>12.712860</td>\n",
       "      <td>32.386131</td>\n",
       "      <td>NaN</td>\n",
       "      <td>NaN</td>\n",
       "      <td>...</td>\n",
       "      <td>ooi</td>\n",
       "      <td>NaN</td>\n",
       "      <td>-0.251582</td>\n",
       "      <td>NaN</td>\n",
       "      <td>NaN</td>\n",
       "      <td>NaN</td>\n",
       "      <td>NaN</td>\n",
       "      <td>POINT (-124.94 44.36)</td>\n",
       "      <td>slope</td>\n",
       "      <td>11</td>\n",
       "    </tr>\n",
       "    <tr>\n",
       "      <th>884099</th>\n",
       "      <td>2339841</td>\n",
       "      <td>2024-11-18 00:00:00+00:00</td>\n",
       "      <td>-124.57</td>\n",
       "      <td>46.99</td>\n",
       "      <td>0.0</td>\n",
       "      <td>0.000000</td>\n",
       "      <td>10.586080</td>\n",
       "      <td>32.728763</td>\n",
       "      <td>202.661375</td>\n",
       "      <td>NaN</td>\n",
       "      <td>...</td>\n",
       "      <td>ooi</td>\n",
       "      <td>NaN</td>\n",
       "      <td>-0.405998</td>\n",
       "      <td>NaN</td>\n",
       "      <td>NaN</td>\n",
       "      <td>NaN</td>\n",
       "      <td>NaN</td>\n",
       "      <td>POINT (-124.57 46.99)</td>\n",
       "      <td>shelf</td>\n",
       "      <td>11</td>\n",
       "    </tr>\n",
       "    <tr>\n",
       "      <th>884100</th>\n",
       "      <td>2339842</td>\n",
       "      <td>2024-11-18 00:00:00+00:00</td>\n",
       "      <td>-124.56</td>\n",
       "      <td>46.99</td>\n",
       "      <td>0.0</td>\n",
       "      <td>0.000000</td>\n",
       "      <td>12.215222</td>\n",
       "      <td>32.245641</td>\n",
       "      <td>308.384776</td>\n",
       "      <td>NaN</td>\n",
       "      <td>...</td>\n",
       "      <td>ooi</td>\n",
       "      <td>NaN</td>\n",
       "      <td>-0.452611</td>\n",
       "      <td>NaN</td>\n",
       "      <td>NaN</td>\n",
       "      <td>NaN</td>\n",
       "      <td>NaN</td>\n",
       "      <td>POINT (-124.56 46.99)</td>\n",
       "      <td>shelf</td>\n",
       "      <td>11</td>\n",
       "    </tr>\n",
       "    <tr>\n",
       "      <th>884101</th>\n",
       "      <td>2339843</td>\n",
       "      <td>2024-11-18 00:00:00+00:00</td>\n",
       "      <td>-124.31</td>\n",
       "      <td>44.64</td>\n",
       "      <td>0.0</td>\n",
       "      <td>0.000000</td>\n",
       "      <td>11.112893</td>\n",
       "      <td>32.193448</td>\n",
       "      <td>196.998096</td>\n",
       "      <td>NaN</td>\n",
       "      <td>...</td>\n",
       "      <td>ooi</td>\n",
       "      <td>NaN</td>\n",
       "      <td>-0.699685</td>\n",
       "      <td>NaN</td>\n",
       "      <td>NaN</td>\n",
       "      <td>NaN</td>\n",
       "      <td>NaN</td>\n",
       "      <td>POINT (-124.31 44.64)</td>\n",
       "      <td>shelf</td>\n",
       "      <td>11</td>\n",
       "    </tr>\n",
       "  </tbody>\n",
       "</table>\n",
       "<p>884102 rows × 37 columns</p>\n",
       "</div>"
      ],
      "text/plain": [
       "        Unnamed: 0                      time  longitude (degrees_east)  \\\n",
       "0             1262 1933-07-24 00:00:00+00:00                   -126.60   \n",
       "1             1263 1933-07-24 00:00:00+00:00                   -126.60   \n",
       "2             1264 1933-07-24 00:00:00+00:00                   -126.60   \n",
       "3             1265 1933-07-24 00:00:00+00:00                   -126.60   \n",
       "4             1266 1933-07-24 00:00:00+00:00                   -126.60   \n",
       "...            ...                       ...                       ...   \n",
       "884097     2339838 2024-11-18 00:00:00+00:00                   -124.95   \n",
       "884098     2339839 2024-11-18 00:00:00+00:00                   -124.94   \n",
       "884099     2339841 2024-11-18 00:00:00+00:00                   -124.57   \n",
       "884100     2339842 2024-11-18 00:00:00+00:00                   -124.56   \n",
       "884101     2339843 2024-11-18 00:00:00+00:00                   -124.31   \n",
       "\n",
       "        latitude (degrees_north)  depth (m)  pressure (dbar)  \\\n",
       "0                          49.58        1.0         1.008610   \n",
       "1                          49.58        2.0         2.017225   \n",
       "2                          49.58        4.0         4.034469   \n",
       "3                          49.58        6.0         6.051732   \n",
       "4                          49.58       10.0        10.086320   \n",
       "...                          ...        ...              ...   \n",
       "884097                     44.38        0.0         0.000000   \n",
       "884098                     44.36        0.0         0.000000   \n",
       "884099                     46.99        0.0         0.000000   \n",
       "884100                     46.99        0.0         0.000000   \n",
       "884101                     44.64        0.0         0.000000   \n",
       "\n",
       "        temperature (degC)  salinity (g kg-1)  DO (umol kg-1)  NO3 (uM)  ...  \\\n",
       "0                      NaN          31.528030             NaN       NaN  ...   \n",
       "1                      NaN          31.618518             NaN       NaN  ...   \n",
       "2                      NaN          32.060972             NaN       NaN  ...   \n",
       "3                      NaN          32.332462             NaN       NaN  ...   \n",
       "4                      NaN          32.493280             NaN       NaN  ...   \n",
       "...                    ...                ...             ...       ...  ...   \n",
       "884097           12.713836          32.386146      312.025459       NaN  ...   \n",
       "884098           12.712860          32.386131             NaN       NaN  ...   \n",
       "884099           10.586080          32.728763      202.661375       NaN  ...   \n",
       "884100           12.215222          32.245641      308.384776       NaN  ...   \n",
       "884101           11.112893          32.193448      196.998096       NaN  ...   \n",
       "\n",
       "            source  Nstar (umol kg-1)     spice  Nstar (uM)  TA (umol/kg)  \\\n",
       "0       ios bottle                NaN       NaN         NaN           NaN   \n",
       "1       ios bottle                NaN       NaN         NaN           NaN   \n",
       "2       ios bottle                NaN       NaN         NaN           NaN   \n",
       "3       ios bottle                NaN       NaN         NaN           NaN   \n",
       "4       ios bottle                NaN       NaN         NaN           NaN   \n",
       "...            ...                ...       ...         ...           ...   \n",
       "884097         ooi                NaN -0.251376         NaN           NaN   \n",
       "884098         ooi                NaN -0.251582         NaN           NaN   \n",
       "884099         ooi                NaN -0.405998         NaN           NaN   \n",
       "884100         ooi                NaN -0.452611         NaN           NaN   \n",
       "884101         ooi                NaN -0.699685         NaN           NaN   \n",
       "\n",
       "        DIC (umol/kg)  Carbonate (umol/kg)               geometry  location  \\\n",
       "0                 NaN                  NaN   POINT (-126.6 49.58)     shelf   \n",
       "1                 NaN                  NaN   POINT (-126.6 49.58)     shelf   \n",
       "2                 NaN                  NaN   POINT (-126.6 49.58)     shelf   \n",
       "3                 NaN                  NaN   POINT (-126.6 49.58)     shelf   \n",
       "4                 NaN                  NaN   POINT (-126.6 49.58)     shelf   \n",
       "...               ...                  ...                    ...       ...   \n",
       "884097            NaN                  NaN  POINT (-124.95 44.38)     slope   \n",
       "884098            NaN                  NaN  POINT (-124.94 44.36)     slope   \n",
       "884099            NaN                  NaN  POINT (-124.57 46.99)     shelf   \n",
       "884100            NaN                  NaN  POINT (-124.56 46.99)     shelf   \n",
       "884101            NaN                  NaN  POINT (-124.31 44.64)     shelf   \n",
       "\n",
       "        month  \n",
       "0           7  \n",
       "1           7  \n",
       "2           7  \n",
       "3           7  \n",
       "4           7  \n",
       "...       ...  \n",
       "884097     11  \n",
       "884098     11  \n",
       "884099     11  \n",
       "884100     11  \n",
       "884101     11  \n",
       "\n",
       "[884102 rows x 37 columns]"
      ]
     },
     "execution_count": 41,
     "metadata": {},
     "output_type": "execute_result"
    }
   ],
   "source": [
    "obs"
   ]
  },
  {
   "cell_type": "code",
   "execution_count": 42,
   "metadata": {},
   "outputs": [
    {
     "data": {
      "text/plain": [
       "{'GEOTRACES IDP21',\n",
       " 'GEOTRACES IDP21, GEOTRACES Taves',\n",
       " 'GEOTRACES Taves',\n",
       " 'NCEI Coastal',\n",
       " 'NCEI Coastal, NHL',\n",
       " 'NCEI PNW',\n",
       " 'NCEI Salish',\n",
       " 'NHL',\n",
       " 'OCNMS',\n",
       " 'ios bottle',\n",
       " 'ios bottle, GEOTRACES IDP21',\n",
       " 'ios bottle, GEOTRACES IDP21, GEOTRACES Taves',\n",
       " 'ios bottle, GEOTRACES Taves',\n",
       " 'ios bottle, NCEI PNW',\n",
       " 'ios bottle, NCEI PNW, GEOTRACES Taves',\n",
       " 'ios ctd profiles',\n",
       " 'ios ctd profiles, ios bottle',\n",
       " 'ios mooring',\n",
       " 'ios mooring, ios bottle',\n",
       " 'ooi'}"
      ]
     },
     "execution_count": 42,
     "metadata": {},
     "output_type": "execute_result"
    }
   ],
   "source": [
    "set(obs.source)"
   ]
  },
  {
   "cell_type": "code",
   "execution_count": null,
   "metadata": {},
   "outputs": [],
   "source": []
  }
 ],
 "metadata": {
  "kernelspec": {
   "display_name": "LO",
   "language": "python",
   "name": "python3"
  },
  "language_info": {
   "codemirror_mode": {
    "name": "ipython",
    "version": 3
   },
   "file_extension": ".py",
   "mimetype": "text/x-python",
   "name": "python",
   "nbconvert_exporter": "python",
   "pygments_lexer": "ipython3",
   "version": "3.12.7"
  }
 },
 "nbformat": 4,
 "nbformat_minor": 2
}
