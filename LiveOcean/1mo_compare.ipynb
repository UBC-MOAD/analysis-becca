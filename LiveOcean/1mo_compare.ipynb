{
 "cells": [
  {
   "cell_type": "markdown",
   "metadata": {},
   "source": [
    "# Comparing one month of LO versus CIOPS"
   ]
  },
  {
   "cell_type": "code",
   "execution_count": 1,
   "metadata": {},
   "outputs": [],
   "source": [
    "import xarray as xr\n",
    "import matplotlib.pyplot as plt\n",
    "import numpy as np\n",
    "import scipy.interpolate as interp\n",
    "import cmocean as cm\n",
    "import math \n",
    "from matplotlib.patches import Rectangle\n",
    "from matplotlib.collections import PatchCollection\n",
    "import datetime"
   ]
  },
  {
   "cell_type": "code",
   "execution_count": 2,
   "metadata": {},
   "outputs": [],
   "source": [
    "# section names (same for both)\n",
    "sec_meander = 0\n",
    "init = 1\n",
    "sec_north = 2\n",
    "sec_south= 4\n",
    "sec_offshore = 3"
   ]
  },
  {
   "cell_type": "code",
   "execution_count": 3,
   "metadata": {},
   "outputs": [],
   "source": [
    "tide = 24\n",
    "sdep = -100"
   ]
  },
  {
   "cell_type": "code",
   "execution_count": 4,
   "metadata": {},
   "outputs": [],
   "source": [
    "def round_to_2(x):\n",
    "    return np.round(x, -int(math.floor(math.log10(abs(x))))+1)\n",
    "\n",
    "def round_to_3(x):\n",
    "    return np.round(x, -int(math.floor(math.log10(abs(x))))+2)\n",
    "\n",
    "def draw_patches(fmask, ll, ul, u_lons, w_depths):\n",
    "    topo = []\n",
    "    for i in range(ll, ul):\n",
    "        for j in range(39):\n",
    "            if fmask[j, i] == 0:\n",
    "                rect = Rectangle((u_lons[i], w_depths[j]), u_lons[i+1]-u_lons[i], w_depths[j+1]-w_depths[j])\n",
    "                topo.append(rect)\n",
    "    pc = PatchCollection(topo, facecolors='lightgray', edgecolors='lightgray')\n",
    "    return(pc)\n",
    "\n",
    "def FluxEW(mydata, section, lonW, lonE, fjgrid, maxdepth, ax):\n",
    "    igrid = fjgrid-1\n",
    "    fmask = mymesh.fmask[0, :, igrid, :]\n",
    "    tmask = mymesh.tmask[0]\n",
    "    nav_lon = mymesh.nav_lon[igrid]\n",
    "    time = np.abs(np.max(mydata.init_t)-np.min(mydata.init_t))\n",
    "    \n",
    "    f_lons = mymesh.glamf[0, igrid]\n",
    "    u_lons = mymesh.glamv[0, igrid]\n",
    "    m2lon = ((u_lons[lonE]-u_lons[lonW])/(mymesh.e2f[0, igrid, lonW:lonE].sum())).values\n",
    "    f_dist = f_lons/m2lon\n",
    "    w_depths = mymesh.gdepw_1d\n",
    "    xs, ys = np.meshgrid(np.array(f_lons[lonW-1:lonE+1]), np.array(w_depths[0]))\n",
    "    \n",
    "    gridding = 1\n",
    "    tick = 0.01\n",
    "    units = '$m^3 \\, s^{-1} m^{-2}$'\n",
    "    \n",
    "    cmap = cm.cm.speed\n",
    "    cmap.set_under('white')\n",
    "    \n",
    "    t_min = 0.00000000001\n",
    " \n",
    "    lons = mydata.final_lon[(mydata.final_section==section)]\n",
    "    dist = f_lons/m2lon\n",
    "    depths = depthf(mydata.final_z[(mydata.final_section==section)]-1.)[0]\n",
    "    transports = mydata.final_transp[(mydata.final_section==section)]/time\n",
    "    t_max = (tick/np.sum(transports)).values/m2lon\n",
    "        \n",
    "    H, xedges, yedges, im = ax.hist2d(lons, depths, bins=[np.array(f_lons[lonW-1:lonE+1:gridding]), \n",
    "                                    w_depths[0]],weights= transports, cmap=cmap, vmin = t_min, vmax=t_max, density= True)\n",
    "    \n",
    "    cb1 = fig.colorbar(im, ax=ax)\n",
    "    cb1.set_ticks([0, t_max])\n",
    "    cb1.set_ticklabels([0, tick])\n",
    "    cb1.set_label(units, labelpad=-20)\n",
    "    \n",
    "    distance = abs(round_to_3((f_dist[lonW-1]-f_dist[lonE+1]).values/1000))\n",
    "    ax.set_xlabel(str(distance)[:-2]+\" km\")\n",
    "\n",
    "    pc = draw_patches(fmask, lonW-2, lonE, np.array(u_lons), np.array(w_depths[0]))\n",
    "    ax.add_collection(pc)\n",
    "\n",
    "    ax.invert_yaxis()\n",
    "    ax.set_xticks([u_lons[lonW+2], u_lons[lonE-2]])\n",
    "    ax.set_xticklabels(np.round([u_lons[lonW+2], u_lons[lonE-2]],2))\n",
    "    ax.set_xlim((u_lons[lonW], u_lons[lonE]))\n",
    "    ax.set_ylim((maxdepth, 0))\n",
    "    full_title = str(round_to_2(np.sum(transports).values))[:-2]+\" $m^3 \\, s^{-1}$\"\n",
    "    ax.set_title(str(full_title))\n",
    "    ax.set_yticklabels([])\n",
    "    mydata.close()\n",
    "\n",
    "    return m2lon\n",
    "\n",
    "def FluxEW_ROMS(mydata, section, y, xmin, xmax, maxdepth, m2lon, ax):\n",
    "    \n",
    "    units = '$m^3 \\, s^{-1} m^{-2}$'\n",
    "    \n",
    "    time = np.abs(np.max(mydata.init_t)-np.min(mydata.init_t))\n",
    "\n",
    "    cmap = cm.cm.speed\n",
    "    cmap.set_under('white')\n",
    "    \n",
    "    depths = mydata.final_depth[(mydata.final_section==section)]\n",
    "    transports = mydata.final_transp[(mydata.final_section==section)]/time\n",
    "    lons = mydata.final_lon[(mydata.final_section==section)]\n",
    "    \n",
    "    t_min = 0.000000000001\n",
    "    tick = 0.01\n",
    "    t_max = (tick/np.sum(transports)).values/m2lon\n",
    "        \n",
    "    H, xedges, yedges, im = ax.hist2d(lons, depths, bins=[np.array(mymesh.lon_rho[y,xmin-1:xmax+1]), \n",
    "                                    np.arange(0,np.max(mymesh.h[y,xmin:xmax]),10)],weights= transports, \n",
    "                                    cmap=cm.cm.speed, vmin = t_min, vmax=t_max, density= True)\n",
    "    \n",
    "    cb1 = fig.colorbar(im, ax=ax)\n",
    "    cb1.set_ticks([0, t_max])\n",
    "    cb1.set_ticklabels([0, tick])\n",
    "    cb1.set_label(units, labelpad=-20)\n",
    "    \n",
    "    distance = round_to_3(_distance_(mymesh.lat_rho[y,xmin],mymesh.lat_rho[y,xmax],mymesh.lon_rho[y,xmin],mymesh.lon_rho[y,xmax]))\n",
    "    ax.set_xlabel(str(distance)[:-2]+\" km\")\n",
    "\n",
    "    ax.fill_between(mymesh.lon_rho[y,xmin-1:xmax+1],mymesh.h[y,xmin-1:xmax+1], 500, color='lightgray')\n",
    "\n",
    "    ax.invert_yaxis()\n",
    "    ax.set_xticks([mymesh.lon_rho[y,xmin+2], mymesh.lon_rho[y,xmax-2]])\n",
    "    ax.set_xticklabels(np.round([mymesh.lon_rho[y,xmin+2], mymesh.lon_rho[y,xmax-2]],2))\n",
    "    ax.set_xlim((mymesh.lon_rho[y,xmin], mymesh.lon_rho[y,xmax]))\n",
    "    ax.set_ylim((maxdepth, 0))\n",
    "    full_title = str(round_to_2(np.sum(transports).values))[:-2]+\" \"+units\n",
    "    ax.set_title(str(full_title))\n",
    "    mydata.close()\n",
    "\n",
    "def _distance_(lat1,lat2,lon1,lon2):\n",
    "    \"\"\"\n",
    "    Calculate the Haversine distance.\n",
    "    Returns\n",
    "    -------\n",
    "    distance_in_km : float\n",
    "    \"\"\"\n",
    "    radius = 6371  # km\n",
    "\n",
    "    dlat = math.radians(lat2 - lat1)\n",
    "    dlon = math.radians(lon2 - lon1)\n",
    "    a = (math.sin(dlat / 2) * math.sin(dlat / 2) +\n",
    "         math.cos(math.radians(lat1)) * math.cos(math.radians(lat2)) *\n",
    "         math.sin(dlon / 2) * math.sin(dlon / 2))\n",
    "    c = 2 * math.atan2(math.sqrt(a), math.sqrt(1 - a))\n",
    "    d = radius * c\n",
    "\n",
    "    return d"
   ]
  },
  {
   "cell_type": "markdown",
   "metadata": {},
   "source": [
    "## Feb 2018"
   ]
  },
  {
   "cell_type": "code",
   "execution_count": 5,
   "metadata": {},
   "outputs": [],
   "source": [
    "lo = xr.open_dataset('/ocean/rbeutel/MOAD/analysis-becca/LiveOcean/20180309ariane_positions_quantitative.nc')\n",
    "ci = xr.open_dataset('/ocean/rbeutel/MOAD/analysis-becca/Ariane/CIOPS-BC12/test_09mar18/ariane_positions_quantitative.nc')"
   ]
  },
  {
   "cell_type": "code",
   "execution_count": 6,
   "metadata": {},
   "outputs": [
    {
     "data": {
      "image/png": "[encoded data removed]",
      "text/plain": [
       "<Figure size 720x288 with 2 Axes>"
      ]
     },
     "metadata": {
      "needs_background": "light"
     },
     "output_type": "display_data"
    }
   ],
   "source": [
    "fig, ax = plt.subplots(1,2, figsize=[10,4])\n",
    "\n",
    "#ciops\n",
    "data = ci\n",
    "north = np.sum(data.init_transp[(data.final_section==sec_north)])\n",
    "offshore = np.sum(data.init_transp[(data.final_section==sec_offshore)])\n",
    "cuc = np.sum(data.init_transp[(data.final_section==sec_south) & (data.final_depth <= sdep)])\n",
    "south = np.sum(data.init_transp[(data.final_section==sec_south) & (data.final_depth > sdep)])\n",
    "loop = np.sum(data.init_transp[(data.final_section==sec_meander) & (data.init_t-data.final_t > tide)])\n",
    "\n",
    "ax[0].bar(['north','offshore','cuc','south','loop'],[north,offshore,cuc,south,loop],)\n",
    "ax[0].set_title('CIOPS\\n'+str(np.round(np.sum([north,offshore,cuc,south,loop]),2)))\n",
    "ax[0].set_ylim([0,6*(10**7)])\n",
    "\n",
    "\n",
    "#LO\n",
    "data = lo\n",
    "north = np.sum(data.init_transp[(data.final_section==sec_north)])\n",
    "offshore = np.sum(data.init_transp[(data.final_section==sec_offshore)])\n",
    "cuc = np.sum(data.init_transp[(data.final_section==sec_south) & (data.final_depth >= -sdep)])\n",
    "south = np.sum(data.init_transp[(data.final_section==sec_south) & (data.final_depth < -sdep)])\n",
    "loop = np.sum(data.init_transp[(data.final_section==sec_meander) & (data.init_t-data.final_t > tide)])\n",
    "\n",
    "ax[1].bar(['north','offshore','cuc','south','loop'],[north,offshore,cuc,south,loop],)\n",
    "ax[1].set_title('LO\\n'+str(np.round(np.sum([north,offshore,cuc,south,loop]),2)))\n",
    "ax[1].set_ylim([0,6*(10**7)]);\n"
   ]
  },
  {
   "cell_type": "code",
   "execution_count": 7,
   "metadata": {},
   "outputs": [
    {
     "name": "stdout",
     "output_type": "stream",
     "text": [
      "1.6691435255493834e-05\n"
     ]
    },
    {
     "data": {
      "image/png": "[encoded data removed]",
      "text/plain": [
       "<Figure size 720x216 with 4 Axes>"
      ]
     },
     "metadata": {
      "needs_background": "light"
     },
     "output_type": "display_data"
    }
   ],
   "source": [
    "# cross sections of where CIOPS is coming in\n",
    "mymesh = xr.open_dataset('/ocean/mdunphy/CIOPSW-BC12/grid/mesh_mask_Bathymetry_NEP36_714x1020_SRTM30v11_NOAA3sec_WCTSS_JdeFSalSea.nc')\n",
    "depthf = interp.interp1d(mymesh.z, mymesh.gdept_1d)\n",
    "\n",
    "fig, ax = plt.subplots(1,2,figsize=(10,3))\n",
    "\n",
    "m2lon = FluxEW(ci, sec_south, 595, 644, 199, 500, ax[0])\n",
    "print(m2lon)\n",
    "\n",
    "# cross sections of where LO is coming in\n",
    "mymesh = xr.open_dataset('./grid.nc')\n",
    "\n",
    "y = 706\n",
    "xmin=192\n",
    "xmax=318\n",
    "\n",
    "FluxEW_ROMS(lo, sec_south, y, xmin, xmax, 500, m2lon, ax[1])"
   ]
  },
  {
   "cell_type": "markdown",
   "metadata": {},
   "source": [
    "## Aug 2017"
   ]
  },
  {
   "cell_type": "code",
   "execution_count": 8,
   "metadata": {},
   "outputs": [],
   "source": [
    "lo = xr.open_dataset('/ocean/rbeutel/MOAD/analysis-becca/LiveOcean/20170902ariane_positions_quantitative.nc')\n",
    "ci = xr.open_dataset('/ocean/rbeutel/MOAD/analysis-becca/Ariane/CIOPS-BC12/test_01sep17/ariane_positions_quantitative.nc')"
   ]
  },
  {
   "cell_type": "code",
   "execution_count": 9,
   "metadata": {},
   "outputs": [
    {
     "data": {
      "image/png": "[encoded data removed]",
      "text/plain": [
       "<Figure size 720x288 with 2 Axes>"
      ]
     },
     "metadata": {
      "needs_background": "light"
     },
     "output_type": "display_data"
    }
   ],
   "source": [
    "fig, ax = plt.subplots(1,2, figsize=[10,4])\n",
    "\n",
    "#ciops\n",
    "data = ci\n",
    "north = np.sum(data.init_transp[(data.final_section==sec_north)])\n",
    "offshore = np.sum(data.init_transp[(data.final_section==sec_offshore)])\n",
    "cuc = np.sum(data.init_transp[(data.final_section==sec_south) & (data.final_depth <= sdep)])\n",
    "south = np.sum(data.init_transp[(data.final_section==sec_south) & (data.final_depth > sdep)])\n",
    "loop = np.sum(data.init_transp[(data.final_section==sec_meander) & (data.init_t-data.final_t > tide)])\n",
    "\n",
    "ax[0].bar(['north','offshore','cuc','south','loop'],[north,offshore,cuc,south,loop],)\n",
    "ax[0].set_title('CIOPS\\n'+str(np.round(np.sum([north,offshore,cuc,south,loop]),2)))\n",
    "ax[0].set_ylim([0,6*(10**7)])\n",
    "\n",
    "\n",
    "#LO\n",
    "data = lo\n",
    "north = np.sum(data.init_transp[(data.final_section==sec_north)])\n",
    "offshore = np.sum(data.init_transp[(data.final_section==sec_offshore)])\n",
    "cuc = np.sum(data.init_transp[(data.final_section==sec_south) & (data.final_depth >= -sdep)])\n",
    "south = np.sum(data.init_transp[(data.final_section==sec_south) & (data.final_depth < -sdep)])\n",
    "loop = np.sum(data.init_transp[(data.final_section==sec_meander) & (data.init_t-data.final_t > tide)])\n",
    "\n",
    "ax[1].bar(['north','offshore','cuc','south','loop'],[north,offshore,cuc,south,loop],)\n",
    "ax[1].set_title('LO\\n'+str(np.round(np.sum([north,offshore,cuc,south,loop]),2)))\n",
    "ax[1].set_ylim([0,6*(10**7)]);"
   ]
  },
  {
   "cell_type": "code",
   "execution_count": 10,
   "metadata": {},
   "outputs": [
    {
     "data": {
      "image/png": "[encoded data removed]",
      "text/plain": [
       "<Figure size 720x216 with 4 Axes>"
      ]
     },
     "metadata": {
      "needs_background": "light"
     },
     "output_type": "display_data"
    }
   ],
   "source": [
    "# cross sections of where CIOPS is coming in in the south\n",
    "mymesh = xr.open_dataset('/ocean/mdunphy/CIOPSW-BC12/grid/mesh_mask_Bathymetry_NEP36_714x1020_SRTM30v11_NOAA3sec_WCTSS_JdeFSalSea.nc')\n",
    "depthf = interp.interp1d(mymesh.z, mymesh.gdept_1d)\n",
    "\n",
    "fig, ax = plt.subplots(1,2,figsize=(10,3))\n",
    "\n",
    "m2lon = FluxEW(ci, sec_south, 595, 644, 199, 500, ax[0])\n",
    "\n",
    "# and LiveOcean\n",
    "mymesh = xr.open_dataset('./grid.nc')\n",
    "\n",
    "y = 706\n",
    "xmin=192\n",
    "xmax=318\n",
    "\n",
    "FluxEW_ROMS(lo, sec_south, y, xmin, xmax, 500, m2lon, ax[1])"
   ]
  },
  {
   "cell_type": "code",
   "execution_count": 12,
   "metadata": {},
   "outputs": [
    {
     "data": {
      "image/png": "[encoded data removed]",
      "text/plain": [
       "<Figure size 720x216 with 4 Axes>"
      ]
     },
     "metadata": {
      "needs_background": "light"
     },
     "output_type": "display_data"
    }
   ],
   "source": [
    "# cross sections of where CIOPS is coming in in the north\n",
    "mymesh = xr.open_dataset('/ocean/mdunphy/CIOPSW-BC12/grid/mesh_mask_Bathymetry_NEP36_714x1020_SRTM30v11_NOAA3sec_WCTSS_JdeFSalSea.nc')\n",
    "depthf = interp.interp1d(mymesh.z, mymesh.gdept_1d)\n",
    "\n",
    "fig, ax = plt.subplots(1,2,figsize=(10,3))\n",
    "\n",
    "m2lon = FluxEW(ci, sec_north, 532, 585, 321, 500, ax[0])\n",
    "\n",
    "# and LiveOcean\n",
    "mymesh = xr.open_dataset('./grid.nc')\n",
    "\n",
    "y = 1102\n",
    "xmin=98  #73\n",
    "xmax=186 #161\n",
    "\n",
    "FluxEW_ROMS(lo, sec_north, y, xmin, xmax, 500, m2lon, ax[1])"
   ]
  },
  {
   "cell_type": "markdown",
   "metadata": {},
   "source": [
    "## How much flow is going through JdF?\n",
    "#### CIOPS first\n",
    "going to use the 1 day 3D files from Michael which do not have a varying ssh"
   ]
  },
  {
   "cell_type": "code",
   "execution_count": 2,
   "metadata": {},
   "outputs": [],
   "source": [
    "x = 639\n",
    "ymin = 259\n",
    "ymax = 274"
   ]
  },
  {
   "cell_type": "code",
   "execution_count": 3,
   "metadata": {},
   "outputs": [],
   "source": [
    "mymesh = xr.open_dataset('/ocean/mdunphy/CIOPSW-BC12/grid/mesh_mask_Bathymetry_NEP36_714x1020_SRTM30v11_NOAA3sec_WCTSS_JdeFSalSea.nc')\n",
    "\n",
    "lats = mymesh.gphit[0,:,x]\n",
    "m2lat = ((lats[ymax]-lats[ymin])/(mymesh.e2t[0, ymin:ymax+1, x].sum()))\n",
    "dist = lats[(ymin-1):(ymax+1)]/m2lat\n",
    "width = dist[1:]-dist[:-1]"
   ]
  },
  {
   "cell_type": "code",
   "execution_count": 4,
   "metadata": {},
   "outputs": [],
   "source": [
    "startday = np.array([datetime.datetime(2018,2,4)+datetime.timedelta(days=i) for i in range(int(5*7))])[3:-2]\n",
    "folders = np.array([datetime.datetime(2018,2,4)+datetime.timedelta(days=7*(i+1)) for i in range(int(5))])\n",
    "folders = np.repeat(folders,7)[3:-2]\n",
    "\n",
    "files = [\"/ocean/mdunphy/CIOPSW-BC12/{:%Y%m%d}00/BC12_1d_grid_U_{:%Y%m%d}_{:%Y%m%d}.nc\".format(folders[i], startday[i], startday[i]) for i in range(len(startday))]"
   ]
  },
  {
   "cell_type": "code",
   "execution_count": 5,
   "metadata": {},
   "outputs": [],
   "source": [
    "flow = 0\n",
    "\n",
    "for file in files:\n",
    "\n",
    "    data = xr.open_dataset(file)\n",
    "\n",
    "    height = np.append(0,data.depthu)[1:]-np.append(0,data.depthu)[:-1]\n",
    "    W, H= np.meshgrid(width, height)\n",
    "\n",
    "    u = data.uo[0,:,ymin:ymax+1, x]\n",
    "\n",
    "    flow += np.sum(np.where(u.values>0, u.values, 0)*H*W)"
   ]
  },
  {
   "cell_type": "code",
   "execution_count": 6,
   "metadata": {},
   "outputs": [
    {
     "data": {
      "text/plain": [
       "143688.8876342701"
      ]
     },
     "execution_count": 6,
     "metadata": {},
     "output_type": "execute_result"
    }
   ],
   "source": [
    "flow/(len(files))"
   ]
  },
  {
   "cell_type": "markdown",
   "metadata": {},
   "source": [
    "#### same thing but with hourly, again the cell size does not change"
   ]
  },
  {
   "cell_type": "code",
   "execution_count": 7,
   "metadata": {},
   "outputs": [],
   "source": [
    "days = 30\n",
    "# for the 2018 winter run\n",
    "start = datetime.datetime(2018,2,7)\n",
    "dates = [start + datetime.timedelta(days=i) for i in range(days)]\n",
    "files = [\"/ocean/rbeutel/CIOPSBC12_hourly/{:%Y%m}/U_new_{:%Y%m%d}.nc\".format(date,date) for date in dates]"
   ]
  },
  {
   "cell_type": "code",
   "execution_count": 8,
   "metadata": {},
   "outputs": [],
   "source": [
    "flow = 0\n",
    "\n",
    "for file in files:\n",
    "\n",
    "    data = xr.open_dataset(file)\n",
    "\n",
    "    u = data.vozocrtx[:,:,ymin:ymax+1, x]\n",
    "\n",
    "    height = np.append(0,data.depthu)[1:]-np.append(0,data.depthu)[:-1]\n",
    "    W, H= np.meshgrid(width, height)\n",
    "    \n",
    "    flow += np.sum(np.where(u.values>0, u.values, 0)*H*W)"
   ]
  },
  {
   "cell_type": "code",
   "execution_count": 9,
   "metadata": {},
   "outputs": [
    {
     "data": {
      "text/plain": [
       "468565.2903632628"
      ]
     },
     "execution_count": 9,
     "metadata": {},
     "output_type": "execute_result"
    }
   ],
   "source": [
    "flow/(len(dates)*24)"
   ]
  },
  {
   "cell_type": "markdown",
   "metadata": {},
   "source": [
    "### SalishSeaCast"
   ]
  },
  {
   "cell_type": "code",
   "execution_count": 2,
   "metadata": {},
   "outputs": [],
   "source": [
    "xmin = 16\n",
    "xmax = 72\n",
    "y = 378"
   ]
  },
  {
   "cell_type": "code",
   "execution_count": 3,
   "metadata": {},
   "outputs": [],
   "source": [
    "mymesh = xr.open_dataset('/home/sallen/MEOPAR/grid/mesh_mask201702.nc')"
   ]
  },
  {
   "cell_type": "code",
   "execution_count": 4,
   "metadata": {},
   "outputs": [],
   "source": [
    "u_lons = mymesh.glamv[0,y,:]\n",
    "m2lon = ((u_lons[xmax]-u_lons[xmin])/(mymesh.e2f[0, y, xmin:xmax+1].sum())).values\n",
    "dist = u_lons[xmin-1:xmax+1]/m2lon\n",
    "\n",
    "width = dist[1:]-dist[:-1]\n",
    "width, _ = np.meshgrid(width, np.zeros(len(mymesh.z)))"
   ]
  },
  {
   "cell_type": "code",
   "execution_count": 5,
   "metadata": {},
   "outputs": [],
   "source": [
    "days = 30\n",
    "# for the 2018 winter run\n",
    "start = datetime.datetime(2018,2,7)\n",
    "dates = [start + datetime.timedelta(hours=i) for i in range(days)]"
   ]
  },
  {
   "cell_type": "code",
   "execution_count": 14,
   "metadata": {},
   "outputs": [],
   "source": [
    "path = '/results2/SalishSea/nowcast-green.202111/'\n",
    "DIR = '{:%d%b%y}'\n",
    "FILE = '/SalishSea_1h_{:%Y%m%d}_{:%Y%m%d}_grid_{:s}.nc'\n",
    "\n",
    "flow = 0\n",
    "\n",
    "for date in dates:\n",
    "    v = xr.open_dataset(path+ DIR.format(date).lower() + FILE.format(date,date,'V')).vomecrty[:,:,y,xmin:xmax+1]\n",
    "    height = xr.open_dataset(path+ DIR.format(date).lower() + FILE.format(date,date,'T')).e3t[:,:,y,xmin:xmax+1]\n",
    "\n",
    "    flow += np.sum(np.where(v.values<0, v.values, 0)*height*width)"
   ]
  },
  {
   "cell_type": "code",
   "execution_count": 16,
   "metadata": {},
   "outputs": [
    {
     "data": {
      "text/html": [
       "<div><svg style=\"position: absolute; width: 0; height: 0; overflow: hidden\">\n",
       "<defs>\n",
       "<symbol id=\"icon-database\" viewBox=\"0 0 32 32\">\n",
       "<path d=\"M16 0c-8.837 0-16 2.239-16 5v4c0 2.761 7.163 5 16 5s16-2.239 16-5v-4c0-2.761-7.163-5-16-5z\"></path>\n",
       "<path d=\"M16 17c-8.837 0-16-2.239-16-5v6c0 2.761 7.163 5 16 5s16-2.239 16-5v-6c0 2.761-7.163 5-16 5z\"></path>\n",
       "<path d=\"M16 26c-8.837 0-16-2.239-16-5v6c0 2.761 7.163 5 16 5s16-2.239 16-5v-6c0 2.761-7.163 5-16 5z\"></path>\n",
       "</symbol>\n",
       "<symbol id=\"icon-file-text2\" viewBox=\"0 0 32 32\">\n",
       "<path d=\"M28.681 7.159c-0.694-0.947-1.662-2.053-2.724-3.116s-2.169-2.030-3.116-2.724c-1.612-1.182-2.393-1.319-2.841-1.319h-15.5c-1.378 0-2.5 1.121-2.5 2.5v27c0 1.378 1.122 2.5 2.5 2.5h23c1.378 0 2.5-1.122 2.5-2.5v-19.5c0-0.448-0.137-1.23-1.319-2.841zM24.543 5.457c0.959 0.959 1.712 1.825 2.268 2.543h-4.811v-4.811c0.718 0.556 1.584 1.309 2.543 2.268zM28 29.5c0 0.271-0.229 0.5-0.5 0.5h-23c-0.271 0-0.5-0.229-0.5-0.5v-27c0-0.271 0.229-0.5 0.5-0.5 0 0 15.499-0 15.5 0v7c0 0.552 0.448 1 1 1h7v19.5z\"></path>\n",
       "<path d=\"M23 26h-14c-0.552 0-1-0.448-1-1s0.448-1 1-1h14c0.552 0 1 0.448 1 1s-0.448 1-1 1z\"></path>\n",
       "<path d=\"M23 22h-14c-0.552 0-1-0.448-1-1s0.448-1 1-1h14c0.552 0 1 0.448 1 1s-0.448 1-1 1z\"></path>\n",
       "<path d=\"M23 18h-14c-0.552 0-1-0.448-1-1s0.448-1 1-1h14c0.552 0 1 0.448 1 1s-0.448 1-1 1z\"></path>\n",
       "</symbol>\n",
       "</defs>\n",
       "</svg>\n",
       "<style>/* CSS stylesheet for displaying xarray objects in jupyterlab.\n",
       " *\n",
       " */\n",
       "\n",
       ":root {\n",
       "  --xr-font-color0: var(--jp-content-font-color0, rgba(0, 0, 0, 1));\n",
       "  --xr-font-color2: var(--jp-content-font-color2, rgba(0, 0, 0, 0.54));\n",
       "  --xr-font-color3: var(--jp-content-font-color3, rgba(0, 0, 0, 0.38));\n",
       "  --xr-border-color: var(--jp-border-color2, #e0e0e0);\n",
       "  --xr-disabled-color: var(--jp-layout-color3, #bdbdbd);\n",
       "  --xr-background-color: var(--jp-layout-color0, white);\n",
       "  --xr-background-color-row-even: var(--jp-layout-color1, white);\n",
       "  --xr-background-color-row-odd: var(--jp-layout-color2, #eeeeee);\n",
       "}\n",
       "\n",
       "html[theme=dark],\n",
       "body.vscode-dark {\n",
       "  --xr-font-color0: rgba(255, 255, 255, 1);\n",
       "  --xr-font-color2: rgba(255, 255, 255, 0.54);\n",
       "  --xr-font-color3: rgba(255, 255, 255, 0.38);\n",
       "  --xr-border-color: #1F1F1F;\n",
       "  --xr-disabled-color: #515151;\n",
       "  --xr-background-color: #111111;\n",
       "  --xr-background-color-row-even: #111111;\n",
       "  --xr-background-color-row-odd: #313131;\n",
       "}\n",
       "\n",
       ".xr-wrap {\n",
       "  display: block;\n",
       "  min-width: 300px;\n",
       "  max-width: 700px;\n",
       "}\n",
       "\n",
       ".xr-text-repr-fallback {\n",
       "  /* fallback to plain text repr when CSS is not injected (untrusted notebook) */\n",
       "  display: none;\n",
       "}\n",
       "\n",
       ".xr-header {\n",
       "  padding-top: 6px;\n",
       "  padding-bottom: 6px;\n",
       "  margin-bottom: 4px;\n",
       "  border-bottom: solid 1px var(--xr-border-color);\n",
       "}\n",
       "\n",
       ".xr-header > div,\n",
       ".xr-header > ul {\n",
       "  display: inline;\n",
       "  margin-top: 0;\n",
       "  margin-bottom: 0;\n",
       "}\n",
       "\n",
       ".xr-obj-type,\n",
       ".xr-array-name {\n",
       "  margin-left: 2px;\n",
       "  margin-right: 10px;\n",
       "}\n",
       "\n",
       ".xr-obj-type {\n",
       "  color: var(--xr-font-color2);\n",
       "}\n",
       "\n",
       ".xr-sections {\n",
       "  padding-left: 0 !important;\n",
       "  display: grid;\n",
       "  grid-template-columns: 150px auto auto 1fr 20px 20px;\n",
       "}\n",
       "\n",
       ".xr-section-item {\n",
       "  display: contents;\n",
       "}\n",
       "\n",
       ".xr-section-item input {\n",
       "  display: none;\n",
       "}\n",
       "\n",
       ".xr-section-item input + label {\n",
       "  color: var(--xr-disabled-color);\n",
       "}\n",
       "\n",
       ".xr-section-item input:enabled + label {\n",
       "  cursor: pointer;\n",
       "  color: var(--xr-font-color2);\n",
       "}\n",
       "\n",
       ".xr-section-item input:enabled + label:hover {\n",
       "  color: var(--xr-font-color0);\n",
       "}\n",
       "\n",
       ".xr-section-summary {\n",
       "  grid-column: 1;\n",
       "  color: var(--xr-font-color2);\n",
       "  font-weight: 500;\n",
       "}\n",
       "\n",
       ".xr-section-summary > span {\n",
       "  display: inline-block;\n",
       "  padding-left: 0.5em;\n",
       "}\n",
       "\n",
       ".xr-section-summary-in:disabled + label {\n",
       "  color: var(--xr-font-color2);\n",
       "}\n",
       "\n",
       ".xr-section-summary-in + label:before {\n",
       "  display: inline-block;\n",
       "  content: '►';\n",
       "  font-size: 11px;\n",
       "  width: 15px;\n",
       "  text-align: center;\n",
       "}\n",
       "\n",
       ".xr-section-summary-in:disabled + label:before {\n",
       "  color: var(--xr-disabled-color);\n",
       "}\n",
       "\n",
       ".xr-section-summary-in:checked + label:before {\n",
       "  content: '▼';\n",
       "}\n",
       "\n",
       ".xr-section-summary-in:checked + label > span {\n",
       "  display: none;\n",
       "}\n",
       "\n",
       ".xr-section-summary,\n",
       ".xr-section-inline-details {\n",
       "  padding-top: 4px;\n",
       "  padding-bottom: 4px;\n",
       "}\n",
       "\n",
       ".xr-section-inline-details {\n",
       "  grid-column: 2 / -1;\n",
       "}\n",
       "\n",
       ".xr-section-details {\n",
       "  display: none;\n",
       "  grid-column: 1 / -1;\n",
       "  margin-bottom: 5px;\n",
       "}\n",
       "\n",
       ".xr-section-summary-in:checked ~ .xr-section-details {\n",
       "  display: contents;\n",
       "}\n",
       "\n",
       ".xr-array-wrap {\n",
       "  grid-column: 1 / -1;\n",
       "  display: grid;\n",
       "  grid-template-columns: 20px auto;\n",
       "}\n",
       "\n",
       ".xr-array-wrap > label {\n",
       "  grid-column: 1;\n",
       "  vertical-align: top;\n",
       "}\n",
       "\n",
       ".xr-preview {\n",
       "  color: var(--xr-font-color3);\n",
       "}\n",
       "\n",
       ".xr-array-preview,\n",
       ".xr-array-data {\n",
       "  padding: 0 5px !important;\n",
       "  grid-column: 2;\n",
       "}\n",
       "\n",
       ".xr-array-data,\n",
       ".xr-array-in:checked ~ .xr-array-preview {\n",
       "  display: none;\n",
       "}\n",
       "\n",
       ".xr-array-in:checked ~ .xr-array-data,\n",
       ".xr-array-preview {\n",
       "  display: inline-block;\n",
       "}\n",
       "\n",
       ".xr-dim-list {\n",
       "  display: inline-block !important;\n",
       "  list-style: none;\n",
       "  padding: 0 !important;\n",
       "  margin: 0;\n",
       "}\n",
       "\n",
       ".xr-dim-list li {\n",
       "  display: inline-block;\n",
       "  padding: 0;\n",
       "  margin: 0;\n",
       "}\n",
       "\n",
       ".xr-dim-list:before {\n",
       "  content: '(';\n",
       "}\n",
       "\n",
       ".xr-dim-list:after {\n",
       "  content: ')';\n",
       "}\n",
       "\n",
       ".xr-dim-list li:not(:last-child):after {\n",
       "  content: ',';\n",
       "  padding-right: 5px;\n",
       "}\n",
       "\n",
       ".xr-has-index {\n",
       "  font-weight: bold;\n",
       "}\n",
       "\n",
       ".xr-var-list,\n",
       ".xr-var-item {\n",
       "  display: contents;\n",
       "}\n",
       "\n",
       ".xr-var-item > div,\n",
       ".xr-var-item label,\n",
       ".xr-var-item > .xr-var-name span {\n",
       "  background-color: var(--xr-background-color-row-even);\n",
       "  margin-bottom: 0;\n",
       "}\n",
       "\n",
       ".xr-var-item > .xr-var-name:hover span {\n",
       "  padding-right: 5px;\n",
       "}\n",
       "\n",
       ".xr-var-list > li:nth-child(odd) > div,\n",
       ".xr-var-list > li:nth-child(odd) > label,\n",
       ".xr-var-list > li:nth-child(odd) > .xr-var-name span {\n",
       "  background-color: var(--xr-background-color-row-odd);\n",
       "}\n",
       "\n",
       ".xr-var-name {\n",
       "  grid-column: 1;\n",
       "}\n",
       "\n",
       ".xr-var-dims {\n",
       "  grid-column: 2;\n",
       "}\n",
       "\n",
       ".xr-var-dtype {\n",
       "  grid-column: 3;\n",
       "  text-align: right;\n",
       "  color: var(--xr-font-color2);\n",
       "}\n",
       "\n",
       ".xr-var-preview {\n",
       "  grid-column: 4;\n",
       "}\n",
       "\n",
       ".xr-var-name,\n",
       ".xr-var-dims,\n",
       ".xr-var-dtype,\n",
       ".xr-preview,\n",
       ".xr-attrs dt {\n",
       "  white-space: nowrap;\n",
       "  overflow: hidden;\n",
       "  text-overflow: ellipsis;\n",
       "  padding-right: 10px;\n",
       "}\n",
       "\n",
       ".xr-var-name:hover,\n",
       ".xr-var-dims:hover,\n",
       ".xr-var-dtype:hover,\n",
       ".xr-attrs dt:hover {\n",
       "  overflow: visible;\n",
       "  width: auto;\n",
       "  z-index: 1;\n",
       "}\n",
       "\n",
       ".xr-var-attrs,\n",
       ".xr-var-data {\n",
       "  display: none;\n",
       "  background-color: var(--xr-background-color) !important;\n",
       "  padding-bottom: 5px !important;\n",
       "}\n",
       "\n",
       ".xr-var-attrs-in:checked ~ .xr-var-attrs,\n",
       ".xr-var-data-in:checked ~ .xr-var-data {\n",
       "  display: block;\n",
       "}\n",
       "\n",
       ".xr-var-data > table {\n",
       "  float: right;\n",
       "}\n",
       "\n",
       ".xr-var-name span,\n",
       ".xr-var-data,\n",
       ".xr-attrs {\n",
       "  padding-left: 25px !important;\n",
       "}\n",
       "\n",
       ".xr-attrs,\n",
       ".xr-var-attrs,\n",
       ".xr-var-data {\n",
       "  grid-column: 1 / -1;\n",
       "}\n",
       "\n",
       "dl.xr-attrs {\n",
       "  padding: 0;\n",
       "  margin: 0;\n",
       "  display: grid;\n",
       "  grid-template-columns: 125px auto;\n",
       "}\n",
       "\n",
       ".xr-attrs dt,\n",
       ".xr-attrs dd {\n",
       "  padding: 0;\n",
       "  margin: 0;\n",
       "  float: left;\n",
       "  padding-right: 10px;\n",
       "  width: auto;\n",
       "}\n",
       "\n",
       ".xr-attrs dt {\n",
       "  font-weight: normal;\n",
       "  grid-column: 1;\n",
       "}\n",
       "\n",
       ".xr-attrs dt:hover span {\n",
       "  display: inline-block;\n",
       "  background: var(--xr-background-color);\n",
       "  padding-right: 10px;\n",
       "}\n",
       "\n",
       ".xr-attrs dd {\n",
       "  grid-column: 2;\n",
       "  white-space: pre-wrap;\n",
       "  word-break: break-all;\n",
       "}\n",
       "\n",
       ".xr-icon-database,\n",
       ".xr-icon-file-text2 {\n",
       "  display: inline-block;\n",
       "  vertical-align: middle;\n",
       "  width: 1em;\n",
       "  height: 1.5em !important;\n",
       "  stroke-width: 0;\n",
       "  stroke: currentColor;\n",
       "  fill: currentColor;\n",
       "}\n",
       "</style><pre class='xr-text-repr-fallback'>&lt;xarray.DataArray &#x27;e3t&#x27; ()&gt;\n",
       "array(499448.4)</pre><div class='xr-wrap' hidden><div class='xr-header'><div class='xr-obj-type'>xarray.DataArray</div><div class='xr-array-name'>'e3t'</div></div><ul class='xr-sections'><li class='xr-section-item'><div class='xr-array-wrap'><input id='section-8fbab908-56e9-4495-aadb-45c8cbad95ac' class='xr-array-in' type='checkbox' checked><label for='section-8fbab908-56e9-4495-aadb-45c8cbad95ac' title='Show/hide data repr'><svg class='icon xr-icon-database'><use xlink:href='#icon-database'></use></svg></label><div class='xr-array-preview xr-preview'><span>4.994e+05</span></div><div class='xr-array-data'><pre>array(499448.4)</pre></div></div></li><li class='xr-section-item'><input id='section-1b2bcf91-01e8-4bb1-b29e-3d303dfbe650' class='xr-section-summary-in' type='checkbox' disabled ><label for='section-1b2bcf91-01e8-4bb1-b29e-3d303dfbe650' class='xr-section-summary'  title='Expand/collapse section'>Coordinates: <span>(0)</span></label><div class='xr-section-inline-details'></div><div class='xr-section-details'><ul class='xr-var-list'></ul></div></li><li class='xr-section-item'><input id='section-03845f1c-6a2f-44f3-85fb-2cc262c57673' class='xr-section-summary-in' type='checkbox' disabled ><label for='section-03845f1c-6a2f-44f3-85fb-2cc262c57673' class='xr-section-summary'  title='Expand/collapse section'>Attributes: <span>(0)</span></label><div class='xr-section-inline-details'></div><div class='xr-section-details'><dl class='xr-attrs'></dl></div></li></ul></div></div>"
      ],
      "text/plain": [
       "<xarray.DataArray 'e3t' ()>\n",
       "array(499448.4)"
      ]
     },
     "execution_count": 16,
     "metadata": {},
     "output_type": "execute_result"
    }
   ],
   "source": [
    "-1*(flow/(len(dates)*24))"
   ]
  },
  {
   "cell_type": "code",
   "execution_count": null,
   "metadata": {},
   "outputs": [],
   "source": []
  }
 ],
 "metadata": {
  "kernelspec": {
   "display_name": "Python 3",
   "language": "python",
   "name": "python3"
  },
  "language_info": {
   "codemirror_mode": {
    "name": "ipython",
    "version": 3
   },
   "file_extension": ".py",
   "mimetype": "text/x-python",
   "name": "python",
   "nbconvert_exporter": "python",
   "pygments_lexer": "ipython3",
   "version": "3.8.5"
  }
 },
 "nbformat": 4,
 "nbformat_minor": 4
}
